{
  "nbformat": 4,
  "nbformat_minor": 0,
  "metadata": {
    "colab": {
      "name": "kaggle_titanic.ipynb",
      "provenance": [],
      "collapsed_sections": []
    },
    "kernelspec": {
      "name": "python3",
      "display_name": "Python 3"
    },
    "language_info": {
      "name": "python"
    }
  },
  "cells": [
    {
      "cell_type": "code",
      "metadata": {
        "id": "OKuwP4UKET-I"
      },
      "source": [
        "import pandas as pd\n",
        "from sklearn.tree import DecisionTreeClassifier\n",
        "from sklearn.model_selection import GridSearchCV, RandomizedSearchCV\n",
        "from sklearn.model_selection import train_test_split\n",
        "from sklearn.linear_model import LogisticRegression\n",
        "from sklearn.linear_model import LogisticRegressionCV\n",
        "from matplotlib import pyplot as plt\n",
        "import seaborn as sns\n",
        "from sklearn.preprocessing import LabelEncoder\n",
        "import numpy as np\n",
        "import re\n",
        "from sklearn.neighbors import KNeighborsClassifier\n",
        "from sklearn.preprocessing import OneHotEncoder\n",
        "pd.options.mode.chained_assignment = None  # default='warn'"
      ],
      "execution_count": null,
      "outputs": []
    },
    {
      "cell_type": "code",
      "metadata": {
        "id": "r-IGEt5tmO8Q"
      },
      "source": [
        "def writeToFile(dataset_test, test, clf, clf_name):\n",
        "  res = pd.DataFrame(clf.predict(dataset_test))\n",
        "  res.columns=['Survived']\n",
        "  res = pd.concat([test.PassengerId,res], axis=1).set_index('PassengerId')\n",
        "  res.to_csv('titanic_submission_'+clf_name+'.csv')"
      ],
      "execution_count": null,
      "outputs": []
    },
    {
      "cell_type": "code",
      "metadata": {
        "id": "PBaEoYpF2nw4"
      },
      "source": [
        "def getCabinCat(cabin_code):\n",
        "    if pd.isnull(cabin_code):\n",
        "        cat = 'None' # Use a string so that it is clear that this is \n",
        "                     # a category on its own\n",
        "    else:\n",
        "        cat = cabin_code[0]\n",
        "    return cat"
      ],
      "execution_count": null,
      "outputs": []
    },
    {
      "cell_type": "code",
      "metadata": {
        "id": "fxPIp0hvV4Gn"
      },
      "source": [
        "def preprocessing (dataset):\n",
        "    ''' \n",
        "      собрал все обработки в одку функцию для красоты \n",
        "    '''\n",
        "\n",
        "    med_fare = dataset.groupby(['Pclass', 'Parch', 'SibSp']).Fare.median()[3][0][0]\n",
        "    # Filling the missing value in Fare with the median Fare of 3rd class alone passenger\n",
        "    dataset['Fare'] = dataset['Fare'].fillna(med_fare)\n",
        "\n",
        "    # dataset['Family'] = dataset.SibSp + dataset.Parch\n",
        "    # dataset.drop(columns=['SibSp','Parch'],inplace=True)\n",
        "\n",
        "\n",
        "    cabin_cats = np.array([getCabinCat(cc) for cc in dataset['Cabin'].values])\n",
        "    dataset = dataset.assign(Cabin_cat=cabin_cats)\n",
        "    dataset = dataset.drop('Cabin', axis=1)\n",
        "    dataset = dataset.drop('Ticket', axis=1)\n",
        "    dataset.Age = dataset.Age.fillna(dataset.groupby('Title')['Age'].transform('median'))\n",
        "    le = LabelEncoder()\n",
        "\n",
        "    dataset['Sex'] = le.fit_transform(dataset['Sex'])\n",
        "    dataset['Embarked'] = le.fit_transform(dataset.Embarked.fillna(dataset.Embarked.value_counts().idxmax()).astype(str))\n",
        "    dataset['Cabin_cat'] = le.fit_transform(dataset.Cabin_cat.fillna(dataset.Cabin_cat.value_counts().idxmax()).astype(str))\n",
        "\n",
        "    return dataset"
      ],
      "execution_count": null,
      "outputs": []
    },
    {
      "cell_type": "code",
      "metadata": {
        "id": "m62nU-dme_k-"
      },
      "source": [
        "def preprocessing_title (dataset):\n",
        "    ''' \n",
        "      собрал все обработки в одку функцию для красоты \n",
        "    '''\n",
        "    patt = re.compile('\\s(\\S+\\.)') # 1 whitespace character followed by several \n",
        "    # non-whitespace characters followed by a dot\n",
        "\n",
        "    titles = np.array([re.search(patt, i)[1] for i in dataset['Name'].values])\n",
        "\n",
        "    dataset = dataset.assign(Title=titles)\n",
        "    dataset.drop('Name', axis=1,inplace=True)\n",
        "\n",
        "    dataset['Title'] = dataset['Title'].replace('Mlle.','Miss.')\n",
        "    dataset['Title'] = dataset['Title'].replace('Master.','Master.')\n",
        "    dataset['Title'] = dataset['Title'].replace('Ms.','Miss.')  \n",
        "    dataset['Title'] = dataset['Title'].replace('Mme.','Mrs.')\n",
        "    dataset['Title'] = dataset['Title'].replace(['Capt.','Col.','Major.'],'Army.')\n",
        "    dataset['Title'] = dataset['Title'].replace(['Countess.','Don.','Jonkheer.','Lady.','Sir.'],'Noble.')\n",
        "    le = LabelEncoder()\n",
        "    dataset['Title'] = le.fit_transform(dataset['Title'])\n",
        "    return dataset"
      ],
      "execution_count": null,
      "outputs": []
    },
    {
      "cell_type": "code",
      "metadata": {
        "id": "qt-m2WeSe2XX"
      },
      "source": [
        "def preprocessing_ticket (dataset):\n",
        "    ticket_names = ['A5A4','СA','FC','PC','ST']\n",
        "    dataset['Ticket'].mask(dataset['Ticket'].str.contains('A/5'),'A5A4',inplace=True)\n",
        "    dataset['Ticket'].mask(dataset['Ticket'].str.contains('A/4'),'A5A4',inplace=True)\n",
        "    dataset['Ticket'].mask(dataset['Ticket'].str.contains('A.5/'),'A5A4',inplace=True)\n",
        "    dataset['Ticket'].mask(dataset['Ticket'].str.contains('A./5'),'A5A4',inplace=True)\n",
        "    dataset['Ticket'].mask(dataset['Ticket'].str.contains('A.5.'),'A5A4',inplace=True)\n",
        "    dataset['Ticket'].mask(dataset['Ticket'].str.contains('A4'),'A5A4',inplace=True)\n",
        "    dataset['Ticket'].mask(dataset['Ticket'].str.contains('C.A.'),'СA',inplace=True)\n",
        "    dataset['Ticket'].mask(dataset['Ticket'].str.contains('СA'),'СA',inplace=True)\n",
        "    dataset['Ticket'].mask(dataset['Ticket'].str.contains('F.C.C.'),'FC',inplace=True)\n",
        "    dataset['Ticket'].mask(dataset['Ticket'].str.contains('F.C.'),'FC',inplace=True)\n",
        "    dataset['Ticket'].mask(dataset['Ticket'].str.contains('PC'),'PC',inplace=True)\n",
        "    dataset['Ticket'].mask(dataset['Ticket'].str.contains('STON'),'ST',inplace=True)\n",
        "    dataset['Ticket'].mask(dataset['Ticket'].str.contains('SOTON'),'ST',inplace=True)\n",
        "\n",
        "    dataset.Ticket = dataset['Ticket'].apply(lambda x: 'OTHER' if not x in ticket_names else x)\n",
        "    le = LabelEncoder()\n",
        "    dataset.Ticket = le.fit_transform(dataset.Ticket)    "
      ],
      "execution_count": null,
      "outputs": []
    },
    {
      "cell_type": "code",
      "metadata": {
        "id": "M_66TUMRBoJC"
      },
      "source": [
        "# def preproc_title_numeric(dataset):\n",
        "#     check_numeric = dataset[dataset.Ticket.apply(lambda x: x.isnumeric())]\n",
        "#     check_numeric['Ticket'] = check_numeric.Ticket.astype(int)\n",
        "\n",
        "#     check_numeric.loc[(check_numeric.Ticket) < 10000,'Ticket'] = 0\n",
        "#     check_numeric.loc[(check_numeric.Ticket >= 10000) & (check_numeric.Ticket < 100000),'Ticket'] = 1\n",
        "#     check_numeric.loc[(check_numeric.Ticket >= 100000) & (check_numeric.Ticket < 114000),'Ticket'] = 2\n",
        "#     check_numeric.loc[(check_numeric.Ticket >= 114000) & (check_numeric.Ticket < 260000),'Ticket'] = 3\n",
        "#     check_numeric.loc[(check_numeric.Ticket >= 260000) & (check_numeric.Ticket < 316000),'Ticket'] = 4\n",
        "#     check_numeric.loc[(check_numeric.Ticket >= 316000) & (check_numeric.Ticket < 350000),'Ticket'] = 5\n",
        "#     check_numeric.loc[(check_numeric.Ticket >= 350000) & (check_numeric.Ticket < 400000),'Ticket'] = 6\n",
        "#     check_numeric.loc[(check_numeric.Ticket >= 1000000) & (check_numeric.Ticket < 3200000),'Ticket'] = 7\n",
        "#     check_numeric['Ticket'] = check_numeric.Ticket.astype(str)\n",
        "\n",
        "#     for indices, row in check_numeric.iterrows():\n",
        "#         # print(row.PassengerId)\n",
        "#         if dataset[dataset.PassengerId == row.PassengerId].any().PassengerId:\n",
        "#             dataset.loc[dataset.PassengerId == row.PassengerId,'Ticket'] = row.Ticket\n",
        "\n",
        "#     return dataset"
      ],
      "execution_count": null,
      "outputs": []
    },
    {
      "cell_type": "code",
      "metadata": {
        "id": "JrRLa0WmFKRt"
      },
      "source": [
        "dataset_train = pd.read_csv('/content/drive/MyDrive/datasets/train_titanic.csv')"
      ],
      "execution_count": null,
      "outputs": []
    },
    {
      "cell_type": "code",
      "metadata": {
        "id": "OwmZie9ybtA-"
      },
      "source": [
        "dataset_test = pd.read_csv('/content/drive/MyDrive/datasets/test_titanic.csv')"
      ],
      "execution_count": null,
      "outputs": []
    },
    {
      "cell_type": "code",
      "metadata": {
        "id": "qTOaWKxzI_9e",
        "colab": {
          "base_uri": "https://localhost:8080/",
          "height": 538
        },
        "outputId": "1a444179-0e35-4b37-a19e-a158fee2069a"
      },
      "source": [
        "fig, ax = plt.subplots(figsize=(10,8))\n",
        "sns.heatmap(dataset_train.isnull(), cbar=False, cmap=\"YlGnBu_r\")\n",
        "plt.show()"
      ],
      "execution_count": null,
      "outputs": [
        {
          "output_type": "display_data",
          "data": {
            "image/png": "[encoded data removed]",
            "text/plain": [
              "<Figure size 720x576 with 1 Axes>"
            ]
          },
          "metadata": {
            "needs_background": "light"
          }
        }
      ]
    },
    {
      "cell_type": "code",
      "metadata": {
        "id": "t-DlrVKgiBTc"
      },
      "source": [
        "test = pd.read_csv('/content/drive/MyDrive/datasets/test_titanic.csv')\n",
        "train = pd.read_csv('/content/drive/MyDrive/datasets/train_titanic.csv')"
      ],
      "execution_count": null,
      "outputs": []
    },
    {
      "cell_type": "code",
      "metadata": {
        "id": "i6YRvjU8qceG"
      },
      "source": [
        "dataset_train = preprocessing_title(dataset_train)\n",
        "dataset_test = preprocessing_title(dataset_test)"
      ],
      "execution_count": null,
      "outputs": []
    },
    {
      "cell_type": "code",
      "metadata": {
        "id": "gyeXAohZnyZK"
      },
      "source": [
        "dataset_train = preprocessing(dataset_train)\n",
        "dataset_test = preprocessing(dataset_test)"
      ],
      "execution_count": null,
      "outputs": []
    },
    {
      "cell_type": "code",
      "metadata": {
        "id": "yPkhQtlkn8VT"
      },
      "source": [
        "# dataset_train_ = preprocessing_ticket(dataset_train)\n",
        "# dataset_test_ = preprocessing_ticket(dataset_test)"
      ],
      "execution_count": null,
      "outputs": []
    },
    {
      "cell_type": "code",
      "metadata": {
        "colab": {
          "base_uri": "https://localhost:8080/",
          "height": 297
        },
        "id": "XVZlZVs5KEnU",
        "outputId": "a483d93d-5fdf-4b9a-a7d7-1845eb1506bc"
      },
      "source": [
        "sns.histplot(dataset_train.Survived)"
      ],
      "execution_count": null,
      "outputs": [
        {
          "output_type": "execute_result",
          "data": {
            "text/plain": [
              "<matplotlib.axes._subplots.AxesSubplot at 0x7f8e81443d10>"
            ]
          },
          "metadata": {},
          "execution_count": 311
        },
        {
          "output_type": "display_data",
          "data": {
            "image/png": "[encoded data removed]",
            "text/plain": [
              "<Figure size 432x288 with 1 Axes>"
            ]
          },
          "metadata": {
            "needs_background": "light"
          }
        }
      ]
    },
    {
      "cell_type": "code",
      "metadata": {
        "colab": {
          "base_uri": "https://localhost:8080/",
          "height": 663
        },
        "id": "pr543WdBrFYe",
        "outputId": "289a21b1-cfbf-40c4-a8a0-432a701ab91f"
      },
      "source": [
        "fig = plt.figure(figsize=(10,10))\n",
        "sns.heatmap(dataset_train.corr(),annot=True)"
      ],
      "execution_count": null,
      "outputs": [
        {
          "output_type": "execute_result",
          "data": {
            "text/plain": [
              "<matplotlib.axes._subplots.AxesSubplot at 0x7f8e810c1790>"
            ]
          },
          "metadata": {},
          "execution_count": 406
        },
        {
          "output_type": "display_data",
          "data": {
            "image/png": "[encoded data removed]",
            "text/plain": [
              "<Figure size 720x720 with 2 Axes>"
            ]
          },
          "metadata": {
            "needs_background": "light"
          }
        }
      ]
    },
    {
      "cell_type": "code",
      "metadata": {
        "colab": {
          "base_uri": "https://localhost:8080/",
          "height": 206
        },
        "id": "B9ShAnGnocUX",
        "outputId": "30210625-058c-4f28-d21d-8c3656acf50b"
      },
      "source": [
        "dataset_train.head()"
      ],
      "execution_count": null,
      "outputs": [
        {
          "output_type": "execute_result",
          "data": {
            "text/html": [
              "<div>\n",
              "<style scoped>\n",
              "    .dataframe tbody tr th:only-of-type {\n",
              "        vertical-align: middle;\n",
              "    }\n",
              "\n",
              "    .dataframe tbody tr th {\n",
              "        vertical-align: top;\n",
              "    }\n",
              "\n",
              "    .dataframe thead th {\n",
              "        text-align: right;\n",
              "    }\n",
              "</style>\n",
              "<table border=\"1\" class=\"dataframe\">\n",
              "  <thead>\n",
              "    <tr style=\"text-align: right;\">\n",
              "      <th></th>\n",
              "      <th>PassengerId</th>\n",
              "      <th>Survived</th>\n",
              "      <th>Pclass</th>\n",
              "      <th>Sex</th>\n",
              "      <th>Age</th>\n",
              "      <th>SibSp</th>\n",
              "      <th>Parch</th>\n",
              "      <th>Fare</th>\n",
              "      <th>Embarked</th>\n",
              "      <th>Title</th>\n",
              "      <th>Cabin_cat</th>\n",
              "    </tr>\n",
              "  </thead>\n",
              "  <tbody>\n",
              "    <tr>\n",
              "      <th>0</th>\n",
              "      <td>1</td>\n",
              "      <td>0</td>\n",
              "      <td>3</td>\n",
              "      <td>1</td>\n",
              "      <td>22.0</td>\n",
              "      <td>1</td>\n",
              "      <td>0</td>\n",
              "      <td>7.2500</td>\n",
              "      <td>2</td>\n",
              "      <td>4</td>\n",
              "      <td>7</td>\n",
              "    </tr>\n",
              "    <tr>\n",
              "      <th>1</th>\n",
              "      <td>2</td>\n",
              "      <td>1</td>\n",
              "      <td>1</td>\n",
              "      <td>0</td>\n",
              "      <td>38.0</td>\n",
              "      <td>1</td>\n",
              "      <td>0</td>\n",
              "      <td>71.2833</td>\n",
              "      <td>0</td>\n",
              "      <td>5</td>\n",
              "      <td>2</td>\n",
              "    </tr>\n",
              "    <tr>\n",
              "      <th>2</th>\n",
              "      <td>3</td>\n",
              "      <td>1</td>\n",
              "      <td>3</td>\n",
              "      <td>0</td>\n",
              "      <td>26.0</td>\n",
              "      <td>0</td>\n",
              "      <td>0</td>\n",
              "      <td>7.9250</td>\n",
              "      <td>2</td>\n",
              "      <td>3</td>\n",
              "      <td>7</td>\n",
              "    </tr>\n",
              "    <tr>\n",
              "      <th>3</th>\n",
              "      <td>4</td>\n",
              "      <td>1</td>\n",
              "      <td>1</td>\n",
              "      <td>0</td>\n",
              "      <td>35.0</td>\n",
              "      <td>1</td>\n",
              "      <td>0</td>\n",
              "      <td>53.1000</td>\n",
              "      <td>2</td>\n",
              "      <td>5</td>\n",
              "      <td>2</td>\n",
              "    </tr>\n",
              "    <tr>\n",
              "      <th>4</th>\n",
              "      <td>5</td>\n",
              "      <td>0</td>\n",
              "      <td>3</td>\n",
              "      <td>1</td>\n",
              "      <td>35.0</td>\n",
              "      <td>0</td>\n",
              "      <td>0</td>\n",
              "      <td>8.0500</td>\n",
              "      <td>2</td>\n",
              "      <td>4</td>\n",
              "      <td>7</td>\n",
              "    </tr>\n",
              "  </tbody>\n",
              "</table>\n",
              "</div>"
            ],
            "text/plain": [
              "   PassengerId  Survived  Pclass  Sex  ...     Fare  Embarked  Title  Cabin_cat\n",
              "0            1         0       3    1  ...   7.2500         2      4          7\n",
              "1            2         1       1    0  ...  71.2833         0      5          2\n",
              "2            3         1       3    0  ...   7.9250         2      3          7\n",
              "3            4         1       1    0  ...  53.1000         2      5          2\n",
              "4            5         0       3    1  ...   8.0500         2      4          7\n",
              "\n",
              "[5 rows x 11 columns]"
            ]
          },
          "metadata": {},
          "execution_count": 435
        }
      ]
    },
    {
      "cell_type": "markdown",
      "metadata": {
        "id": "0UNShkmy-XaN"
      },
      "source": [
        "# Decision tree with GridSearch"
      ]
    },
    {
      "cell_type": "code",
      "metadata": {
        "id": "E1JA0mkvrXS4"
      },
      "source": [
        "from sklearn.model_selection import train_test_split"
      ],
      "execution_count": null,
      "outputs": []
    },
    {
      "cell_type": "code",
      "metadata": {
        "id": "Re6K4XulTRx1"
      },
      "source": [
        "X = dataset_train.drop(columns=['Survived'], axis=1)\n",
        "y = dataset_train.Survived\n",
        "X_train, X_test, y_train, y_test = train_test_split(X, y, test_size=0.2, random_state=42)"
      ],
      "execution_count": null,
      "outputs": []
    },
    {
      "cell_type": "code",
      "metadata": {
        "id": "-Z7S5iiuciQy"
      },
      "source": [
        "parameters = {'max_depth':range(1,10),'min_samples_leaf':range(2,10,2),'min_samples_split':range(2,10,2)}\n",
        "estimator = DecisionTreeClassifier()\n",
        "clf_grid = GridSearchCV(estimator, parameters, cv=5)"
      ],
      "execution_count": null,
      "outputs": []
    },
    {
      "cell_type": "code",
      "metadata": {
        "colab": {
          "base_uri": "https://localhost:8080/"
        },
        "id": "HdXUcVc4c7AF",
        "outputId": "c78dfab9-991c-4d55-ed0e-9974a582c23c"
      },
      "source": [
        "clf_grid.fit(X_train,y_train)"
      ],
      "execution_count": null,
      "outputs": [
        {
          "output_type": "execute_result",
          "data": {
            "text/plain": [
              "GridSearchCV(cv=5, estimator=DecisionTreeClassifier(),\n",
              "             param_grid={'max_depth': range(1, 10),\n",
              "                         'min_samples_leaf': range(2, 10, 2),\n",
              "                         'min_samples_split': range(2, 10, 2)})"
            ]
          },
          "metadata": {},
          "execution_count": 410
        }
      ]
    },
    {
      "cell_type": "code",
      "metadata": {
        "id": "JugeYX-Rsh2u"
      },
      "source": [
        "bst = clf_grid.best_estimator_"
      ],
      "execution_count": null,
      "outputs": []
    },
    {
      "cell_type": "code",
      "metadata": {
        "colab": {
          "base_uri": "https://localhost:8080/"
        },
        "id": "NRaNjaXwvG57",
        "outputId": "275e314c-5c84-469a-e3ca-957cb0a29cc8"
      },
      "source": [
        "bst.score(X_train,y_train)"
      ],
      "execution_count": null,
      "outputs": [
        {
          "output_type": "execute_result",
          "data": {
            "text/plain": [
              "0.8609550561797753"
            ]
          },
          "metadata": {},
          "execution_count": 412
        }
      ]
    },
    {
      "cell_type": "code",
      "metadata": {
        "colab": {
          "base_uri": "https://localhost:8080/"
        },
        "id": "pChAF-y5sgju",
        "outputId": "19023e09-6aa8-4298-f155-151209b0bc14"
      },
      "source": [
        "bst.score(X_test,y_test)"
      ],
      "execution_count": null,
      "outputs": [
        {
          "output_type": "execute_result",
          "data": {
            "text/plain": [
              "0.8212290502793296"
            ]
          },
          "metadata": {},
          "execution_count": 413
        }
      ]
    },
    {
      "cell_type": "code",
      "metadata": {
        "id": "xzJSptfij_Lt"
      },
      "source": [
        "writeToFile(dataset_test, test, bst, \"tree\")"
      ],
      "execution_count": null,
      "outputs": []
    },
    {
      "cell_type": "markdown",
      "metadata": {
        "id": "vVpbtKaX_FtL"
      },
      "source": [
        "# Логистическая регрессия"
      ]
    },
    {
      "cell_type": "code",
      "metadata": {
        "id": "bfe8hJlpLLhy"
      },
      "source": [
        "from imblearn.under_sampling import NearMiss"
      ],
      "execution_count": null,
      "outputs": []
    },
    {
      "cell_type": "code",
      "metadata": {
        "id": "ChV3VwdaxoNp"
      },
      "source": [
        "X = dataset_train.drop(columns=['Survived'], axis=1)\n",
        "y = dataset_train.Survived\n",
        "X_train, X_test, y_train, y_test = train_test_split(X, y, test_size=0.2, random_state=42)"
      ],
      "execution_count": null,
      "outputs": []
    },
    {
      "cell_type": "code",
      "metadata": {
        "id": "9cB3o5HOLNL_"
      },
      "source": [
        "nm = NearMiss()\n",
        "X_train_miss, y_train_miss = nm.fit_resample(X_train, y_train.ravel())"
      ],
      "execution_count": null,
      "outputs": []
    },
    {
      "cell_type": "code",
      "metadata": {
        "id": "fsfKzA7KcTt8"
      },
      "source": [
        "clf_log = LogisticRegression()"
      ],
      "execution_count": null,
      "outputs": []
    },
    {
      "cell_type": "code",
      "metadata": {
        "id": "Tk4qdwWIx0jn"
      },
      "source": [
        "parameters = {'C':[0.8,1,1.3,1.5],\n",
        "              'max_iter':[1000,1500]}"
      ],
      "execution_count": null,
      "outputs": []
    },
    {
      "cell_type": "code",
      "metadata": {
        "id": "nMQdzQz9yz6M"
      },
      "source": [
        "log_reg_srch = GridSearchCV(clf_log,parameters)"
      ],
      "execution_count": null,
      "outputs": []
    },
    {
      "cell_type": "code",
      "metadata": {
        "colab": {
          "base_uri": "https://localhost:8080/"
        },
        "id": "cFqIRbYnzF4v",
        "outputId": "348dce39-4e1a-44ed-96ac-772efe4a9ba4"
      },
      "source": [
        "clf_log.fit(X_train,y_train)"
      ],
      "execution_count": null,
      "outputs": [
        {
          "output_type": "stream",
          "name": "stderr",
          "text": [
            "/usr/local/lib/python3.7/dist-packages/sklearn/linear_model/_logistic.py:818: ConvergenceWarning: lbfgs failed to converge (status=1):\n",
            "STOP: TOTAL NO. of ITERATIONS REACHED LIMIT.\n",
            "\n",
            "Increase the number of iterations (max_iter) or scale the data as shown in:\n",
            "    https://scikit-learn.org/stable/modules/preprocessing.html\n",
            "Please also refer to the documentation for alternative solver options:\n",
            "    https://scikit-learn.org/stable/modules/linear_model.html#logistic-regression\n",
            "  extra_warning_msg=_LOGISTIC_SOLVER_CONVERGENCE_MSG,\n"
          ]
        },
        {
          "output_type": "execute_result",
          "data": {
            "text/plain": [
              "LogisticRegression()"
            ]
          },
          "metadata": {},
          "execution_count": 438
        }
      ]
    },
    {
      "cell_type": "code",
      "metadata": {
        "colab": {
          "base_uri": "https://localhost:8080/"
        },
        "id": "arON-QVz1gp-",
        "outputId": "3ff7906f-962e-4898-c607-46647a3ca572"
      },
      "source": [
        "log_reg_srch.best_estimator_"
      ],
      "execution_count": null,
      "outputs": [
        {
          "output_type": "execute_result",
          "data": {
            "text/plain": [
              "LogisticRegression(C=1.3, max_iter=1000)"
            ]
          },
          "metadata": {},
          "execution_count": 329
        }
      ]
    },
    {
      "cell_type": "code",
      "metadata": {
        "colab": {
          "base_uri": "https://localhost:8080/"
        },
        "id": "tqCWdo1PcbH6",
        "outputId": "186d93d0-8b15-4c98-e09c-bdc2ddbe945c"
      },
      "source": [
        "log_reg_srch.score(X_train,y_train)"
      ],
      "execution_count": null,
      "outputs": [
        {
          "output_type": "execute_result",
          "data": {
            "text/plain": [
              "0.8019662921348315"
            ]
          },
          "metadata": {},
          "execution_count": 330
        }
      ]
    },
    {
      "cell_type": "code",
      "metadata": {
        "colab": {
          "base_uri": "https://localhost:8080/"
        },
        "id": "CbjFJSsu-P-Y",
        "outputId": "4fb14fb6-c217-4570-b63b-7c0646f1e200"
      },
      "source": [
        "log_reg_srch.score(X_test,y_test)"
      ],
      "execution_count": null,
      "outputs": [
        {
          "output_type": "execute_result",
          "data": {
            "text/plain": [
              "0.8100558659217877"
            ]
          },
          "metadata": {},
          "execution_count": 331
        }
      ]
    },
    {
      "cell_type": "code",
      "metadata": {
        "id": "EGH4kpfae0Qt"
      },
      "source": [
        "writeToFile(dataset_test, test, log_reg_srch, \"log\")"
      ],
      "execution_count": null,
      "outputs": []
    },
    {
      "cell_type": "markdown",
      "metadata": {
        "id": "c7SiIueD_MjX"
      },
      "source": [
        "# support vector machine"
      ]
    },
    {
      "cell_type": "code",
      "metadata": {
        "id": "Xg_1h5gp_RVw"
      },
      "source": [
        "from sklearn.svm import SVC"
      ],
      "execution_count": null,
      "outputs": []
    },
    {
      "cell_type": "code",
      "metadata": {
        "id": "if_F5wZ8hBZ7"
      },
      "source": [
        "clf_svm = SVC()\n",
        "parameters_svc = {'kernel':['rbf', 'sigmoid'],'C':range(1,10)}\n",
        "srch_svc = GridSearchCV(clf_svm, parameters_svc)"
      ],
      "execution_count": null,
      "outputs": []
    },
    {
      "cell_type": "code",
      "metadata": {
        "colab": {
          "base_uri": "https://localhost:8080/"
        },
        "id": "Fck_XckqhERz",
        "outputId": "805d3892-814f-47d1-b232-2543f350fb9a"
      },
      "source": [
        "srch_svc.fit(X_train, y_train)"
      ],
      "execution_count": null,
      "outputs": [
        {
          "output_type": "execute_result",
          "data": {
            "text/plain": [
              "GridSearchCV(estimator=SVC(),\n",
              "             param_grid={'C': range(1, 10), 'kernel': ['rbf', 'sigmoid']})"
            ]
          },
          "metadata": {},
          "execution_count": 441
        }
      ]
    },
    {
      "cell_type": "code",
      "metadata": {
        "colab": {
          "base_uri": "https://localhost:8080/"
        },
        "id": "QrLT1TlLiIPT",
        "outputId": "e4a37524-da5c-457a-cbc7-07ce427a4fad"
      },
      "source": [
        "srch_svc.best_estimator_"
      ],
      "execution_count": null,
      "outputs": [
        {
          "output_type": "execute_result",
          "data": {
            "text/plain": [
              "SVC(C=8)"
            ]
          },
          "metadata": {},
          "execution_count": 442
        }
      ]
    },
    {
      "cell_type": "code",
      "metadata": {
        "colab": {
          "base_uri": "https://localhost:8080/"
        },
        "id": "t_3LiiDo_wjr",
        "outputId": "693a4813-d186-4b34-d374-45b9806cee08"
      },
      "source": [
        "srch_svc.best_estimator_.score(X_train, y_train)"
      ],
      "execution_count": null,
      "outputs": [
        {
          "output_type": "execute_result",
          "data": {
            "text/plain": [
              "0.6811797752808989"
            ]
          },
          "metadata": {},
          "execution_count": 443
        }
      ]
    },
    {
      "cell_type": "code",
      "metadata": {
        "colab": {
          "base_uri": "https://localhost:8080/"
        },
        "id": "MHHUeUgcsvrJ",
        "outputId": "5d0273eb-9700-41d7-f4ff-c8fd4a49d032"
      },
      "source": [
        "srch_svc.best_estimator_.score(X_test, y_test)"
      ],
      "execution_count": null,
      "outputs": [
        {
          "output_type": "execute_result",
          "data": {
            "text/plain": [
              "0.6424581005586593"
            ]
          },
          "metadata": {},
          "execution_count": 444
        }
      ]
    },
    {
      "cell_type": "markdown",
      "metadata": {
        "id": "vhVq6mMkeq0T"
      },
      "source": [
        "# KNN"
      ]
    },
    {
      "cell_type": "code",
      "metadata": {
        "id": "IMI583PietNA"
      },
      "source": [
        "clf_knn = KNeighborsClassifier()\n",
        "parameters_knn = {'n_neighbors':range(2,10)}\n",
        "srch_knn = GridSearchCV(clf_knn,parameters_knn)"
      ],
      "execution_count": null,
      "outputs": []
    },
    {
      "cell_type": "code",
      "metadata": {
        "colab": {
          "base_uri": "https://localhost:8080/"
        },
        "id": "KB5hqUiqfEuZ",
        "outputId": "8bb8d680-e386-4f9c-9f89-8ef05e1dd64c"
      },
      "source": [
        "srch_knn.fit(X_train, y_train)"
      ],
      "execution_count": null,
      "outputs": [
        {
          "output_type": "execute_result",
          "data": {
            "text/plain": [
              "GridSearchCV(estimator=KNeighborsClassifier(),\n",
              "             param_grid={'n_neighbors': range(2, 10)})"
            ]
          },
          "metadata": {},
          "execution_count": 446
        }
      ]
    },
    {
      "cell_type": "code",
      "metadata": {
        "colab": {
          "base_uri": "https://localhost:8080/"
        },
        "id": "sTBmPmwxlh-v",
        "outputId": "4a1d6c53-89b6-49e1-9958-87a2e3c37147"
      },
      "source": [
        "srch_knn.best_estimator_"
      ],
      "execution_count": null,
      "outputs": [
        {
          "output_type": "execute_result",
          "data": {
            "text/plain": [
              "KNeighborsClassifier(n_neighbors=8)"
            ]
          },
          "metadata": {},
          "execution_count": 447
        }
      ]
    },
    {
      "cell_type": "code",
      "metadata": {
        "colab": {
          "base_uri": "https://localhost:8080/"
        },
        "id": "qq4llJ28fdUj",
        "outputId": "ae295701-b0db-49a0-874b-87b47051e970"
      },
      "source": [
        "srch_knn.best_estimator_.score(X_train, y_train)"
      ],
      "execution_count": null,
      "outputs": [
        {
          "output_type": "execute_result",
          "data": {
            "text/plain": [
              "0.702247191011236"
            ]
          },
          "metadata": {},
          "execution_count": 448
        }
      ]
    },
    {
      "cell_type": "code",
      "metadata": {
        "colab": {
          "base_uri": "https://localhost:8080/"
        },
        "id": "j73eneOR-29G",
        "outputId": "c9cff078-aa02-431a-9984-4053d5ca1887"
      },
      "source": [
        "srch_knn.best_estimator_.score(X_test, y_test)"
      ],
      "execution_count": null,
      "outputs": [
        {
          "output_type": "execute_result",
          "data": {
            "text/plain": [
              "0.6480446927374302"
            ]
          },
          "metadata": {},
          "execution_count": 449
        }
      ]
    },
    {
      "cell_type": "code",
      "metadata": {
        "id": "dtGzIUFbmRhx",
        "colab": {
          "base_uri": "https://localhost:8080/",
          "height": 166
        },
        "outputId": "cfe9bd4a-6cb8-4c9d-8071-588debd73feb"
      },
      "source": [
        "writeToFile(dataset_test_, test, srch_knn.best_estimator_)"
      ],
      "execution_count": null,
      "outputs": [
        {
          "output_type": "error",
          "ename": "TypeError",
          "evalue": "ignored",
          "traceback": [
            "\u001b[0;31m---------------------------------------------------------------------------\u001b[0m",
            "\u001b[0;31mTypeError\u001b[0m                                 Traceback (most recent call last)",
            "\u001b[0;32m<ipython-input-344-af22cfeffc89>\u001b[0m in \u001b[0;36m<module>\u001b[0;34m()\u001b[0m\n\u001b[0;32m----> 1\u001b[0;31m \u001b[0mwriteToFile\u001b[0m\u001b[0;34m(\u001b[0m\u001b[0mdataset_test_\u001b[0m\u001b[0;34m,\u001b[0m \u001b[0mtest\u001b[0m\u001b[0;34m,\u001b[0m \u001b[0msrch_knn\u001b[0m\u001b[0;34m.\u001b[0m\u001b[0mbest_estimator_\u001b[0m\u001b[0;34m)\u001b[0m\u001b[0;34m\u001b[0m\u001b[0;34m\u001b[0m\u001b[0m\n\u001b[0m",
            "\u001b[0;31mTypeError\u001b[0m: writeToFile() missing 1 required positional argument: 'clf_name'"
          ]
        }
      ]
    },
    {
      "cell_type": "markdown",
      "metadata": {
        "id": "l0bauNPsUJX_"
      },
      "source": [
        "# Random forest"
      ]
    },
    {
      "cell_type": "code",
      "metadata": {
        "id": "RMPrJIU_UMwM"
      },
      "source": [
        "from sklearn.ensemble import RandomForestClassifier\n",
        "from sklearn.model_selection import KFold"
      ],
      "execution_count": null,
      "outputs": []
    },
    {
      "cell_type": "code",
      "metadata": {
        "id": "fB1TXBqEIUbF"
      },
      "source": [
        "X = dataset_train.drop(columns=['Survived'], axis=1)\n",
        "y = dataset_train.Survived\n",
        "X_train, X_test, y_train, y_test = train_test_split(X, y, test_size=0.3, random_state=42)"
      ],
      "execution_count": null,
      "outputs": []
    },
    {
      "cell_type": "code",
      "metadata": {
        "id": "VG9PoeVIUXXL"
      },
      "source": [
        "clf = RandomForestClassifier()\n",
        "parameters = {'n_estimators':[3,5,7],'max_depth':[6,8,10,20],'criterion':['gini','entropy'],'min_samples_leaf':[5,10],'min_samples_split':[5,10,20]}"
      ],
      "execution_count": null,
      "outputs": []
    },
    {
      "cell_type": "code",
      "metadata": {
        "id": "HQSbem9vUQnB"
      },
      "source": [
        "CV = KFold(n_splits=3, random_state=None, shuffle=True)\n",
        "srch = GridSearchCV(clf,parameters,cv=CV)"
      ],
      "execution_count": null,
      "outputs": []
    },
    {
      "cell_type": "code",
      "metadata": {
        "colab": {
          "base_uri": "https://localhost:8080/"
        },
        "id": "CLyQ9qpqU8RC",
        "outputId": "01f09b2a-e25e-4300-e3c1-5a09d7857b53"
      },
      "source": [
        "srch.fit(X_train,y_train)"
      ],
      "execution_count": null,
      "outputs": [
        {
          "output_type": "execute_result",
          "data": {
            "text/plain": [
              "GridSearchCV(cv=KFold(n_splits=3, random_state=None, shuffle=True),\n",
              "             estimator=RandomForestClassifier(),\n",
              "             param_grid={'criterion': ['gini', 'entropy'],\n",
              "                         'max_depth': [6, 8, 10, 20],\n",
              "                         'min_samples_leaf': [5, 10],\n",
              "                         'min_samples_split': [5, 10, 20],\n",
              "                         'n_estimators': [3, 5, 7]})"
            ]
          },
          "metadata": {},
          "execution_count": 454
        }
      ]
    },
    {
      "cell_type": "code",
      "metadata": {
        "colab": {
          "base_uri": "https://localhost:8080/"
        },
        "id": "FC5fn_njtuql",
        "outputId": "57259ceb-009f-4741-c5f7-6e57683896d2"
      },
      "source": [
        "srch.best_estimator_"
      ],
      "execution_count": null,
      "outputs": [
        {
          "output_type": "execute_result",
          "data": {
            "text/plain": [
              "RandomForestClassifier(max_depth=10, min_samples_leaf=5, min_samples_split=10,\n",
              "                       n_estimators=5)"
            ]
          },
          "metadata": {},
          "execution_count": 455
        }
      ]
    },
    {
      "cell_type": "code",
      "metadata": {
        "colab": {
          "base_uri": "https://localhost:8080/"
        },
        "id": "o7vV_POdVHOs",
        "outputId": "503bb93a-1760-4029-c069-a3c6d66cea6b"
      },
      "source": [
        "srch.best_estimator_.score(X_train,y_train)"
      ],
      "execution_count": null,
      "outputs": [
        {
          "output_type": "execute_result",
          "data": {
            "text/plain": [
              "0.8635634028892456"
            ]
          },
          "metadata": {},
          "execution_count": 456
        }
      ]
    },
    {
      "cell_type": "code",
      "metadata": {
        "colab": {
          "base_uri": "https://localhost:8080/"
        },
        "id": "Azc_QVA7aGTs",
        "outputId": "abecac02-3aeb-4f36-8aed-859825ee1c18"
      },
      "source": [
        "srch.best_estimator_.score(X_test,y_test)"
      ],
      "execution_count": null,
      "outputs": [
        {
          "output_type": "execute_result",
          "data": {
            "text/plain": [
              "0.8022388059701493"
            ]
          },
          "metadata": {},
          "execution_count": 457
        }
      ]
    },
    {
      "cell_type": "code",
      "metadata": {
        "id": "lLudC4aefH2e"
      },
      "source": [
        "writeToFile(dataset_test, test, srch.best_estimator_, \"forest\")"
      ],
      "execution_count": null,
      "outputs": []
    },
    {
      "cell_type": "markdown",
      "metadata": {
        "id": "s4YpfNMSrHwb"
      },
      "source": [
        "# Шкалирование данных"
      ]
    },
    {
      "cell_type": "code",
      "metadata": {
        "id": "2eU2aQLFrG09"
      },
      "source": [
        "from sklearn.preprocessing import StandardScaler, MinMaxScaler"
      ],
      "execution_count": null,
      "outputs": []
    },
    {
      "cell_type": "code",
      "metadata": {
        "id": "Dwx0TFxhLoMV"
      },
      "source": [
        "X = dataset_train.drop(columns=['Survived'], axis=1)\n",
        "y = dataset_train.Survived\n",
        "X_train, X_test, y_train, y_test = train_test_split(X, y, test_size=0.2, random_state=42)"
      ],
      "execution_count": null,
      "outputs": []
    },
    {
      "cell_type": "code",
      "metadata": {
        "id": "M5acvt8FsGQx"
      },
      "source": [
        "scaler = StandardScaler()\n",
        "X_train = pd.DataFrame(scaler.fit_transform(X_train))\n",
        "X_test = pd.DataFrame(scaler.transform(X_test))\n",
        "dataset_test_scalled = pd.DataFrame(scaler.transform(dataset_test))"
      ],
      "execution_count": null,
      "outputs": []
    },
    {
      "cell_type": "code",
      "metadata": {
        "id": "QW7Lui9Kudiv"
      },
      "source": [
        "X_train.columns = dataset_train.drop(columns=['Survived'],axis=1).columns\n",
        "X_test.columns = dataset_test.columns"
      ],
      "execution_count": null,
      "outputs": []
    },
    {
      "cell_type": "code",
      "metadata": {
        "id": "ya9Ns7XrYrhW"
      },
      "source": [
        "dataset_test_scalled.columns = dataset_test.columns"
      ],
      "execution_count": null,
      "outputs": []
    },
    {
      "cell_type": "markdown",
      "metadata": {
        "id": "92KXu_xsyidy"
      },
      "source": [
        "обучим логистическую модель на шкалированных данных"
      ]
    },
    {
      "cell_type": "code",
      "metadata": {
        "colab": {
          "base_uri": "https://localhost:8080/"
        },
        "id": "18GkPbi9vLcT",
        "outputId": "b7d00b99-a8be-43ae-ac9c-2b5fd588095b"
      },
      "source": [
        "clf_log = LogisticRegression(max_iter=2500)\n",
        "clf_log.fit(X_train,y_train)"
      ],
      "execution_count": null,
      "outputs": [
        {
          "output_type": "execute_result",
          "data": {
            "text/plain": [
              "LogisticRegression(max_iter=2500)"
            ]
          },
          "metadata": {},
          "execution_count": 477
        }
      ]
    },
    {
      "cell_type": "code",
      "metadata": {
        "colab": {
          "base_uri": "https://localhost:8080/"
        },
        "id": "eHd8SICgvTrM",
        "outputId": "0be010e3-5d06-46ac-eff1-025665d16cbe"
      },
      "source": [
        "clf_log.score(X_train,y_train)"
      ],
      "execution_count": null,
      "outputs": [
        {
          "output_type": "execute_result",
          "data": {
            "text/plain": [
              "0.7991573033707865"
            ]
          },
          "metadata": {},
          "execution_count": 478
        }
      ]
    },
    {
      "cell_type": "code",
      "metadata": {
        "colab": {
          "base_uri": "https://localhost:8080/"
        },
        "id": "xjCKJ5h3KwJi",
        "outputId": "52230d90-6e67-46c9-bcca-a123d29de1b8"
      },
      "source": [
        "clf_log.score(X_test,y_test)"
      ],
      "execution_count": null,
      "outputs": [
        {
          "output_type": "execute_result",
          "data": {
            "text/plain": [
              "0.8100558659217877"
            ]
          },
          "metadata": {},
          "execution_count": 479
        }
      ]
    },
    {
      "cell_type": "code",
      "metadata": {
        "id": "BnVy4t_VwUai"
      },
      "source": [
        "writeToFile(dataset_test_scalled, test, clf_log, \"log_scale\")"
      ],
      "execution_count": null,
      "outputs": []
    },
    {
      "cell_type": "markdown",
      "metadata": {
        "id": "lrD5ZdKbPxNf"
      },
      "source": [
        "# XGBoost classifier"
      ]
    },
    {
      "cell_type": "code",
      "metadata": {
        "id": "98_UDLQmP3UK"
      },
      "source": [
        "import xgboost as xgb"
      ],
      "execution_count": null,
      "outputs": []
    },
    {
      "cell_type": "code",
      "metadata": {
        "id": "B1N3BgFgQTOq"
      },
      "source": [
        "xgb_cl = xgb.XGBClassifier()\n",
        "CV = KFold(n_splits=3, random_state=42, shuffle=True)"
      ],
      "execution_count": null,
      "outputs": []
    },
    {
      "cell_type": "code",
      "metadata": {
        "id": "_kKB0f-6Qm_p"
      },
      "source": [
        "parameters = {'nthread':[4], #when use hyperthread, xgboost may become slower\n",
        "              # 'objective':['reg:squarederror'],\n",
        "              'learning_rate': [.03, 0.05, .07], #so called `eta` value\n",
        "              'max_depth': [4, 10, 15],\n",
        "              'min_child_weight': [4],\n",
        "              'lambda': [0.5],\n",
        "              'alpha': [0, 0.5],\n",
        "              'subsample': [0.5, 0.7],\n",
        "              # 'colsample_bytree': [0.3, 0.5, 0.6],\n",
        "              'colsample_bytree':[0.5], \n",
        "              # 'colsample_bylevel':[0.5], \n",
        "              # 'colsample_bynode':[0.5],\n",
        "              'n_estimators':[300,600,1000],\n",
        "              'max_depth':[5,6,8]}\n",
        "\n",
        "xgb_grid = GridSearchCV(xgb_cl,\n",
        "                        parameters,\n",
        "                        cv = CV,\n",
        "                        n_jobs = 5,\n",
        "                        verbose=True)"
      ],
      "execution_count": null,
      "outputs": []
    },
    {
      "cell_type": "code",
      "metadata": {
        "id": "7rk4QqC0QX_i"
      },
      "source": [
        "xgb_grid.fit(X_train,y_train)"
      ],
      "execution_count": null,
      "outputs": []
    },
    {
      "cell_type": "code",
      "metadata": {
        "id": "K43tHa4KRpru"
      },
      "source": [
        "xgb_grid.best_estimator_"
      ],
      "execution_count": null,
      "outputs": []
    },
    {
      "cell_type": "code",
      "metadata": {
        "id": "r6STzGfSd3kf"
      },
      "source": [
        "xgb_grid.best_estimator_.n_estimators"
      ],
      "execution_count": null,
      "outputs": []
    },
    {
      "cell_type": "code",
      "metadata": {
        "id": "ZDJpKpNJYX_q"
      },
      "source": [
        "xgb_grid.score(X_train,y_train)"
      ],
      "execution_count": null,
      "outputs": []
    },
    {
      "cell_type": "code",
      "metadata": {
        "id": "aBJMkvQ9QfBC"
      },
      "source": [
        "xgb_grid.score(X_test,y_test)"
      ],
      "execution_count": null,
      "outputs": []
    },
    {
      "cell_type": "code",
      "metadata": {
        "id": "1btktWsjVyma"
      },
      "source": [
        "writeToFile(dataset_test, test, xgb_grid, \"xgboost\")"
      ],
      "execution_count": null,
      "outputs": []
    },
    {
      "cell_type": "markdown",
      "metadata": {
        "id": "WI_juN1ndKEL"
      },
      "source": [
        "# Naive Bayes"
      ]
    },
    {
      "cell_type": "code",
      "metadata": {
        "id": "xvMBphyXdMoz"
      },
      "source": [
        "from sklearn import naive_bayes"
      ],
      "execution_count": null,
      "outputs": []
    },
    {
      "cell_type": "code",
      "metadata": {
        "id": "lTsQp77pdS6Q"
      },
      "source": [
        "model_NB = naive_bayes.BernoulliNB()"
      ],
      "execution_count": null,
      "outputs": []
    },
    {
      "cell_type": "code",
      "metadata": {
        "colab": {
          "base_uri": "https://localhost:8080/"
        },
        "id": "2VCPzvLEdi1x",
        "outputId": "02d597cd-ec1a-4d33-d188-49d1843c750b"
      },
      "source": [
        "model_NB.fit(X_train,y_train)"
      ],
      "execution_count": null,
      "outputs": [
        {
          "output_type": "execute_result",
          "data": {
            "text/plain": [
              "BernoulliNB()"
            ]
          },
          "metadata": {},
          "execution_count": 470
        }
      ]
    },
    {
      "cell_type": "code",
      "metadata": {
        "colab": {
          "base_uri": "https://localhost:8080/"
        },
        "id": "l8B2DCNZdqEv",
        "outputId": "10295cdb-713c-4ba7-dd08-98eb3edf2e57"
      },
      "source": [
        "model_NB.score(X_train,y_train)"
      ],
      "execution_count": null,
      "outputs": [
        {
          "output_type": "execute_result",
          "data": {
            "text/plain": [
              "0.7865168539325843"
            ]
          },
          "metadata": {},
          "execution_count": 471
        }
      ]
    },
    {
      "cell_type": "code",
      "metadata": {
        "colab": {
          "base_uri": "https://localhost:8080/"
        },
        "id": "3VxLG5rPdmLQ",
        "outputId": "8b9e28c2-8c4f-478b-d5c6-3dfaaf8acde0"
      },
      "source": [
        "model_NB.score(X_test,y_test)"
      ],
      "execution_count": null,
      "outputs": [
        {
          "output_type": "execute_result",
          "data": {
            "text/plain": [
              "0.7821229050279329"
            ]
          },
          "metadata": {},
          "execution_count": 472
        }
      ]
    },
    {
      "cell_type": "code",
      "metadata": {
        "id": "PWA08w44roO1"
      },
      "source": [
        "writeToFile(dataset_test, test, model_NB, \"naive_bayes\")"
      ],
      "execution_count": null,
      "outputs": []
    },
    {
      "cell_type": "markdown",
      "metadata": {
        "id": "XfazoWPeeufJ"
      },
      "source": [
        "# Stacking"
      ]
    },
    {
      "cell_type": "code",
      "metadata": {
        "id": "yi5ZZpwtfiaT"
      },
      "source": [
        "from sklearn.model_selection import cross_val_score\n",
        "from sklearn.model_selection import RepeatedStratifiedKFold\n",
        "from sklearn.ensemble import StackingClassifier\n",
        "from sklearn import naive_bayes\n",
        "from sklearn.svm import SVC\n",
        "import xgboost as xgb"
      ],
      "execution_count": null,
      "outputs": []
    },
    {
      "cell_type": "code",
      "metadata": {
        "id": "dE_yyApEet9Z"
      },
      "source": [
        "def get_models():\n",
        "    models = dict()\n",
        "    models['stacking'] = get_stacking()\n",
        "    return models"
      ],
      "execution_count": null,
      "outputs": []
    },
    {
      "cell_type": "code",
      "metadata": {
        "id": "9WnEwf4ggBDO"
      },
      "source": [
        "# get a stacking ensemble of models\n",
        "def get_stacking():\n",
        "    # define the base models\n",
        "    level0 = list()\n",
        "    level0.append(('xgb',xgb.XGBClassifier(alpha=0, colsample_bytree=0.5, learning_rate=0.05,max_depth=6, min_child_weight=4, n_estimators=300, nthread=4,subsample=0.7)))\n",
        "    level0.append(('svc',SVC(C=9)))\n",
        "    level0.append(('knn',KNeighborsClassifier(n_neighbors=7)))\n",
        "    level0.append(('bayes',naive_bayes.GaussianNB()))\n",
        "    # define meta learner model\n",
        "    level1 = LogisticRegression(C=0.8, random_state=42)\n",
        "    # define the stacking ensemble\n",
        "    model = StackingClassifier(estimators=level0, final_estimator=level1, cv=3)\n",
        "    return model"
      ],
      "execution_count": null,
      "outputs": []
    },
    {
      "cell_type": "code",
      "metadata": {
        "id": "Q-k4cVN2fYYZ"
      },
      "source": [
        "models = get_models()"
      ],
      "execution_count": null,
      "outputs": []
    },
    {
      "cell_type": "code",
      "metadata": {
        "id": "C7T1Zlu1nHim"
      },
      "source": [
        "models['stacking']"
      ],
      "execution_count": null,
      "outputs": []
    },
    {
      "cell_type": "code",
      "metadata": {
        "id": "J-pjSSvhg7iP"
      },
      "source": [
        "models['stacking'].fit(X_train,y_train)"
      ],
      "execution_count": null,
      "outputs": []
    },
    {
      "cell_type": "code",
      "metadata": {
        "id": "MHRrIrIGhGVv"
      },
      "source": [
        "models['stacking'].score(X_train,y_train)"
      ],
      "execution_count": null,
      "outputs": []
    },
    {
      "cell_type": "code",
      "metadata": {
        "id": "iWRAfPe_2H5M"
      },
      "source": [
        "models['stacking'].score(X_test,y_test)"
      ],
      "execution_count": null,
      "outputs": []
    },
    {
      "cell_type": "code",
      "metadata": {
        "id": "9qwSiCyFhOwG"
      },
      "source": [
        "writeToFile(dataset_test, test, models['stacking'], \"stacking\")"
      ],
      "execution_count": null,
      "outputs": []
    },
    {
      "cell_type": "markdown",
      "metadata": {
        "id": "VKEOa3KBOFpi"
      },
      "source": [
        "# catboost"
      ]
    },
    {
      "cell_type": "code",
      "metadata": {
        "id": "evDNpmyaOIOJ"
      },
      "source": [
        "!pip install catboost"
      ],
      "execution_count": null,
      "outputs": []
    },
    {
      "cell_type": "code",
      "metadata": {
        "id": "sYesodbYOKq1"
      },
      "source": [
        "from catboost import CatBoostClassifier"
      ],
      "execution_count": null,
      "outputs": []
    },
    {
      "cell_type": "code",
      "metadata": {
        "id": "yKwXnhdKOS_S"
      },
      "source": [
        "cat_model = CatBoostClassifier()"
      ],
      "execution_count": null,
      "outputs": []
    },
    {
      "cell_type": "code",
      "metadata": {
        "id": "CnZb0Z8bOVnx"
      },
      "source": [
        "cat_model.fit(X_train,y_train,silent=True)"
      ],
      "execution_count": null,
      "outputs": []
    },
    {
      "cell_type": "code",
      "metadata": {
        "id": "BkiM37PuO9g7"
      },
      "source": [
        "cat_model.feature_importances_"
      ],
      "execution_count": null,
      "outputs": []
    },
    {
      "cell_type": "code",
      "metadata": {
        "id": "toDnubCZOkYG"
      },
      "source": [
        "cat_model.score(X_train,y_train)"
      ],
      "execution_count": null,
      "outputs": []
    },
    {
      "cell_type": "code",
      "metadata": {
        "id": "x3ORk6JNOn1a"
      },
      "source": [
        "cat_model.score(X_test,y_test)"
      ],
      "execution_count": null,
      "outputs": []
    },
    {
      "cell_type": "code",
      "metadata": {
        "id": "YNQnEyyvOrVm"
      },
      "source": [
        "writeToFile(dataset_test, test, cat_model, \"catBoost\")"
      ],
      "execution_count": null,
      "outputs": []
    }
  ]
}