{
  "nbformat": 4,
  "nbformat_minor": 0,
  "metadata": {
    "colab": {
      "provenance": [],
      "collapsed_sections": [
        "HbraRPCVcYP-"
      ]
    },
    "kernelspec": {
      "name": "python3",
      "display_name": "Python 3"
    },
    "language_info": {
      "name": "python"
    }
  },
  "cells": [
    {
      "cell_type": "code",
      "execution_count": null,
      "metadata": {
        "id": "mljDm_tsnLO0"
      },
      "outputs": [],
      "source": [
        "import pandas as pd\n",
        "import numpy as np\n",
        "import matplotlib.pyplot as plt\n",
        "import seaborn as sns"
      ]
    },
    {
      "cell_type": "code",
      "source": [
        "from sklearn.model_selection import train_test_split\n",
        "from sklearn.metrics import confusion_matrix, log_loss, plot_confusion_matrix, mean_squared_log_error, accuracy_score"
      ],
      "metadata": {
        "id": "bBcnL5v80Mis"
      },
      "execution_count": null,
      "outputs": []
    },
    {
      "cell_type": "code",
      "source": [
        "from sklearn.preprocessing import LabelEncoder"
      ],
      "metadata": {
        "id": "hPWx4e16GgVe"
      },
      "execution_count": null,
      "outputs": []
    },
    {
      "cell_type": "code",
      "source": [
        "df_train = pd.read_csv(\"/content/drive/MyDrive/datasets/tabular feb 22/train.csv\")"
      ],
      "metadata": {
        "id": "BAjdRawJpy5x"
      },
      "execution_count": null,
      "outputs": []
    },
    {
      "cell_type": "code",
      "source": [
        "df_test = pd.read_csv(\"/content/drive/MyDrive/datasets/tabular feb 22/test.csv\")"
      ],
      "metadata": {
        "id": "sfTgOBbty3Wx"
      },
      "execution_count": null,
      "outputs": []
    },
    {
      "cell_type": "code",
      "source": [
        "df_test_id= pd.read_csv(\"/content/drive/MyDrive/datasets/tabular feb 22/test.csv\").row_id"
      ],
      "metadata": {
        "id": "-Xi1wgZCDgr_"
      },
      "execution_count": null,
      "outputs": []
    },
    {
      "cell_type": "code",
      "source": [
        "df_train.drop(columns=['row_id'],axis=1,inplace=True)\n",
        "df_test.drop(columns=['row_id'],axis=1,inplace=True)"
      ],
      "metadata": {
        "id": "JShjLnpm9wND"
      },
      "execution_count": null,
      "outputs": []
    },
    {
      "cell_type": "code",
      "source": [
        "le = LabelEncoder()\n",
        "df_train.target = le.fit_transform(df_train.target)\n",
        "# df_test.target = le.transform(df_test.target)"
      ],
      "metadata": {
        "id": "rAmH6qnaGfT9"
      },
      "execution_count": null,
      "outputs": []
    },
    {
      "cell_type": "markdown",
      "source": [
        "## pca"
      ],
      "metadata": {
        "id": "4F74-lJmGgF-"
      }
    },
    {
      "cell_type": "code",
      "source": [
        "from sklearn.decomposition import PCA"
      ],
      "metadata": {
        "id": "9n8LkHxYGhZs"
      },
      "execution_count": null,
      "outputs": []
    },
    {
      "cell_type": "code",
      "source": [
        "pca = PCA(n_components=200)"
      ],
      "metadata": {
        "id": "zZsY49O6GqYH"
      },
      "execution_count": null,
      "outputs": []
    },
    {
      "cell_type": "code",
      "source": [
        "pca.fit(df_train.drop(columns=['target'],axis=1))"
      ],
      "metadata": {
        "colab": {
          "base_uri": "https://localhost:8080/"
        },
        "id": "QyHEPHkZHJag",
        "outputId": "4ddb33a3-0f22-4a58-c919-46e01826493c"
      },
      "execution_count": null,
      "outputs": [
        {
          "output_type": "execute_result",
          "data": {
            "text/plain": [
              "PCA(n_components=200)"
            ]
          },
          "metadata": {},
          "execution_count": 56
        }
      ]
    },
    {
      "cell_type": "code",
      "source": [
        "pca.transform(df_test)"
      ],
      "metadata": {
        "colab": {
          "base_uri": "https://localhost:8080/"
        },
        "id": "A5QSsMPGOoqA",
        "outputId": "432a550b-6030-4e37-d471-50f35a032ea9"
      },
      "execution_count": null,
      "outputs": [
        {
          "output_type": "execute_result",
          "data": {
            "text/plain": [
              "array([[-2.58605309e-02, -5.57551820e-03, -2.31664754e-03, ...,\n",
              "        -5.49893168e-05,  6.78514734e-05,  3.16461795e-05],\n",
              "       [-2.98111167e-02, -6.44479445e-04,  2.72630675e-03, ...,\n",
              "         3.61224799e-04, -3.03749783e-04, -2.16865950e-04],\n",
              "       [-2.02558836e-02, -5.92245671e-03, -5.14566333e-03, ...,\n",
              "         4.81176295e-05,  3.49728044e-05,  4.51949832e-05],\n",
              "       ...,\n",
              "       [-2.15014896e-02,  4.10118535e-03, -1.26672502e-02, ...,\n",
              "        -1.27067039e-04,  1.66839011e-04,  6.12148732e-05],\n",
              "       [ 3.67711619e-02,  4.09408387e-02,  3.34519940e-02, ...,\n",
              "         2.11964345e-05, -7.20025194e-04,  1.41437789e-04],\n",
              "       [ 2.48837070e-02, -1.53859873e-02, -8.97440912e-03, ...,\n",
              "        -5.52587939e-05, -4.61599480e-05, -1.06744386e-04]])"
            ]
          },
          "metadata": {},
          "execution_count": 62
        }
      ]
    },
    {
      "cell_type": "code",
      "source": [
        "n_pcs= pca.components_.shape[0]"
      ],
      "metadata": {
        "id": "Pu1F9gtKRygR"
      },
      "execution_count": null,
      "outputs": []
    },
    {
      "cell_type": "code",
      "source": [
        "most_important = [np.abs(pca.components_[i]).argmax() for i in range(n_pcs)]"
      ],
      "metadata": {
        "id": "DR7Iy5RJSIA4"
      },
      "execution_count": null,
      "outputs": []
    },
    {
      "cell_type": "code",
      "source": [
        "initial_feature_names = df_test.columns"
      ],
      "metadata": {
        "id": "dWjdjZrcSVHN"
      },
      "execution_count": null,
      "outputs": []
    },
    {
      "cell_type": "code",
      "source": [
        "most_important_names = [initial_feature_names[most_important[i]] for i in range(n_pcs)]"
      ],
      "metadata": {
        "id": "ywJV32HGScPb"
      },
      "execution_count": null,
      "outputs": []
    },
    {
      "cell_type": "code",
      "source": [
        "most_important_names"
      ],
      "metadata": {
        "colab": {
          "base_uri": "https://localhost:8080/"
        },
        "id": "BcDi_9b9SeHI",
        "outputId": "0c0957a6-dc26-4f27-8f9d-e49b66ec2974"
      },
      "execution_count": null,
      "outputs": [
        {
          "output_type": "execute_result",
          "data": {
            "text/plain": [
              "['A2T2G3C3',\n",
              " 'A3T1G3C3',\n",
              " 'A2T4G3C1',\n",
              " 'A3T3G2C2',\n",
              " 'A3T1G3C3',\n",
              " 'A3T3G2C2',\n",
              " 'A3T3G2C2',\n",
              " 'A3T3G2C2',\n",
              " 'A1T3G4C2',\n",
              " 'A3T2G3C2',\n",
              " 'A3T2G2C3',\n",
              " 'A4T3G1C2',\n",
              " 'A4T2G2C2',\n",
              " 'A2T3G2C3',\n",
              " 'A2T4G2C2',\n",
              " 'A2T2G3C3',\n",
              " 'A4T3G1C2',\n",
              " 'A2T3G3C2',\n",
              " 'A3T4G1C2',\n",
              " 'A3T3G3C1',\n",
              " 'A3T4G1C2',\n",
              " 'A4T4G1C1',\n",
              " 'A4T2G3C1',\n",
              " 'A2T2G4C2',\n",
              " 'A2T2G2C4',\n",
              " 'A5T2G1C2',\n",
              " 'A5T3G1C1',\n",
              " 'A2T4G3C1',\n",
              " 'A5T2G2C1',\n",
              " 'A2T5G1C2',\n",
              " 'A1T4G3C2',\n",
              " 'A5T2G1C2',\n",
              " 'A4T2G1C3',\n",
              " 'A4T1G2C3',\n",
              " 'A5T1G2C2',\n",
              " 'A3T5G1C1',\n",
              " 'A1T4G2C3',\n",
              " 'A3T2G1C4',\n",
              " 'A2T1G3C4',\n",
              " 'A1T5G2C2',\n",
              " 'A5T1G2C2',\n",
              " 'A1T4G2C3',\n",
              " 'A1T2G4C3',\n",
              " 'A5T1G3C1',\n",
              " 'A2T1G3C4',\n",
              " 'A1T5G2C2',\n",
              " 'A1T5G1C3',\n",
              " 'A3T1G4C2',\n",
              " 'A1T5G1C3',\n",
              " 'A6T2G1C1',\n",
              " 'A4T1G4C1',\n",
              " 'A2T1G4C3',\n",
              " 'A1T5G1C3',\n",
              " 'A6T2G1C1',\n",
              " 'A4T3G0C3',\n",
              " 'A6T1G2C1',\n",
              " 'A4T4G2C0',\n",
              " 'A4T3G3C0',\n",
              " 'A5T3G2C0',\n",
              " 'A4T4G0C2',\n",
              " 'A1T4G4C1',\n",
              " 'A4T1G4C1',\n",
              " 'A4T1G1C4',\n",
              " 'A5T1G1C3',\n",
              " 'A2T1G2C5',\n",
              " 'A1T6G1C2',\n",
              " 'A5T3G2C0',\n",
              " 'A4T1G1C4',\n",
              " 'A1T5G3C1',\n",
              " 'A4T4G0C2',\n",
              " 'A3T5G2C0',\n",
              " 'A2T1G2C5',\n",
              " 'A3T4G0C3',\n",
              " 'A1T4G1C4',\n",
              " 'A2T1G2C5',\n",
              " 'A1T2G2C5',\n",
              " 'A1T2G5C2',\n",
              " 'A5T2G3C0',\n",
              " 'A4T5G0C1',\n",
              " 'A1T2G5C2',\n",
              " 'A6T2G2C0',\n",
              " 'A2T1G5C2',\n",
              " 'A1T2G2C5',\n",
              " 'A3T3G4C0',\n",
              " 'A5T4G1C0',\n",
              " 'A2T5G0C3',\n",
              " 'A3T3G0C4',\n",
              " 'A6T2G2C0',\n",
              " 'A5T2G0C3',\n",
              " 'A2T6G0C2',\n",
              " 'A1T1G5C3',\n",
              " 'A3T3G0C4',\n",
              " 'A2T5G0C3',\n",
              " 'A3T3G0C4',\n",
              " 'A5T2G0C3',\n",
              " 'A3T6G0C1',\n",
              " 'A2T4G0C4',\n",
              " 'A0T3G3C4',\n",
              " 'A1T3G1C5',\n",
              " 'A6T2G0C2',\n",
              " 'A3T0G3C4',\n",
              " 'A4T0G3C3',\n",
              " 'A1T7G1C1',\n",
              " 'A3T0G4C3',\n",
              " 'A6T3G0C1',\n",
              " 'A2T4G4C0',\n",
              " 'A2T4G4C0',\n",
              " 'A0T4G3C3',\n",
              " 'A1T3G1C5',\n",
              " 'A3T0G4C3',\n",
              " 'A4T2G4C0',\n",
              " 'A0T3G4C3',\n",
              " 'A4T2G0C4',\n",
              " 'A2T0G3C5',\n",
              " 'A3T0G4C3',\n",
              " 'A7T2G1C0',\n",
              " 'A1T3G5C1',\n",
              " 'A4T0G2C4',\n",
              " 'A0T5G2C3',\n",
              " 'A0T5G3C2',\n",
              " 'A0T4G4C2',\n",
              " 'A7T2G1C0',\n",
              " 'A0T5G3C2',\n",
              " 'A2T7G0C1',\n",
              " 'A0T4G4C2',\n",
              " 'A0T2G4C4',\n",
              " 'A6T1G3C0',\n",
              " 'A0T4G2C4',\n",
              " 'A6T0G2C2',\n",
              " 'A1T6G0C3',\n",
              " 'A2T7G1C0',\n",
              " 'A0T2G5C3',\n",
              " 'A7T1G2C0',\n",
              " 'A3T0G2C5',\n",
              " 'A7T2G0C1',\n",
              " 'A7T1G2C0',\n",
              " 'A3T2G5C0',\n",
              " 'A1T5G0C4',\n",
              " 'A2T3G0C5',\n",
              " 'A5T5G0C0',\n",
              " 'A6T4G0C0',\n",
              " 'A5T1G4C0',\n",
              " 'A0T3G5C2',\n",
              " 'A2T0G5C3',\n",
              " 'A2T0G5C3',\n",
              " 'A5T1G4C0',\n",
              " 'A6T0G3C1',\n",
              " 'A5T1G0C4',\n",
              " 'A2T3G5C0',\n",
              " 'A6T4G0C0',\n",
              " 'A6T0G3C1',\n",
              " 'A2T3G5C0',\n",
              " 'A3T2G0C5',\n",
              " 'A7T1G0C2',\n",
              " 'A6T1G0C3',\n",
              " 'A3T2G0C5',\n",
              " 'A0T5G1C4',\n",
              " 'A4T6G0C0',\n",
              " 'A6T0G1C3',\n",
              " 'A0T5G1C4',\n",
              " 'A5T0G4C1',\n",
              " 'A1T7G2C0',\n",
              " 'A1T0G5C4',\n",
              " 'A0T6G1C3',\n",
              " 'A0T3G2C5',\n",
              " 'A5T0G1C4',\n",
              " 'A4T0G1C5',\n",
              " 'A0T5G4C1',\n",
              " 'A1T5G4C0',\n",
              " 'A0T3G2C5',\n",
              " 'A0T7G1C2',\n",
              " 'A7T0G2C1',\n",
              " 'A0T6G3C1',\n",
              " 'A7T3G0C0',\n",
              " 'A0T5G4C1',\n",
              " 'A0T1G4C5',\n",
              " 'A0T7G1C2',\n",
              " 'A1T2G1C6',\n",
              " 'A1T4G5C0',\n",
              " 'A7T0G1C2',\n",
              " 'A3T7G0C0',\n",
              " 'A0T7G2C1',\n",
              " 'A2T1G6C1',\n",
              " 'A4T0G5C1',\n",
              " 'A0T4G5C1',\n",
              " 'A0T2G6C2',\n",
              " 'A4T1G5C0',\n",
              " 'A2T0G2C6',\n",
              " 'A1T8G0C1',\n",
              " 'A1T8G0C1',\n",
              " 'A1T4G0C5',\n",
              " 'A1T4G0C5',\n",
              " 'A1T8G1C0',\n",
              " 'A1T0G3C6',\n",
              " 'A2T0G6C2',\n",
              " 'A0T1G6C3',\n",
              " 'A2T2G0C6',\n",
              " 'A0T1G3C6',\n",
              " 'A8T2G0C0',\n",
              " 'A8T0G1C1']"
            ]
          },
          "metadata": {},
          "execution_count": 70
        }
      ]
    },
    {
      "cell_type": "code",
      "source": [
        "df_test.info()"
      ],
      "metadata": {
        "colab": {
          "base_uri": "https://localhost:8080/"
        },
        "id": "Xmfq3zgPy-Wc",
        "outputId": "5b144479-f295-48b3-a330-7803c3621b43"
      },
      "execution_count": null,
      "outputs": [
        {
          "output_type": "stream",
          "name": "stdout",
          "text": [
            "<class 'pandas.core.frame.DataFrame'>\n",
            "RangeIndex: 100000 entries, 0 to 99999\n",
            "Columns: 287 entries, row_id to A10T0G0C0\n",
            "dtypes: float64(286), int64(1)\n",
            "memory usage: 219.0 MB\n"
          ]
        }
      ]
    },
    {
      "cell_type": "code",
      "source": [
        "df_train.info()"
      ],
      "metadata": {
        "colab": {
          "base_uri": "https://localhost:8080/"
        },
        "id": "119vkQa1zBvA",
        "outputId": "30fbc7a7-0040-4213-9ad1-aff1c5c804c8"
      },
      "execution_count": null,
      "outputs": [
        {
          "output_type": "stream",
          "name": "stdout",
          "text": [
            "<class 'pandas.core.frame.DataFrame'>\n",
            "RangeIndex: 200000 entries, 0 to 199999\n",
            "Columns: 288 entries, row_id to target\n",
            "dtypes: float64(286), int64(1), object(1)\n",
            "memory usage: 439.5+ MB\n"
          ]
        }
      ]
    },
    {
      "cell_type": "code",
      "source": [
        "df_train.duplicated().sum()"
      ],
      "metadata": {
        "id": "OlPJuFKFzsvl",
        "colab": {
          "base_uri": "https://localhost:8080/"
        },
        "outputId": "439f1912-1665-4ac4-f379-9aac20c03a98"
      },
      "execution_count": null,
      "outputs": [
        {
          "output_type": "execute_result",
          "data": {
            "text/plain": [
              "76007"
            ]
          },
          "metadata": {},
          "execution_count": 26
        }
      ]
    },
    {
      "cell_type": "code",
      "source": [
        "df_train.drop_duplicates(keep='first' , inplace=True)"
      ],
      "metadata": {
        "id": "5DISLWF4-KMS"
      },
      "execution_count": null,
      "outputs": []
    },
    {
      "cell_type": "code",
      "source": [
        "print(df_train.A0T0G0C10[0])\n",
        "print(df_train.A0T0G1C9[0])\n",
        "print(df_train.A0T0G2C8[0])\n",
        "print(df_train.A0T0G3C7[0])"
      ],
      "metadata": {
        "colab": {
          "base_uri": "https://localhost:8080/"
        },
        "id": "0SYBnCvzAqjH",
        "outputId": "acbb29eb-9fef-4d54-d5fd-05752751778f"
      },
      "execution_count": null,
      "outputs": [
        {
          "output_type": "stream",
          "name": "stdout",
          "text": [
            "-9.5e-07\n",
            "-9.54e-06\n",
            "-4.29e-05\n",
            "-0.00011444\n"
          ]
        }
      ]
    },
    {
      "cell_type": "code",
      "source": [
        "print(df_train.A0T0G0C10[1])\n",
        "print(df_train.A0T0G1C9[1])\n",
        "print(df_train.A0T0G2C8[1])\n",
        "print(df_train.A0T0G3C7[1])"
      ],
      "metadata": {
        "colab": {
          "base_uri": "https://localhost:8080/"
        },
        "id": "ZRldFTimA9V3",
        "outputId": "f022428c-3a1b-4660-ce91-a4fab398c1ee"
      },
      "execution_count": null,
      "outputs": [
        {
          "output_type": "stream",
          "name": "stdout",
          "text": [
            "-9.5e-07\n",
            "-9.54e-06\n",
            "-4.29e-05\n",
            "0.0008855\n"
          ]
        }
      ]
    },
    {
      "cell_type": "code",
      "source": [
        "df_train[df_train.target==4]"
      ],
      "metadata": {
        "colab": {
          "base_uri": "https://localhost:8080/",
          "height": 661
        },
        "id": "K_-zKvaaDePA",
        "outputId": "1ef058b5-9703-40e1-ef4b-d147b59b478a"
      },
      "execution_count": null,
      "outputs": [
        {
          "output_type": "execute_result",
          "data": {
            "text/html": [
              "\n",
              "  <div id=\"df-16ed1a8e-c42d-4a3b-ad87-0712147b6869\">\n",
              "    <div class=\"colab-df-container\">\n",
              "      <div>\n",
              "<style scoped>\n",
              "    .dataframe tbody tr th:only-of-type {\n",
              "        vertical-align: middle;\n",
              "    }\n",
              "\n",
              "    .dataframe tbody tr th {\n",
              "        vertical-align: top;\n",
              "    }\n",
              "\n",
              "    .dataframe thead th {\n",
              "        text-align: right;\n",
              "    }\n",
              "</style>\n",
              "<table border=\"1\" class=\"dataframe\">\n",
              "  <thead>\n",
              "    <tr style=\"text-align: right;\">\n",
              "      <th></th>\n",
              "      <th>A0T0G0C10</th>\n",
              "      <th>A0T0G1C9</th>\n",
              "      <th>A0T0G2C8</th>\n",
              "      <th>A0T0G3C7</th>\n",
              "      <th>A0T0G4C6</th>\n",
              "      <th>A0T0G5C5</th>\n",
              "      <th>A0T0G6C4</th>\n",
              "      <th>A0T0G7C3</th>\n",
              "      <th>A0T0G8C2</th>\n",
              "      <th>A0T0G9C1</th>\n",
              "      <th>A0T0G10C0</th>\n",
              "      <th>A0T1G0C9</th>\n",
              "      <th>A0T1G1C8</th>\n",
              "      <th>A0T1G2C7</th>\n",
              "      <th>A0T1G3C6</th>\n",
              "      <th>A0T1G4C5</th>\n",
              "      <th>A0T1G5C4</th>\n",
              "      <th>A0T1G6C3</th>\n",
              "      <th>A0T1G7C2</th>\n",
              "      <th>A0T1G8C1</th>\n",
              "      <th>A0T1G9C0</th>\n",
              "      <th>A0T2G0C8</th>\n",
              "      <th>A0T2G1C7</th>\n",
              "      <th>A0T2G2C6</th>\n",
              "      <th>A0T2G3C5</th>\n",
              "      <th>A0T2G4C4</th>\n",
              "      <th>A0T2G5C3</th>\n",
              "      <th>A0T2G6C2</th>\n",
              "      <th>A0T2G7C1</th>\n",
              "      <th>A0T2G8C0</th>\n",
              "      <th>A0T3G0C7</th>\n",
              "      <th>A0T3G1C6</th>\n",
              "      <th>A0T3G2C5</th>\n",
              "      <th>A0T3G3C4</th>\n",
              "      <th>A0T3G4C3</th>\n",
              "      <th>A0T3G5C2</th>\n",
              "      <th>A0T3G6C1</th>\n",
              "      <th>A0T3G7C0</th>\n",
              "      <th>A0T4G0C6</th>\n",
              "      <th>A0T4G1C5</th>\n",
              "      <th>...</th>\n",
              "      <th>A5T3G2C0</th>\n",
              "      <th>A5T4G0C1</th>\n",
              "      <th>A5T4G1C0</th>\n",
              "      <th>A5T5G0C0</th>\n",
              "      <th>A6T0G0C4</th>\n",
              "      <th>A6T0G1C3</th>\n",
              "      <th>A6T0G2C2</th>\n",
              "      <th>A6T0G3C1</th>\n",
              "      <th>A6T0G4C0</th>\n",
              "      <th>A6T1G0C3</th>\n",
              "      <th>A6T1G1C2</th>\n",
              "      <th>A6T1G2C1</th>\n",
              "      <th>A6T1G3C0</th>\n",
              "      <th>A6T2G0C2</th>\n",
              "      <th>A6T2G1C1</th>\n",
              "      <th>A6T2G2C0</th>\n",
              "      <th>A6T3G0C1</th>\n",
              "      <th>A6T3G1C0</th>\n",
              "      <th>A6T4G0C0</th>\n",
              "      <th>A7T0G0C3</th>\n",
              "      <th>A7T0G1C2</th>\n",
              "      <th>A7T0G2C1</th>\n",
              "      <th>A7T0G3C0</th>\n",
              "      <th>A7T1G0C2</th>\n",
              "      <th>A7T1G1C1</th>\n",
              "      <th>A7T1G2C0</th>\n",
              "      <th>A7T2G0C1</th>\n",
              "      <th>A7T2G1C0</th>\n",
              "      <th>A7T3G0C0</th>\n",
              "      <th>A8T0G0C2</th>\n",
              "      <th>A8T0G1C1</th>\n",
              "      <th>A8T0G2C0</th>\n",
              "      <th>A8T1G0C1</th>\n",
              "      <th>A8T1G1C0</th>\n",
              "      <th>A8T2G0C0</th>\n",
              "      <th>A9T0G0C1</th>\n",
              "      <th>A9T0G1C0</th>\n",
              "      <th>A9T1G0C0</th>\n",
              "      <th>A10T0G0C0</th>\n",
              "      <th>target</th>\n",
              "    </tr>\n",
              "  </thead>\n",
              "  <tbody>\n",
              "    <tr>\n",
              "      <th>12</th>\n",
              "      <td>-9.500000e-07</td>\n",
              "      <td>-9.540000e-06</td>\n",
              "      <td>-0.000043</td>\n",
              "      <td>-0.000114</td>\n",
              "      <td>-2.003000e-04</td>\n",
              "      <td>-0.00024</td>\n",
              "      <td>-2.003000e-04</td>\n",
              "      <td>-0.000114</td>\n",
              "      <td>-0.000043</td>\n",
              "      <td>-0.00001</td>\n",
              "      <td>-9.500000e-07</td>\n",
              "      <td>-9.540000e-06</td>\n",
              "      <td>-0.000086</td>\n",
              "      <td>-0.000343</td>\n",
              "      <td>-0.000801</td>\n",
              "      <td>-0.001202</td>\n",
              "      <td>-0.001202</td>\n",
              "      <td>-0.000801</td>\n",
              "      <td>-0.000343</td>\n",
              "      <td>-0.000086</td>\n",
              "      <td>-0.00001</td>\n",
              "      <td>-0.000043</td>\n",
              "      <td>-0.000343</td>\n",
              "      <td>-0.001202</td>\n",
              "      <td>-0.002403</td>\n",
              "      <td>-0.003004</td>\n",
              "      <td>-0.002403</td>\n",
              "      <td>-0.001202</td>\n",
              "      <td>-0.000343</td>\n",
              "      <td>-0.000043</td>\n",
              "      <td>-0.000114</td>\n",
              "      <td>-0.000801</td>\n",
              "      <td>-0.002403</td>\n",
              "      <td>-0.004005</td>\n",
              "      <td>-0.004005</td>\n",
              "      <td>-0.002403</td>\n",
              "      <td>-0.000801</td>\n",
              "      <td>-0.000114</td>\n",
              "      <td>-0.00020</td>\n",
              "      <td>-0.001202</td>\n",
              "      <td>...</td>\n",
              "      <td>-0.002403</td>\n",
              "      <td>0.008800</td>\n",
              "      <td>-0.001202</td>\n",
              "      <td>0.00976</td>\n",
              "      <td>-0.00020</td>\n",
              "      <td>-0.000801</td>\n",
              "      <td>-0.001202</td>\n",
              "      <td>-0.000801</td>\n",
              "      <td>-0.00020</td>\n",
              "      <td>-0.000801</td>\n",
              "      <td>-0.002403</td>\n",
              "      <td>-0.002403</td>\n",
              "      <td>-0.000801</td>\n",
              "      <td>-0.001202</td>\n",
              "      <td>-0.002403</td>\n",
              "      <td>-0.001202</td>\n",
              "      <td>-0.000801</td>\n",
              "      <td>-0.000801</td>\n",
              "      <td>-0.00020</td>\n",
              "      <td>-0.000114</td>\n",
              "      <td>-0.000343</td>\n",
              "      <td>-0.000343</td>\n",
              "      <td>-0.000114</td>\n",
              "      <td>-0.000343</td>\n",
              "      <td>-0.000687</td>\n",
              "      <td>-0.000343</td>\n",
              "      <td>-0.000343</td>\n",
              "      <td>-0.000343</td>\n",
              "      <td>-0.000114</td>\n",
              "      <td>-0.000043</td>\n",
              "      <td>-0.000086</td>\n",
              "      <td>-0.000043</td>\n",
              "      <td>-0.000086</td>\n",
              "      <td>-0.000086</td>\n",
              "      <td>-0.000043</td>\n",
              "      <td>-0.00001</td>\n",
              "      <td>-9.540000e-06</td>\n",
              "      <td>-0.00001</td>\n",
              "      <td>-9.500000e-07</td>\n",
              "      <td>4</td>\n",
              "    </tr>\n",
              "    <tr>\n",
              "      <th>23</th>\n",
              "      <td>-9.500000e-07</td>\n",
              "      <td>-9.540000e-06</td>\n",
              "      <td>-0.000043</td>\n",
              "      <td>-0.000114</td>\n",
              "      <td>-2.003000e-04</td>\n",
              "      <td>-0.00024</td>\n",
              "      <td>-2.003000e-04</td>\n",
              "      <td>-0.000114</td>\n",
              "      <td>-0.000043</td>\n",
              "      <td>-0.00001</td>\n",
              "      <td>-9.500000e-07</td>\n",
              "      <td>-9.540000e-06</td>\n",
              "      <td>-0.000086</td>\n",
              "      <td>-0.000343</td>\n",
              "      <td>0.002200</td>\n",
              "      <td>-0.000202</td>\n",
              "      <td>-0.000202</td>\n",
              "      <td>0.002200</td>\n",
              "      <td>0.000657</td>\n",
              "      <td>-0.000086</td>\n",
              "      <td>-0.00001</td>\n",
              "      <td>0.000957</td>\n",
              "      <td>0.000657</td>\n",
              "      <td>-0.001202</td>\n",
              "      <td>-0.000403</td>\n",
              "      <td>0.002996</td>\n",
              "      <td>0.001596</td>\n",
              "      <td>0.000798</td>\n",
              "      <td>0.000657</td>\n",
              "      <td>-0.000043</td>\n",
              "      <td>-0.000114</td>\n",
              "      <td>-0.000801</td>\n",
              "      <td>-0.001403</td>\n",
              "      <td>-0.000005</td>\n",
              "      <td>-0.000005</td>\n",
              "      <td>0.001596</td>\n",
              "      <td>0.000199</td>\n",
              "      <td>-0.000114</td>\n",
              "      <td>0.00080</td>\n",
              "      <td>-0.001202</td>\n",
              "      <td>...</td>\n",
              "      <td>-0.000403</td>\n",
              "      <td>-0.000202</td>\n",
              "      <td>0.000798</td>\n",
              "      <td>0.00176</td>\n",
              "      <td>-0.00020</td>\n",
              "      <td>0.000199</td>\n",
              "      <td>0.000798</td>\n",
              "      <td>-0.000801</td>\n",
              "      <td>-0.00020</td>\n",
              "      <td>0.001199</td>\n",
              "      <td>0.001596</td>\n",
              "      <td>0.002596</td>\n",
              "      <td>0.000199</td>\n",
              "      <td>0.001799</td>\n",
              "      <td>-0.000403</td>\n",
              "      <td>0.001799</td>\n",
              "      <td>-0.000801</td>\n",
              "      <td>0.001199</td>\n",
              "      <td>-0.00020</td>\n",
              "      <td>-0.000114</td>\n",
              "      <td>-0.000343</td>\n",
              "      <td>-0.000343</td>\n",
              "      <td>-0.000114</td>\n",
              "      <td>-0.000343</td>\n",
              "      <td>0.000313</td>\n",
              "      <td>-0.000343</td>\n",
              "      <td>0.000657</td>\n",
              "      <td>-0.000343</td>\n",
              "      <td>-0.000114</td>\n",
              "      <td>-0.000043</td>\n",
              "      <td>-0.000086</td>\n",
              "      <td>0.000957</td>\n",
              "      <td>-0.000086</td>\n",
              "      <td>0.000914</td>\n",
              "      <td>0.000957</td>\n",
              "      <td>-0.00001</td>\n",
              "      <td>-9.540000e-06</td>\n",
              "      <td>-0.00001</td>\n",
              "      <td>-9.500000e-07</td>\n",
              "      <td>4</td>\n",
              "    </tr>\n",
              "    <tr>\n",
              "      <th>28</th>\n",
              "      <td>-9.500000e-07</td>\n",
              "      <td>-9.540000e-06</td>\n",
              "      <td>-0.000043</td>\n",
              "      <td>-0.000114</td>\n",
              "      <td>-2.003000e-04</td>\n",
              "      <td>-0.00024</td>\n",
              "      <td>-2.003000e-04</td>\n",
              "      <td>-0.000114</td>\n",
              "      <td>-0.000043</td>\n",
              "      <td>-0.00001</td>\n",
              "      <td>-9.500000e-07</td>\n",
              "      <td>-9.540000e-06</td>\n",
              "      <td>-0.000086</td>\n",
              "      <td>-0.000343</td>\n",
              "      <td>-0.000801</td>\n",
              "      <td>-0.001202</td>\n",
              "      <td>-0.001202</td>\n",
              "      <td>-0.000801</td>\n",
              "      <td>-0.000343</td>\n",
              "      <td>-0.000086</td>\n",
              "      <td>-0.00001</td>\n",
              "      <td>-0.000043</td>\n",
              "      <td>-0.000343</td>\n",
              "      <td>-0.001202</td>\n",
              "      <td>-0.002403</td>\n",
              "      <td>-0.003004</td>\n",
              "      <td>-0.002403</td>\n",
              "      <td>-0.001202</td>\n",
              "      <td>-0.000343</td>\n",
              "      <td>-0.000043</td>\n",
              "      <td>-0.000114</td>\n",
              "      <td>-0.000801</td>\n",
              "      <td>-0.002403</td>\n",
              "      <td>-0.004005</td>\n",
              "      <td>-0.004005</td>\n",
              "      <td>-0.002403</td>\n",
              "      <td>-0.000801</td>\n",
              "      <td>-0.000114</td>\n",
              "      <td>-0.00020</td>\n",
              "      <td>-0.001202</td>\n",
              "      <td>...</td>\n",
              "      <td>-0.002403</td>\n",
              "      <td>0.008800</td>\n",
              "      <td>-0.001202</td>\n",
              "      <td>0.00976</td>\n",
              "      <td>-0.00020</td>\n",
              "      <td>-0.000801</td>\n",
              "      <td>-0.001202</td>\n",
              "      <td>-0.000801</td>\n",
              "      <td>-0.00020</td>\n",
              "      <td>-0.000801</td>\n",
              "      <td>-0.002403</td>\n",
              "      <td>-0.002403</td>\n",
              "      <td>0.009200</td>\n",
              "      <td>-0.001202</td>\n",
              "      <td>-0.002403</td>\n",
              "      <td>-0.001202</td>\n",
              "      <td>-0.000801</td>\n",
              "      <td>-0.000801</td>\n",
              "      <td>-0.00020</td>\n",
              "      <td>-0.000114</td>\n",
              "      <td>-0.000343</td>\n",
              "      <td>-0.000343</td>\n",
              "      <td>-0.000114</td>\n",
              "      <td>-0.000343</td>\n",
              "      <td>-0.000687</td>\n",
              "      <td>0.009660</td>\n",
              "      <td>-0.000343</td>\n",
              "      <td>-0.000343</td>\n",
              "      <td>-0.000114</td>\n",
              "      <td>-0.000043</td>\n",
              "      <td>-0.000086</td>\n",
              "      <td>-0.000043</td>\n",
              "      <td>-0.000086</td>\n",
              "      <td>-0.000086</td>\n",
              "      <td>-0.000043</td>\n",
              "      <td>-0.00001</td>\n",
              "      <td>-9.540000e-06</td>\n",
              "      <td>-0.00001</td>\n",
              "      <td>-9.500000e-07</td>\n",
              "      <td>4</td>\n",
              "    </tr>\n",
              "    <tr>\n",
              "      <th>40</th>\n",
              "      <td>-9.500000e-07</td>\n",
              "      <td>-9.540000e-06</td>\n",
              "      <td>-0.000043</td>\n",
              "      <td>-0.000114</td>\n",
              "      <td>-2.003000e-04</td>\n",
              "      <td>-0.00024</td>\n",
              "      <td>-2.003000e-04</td>\n",
              "      <td>-0.000114</td>\n",
              "      <td>-0.000043</td>\n",
              "      <td>-0.00001</td>\n",
              "      <td>-9.500000e-07</td>\n",
              "      <td>-9.540000e-06</td>\n",
              "      <td>-0.000086</td>\n",
              "      <td>-0.000343</td>\n",
              "      <td>-0.000801</td>\n",
              "      <td>-0.001202</td>\n",
              "      <td>-0.001202</td>\n",
              "      <td>-0.000801</td>\n",
              "      <td>-0.000343</td>\n",
              "      <td>-0.000086</td>\n",
              "      <td>-0.00001</td>\n",
              "      <td>-0.000043</td>\n",
              "      <td>-0.000343</td>\n",
              "      <td>-0.001202</td>\n",
              "      <td>-0.002403</td>\n",
              "      <td>-0.003004</td>\n",
              "      <td>-0.002403</td>\n",
              "      <td>-0.001202</td>\n",
              "      <td>-0.000343</td>\n",
              "      <td>0.009960</td>\n",
              "      <td>-0.000114</td>\n",
              "      <td>-0.000801</td>\n",
              "      <td>-0.002403</td>\n",
              "      <td>-0.004005</td>\n",
              "      <td>0.005993</td>\n",
              "      <td>-0.002403</td>\n",
              "      <td>-0.000801</td>\n",
              "      <td>-0.000114</td>\n",
              "      <td>-0.00020</td>\n",
              "      <td>-0.001202</td>\n",
              "      <td>...</td>\n",
              "      <td>-0.002403</td>\n",
              "      <td>0.008800</td>\n",
              "      <td>-0.001202</td>\n",
              "      <td>0.00976</td>\n",
              "      <td>-0.00020</td>\n",
              "      <td>-0.000801</td>\n",
              "      <td>-0.001202</td>\n",
              "      <td>-0.000801</td>\n",
              "      <td>-0.00020</td>\n",
              "      <td>-0.000801</td>\n",
              "      <td>-0.002403</td>\n",
              "      <td>-0.002403</td>\n",
              "      <td>-0.000801</td>\n",
              "      <td>-0.001202</td>\n",
              "      <td>-0.002403</td>\n",
              "      <td>-0.001202</td>\n",
              "      <td>-0.000801</td>\n",
              "      <td>-0.000801</td>\n",
              "      <td>-0.00020</td>\n",
              "      <td>-0.000114</td>\n",
              "      <td>-0.000343</td>\n",
              "      <td>-0.000343</td>\n",
              "      <td>-0.000114</td>\n",
              "      <td>-0.000343</td>\n",
              "      <td>-0.000687</td>\n",
              "      <td>-0.000343</td>\n",
              "      <td>-0.000343</td>\n",
              "      <td>-0.000343</td>\n",
              "      <td>-0.000114</td>\n",
              "      <td>-0.000043</td>\n",
              "      <td>-0.000086</td>\n",
              "      <td>-0.000043</td>\n",
              "      <td>-0.000086</td>\n",
              "      <td>-0.000086</td>\n",
              "      <td>-0.000043</td>\n",
              "      <td>-0.00001</td>\n",
              "      <td>-9.540000e-06</td>\n",
              "      <td>-0.00001</td>\n",
              "      <td>-9.500000e-07</td>\n",
              "      <td>4</td>\n",
              "    </tr>\n",
              "    <tr>\n",
              "      <th>42</th>\n",
              "      <td>-9.500000e-07</td>\n",
              "      <td>5.000000e-07</td>\n",
              "      <td>-0.000013</td>\n",
              "      <td>0.000006</td>\n",
              "      <td>3.976000e-05</td>\n",
              "      <td>0.00005</td>\n",
              "      <td>-2.027000e-05</td>\n",
              "      <td>0.000086</td>\n",
              "      <td>-0.000033</td>\n",
              "      <td>-0.00001</td>\n",
              "      <td>-9.500000e-07</td>\n",
              "      <td>5.000000e-07</td>\n",
              "      <td>-0.000016</td>\n",
              "      <td>-0.000063</td>\n",
              "      <td>0.000089</td>\n",
              "      <td>0.000158</td>\n",
              "      <td>0.000188</td>\n",
              "      <td>0.000169</td>\n",
              "      <td>0.000087</td>\n",
              "      <td>0.000004</td>\n",
              "      <td>-0.00001</td>\n",
              "      <td>-0.000013</td>\n",
              "      <td>-0.000083</td>\n",
              "      <td>-0.000082</td>\n",
              "      <td>-0.000133</td>\n",
              "      <td>0.000406</td>\n",
              "      <td>0.001027</td>\n",
              "      <td>0.000438</td>\n",
              "      <td>-0.000043</td>\n",
              "      <td>-0.000033</td>\n",
              "      <td>-0.000014</td>\n",
              "      <td>-0.000271</td>\n",
              "      <td>-0.000193</td>\n",
              "      <td>0.000705</td>\n",
              "      <td>0.000764</td>\n",
              "      <td>0.000747</td>\n",
              "      <td>0.000169</td>\n",
              "      <td>-0.000005</td>\n",
              "      <td>-0.00004</td>\n",
              "      <td>-0.000372</td>\n",
              "      <td>...</td>\n",
              "      <td>0.000057</td>\n",
              "      <td>0.000248</td>\n",
              "      <td>0.000198</td>\n",
              "      <td>0.00019</td>\n",
              "      <td>0.00007</td>\n",
              "      <td>0.000389</td>\n",
              "      <td>0.000638</td>\n",
              "      <td>0.000459</td>\n",
              "      <td>0.00001</td>\n",
              "      <td>0.000239</td>\n",
              "      <td>0.000707</td>\n",
              "      <td>0.001126</td>\n",
              "      <td>0.000349</td>\n",
              "      <td>0.000188</td>\n",
              "      <td>0.000647</td>\n",
              "      <td>0.000218</td>\n",
              "      <td>0.000429</td>\n",
              "      <td>0.000209</td>\n",
              "      <td>0.00017</td>\n",
              "      <td>0.000135</td>\n",
              "      <td>0.000167</td>\n",
              "      <td>0.000187</td>\n",
              "      <td>0.000036</td>\n",
              "      <td>0.000237</td>\n",
              "      <td>0.000514</td>\n",
              "      <td>0.000377</td>\n",
              "      <td>0.000197</td>\n",
              "      <td>0.000187</td>\n",
              "      <td>0.000026</td>\n",
              "      <td>0.000057</td>\n",
              "      <td>0.000094</td>\n",
              "      <td>0.000087</td>\n",
              "      <td>0.000144</td>\n",
              "      <td>0.000254</td>\n",
              "      <td>0.000117</td>\n",
              "      <td>0.00001</td>\n",
              "      <td>1.050000e-05</td>\n",
              "      <td>0.00001</td>\n",
              "      <td>-9.500000e-07</td>\n",
              "      <td>4</td>\n",
              "    </tr>\n",
              "    <tr>\n",
              "      <th>...</th>\n",
              "      <td>...</td>\n",
              "      <td>...</td>\n",
              "      <td>...</td>\n",
              "      <td>...</td>\n",
              "      <td>...</td>\n",
              "      <td>...</td>\n",
              "      <td>...</td>\n",
              "      <td>...</td>\n",
              "      <td>...</td>\n",
              "      <td>...</td>\n",
              "      <td>...</td>\n",
              "      <td>...</td>\n",
              "      <td>...</td>\n",
              "      <td>...</td>\n",
              "      <td>...</td>\n",
              "      <td>...</td>\n",
              "      <td>...</td>\n",
              "      <td>...</td>\n",
              "      <td>...</td>\n",
              "      <td>...</td>\n",
              "      <td>...</td>\n",
              "      <td>...</td>\n",
              "      <td>...</td>\n",
              "      <td>...</td>\n",
              "      <td>...</td>\n",
              "      <td>...</td>\n",
              "      <td>...</td>\n",
              "      <td>...</td>\n",
              "      <td>...</td>\n",
              "      <td>...</td>\n",
              "      <td>...</td>\n",
              "      <td>...</td>\n",
              "      <td>...</td>\n",
              "      <td>...</td>\n",
              "      <td>...</td>\n",
              "      <td>...</td>\n",
              "      <td>...</td>\n",
              "      <td>...</td>\n",
              "      <td>...</td>\n",
              "      <td>...</td>\n",
              "      <td>...</td>\n",
              "      <td>...</td>\n",
              "      <td>...</td>\n",
              "      <td>...</td>\n",
              "      <td>...</td>\n",
              "      <td>...</td>\n",
              "      <td>...</td>\n",
              "      <td>...</td>\n",
              "      <td>...</td>\n",
              "      <td>...</td>\n",
              "      <td>...</td>\n",
              "      <td>...</td>\n",
              "      <td>...</td>\n",
              "      <td>...</td>\n",
              "      <td>...</td>\n",
              "      <td>...</td>\n",
              "      <td>...</td>\n",
              "      <td>...</td>\n",
              "      <td>...</td>\n",
              "      <td>...</td>\n",
              "      <td>...</td>\n",
              "      <td>...</td>\n",
              "      <td>...</td>\n",
              "      <td>...</td>\n",
              "      <td>...</td>\n",
              "      <td>...</td>\n",
              "      <td>...</td>\n",
              "      <td>...</td>\n",
              "      <td>...</td>\n",
              "      <td>...</td>\n",
              "      <td>...</td>\n",
              "      <td>...</td>\n",
              "      <td>...</td>\n",
              "      <td>...</td>\n",
              "      <td>...</td>\n",
              "      <td>...</td>\n",
              "      <td>...</td>\n",
              "      <td>...</td>\n",
              "      <td>...</td>\n",
              "      <td>...</td>\n",
              "      <td>...</td>\n",
              "    </tr>\n",
              "    <tr>\n",
              "      <th>199957</th>\n",
              "      <td>-9.500000e-07</td>\n",
              "      <td>-9.540000e-06</td>\n",
              "      <td>0.000017</td>\n",
              "      <td>0.000046</td>\n",
              "      <td>-3.000000e-07</td>\n",
              "      <td>0.00004</td>\n",
              "      <td>-3.000000e-07</td>\n",
              "      <td>0.000056</td>\n",
              "      <td>-0.000023</td>\n",
              "      <td>-0.00001</td>\n",
              "      <td>-9.500000e-07</td>\n",
              "      <td>-9.540000e-06</td>\n",
              "      <td>-0.000056</td>\n",
              "      <td>-0.000163</td>\n",
              "      <td>0.000059</td>\n",
              "      <td>0.000218</td>\n",
              "      <td>0.000548</td>\n",
              "      <td>0.000239</td>\n",
              "      <td>0.000027</td>\n",
              "      <td>-0.000066</td>\n",
              "      <td>-0.00001</td>\n",
              "      <td>-0.000023</td>\n",
              "      <td>-0.000193</td>\n",
              "      <td>-0.000322</td>\n",
              "      <td>-0.000143</td>\n",
              "      <td>0.000706</td>\n",
              "      <td>0.001077</td>\n",
              "      <td>0.000438</td>\n",
              "      <td>0.000017</td>\n",
              "      <td>-0.000043</td>\n",
              "      <td>-0.000024</td>\n",
              "      <td>-0.000231</td>\n",
              "      <td>-0.000333</td>\n",
              "      <td>0.000535</td>\n",
              "      <td>0.000895</td>\n",
              "      <td>0.000607</td>\n",
              "      <td>0.000099</td>\n",
              "      <td>0.000046</td>\n",
              "      <td>-0.00005</td>\n",
              "      <td>-0.000382</td>\n",
              "      <td>...</td>\n",
              "      <td>0.000227</td>\n",
              "      <td>0.000438</td>\n",
              "      <td>0.000398</td>\n",
              "      <td>0.00026</td>\n",
              "      <td>0.00010</td>\n",
              "      <td>0.000479</td>\n",
              "      <td>0.000678</td>\n",
              "      <td>0.000269</td>\n",
              "      <td>0.00002</td>\n",
              "      <td>0.000239</td>\n",
              "      <td>0.000727</td>\n",
              "      <td>0.001287</td>\n",
              "      <td>0.000449</td>\n",
              "      <td>0.000449</td>\n",
              "      <td>0.000747</td>\n",
              "      <td>0.000458</td>\n",
              "      <td>0.000329</td>\n",
              "      <td>0.000449</td>\n",
              "      <td>0.00016</td>\n",
              "      <td>0.000116</td>\n",
              "      <td>0.000297</td>\n",
              "      <td>0.000337</td>\n",
              "      <td>0.000186</td>\n",
              "      <td>0.000077</td>\n",
              "      <td>0.000773</td>\n",
              "      <td>0.000417</td>\n",
              "      <td>0.000457</td>\n",
              "      <td>0.000457</td>\n",
              "      <td>0.000236</td>\n",
              "      <td>0.000107</td>\n",
              "      <td>0.000094</td>\n",
              "      <td>0.000107</td>\n",
              "      <td>0.000224</td>\n",
              "      <td>0.000274</td>\n",
              "      <td>0.000167</td>\n",
              "      <td>0.00002</td>\n",
              "      <td>1.050000e-05</td>\n",
              "      <td>0.00002</td>\n",
              "      <td>-9.500000e-07</td>\n",
              "      <td>4</td>\n",
              "    </tr>\n",
              "    <tr>\n",
              "      <th>199962</th>\n",
              "      <td>-9.500000e-07</td>\n",
              "      <td>-9.540000e-06</td>\n",
              "      <td>-0.000043</td>\n",
              "      <td>-0.000114</td>\n",
              "      <td>-2.003000e-04</td>\n",
              "      <td>-0.00024</td>\n",
              "      <td>-2.003000e-04</td>\n",
              "      <td>-0.000114</td>\n",
              "      <td>-0.000043</td>\n",
              "      <td>-0.00001</td>\n",
              "      <td>-9.500000e-07</td>\n",
              "      <td>-9.540000e-06</td>\n",
              "      <td>-0.000086</td>\n",
              "      <td>-0.000343</td>\n",
              "      <td>-0.000801</td>\n",
              "      <td>-0.001202</td>\n",
              "      <td>-0.001202</td>\n",
              "      <td>-0.000801</td>\n",
              "      <td>-0.000343</td>\n",
              "      <td>-0.000086</td>\n",
              "      <td>-0.00001</td>\n",
              "      <td>-0.000043</td>\n",
              "      <td>-0.000343</td>\n",
              "      <td>-0.001202</td>\n",
              "      <td>-0.002403</td>\n",
              "      <td>0.017000</td>\n",
              "      <td>-0.002403</td>\n",
              "      <td>-0.001202</td>\n",
              "      <td>-0.000343</td>\n",
              "      <td>-0.000043</td>\n",
              "      <td>-0.000114</td>\n",
              "      <td>-0.000801</td>\n",
              "      <td>-0.002403</td>\n",
              "      <td>-0.004005</td>\n",
              "      <td>0.005993</td>\n",
              "      <td>-0.002403</td>\n",
              "      <td>-0.000801</td>\n",
              "      <td>-0.000114</td>\n",
              "      <td>-0.00020</td>\n",
              "      <td>-0.001202</td>\n",
              "      <td>...</td>\n",
              "      <td>0.007595</td>\n",
              "      <td>0.008800</td>\n",
              "      <td>-0.001202</td>\n",
              "      <td>0.00976</td>\n",
              "      <td>-0.00020</td>\n",
              "      <td>0.009200</td>\n",
              "      <td>-0.001202</td>\n",
              "      <td>-0.000801</td>\n",
              "      <td>-0.00020</td>\n",
              "      <td>-0.000801</td>\n",
              "      <td>0.007595</td>\n",
              "      <td>-0.002403</td>\n",
              "      <td>-0.000801</td>\n",
              "      <td>-0.001202</td>\n",
              "      <td>0.007595</td>\n",
              "      <td>-0.001202</td>\n",
              "      <td>-0.000801</td>\n",
              "      <td>-0.000801</td>\n",
              "      <td>-0.00020</td>\n",
              "      <td>-0.000114</td>\n",
              "      <td>-0.000343</td>\n",
              "      <td>-0.000343</td>\n",
              "      <td>-0.000114</td>\n",
              "      <td>-0.000343</td>\n",
              "      <td>-0.000687</td>\n",
              "      <td>-0.000343</td>\n",
              "      <td>-0.000343</td>\n",
              "      <td>-0.000343</td>\n",
              "      <td>-0.000114</td>\n",
              "      <td>-0.000043</td>\n",
              "      <td>-0.000086</td>\n",
              "      <td>-0.000043</td>\n",
              "      <td>-0.000086</td>\n",
              "      <td>-0.000086</td>\n",
              "      <td>-0.000043</td>\n",
              "      <td>-0.00001</td>\n",
              "      <td>-9.540000e-06</td>\n",
              "      <td>-0.00001</td>\n",
              "      <td>-9.500000e-07</td>\n",
              "      <td>4</td>\n",
              "    </tr>\n",
              "    <tr>\n",
              "      <th>199974</th>\n",
              "      <td>-9.500000e-07</td>\n",
              "      <td>-9.540000e-06</td>\n",
              "      <td>0.000027</td>\n",
              "      <td>-0.000024</td>\n",
              "      <td>7.975000e-05</td>\n",
              "      <td>0.00004</td>\n",
              "      <td>3.976000e-05</td>\n",
              "      <td>-0.000014</td>\n",
              "      <td>0.000007</td>\n",
              "      <td>-0.00001</td>\n",
              "      <td>-9.500000e-07</td>\n",
              "      <td>-9.540000e-06</td>\n",
              "      <td>-0.000046</td>\n",
              "      <td>-0.000153</td>\n",
              "      <td>0.000109</td>\n",
              "      <td>0.000228</td>\n",
              "      <td>0.000308</td>\n",
              "      <td>0.000489</td>\n",
              "      <td>-0.000023</td>\n",
              "      <td>-0.000036</td>\n",
              "      <td>-0.00001</td>\n",
              "      <td>-0.000023</td>\n",
              "      <td>-0.000153</td>\n",
              "      <td>-0.000392</td>\n",
              "      <td>0.000197</td>\n",
              "      <td>0.000666</td>\n",
              "      <td>0.001107</td>\n",
              "      <td>0.000398</td>\n",
              "      <td>0.000047</td>\n",
              "      <td>-0.000033</td>\n",
              "      <td>-0.000034</td>\n",
              "      <td>-0.000291</td>\n",
              "      <td>-0.000123</td>\n",
              "      <td>0.000605</td>\n",
              "      <td>0.001075</td>\n",
              "      <td>0.000687</td>\n",
              "      <td>0.000379</td>\n",
              "      <td>0.000016</td>\n",
              "      <td>-0.00008</td>\n",
              "      <td>-0.000421</td>\n",
              "      <td>...</td>\n",
              "      <td>0.000217</td>\n",
              "      <td>0.000289</td>\n",
              "      <td>0.000468</td>\n",
              "      <td>0.00038</td>\n",
              "      <td>0.00013</td>\n",
              "      <td>0.000589</td>\n",
              "      <td>0.000408</td>\n",
              "      <td>0.000679</td>\n",
              "      <td>0.00008</td>\n",
              "      <td>0.000179</td>\n",
              "      <td>0.000807</td>\n",
              "      <td>0.001297</td>\n",
              "      <td>0.000349</td>\n",
              "      <td>0.000449</td>\n",
              "      <td>0.001226</td>\n",
              "      <td>0.000548</td>\n",
              "      <td>0.000309</td>\n",
              "      <td>0.000429</td>\n",
              "      <td>0.00022</td>\n",
              "      <td>0.000096</td>\n",
              "      <td>0.000407</td>\n",
              "      <td>0.000257</td>\n",
              "      <td>0.000176</td>\n",
              "      <td>0.000257</td>\n",
              "      <td>0.000813</td>\n",
              "      <td>0.000547</td>\n",
              "      <td>0.000327</td>\n",
              "      <td>0.000287</td>\n",
              "      <td>0.000176</td>\n",
              "      <td>0.000057</td>\n",
              "      <td>0.000164</td>\n",
              "      <td>0.000087</td>\n",
              "      <td>0.000234</td>\n",
              "      <td>0.000194</td>\n",
              "      <td>0.000217</td>\n",
              "      <td>0.00002</td>\n",
              "      <td>5.000000e-07</td>\n",
              "      <td>0.00003</td>\n",
              "      <td>-9.500000e-07</td>\n",
              "      <td>4</td>\n",
              "    </tr>\n",
              "    <tr>\n",
              "      <th>199986</th>\n",
              "      <td>-9.500000e-07</td>\n",
              "      <td>5.000000e-07</td>\n",
              "      <td>-0.000003</td>\n",
              "      <td>0.000066</td>\n",
              "      <td>9.700000e-06</td>\n",
              "      <td>0.00005</td>\n",
              "      <td>4.970000e-05</td>\n",
              "      <td>0.000076</td>\n",
              "      <td>-0.000043</td>\n",
              "      <td>-0.00001</td>\n",
              "      <td>-9.500000e-07</td>\n",
              "      <td>5.000000e-07</td>\n",
              "      <td>-0.000026</td>\n",
              "      <td>-0.000023</td>\n",
              "      <td>0.000209</td>\n",
              "      <td>0.000188</td>\n",
              "      <td>0.000208</td>\n",
              "      <td>0.000199</td>\n",
              "      <td>-0.000043</td>\n",
              "      <td>0.000004</td>\n",
              "      <td>-0.00001</td>\n",
              "      <td>-0.000003</td>\n",
              "      <td>-0.000093</td>\n",
              "      <td>-0.000212</td>\n",
              "      <td>0.000057</td>\n",
              "      <td>0.000236</td>\n",
              "      <td>0.000647</td>\n",
              "      <td>0.000358</td>\n",
              "      <td>-0.000083</td>\n",
              "      <td>-0.000033</td>\n",
              "      <td>0.000016</td>\n",
              "      <td>-0.000031</td>\n",
              "      <td>-0.000253</td>\n",
              "      <td>0.000285</td>\n",
              "      <td>0.001064</td>\n",
              "      <td>0.000347</td>\n",
              "      <td>0.000309</td>\n",
              "      <td>-0.000014</td>\n",
              "      <td>-0.00007</td>\n",
              "      <td>-0.000332</td>\n",
              "      <td>...</td>\n",
              "      <td>0.000047</td>\n",
              "      <td>0.000298</td>\n",
              "      <td>0.000148</td>\n",
              "      <td>0.00022</td>\n",
              "      <td>0.00002</td>\n",
              "      <td>0.000409</td>\n",
              "      <td>0.000478</td>\n",
              "      <td>0.000339</td>\n",
              "      <td>-0.00001</td>\n",
              "      <td>0.000509</td>\n",
              "      <td>0.000727</td>\n",
              "      <td>0.001017</td>\n",
              "      <td>0.000319</td>\n",
              "      <td>0.000118</td>\n",
              "      <td>0.000586</td>\n",
              "      <td>0.000308</td>\n",
              "      <td>0.000339</td>\n",
              "      <td>0.000259</td>\n",
              "      <td>0.00009</td>\n",
              "      <td>0.000125</td>\n",
              "      <td>0.000107</td>\n",
              "      <td>0.000387</td>\n",
              "      <td>0.000096</td>\n",
              "      <td>0.000187</td>\n",
              "      <td>0.000423</td>\n",
              "      <td>0.000267</td>\n",
              "      <td>0.000207</td>\n",
              "      <td>0.000317</td>\n",
              "      <td>0.000236</td>\n",
              "      <td>0.000067</td>\n",
              "      <td>0.000024</td>\n",
              "      <td>0.000137</td>\n",
              "      <td>0.000114</td>\n",
              "      <td>0.000144</td>\n",
              "      <td>0.000047</td>\n",
              "      <td>0.00003</td>\n",
              "      <td>5.000000e-07</td>\n",
              "      <td>0.00003</td>\n",
              "      <td>-9.500000e-07</td>\n",
              "      <td>4</td>\n",
              "    </tr>\n",
              "    <tr>\n",
              "      <th>199992</th>\n",
              "      <td>-9.500000e-07</td>\n",
              "      <td>-9.540000e-06</td>\n",
              "      <td>-0.000043</td>\n",
              "      <td>-0.000114</td>\n",
              "      <td>7.997000e-04</td>\n",
              "      <td>-0.00024</td>\n",
              "      <td>-2.003000e-04</td>\n",
              "      <td>-0.000114</td>\n",
              "      <td>-0.000043</td>\n",
              "      <td>-0.00001</td>\n",
              "      <td>-9.500000e-07</td>\n",
              "      <td>-9.540000e-06</td>\n",
              "      <td>-0.000086</td>\n",
              "      <td>-0.000343</td>\n",
              "      <td>-0.000801</td>\n",
              "      <td>-0.000202</td>\n",
              "      <td>0.002798</td>\n",
              "      <td>0.000199</td>\n",
              "      <td>-0.000343</td>\n",
              "      <td>-0.000086</td>\n",
              "      <td>-0.00001</td>\n",
              "      <td>-0.000043</td>\n",
              "      <td>-0.000343</td>\n",
              "      <td>-0.000202</td>\n",
              "      <td>-0.001403</td>\n",
              "      <td>0.003998</td>\n",
              "      <td>0.001596</td>\n",
              "      <td>0.000798</td>\n",
              "      <td>-0.000343</td>\n",
              "      <td>-0.000043</td>\n",
              "      <td>-0.000114</td>\n",
              "      <td>0.000199</td>\n",
              "      <td>-0.000403</td>\n",
              "      <td>0.000995</td>\n",
              "      <td>-0.003006</td>\n",
              "      <td>0.001596</td>\n",
              "      <td>0.000199</td>\n",
              "      <td>-0.000114</td>\n",
              "      <td>-0.00020</td>\n",
              "      <td>0.001799</td>\n",
              "      <td>...</td>\n",
              "      <td>0.000597</td>\n",
              "      <td>0.000798</td>\n",
              "      <td>0.000798</td>\n",
              "      <td>0.00076</td>\n",
              "      <td>-0.00020</td>\n",
              "      <td>-0.000801</td>\n",
              "      <td>-0.000202</td>\n",
              "      <td>-0.000801</td>\n",
              "      <td>-0.00020</td>\n",
              "      <td>0.000199</td>\n",
              "      <td>0.005596</td>\n",
              "      <td>0.002596</td>\n",
              "      <td>0.001199</td>\n",
              "      <td>-0.000202</td>\n",
              "      <td>-0.000403</td>\n",
              "      <td>0.003798</td>\n",
              "      <td>0.000199</td>\n",
              "      <td>0.002200</td>\n",
              "      <td>-0.00020</td>\n",
              "      <td>-0.000114</td>\n",
              "      <td>-0.000343</td>\n",
              "      <td>0.000657</td>\n",
              "      <td>0.000886</td>\n",
              "      <td>0.000657</td>\n",
              "      <td>-0.000687</td>\n",
              "      <td>0.000657</td>\n",
              "      <td>-0.000343</td>\n",
              "      <td>-0.000343</td>\n",
              "      <td>-0.000114</td>\n",
              "      <td>-0.000043</td>\n",
              "      <td>-0.000086</td>\n",
              "      <td>-0.000043</td>\n",
              "      <td>-0.000086</td>\n",
              "      <td>-0.000086</td>\n",
              "      <td>-0.000043</td>\n",
              "      <td>-0.00001</td>\n",
              "      <td>-9.540000e-06</td>\n",
              "      <td>-0.00001</td>\n",
              "      <td>-9.500000e-07</td>\n",
              "      <td>4</td>\n",
              "    </tr>\n",
              "  </tbody>\n",
              "</table>\n",
              "<p>19937 rows × 287 columns</p>\n",
              "</div>\n",
              "      <button class=\"colab-df-convert\" onclick=\"convertToInteractive('df-16ed1a8e-c42d-4a3b-ad87-0712147b6869')\"\n",
              "              title=\"Convert this dataframe to an interactive table.\"\n",
              "              style=\"display:none;\">\n",
              "        \n",
              "  <svg xmlns=\"http://www.w3.org/2000/svg\" height=\"24px\"viewBox=\"0 0 24 24\"\n",
              "       width=\"24px\">\n",
              "    <path d=\"M0 0h24v24H0V0z\" fill=\"none\"/>\n",
              "    <path d=\"M18.56 5.44l.94 2.06.94-2.06 2.06-.94-2.06-.94-.94-2.06-.94 2.06-2.06.94zm-11 1L8.5 8.5l.94-2.06 2.06-.94-2.06-.94L8.5 2.5l-.94 2.06-2.06.94zm10 10l.94 2.06.94-2.06 2.06-.94-2.06-.94-.94-2.06-.94 2.06-2.06.94z\"/><path d=\"M17.41 7.96l-1.37-1.37c-.4-.4-.92-.59-1.43-.59-.52 0-1.04.2-1.43.59L10.3 9.45l-7.72 7.72c-.78.78-.78 2.05 0 2.83L4 21.41c.39.39.9.59 1.41.59.51 0 1.02-.2 1.41-.59l7.78-7.78 2.81-2.81c.8-.78.8-2.07 0-2.86zM5.41 20L4 18.59l7.72-7.72 1.47 1.35L5.41 20z\"/>\n",
              "  </svg>\n",
              "      </button>\n",
              "      \n",
              "  <style>\n",
              "    .colab-df-container {\n",
              "      display:flex;\n",
              "      flex-wrap:wrap;\n",
              "      gap: 12px;\n",
              "    }\n",
              "\n",
              "    .colab-df-convert {\n",
              "      background-color: #E8F0FE;\n",
              "      border: none;\n",
              "      border-radius: 50%;\n",
              "      cursor: pointer;\n",
              "      display: none;\n",
              "      fill: #1967D2;\n",
              "      height: 32px;\n",
              "      padding: 0 0 0 0;\n",
              "      width: 32px;\n",
              "    }\n",
              "\n",
              "    .colab-df-convert:hover {\n",
              "      background-color: #E2EBFA;\n",
              "      box-shadow: 0px 1px 2px rgba(60, 64, 67, 0.3), 0px 1px 3px 1px rgba(60, 64, 67, 0.15);\n",
              "      fill: #174EA6;\n",
              "    }\n",
              "\n",
              "    [theme=dark] .colab-df-convert {\n",
              "      background-color: #3B4455;\n",
              "      fill: #D2E3FC;\n",
              "    }\n",
              "\n",
              "    [theme=dark] .colab-df-convert:hover {\n",
              "      background-color: #434B5C;\n",
              "      box-shadow: 0px 1px 3px 1px rgba(0, 0, 0, 0.15);\n",
              "      filter: drop-shadow(0px 1px 2px rgba(0, 0, 0, 0.3));\n",
              "      fill: #FFFFFF;\n",
              "    }\n",
              "  </style>\n",
              "\n",
              "      <script>\n",
              "        const buttonEl =\n",
              "          document.querySelector('#df-16ed1a8e-c42d-4a3b-ad87-0712147b6869 button.colab-df-convert');\n",
              "        buttonEl.style.display =\n",
              "          google.colab.kernel.accessAllowed ? 'block' : 'none';\n",
              "\n",
              "        async function convertToInteractive(key) {\n",
              "          const element = document.querySelector('#df-16ed1a8e-c42d-4a3b-ad87-0712147b6869');\n",
              "          const dataTable =\n",
              "            await google.colab.kernel.invokeFunction('convertToInteractive',\n",
              "                                                     [key], {});\n",
              "          if (!dataTable) return;\n",
              "\n",
              "          const docLinkHtml = 'Like what you see? Visit the ' +\n",
              "            '<a target=\"_blank\" href=https://colab.research.google.com/notebooks/data_table.ipynb>data table notebook</a>'\n",
              "            + ' to learn more about interactive tables.';\n",
              "          element.innerHTML = '';\n",
              "          dataTable['output_type'] = 'display_data';\n",
              "          await google.colab.output.renderOutput(dataTable, element);\n",
              "          const docLink = document.createElement('div');\n",
              "          docLink.innerHTML = docLinkHtml;\n",
              "          element.appendChild(docLink);\n",
              "        }\n",
              "      </script>\n",
              "    </div>\n",
              "  </div>\n",
              "  "
            ],
            "text/plain": [
              "           A0T0G0C10      A0T0G1C9  A0T0G2C8  ...  A9T1G0C0     A10T0G0C0  target\n",
              "12     -9.500000e-07 -9.540000e-06 -0.000043  ...  -0.00001 -9.500000e-07       4\n",
              "23     -9.500000e-07 -9.540000e-06 -0.000043  ...  -0.00001 -9.500000e-07       4\n",
              "28     -9.500000e-07 -9.540000e-06 -0.000043  ...  -0.00001 -9.500000e-07       4\n",
              "40     -9.500000e-07 -9.540000e-06 -0.000043  ...  -0.00001 -9.500000e-07       4\n",
              "42     -9.500000e-07  5.000000e-07 -0.000013  ...   0.00001 -9.500000e-07       4\n",
              "...              ...           ...       ...  ...       ...           ...     ...\n",
              "199957 -9.500000e-07 -9.540000e-06  0.000017  ...   0.00002 -9.500000e-07       4\n",
              "199962 -9.500000e-07 -9.540000e-06 -0.000043  ...  -0.00001 -9.500000e-07       4\n",
              "199974 -9.500000e-07 -9.540000e-06  0.000027  ...   0.00003 -9.500000e-07       4\n",
              "199986 -9.500000e-07  5.000000e-07 -0.000003  ...   0.00003 -9.500000e-07       4\n",
              "199992 -9.500000e-07 -9.540000e-06 -0.000043  ...  -0.00001 -9.500000e-07       4\n",
              "\n",
              "[19937 rows x 287 columns]"
            ]
          },
          "metadata": {},
          "execution_count": 38
        }
      ]
    },
    {
      "cell_type": "code",
      "source": [
        "cross = pd.merge(df_test,df_train)"
      ],
      "metadata": {
        "id": "B7WT67PQEPr9"
      },
      "execution_count": null,
      "outputs": []
    },
    {
      "cell_type": "code",
      "source": [
        "cross.target.hist()"
      ],
      "metadata": {
        "colab": {
          "base_uri": "https://localhost:8080/",
          "height": 283
        },
        "id": "eVKkVRtSE8BJ",
        "outputId": "a7bf2e72-3285-49e4-be9f-d3e4f188804e"
      },
      "execution_count": null,
      "outputs": [
        {
          "output_type": "execute_result",
          "data": {
            "text/plain": [
              "<matplotlib.axes._subplots.AxesSubplot at 0x7fdaa00b9990>"
            ]
          },
          "metadata": {},
          "execution_count": 47
        },
        {
          "output_type": "display_data",
          "data": {
            "image/png": "[encoded data removed]",
            "text/plain": [
              "<Figure size 432x288 with 1 Axes>"
            ]
          },
          "metadata": {
            "needs_background": "light"
          }
        }
      ]
    },
    {
      "cell_type": "code",
      "source": [
        "df_test.info()"
      ],
      "metadata": {
        "colab": {
          "base_uri": "https://localhost:8080/"
        },
        "id": "808TPYxiEgtz",
        "outputId": "c367f95b-d5da-4351-d487-f9c92a8bf30b"
      },
      "execution_count": null,
      "outputs": [
        {
          "output_type": "stream",
          "name": "stdout",
          "text": [
            "<class 'pandas.core.frame.DataFrame'>\n",
            "RangeIndex: 100000 entries, 0 to 99999\n",
            "Columns: 286 entries, A0T0G0C10 to A10T0G0C0\n",
            "dtypes: float64(286)\n",
            "memory usage: 218.2 MB\n"
          ]
        }
      ]
    },
    {
      "cell_type": "code",
      "source": [
        "counter = 0\n",
        "plt.figure(figsize=(15,7))\n",
        "for col in df_train.drop(columns=['target']).columns:\n",
        "    plt.scatter(counter,df_train[col][0],c='red',s=3)\n",
        "    counter+=1"
      ],
      "metadata": {
        "colab": {
          "base_uri": "https://localhost:8080/",
          "height": 428
        },
        "id": "pW0a1YelC7u_",
        "outputId": "0fcffd37-3561-45e9-ad11-d17d44ebad53"
      },
      "execution_count": null,
      "outputs": [
        {
          "output_type": "display_data",
          "data": {
            "image/png": "[encoded data removed]",
            "text/plain": [
              "<Figure size 1080x504 with 1 Axes>"
            ]
          },
          "metadata": {
            "needs_background": "light"
          }
        }
      ]
    },
    {
      "cell_type": "code",
      "source": [
        "print(df_train.target[0])\n",
        "print(df_train.target[1])"
      ],
      "metadata": {
        "colab": {
          "base_uri": "https://localhost:8080/"
        },
        "id": "0-NJ6KVdBCOq",
        "outputId": "fc290296-7211-4699-dcd6-cf68802db487"
      },
      "execution_count": null,
      "outputs": [
        {
          "output_type": "stream",
          "name": "stdout",
          "text": [
            "9\n",
            "6\n"
          ]
        }
      ]
    },
    {
      "cell_type": "code",
      "source": [
        "df_train.target.hist()"
      ],
      "metadata": {
        "colab": {
          "base_uri": "https://localhost:8080/",
          "height": 284
        },
        "id": "QUP2KfVR-Nnn",
        "outputId": "aa9e9d78-4a71-4e2f-a251-68ee6fbeeab1"
      },
      "execution_count": null,
      "outputs": [
        {
          "output_type": "execute_result",
          "data": {
            "text/plain": [
              "<matplotlib.axes._subplots.AxesSubplot at 0x7fcabb2faf50>"
            ]
          },
          "metadata": {},
          "execution_count": 30
        },
        {
          "output_type": "display_data",
          "data": {
            "image/png": "[encoded data removed]",
            "text/plain": [
              "<Figure size 432x288 with 1 Axes>"
            ]
          },
          "metadata": {
            "needs_background": "light"
          }
        }
      ]
    },
    {
      "cell_type": "code",
      "source": [
        "df_train.columns"
      ],
      "metadata": {
        "id": "gwe_MKdCzcwl",
        "colab": {
          "base_uri": "https://localhost:8080/"
        },
        "outputId": "4bfc059b-a5fc-4356-d4b5-92459797591a"
      },
      "execution_count": null,
      "outputs": [
        {
          "output_type": "execute_result",
          "data": {
            "text/plain": [
              "Index(['row_id', 'A0T0G0C10', 'A0T0G1C9', 'A0T0G2C8', 'A0T0G3C7', 'A0T0G4C6',\n",
              "       'A0T0G5C5', 'A0T0G6C4', 'A0T0G7C3', 'A0T0G8C2',\n",
              "       ...\n",
              "       'A8T0G2C0', 'A8T1G0C1', 'A8T1G1C0', 'A8T2G0C0', 'A9T0G0C1', 'A9T0G1C0',\n",
              "       'A9T1G0C0', 'A10T0G0C0', 'target', 'diff'],\n",
              "      dtype='object', length=289)"
            ]
          },
          "metadata": {},
          "execution_count": 22
        }
      ]
    },
    {
      "cell_type": "code",
      "source": [
        "corr = df_train.corr()"
      ],
      "metadata": {
        "id": "7KB6GAqoFflU"
      },
      "execution_count": null,
      "outputs": []
    },
    {
      "cell_type": "code",
      "source": [
        "corr.columns"
      ],
      "metadata": {
        "colab": {
          "base_uri": "https://localhost:8080/"
        },
        "id": "-afZ1t_8GGNu",
        "outputId": "7a24c5c8-5297-4105-c61d-42236ac74f77"
      },
      "execution_count": null,
      "outputs": [
        {
          "output_type": "execute_result",
          "data": {
            "text/plain": [
              "Index(['row_id', 'A0T0G0C10', 'A0T0G1C9', 'A0T0G2C8', 'A0T0G3C7', 'A0T0G4C6',\n",
              "       'A0T0G5C5', 'A0T0G6C4', 'A0T0G7C3', 'A0T0G8C2',\n",
              "       ...\n",
              "       'A8T0G1C1', 'A8T0G2C0', 'A8T1G0C1', 'A8T1G1C0', 'A8T2G0C0', 'A9T0G0C1',\n",
              "       'A9T0G1C0', 'A9T1G0C0', 'A10T0G0C0', 'target'],\n",
              "      dtype='object', length=288)"
            ]
          },
          "metadata": {},
          "execution_count": 21
        }
      ]
    },
    {
      "cell_type": "code",
      "source": [
        "tmp_test = df_train.copy()"
      ],
      "metadata": {
        "id": "85uU31BZpz_u"
      },
      "execution_count": null,
      "outputs": []
    },
    {
      "cell_type": "code",
      "source": [
        "# tmp_test['ten'] = tmp_test.A10T0G0C0 + tmp_test.A0T10G0C0 + tmp_test.A0T0G10C0 + tmp_test.A0T0G0C10\n",
        "tmp_test['top'] = tmp_test.A3T3G3C1sign + tmp_test.A4T2G1C3sign + tmp_test.A3T3G1C3sign\n",
        "# tmp_test['A0T0G2C8_sign'] = np.sign(tmp_test.A0T0G2C8)\n",
        "# tmp_test['A3G2_sum_sign'] = np.sign(tmp_test.A3G2_sum)\n",
        "\n",
        "# tmp_test['ten'] = tmp_test.A10T0G0C0*tmp_test.A0T10G0C0\n"
      ],
      "metadata": {
        "id": "UDS8P3bBApf_"
      },
      "execution_count": null,
      "outputs": []
    },
    {
      "cell_type": "code",
      "source": [
        "tmp_test['sum_sign'] = 0\n",
        "for col in tmp_test.columns:\n",
        "    if \"sign\" in col:\n",
        "        tmp_test['sum_sign'] += tmp_test[col]"
      ],
      "metadata": {
        "id": "oRZ7COCV6wTm"
      },
      "execution_count": null,
      "outputs": []
    },
    {
      "cell_type": "code",
      "source": [
        "tmp_test['A3'] = df_train.A3_min/df_train.A3_max\n",
        "tmp_test['A7'] = df_train.A7_min/df_train.A7_max\n",
        "tmp_test['T7'] = df_train.T7_min/df_train.T7_max"
      ],
      "metadata": {
        "id": "UfjGgiYYplCX"
      },
      "execution_count": null,
      "outputs": []
    },
    {
      "cell_type": "code",
      "source": [],
      "metadata": {
        "id": "zhI3-ky1qoF2"
      },
      "execution_count": null,
      "outputs": []
    },
    {
      "cell_type": "code",
      "source": [
        "tmp_test['A3_A8'] = df_train.A3_min/df_train.A8_max"
      ],
      "metadata": {
        "id": "-vgAjNLDqF0-"
      },
      "execution_count": null,
      "outputs": []
    },
    {
      "cell_type": "code",
      "source": [
        "tmp_test['top'] = tmp_test.A3T3G3C1sign+\\\n",
        "      tmp_test.A4T2G1C3sign+\\\n",
        "      tmp_test.A3T3G1C3sign+\\\n",
        "      tmp_test.A3T3G2C2sign+\\\n",
        "      tmp_test.A2T4G3C1sign"
      ],
      "metadata": {
        "id": "MDXRTbRQqM3b"
      },
      "execution_count": null,
      "outputs": []
    },
    {
      "cell_type": "code",
      "source": [
        "tmp_test[['sum_sign','top','target']].corr()"
      ],
      "metadata": {
        "colab": {
          "base_uri": "https://localhost:8080/",
          "height": 143
        },
        "id": "-NvpGzNUpv-f",
        "outputId": "6c8493b7-7df5-4d9e-fd24-9ddec5125471"
      },
      "execution_count": null,
      "outputs": [
        {
          "output_type": "execute_result",
          "data": {
            "text/html": [
              "\n",
              "  <div id=\"df-85c78755-5325-4280-9de2-c624f2d43070\">\n",
              "    <div class=\"colab-df-container\">\n",
              "      <div>\n",
              "<style scoped>\n",
              "    .dataframe tbody tr th:only-of-type {\n",
              "        vertical-align: middle;\n",
              "    }\n",
              "\n",
              "    .dataframe tbody tr th {\n",
              "        vertical-align: top;\n",
              "    }\n",
              "\n",
              "    .dataframe thead th {\n",
              "        text-align: right;\n",
              "    }\n",
              "</style>\n",
              "<table border=\"1\" class=\"dataframe\">\n",
              "  <thead>\n",
              "    <tr style=\"text-align: right;\">\n",
              "      <th></th>\n",
              "      <th>sum_sign</th>\n",
              "      <th>top</th>\n",
              "      <th>target</th>\n",
              "    </tr>\n",
              "  </thead>\n",
              "  <tbody>\n",
              "    <tr>\n",
              "      <th>sum_sign</th>\n",
              "      <td>1.000000</td>\n",
              "      <td>-0.134517</td>\n",
              "      <td>0.001018</td>\n",
              "    </tr>\n",
              "    <tr>\n",
              "      <th>top</th>\n",
              "      <td>-0.134517</td>\n",
              "      <td>1.000000</td>\n",
              "      <td>0.412651</td>\n",
              "    </tr>\n",
              "    <tr>\n",
              "      <th>target</th>\n",
              "      <td>0.001018</td>\n",
              "      <td>0.412651</td>\n",
              "      <td>1.000000</td>\n",
              "    </tr>\n",
              "  </tbody>\n",
              "</table>\n",
              "</div>\n",
              "      <button class=\"colab-df-convert\" onclick=\"convertToInteractive('df-85c78755-5325-4280-9de2-c624f2d43070')\"\n",
              "              title=\"Convert this dataframe to an interactive table.\"\n",
              "              style=\"display:none;\">\n",
              "        \n",
              "  <svg xmlns=\"http://www.w3.org/2000/svg\" height=\"24px\"viewBox=\"0 0 24 24\"\n",
              "       width=\"24px\">\n",
              "    <path d=\"M0 0h24v24H0V0z\" fill=\"none\"/>\n",
              "    <path d=\"M18.56 5.44l.94 2.06.94-2.06 2.06-.94-2.06-.94-.94-2.06-.94 2.06-2.06.94zm-11 1L8.5 8.5l.94-2.06 2.06-.94-2.06-.94L8.5 2.5l-.94 2.06-2.06.94zm10 10l.94 2.06.94-2.06 2.06-.94-2.06-.94-.94-2.06-.94 2.06-2.06.94z\"/><path d=\"M17.41 7.96l-1.37-1.37c-.4-.4-.92-.59-1.43-.59-.52 0-1.04.2-1.43.59L10.3 9.45l-7.72 7.72c-.78.78-.78 2.05 0 2.83L4 21.41c.39.39.9.59 1.41.59.51 0 1.02-.2 1.41-.59l7.78-7.78 2.81-2.81c.8-.78.8-2.07 0-2.86zM5.41 20L4 18.59l7.72-7.72 1.47 1.35L5.41 20z\"/>\n",
              "  </svg>\n",
              "      </button>\n",
              "      \n",
              "  <style>\n",
              "    .colab-df-container {\n",
              "      display:flex;\n",
              "      flex-wrap:wrap;\n",
              "      gap: 12px;\n",
              "    }\n",
              "\n",
              "    .colab-df-convert {\n",
              "      background-color: #E8F0FE;\n",
              "      border: none;\n",
              "      border-radius: 50%;\n",
              "      cursor: pointer;\n",
              "      display: none;\n",
              "      fill: #1967D2;\n",
              "      height: 32px;\n",
              "      padding: 0 0 0 0;\n",
              "      width: 32px;\n",
              "    }\n",
              "\n",
              "    .colab-df-convert:hover {\n",
              "      background-color: #E2EBFA;\n",
              "      box-shadow: 0px 1px 2px rgba(60, 64, 67, 0.3), 0px 1px 3px 1px rgba(60, 64, 67, 0.15);\n",
              "      fill: #174EA6;\n",
              "    }\n",
              "\n",
              "    [theme=dark] .colab-df-convert {\n",
              "      background-color: #3B4455;\n",
              "      fill: #D2E3FC;\n",
              "    }\n",
              "\n",
              "    [theme=dark] .colab-df-convert:hover {\n",
              "      background-color: #434B5C;\n",
              "      box-shadow: 0px 1px 3px 1px rgba(0, 0, 0, 0.15);\n",
              "      filter: drop-shadow(0px 1px 2px rgba(0, 0, 0, 0.3));\n",
              "      fill: #FFFFFF;\n",
              "    }\n",
              "  </style>\n",
              "\n",
              "      <script>\n",
              "        const buttonEl =\n",
              "          document.querySelector('#df-85c78755-5325-4280-9de2-c624f2d43070 button.colab-df-convert');\n",
              "        buttonEl.style.display =\n",
              "          google.colab.kernel.accessAllowed ? 'block' : 'none';\n",
              "\n",
              "        async function convertToInteractive(key) {\n",
              "          const element = document.querySelector('#df-85c78755-5325-4280-9de2-c624f2d43070');\n",
              "          const dataTable =\n",
              "            await google.colab.kernel.invokeFunction('convertToInteractive',\n",
              "                                                     [key], {});\n",
              "          if (!dataTable) return;\n",
              "\n",
              "          const docLinkHtml = 'Like what you see? Visit the ' +\n",
              "            '<a target=\"_blank\" href=https://colab.research.google.com/notebooks/data_table.ipynb>data table notebook</a>'\n",
              "            + ' to learn more about interactive tables.';\n",
              "          element.innerHTML = '';\n",
              "          dataTable['output_type'] = 'display_data';\n",
              "          await google.colab.output.renderOutput(dataTable, element);\n",
              "          const docLink = document.createElement('div');\n",
              "          docLink.innerHTML = docLinkHtml;\n",
              "          element.appendChild(docLink);\n",
              "        }\n",
              "      </script>\n",
              "    </div>\n",
              "  </div>\n",
              "  "
            ],
            "text/plain": [
              "          sum_sign       top    target\n",
              "sum_sign  1.000000 -0.134517  0.001018\n",
              "top      -0.134517  1.000000  0.412651\n",
              "target    0.001018  0.412651  1.000000"
            ]
          },
          "metadata": {},
          "execution_count": 142
        }
      ]
    },
    {
      "cell_type": "code",
      "source": [
        "tmp_test[['top','target']]"
      ],
      "metadata": {
        "colab": {
          "base_uri": "https://localhost:8080/",
          "height": 423
        },
        "id": "kGiyV46Q6ftL",
        "outputId": "a8c6fab3-a181-4503-b63b-f3b8b459b53f"
      },
      "execution_count": null,
      "outputs": [
        {
          "output_type": "execute_result",
          "data": {
            "text/html": [
              "\n",
              "  <div id=\"df-ba76a58e-93cc-4a72-8f8e-8357a920e700\">\n",
              "    <div class=\"colab-df-container\">\n",
              "      <div>\n",
              "<style scoped>\n",
              "    .dataframe tbody tr th:only-of-type {\n",
              "        vertical-align: middle;\n",
              "    }\n",
              "\n",
              "    .dataframe tbody tr th {\n",
              "        vertical-align: top;\n",
              "    }\n",
              "\n",
              "    .dataframe thead th {\n",
              "        text-align: right;\n",
              "    }\n",
              "</style>\n",
              "<table border=\"1\" class=\"dataframe\">\n",
              "  <thead>\n",
              "    <tr style=\"text-align: right;\">\n",
              "      <th></th>\n",
              "      <th>top</th>\n",
              "      <th>target</th>\n",
              "    </tr>\n",
              "  </thead>\n",
              "  <tbody>\n",
              "    <tr>\n",
              "      <th>0</th>\n",
              "      <td>-1.0</td>\n",
              "      <td>9</td>\n",
              "    </tr>\n",
              "    <tr>\n",
              "      <th>1</th>\n",
              "      <td>-3.0</td>\n",
              "      <td>6</td>\n",
              "    </tr>\n",
              "    <tr>\n",
              "      <th>2</th>\n",
              "      <td>-3.0</td>\n",
              "      <td>6</td>\n",
              "    </tr>\n",
              "    <tr>\n",
              "      <th>3</th>\n",
              "      <td>-3.0</td>\n",
              "      <td>6</td>\n",
              "    </tr>\n",
              "    <tr>\n",
              "      <th>4</th>\n",
              "      <td>-1.0</td>\n",
              "      <td>2</td>\n",
              "    </tr>\n",
              "    <tr>\n",
              "      <th>...</th>\n",
              "      <td>...</td>\n",
              "      <td>...</td>\n",
              "    </tr>\n",
              "    <tr>\n",
              "      <th>199995</th>\n",
              "      <td>-3.0</td>\n",
              "      <td>6</td>\n",
              "    </tr>\n",
              "    <tr>\n",
              "      <th>199996</th>\n",
              "      <td>-1.0</td>\n",
              "      <td>9</td>\n",
              "    </tr>\n",
              "    <tr>\n",
              "      <th>199997</th>\n",
              "      <td>3.0</td>\n",
              "      <td>8</td>\n",
              "    </tr>\n",
              "    <tr>\n",
              "      <th>199998</th>\n",
              "      <td>-3.0</td>\n",
              "      <td>7</td>\n",
              "    </tr>\n",
              "    <tr>\n",
              "      <th>199999</th>\n",
              "      <td>-3.0</td>\n",
              "      <td>5</td>\n",
              "    </tr>\n",
              "  </tbody>\n",
              "</table>\n",
              "<p>200000 rows × 2 columns</p>\n",
              "</div>\n",
              "      <button class=\"colab-df-convert\" onclick=\"convertToInteractive('df-ba76a58e-93cc-4a72-8f8e-8357a920e700')\"\n",
              "              title=\"Convert this dataframe to an interactive table.\"\n",
              "              style=\"display:none;\">\n",
              "        \n",
              "  <svg xmlns=\"http://www.w3.org/2000/svg\" height=\"24px\"viewBox=\"0 0 24 24\"\n",
              "       width=\"24px\">\n",
              "    <path d=\"M0 0h24v24H0V0z\" fill=\"none\"/>\n",
              "    <path d=\"M18.56 5.44l.94 2.06.94-2.06 2.06-.94-2.06-.94-.94-2.06-.94 2.06-2.06.94zm-11 1L8.5 8.5l.94-2.06 2.06-.94-2.06-.94L8.5 2.5l-.94 2.06-2.06.94zm10 10l.94 2.06.94-2.06 2.06-.94-2.06-.94-.94-2.06-.94 2.06-2.06.94z\"/><path d=\"M17.41 7.96l-1.37-1.37c-.4-.4-.92-.59-1.43-.59-.52 0-1.04.2-1.43.59L10.3 9.45l-7.72 7.72c-.78.78-.78 2.05 0 2.83L4 21.41c.39.39.9.59 1.41.59.51 0 1.02-.2 1.41-.59l7.78-7.78 2.81-2.81c.8-.78.8-2.07 0-2.86zM5.41 20L4 18.59l7.72-7.72 1.47 1.35L5.41 20z\"/>\n",
              "  </svg>\n",
              "      </button>\n",
              "      \n",
              "  <style>\n",
              "    .colab-df-container {\n",
              "      display:flex;\n",
              "      flex-wrap:wrap;\n",
              "      gap: 12px;\n",
              "    }\n",
              "\n",
              "    .colab-df-convert {\n",
              "      background-color: #E8F0FE;\n",
              "      border: none;\n",
              "      border-radius: 50%;\n",
              "      cursor: pointer;\n",
              "      display: none;\n",
              "      fill: #1967D2;\n",
              "      height: 32px;\n",
              "      padding: 0 0 0 0;\n",
              "      width: 32px;\n",
              "    }\n",
              "\n",
              "    .colab-df-convert:hover {\n",
              "      background-color: #E2EBFA;\n",
              "      box-shadow: 0px 1px 2px rgba(60, 64, 67, 0.3), 0px 1px 3px 1px rgba(60, 64, 67, 0.15);\n",
              "      fill: #174EA6;\n",
              "    }\n",
              "\n",
              "    [theme=dark] .colab-df-convert {\n",
              "      background-color: #3B4455;\n",
              "      fill: #D2E3FC;\n",
              "    }\n",
              "\n",
              "    [theme=dark] .colab-df-convert:hover {\n",
              "      background-color: #434B5C;\n",
              "      box-shadow: 0px 1px 3px 1px rgba(0, 0, 0, 0.15);\n",
              "      filter: drop-shadow(0px 1px 2px rgba(0, 0, 0, 0.3));\n",
              "      fill: #FFFFFF;\n",
              "    }\n",
              "  </style>\n",
              "\n",
              "      <script>\n",
              "        const buttonEl =\n",
              "          document.querySelector('#df-ba76a58e-93cc-4a72-8f8e-8357a920e700 button.colab-df-convert');\n",
              "        buttonEl.style.display =\n",
              "          google.colab.kernel.accessAllowed ? 'block' : 'none';\n",
              "\n",
              "        async function convertToInteractive(key) {\n",
              "          const element = document.querySelector('#df-ba76a58e-93cc-4a72-8f8e-8357a920e700');\n",
              "          const dataTable =\n",
              "            await google.colab.kernel.invokeFunction('convertToInteractive',\n",
              "                                                     [key], {});\n",
              "          if (!dataTable) return;\n",
              "\n",
              "          const docLinkHtml = 'Like what you see? Visit the ' +\n",
              "            '<a target=\"_blank\" href=https://colab.research.google.com/notebooks/data_table.ipynb>data table notebook</a>'\n",
              "            + ' to learn more about interactive tables.';\n",
              "          element.innerHTML = '';\n",
              "          dataTable['output_type'] = 'display_data';\n",
              "          await google.colab.output.renderOutput(dataTable, element);\n",
              "          const docLink = document.createElement('div');\n",
              "          docLink.innerHTML = docLinkHtml;\n",
              "          element.appendChild(docLink);\n",
              "        }\n",
              "      </script>\n",
              "    </div>\n",
              "  </div>\n",
              "  "
            ],
            "text/plain": [
              "        top  target\n",
              "0      -1.0       9\n",
              "1      -3.0       6\n",
              "2      -3.0       6\n",
              "3      -3.0       6\n",
              "4      -1.0       2\n",
              "...     ...     ...\n",
              "199995 -3.0       6\n",
              "199996 -1.0       9\n",
              "199997  3.0       8\n",
              "199998 -3.0       7\n",
              "199999 -3.0       5\n",
              "\n",
              "[200000 rows x 2 columns]"
            ]
          },
          "metadata": {},
          "execution_count": 134
        }
      ]
    },
    {
      "cell_type": "code",
      "source": [
        "plt.scatter(tmp_test.top,tmp_test.target)"
      ],
      "metadata": {
        "colab": {
          "base_uri": "https://localhost:8080/",
          "height": 283
        },
        "id": "4tTVSZQY6J8_",
        "outputId": "028fca39-bbd6-4f72-a4e7-d913a33ad858"
      },
      "execution_count": null,
      "outputs": [
        {
          "output_type": "execute_result",
          "data": {
            "text/plain": [
              "<matplotlib.collections.PathCollection at 0x7fa51608ce90>"
            ]
          },
          "metadata": {},
          "execution_count": 133
        },
        {
          "output_type": "display_data",
          "data": {
            "image/png": "[encoded data removed]",
            "text/plain": [
              "<Figure size 432x288 with 1 Axes>"
            ]
          },
          "metadata": {
            "needs_background": "light"
          }
        }
      ]
    },
    {
      "cell_type": "code",
      "source": [
        "np.abs(corr.target).sort_values(ascending = False).head(40)"
      ],
      "metadata": {
        "colab": {
          "base_uri": "https://localhost:8080/"
        },
        "id": "obNU8H7mapWO",
        "outputId": "de5abef5-e65e-4064-8f20-a2991d0d6487"
      },
      "execution_count": null,
      "outputs": [
        {
          "output_type": "execute_result",
          "data": {
            "text/plain": [
              "target        1.000000\n",
              "A3_min_max    0.164919\n",
              "A3G2_sum      0.141408\n",
              "A8_abssum     0.139762\n",
              "A8_max        0.139762\n",
              "G9_min        0.138416\n",
              "T7_abssum     0.129960\n",
              "T7_max        0.129960\n",
              "A8G1_sum      0.129071\n",
              "A3T3G2C2      0.127921\n",
              "A7_max        0.125647\n",
              "A7_abssum     0.125647\n",
              "T7C0_sum      0.121768\n",
              "A7G1_sum      0.120976\n",
              "A8G0_sum      0.119890\n",
              "A7T2G1C0      0.119385\n",
              "T8C1_sum      0.117629\n",
              "T8_max        0.117077\n",
              "T8_abssum     0.117077\n",
              "T2C0_sum      0.116649\n",
              "T2_abssum     0.114382\n",
              "T2_max        0.114382\n",
              "A3G1_sum      0.112361\n",
              "A1T7G0C2      0.110803\n",
              "A8T1G1C0      0.109717\n",
              "T7C1_sum      0.109433\n",
              "T1C1_sum      0.108262\n",
              "A3T7G0C0      0.107044\n",
              "T7C2_sum      0.106325\n",
              "T8C0_sum      0.106147\n",
              "A7G0_sum      0.100417\n",
              "A1T8G0C1      0.100353\n",
              "A1T7G1C1      0.099007\n",
              "T6_max        0.097990\n",
              "T6_abssum     0.097990\n",
              "T6C0_sum      0.095876\n",
              "A4_min_max    0.095630\n",
              "A4T6G0C0      0.094137\n",
              "A8T2G0C0      0.092780\n",
              "T3C0_sum      0.091873\n",
              "Name: target, dtype: float64"
            ]
          },
          "metadata": {},
          "execution_count": 84
        }
      ]
    },
    {
      "cell_type": "code",
      "source": [
        "df_train.target.unique()"
      ],
      "metadata": {
        "colab": {
          "base_uri": "https://localhost:8080/"
        },
        "id": "U4OqF0taGXDp",
        "outputId": "482fc27c-ca83-451a-f06d-7b66d65da5b7"
      },
      "execution_count": null,
      "outputs": [
        {
          "output_type": "execute_result",
          "data": {
            "text/plain": [
              "array(['Streptococcus_pyogenes', 'Salmonella_enterica',\n",
              "       'Enterococcus_hirae', 'Escherichia_coli', 'Campylobacter_jejuni',\n",
              "       'Streptococcus_pneumoniae', 'Staphylococcus_aureus',\n",
              "       'Escherichia_fergusonii', 'Bacteroides_fragilis',\n",
              "       'Klebsiella_pneumoniae'], dtype=object)"
            ]
          },
          "metadata": {},
          "execution_count": 17
        }
      ]
    },
    {
      "cell_type": "code",
      "source": [
        "np.abs(corr.target).sort_values(ascending = False).head(40)"
      ],
      "metadata": {
        "colab": {
          "base_uri": "https://localhost:8080/"
        },
        "id": "QKX26FfSHEOy",
        "outputId": "3cc9f1d0-7342-4441-c33a-bd3b688012b8"
      },
      "execution_count": null,
      "outputs": [
        {
          "output_type": "execute_result",
          "data": {
            "text/plain": [
              "target       1.000000\n",
              "A3G2_sum     0.146051\n",
              "A8_max       0.141625\n",
              "A8_sqrsum    0.140929\n",
              "T7_sum       0.139926\n",
              "T7_abssum    0.139497\n",
              "A8_abssum    0.138138\n",
              "A7_sum       0.137815\n",
              "A7_abssum    0.137640\n",
              "A8_sum       0.137367\n",
              "T7_sqrsum    0.134329\n",
              "A7_sqrsum    0.133520\n",
              "T3C2_sum     0.133152\n",
              "T7_max       0.132567\n",
              "A7_max       0.130068\n",
              "A8G1_sum     0.129071\n",
              "A7G1_sum     0.128572\n",
              "A1G0_sum     0.128381\n",
              "A3T3G2C2     0.127921\n",
              "A8G0_sum     0.123619\n",
              "T8_max       0.123089\n",
              "T0_min       0.122295\n",
              "T8_sqrsum    0.122238\n",
              "A3_min       0.120556\n",
              "A7T2G1C0     0.119385\n",
              "T8_abssum    0.119016\n",
              "T8_sum       0.118086\n",
              "T8C1_sum     0.117629\n",
              "T1C0_sum     0.116900\n",
              "T0C1_sum     0.116030\n",
              "T3_min       0.114804\n",
              "A1G1_sum     0.114623\n",
              "T7C0_sum     0.112449\n",
              "T7C1_sum     0.110862\n",
              "A1T7G0C2     0.110803\n",
              "T8C0_sum     0.110689\n",
              "A8T1G1C0     0.109717\n",
              "C0_max       0.109341\n",
              "A3T7G0C0     0.107044\n",
              "T7C2_sum     0.106325\n",
              "Name: target, dtype: float64"
            ]
          },
          "metadata": {},
          "execution_count": 209
        }
      ]
    },
    {
      "cell_type": "code",
      "source": [
        "def feature_engineering_norma_loss(df):\n",
        "    data = df.copy()\n",
        "    for col in data.columns:\n",
        "        if col not in ['target','row_id']:\n",
        "            A_ind = int(col.split('A')[1].split('T')[0])\n",
        "            G_ind = int(col.split('A')[1].split('T')[1].split('G')[0])\n",
        "            T_ind = int(col.split('A')[1].split('T')[1].split('G')[1].split('C')[0])\n",
        "            C_ind = int(col.split('A')[1].split('T')[1].split('G')[1].split('C')[1])\n",
        "            data[col] /= np.math.factorial(A_ind + G_ind + T_ind + C_ind) / \\\n",
        "                        np.math.factorial(A_ind)*\\\n",
        "                        np.math.factorial(G_ind)*\\\n",
        "                        np.math.factorial(T_ind)*\\\n",
        "                        np.math.factorial(C_ind)\n",
        "    return data"
      ],
      "metadata": {
        "id": "WJVyAncUhhom"
      },
      "execution_count": null,
      "outputs": []
    },
    {
      "cell_type": "code",
      "source": [
        "def feature_engineering(df,is_test = False):\n",
        "    if is_test:\n",
        "        cols2del = df.columns\n",
        "    else:\n",
        "        cols2del = df.drop(columns=['target'],axis=1).columns\n",
        "    data = df.copy()\n",
        "\n",
        "\n",
        "    for idx in range(10):\n",
        "        # data[\"A\"+str(idx)+\"_sum\"] = 0\n",
        "        for symb in ['A','T','G','C']:\n",
        "            # data[symb+str(idx)+\"_max\"] = 0\n",
        "            # data[symb+str(idx)+\"_min\"] = 0\n",
        "            data[symb+str(idx)+\"_abssum\"] = 0           \n",
        "    for col in data.columns:\n",
        "        for idx in range(10):\n",
        "            for symb in ['A','T','G','C']:\n",
        "                if symb+str(idx) in col and symb+\"10\" not in col:\n",
        "                    # data[symb+str(idx)+\"_max\"] = data[[col,symb+str(idx)+\"_max\"]].max(axis=1)  \n",
        "                    # data[symb+str(idx)+\"_min\"] = data[[col,symb+str(idx)+\"_min\"]].min(axis=1) \n",
        "                    data[symb+str(idx)+\"_abssum\"] += np.abs(data[col])\n",
        "    # for idx in range(10):\n",
        "        # for symb in ['A','T','G','C']:\n",
        "            # data[symb+str(idx)+\"_min_max\"] = data[symb+str(idx)+\"_min\"]/data[symb+str(idx)+\"_max\"]\n",
        "    \n",
        "    # пурины\n",
        "    for col in data.columns:\n",
        "        for idxA in range(10):     \n",
        "            for idxG in range(10):\n",
        "                if 'A'+str(idxA) in col and 'G'+str(idxG) in col:\n",
        "                    data['A'+str(idxA)+'G'+str(idxG)+'_sum'] = 0\n",
        "    for col in data.columns:\n",
        "        for idxA in range(10):     \n",
        "            for idxG in range(10):\n",
        "                if 'A'+str(idxA) in col and 'G'+str(idxG) in col:\n",
        "                    data['A'+str(idxA)+'G'+str(idxG)+'_sum'] += data[col]\n",
        "    # пирамидины\n",
        "    for col in data.columns:\n",
        "        for idxT in range(10):     \n",
        "            for idxC in range(10):\n",
        "                if 'C'+str(idxC) in col and 'T'+str(idxT) in col:\n",
        "                    data['T'+str(idxT)+'C'+str(idxC)+'_sum'] = 0\n",
        "    for col in data.columns:\n",
        "        for idxT in range(10):     \n",
        "            for idxC in range(10):\n",
        "                if 'C'+str(idxC) in col and 'T'+str(idxT) in col:\n",
        "                    data['T'+str(idxT)+'C'+str(idxC)+'_sum'] += data[col]\n",
        "\n",
        "\n",
        "    data[\"joker\"] = np.sign(data.A3T3G3C1)+\\\n",
        "                    np.sign(data.A4T2G1C3)+\\\n",
        "                    np.sign(data.A3T3G1C3)+\\\n",
        "                    np.sign(data.A3T3G2C2)+\\\n",
        "                    np.sign(data.A2T4G3C1)\n",
        "    data = data.drop(columns=cols2del,axis=1)          \n",
        "    return data"
      ],
      "metadata": {
        "id": "BdM3pB27Hw7I"
      },
      "execution_count": null,
      "outputs": []
    },
    {
      "cell_type": "code",
      "source": [
        "df_train = feature_engineering_norma_loss(df_train)\n",
        "df_test = feature_engineering_norma_loss(df_test)"
      ],
      "metadata": {
        "id": "lUS5REnLj3RH"
      },
      "execution_count": null,
      "outputs": []
    },
    {
      "cell_type": "code",
      "source": [
        "df_train = feature_engineering(df_train)\n",
        "df_test = feature_engineering(df_test,True)"
      ],
      "metadata": {
        "colab": {
          "base_uri": "https://localhost:8080/"
        },
        "id": "VgvBr110JE6k",
        "outputId": "caaf8cd3-17ea-4725-f065-973231b6e28a"
      },
      "execution_count": null,
      "outputs": [
        {
          "output_type": "stream",
          "name": "stderr",
          "text": [
            "/usr/local/lib/python3.7/dist-packages/ipykernel_launcher.py:31: PerformanceWarning: DataFrame is highly fragmented.  This is usually the result of calling `frame.insert` many times, which has poor performance.  Consider joining all columns at once using pd.concat(axis=1) instead.  To get a de-fragmented frame, use `newframe = frame.copy()`\n",
            "/usr/local/lib/python3.7/dist-packages/ipykernel_launcher.py:42: PerformanceWarning: DataFrame is highly fragmented.  This is usually the result of calling `frame.insert` many times, which has poor performance.  Consider joining all columns at once using pd.concat(axis=1) instead.  To get a de-fragmented frame, use `newframe = frame.copy()`\n",
            "/usr/local/lib/python3.7/dist-packages/ipykernel_launcher.py:50: PerformanceWarning: DataFrame is highly fragmented.  This is usually the result of calling `frame.insert` many times, which has poor performance.  Consider joining all columns at once using pd.concat(axis=1) instead.  To get a de-fragmented frame, use `newframe = frame.copy()`\n"
          ]
        }
      ]
    },
    {
      "cell_type": "code",
      "source": [
        "df_test.info()"
      ],
      "metadata": {
        "colab": {
          "base_uri": "https://localhost:8080/"
        },
        "id": "aOXB3ltG61Q0",
        "outputId": "0d2a3797-c5e2-4905-e9a8-348b6bee64d6"
      },
      "execution_count": null,
      "outputs": [
        {
          "output_type": "stream",
          "name": "stdout",
          "text": [
            "<class 'pandas.core.frame.DataFrame'>\n",
            "RangeIndex: 100000 entries, 0 to 99999\n",
            "Columns: 169 entries, A0_abssum to joker\n",
            "dtypes: float64(169)\n",
            "memory usage: 128.9 MB\n"
          ]
        }
      ]
    },
    {
      "cell_type": "code",
      "source": [
        "df_train.info()"
      ],
      "metadata": {
        "colab": {
          "base_uri": "https://localhost:8080/"
        },
        "id": "dLiaMG8165os",
        "outputId": "267eb319-fd5e-4b3d-c88f-4929b05bcfb0"
      },
      "execution_count": null,
      "outputs": [
        {
          "output_type": "stream",
          "name": "stdout",
          "text": [
            "<class 'pandas.core.frame.DataFrame'>\n",
            "Int64Index: 123993 entries, 0 to 199997\n",
            "Columns: 170 entries, target to joker\n",
            "dtypes: float64(169), int64(1)\n",
            "memory usage: 161.8 MB\n"
          ]
        }
      ]
    },
    {
      "cell_type": "code",
      "source": [
        "# for col in tmp.columns:\n",
        "#     print(col)\n",
        "corr = df_train.corr()"
      ],
      "metadata": {
        "id": "oHzDPeJ4JJRH"
      },
      "execution_count": null,
      "outputs": []
    },
    {
      "cell_type": "code",
      "source": [
        "corr"
      ],
      "metadata": {
        "colab": {
          "base_uri": "https://localhost:8080/",
          "height": 112
        },
        "id": "UnyBg5o18l3Y",
        "outputId": "5e0648bb-455e-43c6-df40-4b10f9d11600"
      },
      "execution_count": null,
      "outputs": [
        {
          "output_type": "execute_result",
          "data": {
            "text/html": [
              "\n",
              "  <div id=\"df-9b26a408-4a70-4080-9c45-449e811358b2\">\n",
              "    <div class=\"colab-df-container\">\n",
              "      <div>\n",
              "<style scoped>\n",
              "    .dataframe tbody tr th:only-of-type {\n",
              "        vertical-align: middle;\n",
              "    }\n",
              "\n",
              "    .dataframe tbody tr th {\n",
              "        vertical-align: top;\n",
              "    }\n",
              "\n",
              "    .dataframe thead th {\n",
              "        text-align: right;\n",
              "    }\n",
              "</style>\n",
              "<table border=\"1\" class=\"dataframe\">\n",
              "  <thead>\n",
              "    <tr style=\"text-align: right;\">\n",
              "      <th></th>\n",
              "      <th>joker</th>\n",
              "      <th>target</th>\n",
              "    </tr>\n",
              "  </thead>\n",
              "  <tbody>\n",
              "    <tr>\n",
              "      <th>joker</th>\n",
              "      <td>1.000000</td>\n",
              "      <td>0.412651</td>\n",
              "    </tr>\n",
              "    <tr>\n",
              "      <th>target</th>\n",
              "      <td>0.412651</td>\n",
              "      <td>1.000000</td>\n",
              "    </tr>\n",
              "  </tbody>\n",
              "</table>\n",
              "</div>\n",
              "      <button class=\"colab-df-convert\" onclick=\"convertToInteractive('df-9b26a408-4a70-4080-9c45-449e811358b2')\"\n",
              "              title=\"Convert this dataframe to an interactive table.\"\n",
              "              style=\"display:none;\">\n",
              "        \n",
              "  <svg xmlns=\"http://www.w3.org/2000/svg\" height=\"24px\"viewBox=\"0 0 24 24\"\n",
              "       width=\"24px\">\n",
              "    <path d=\"M0 0h24v24H0V0z\" fill=\"none\"/>\n",
              "    <path d=\"M18.56 5.44l.94 2.06.94-2.06 2.06-.94-2.06-.94-.94-2.06-.94 2.06-2.06.94zm-11 1L8.5 8.5l.94-2.06 2.06-.94-2.06-.94L8.5 2.5l-.94 2.06-2.06.94zm10 10l.94 2.06.94-2.06 2.06-.94-2.06-.94-.94-2.06-.94 2.06-2.06.94z\"/><path d=\"M17.41 7.96l-1.37-1.37c-.4-.4-.92-.59-1.43-.59-.52 0-1.04.2-1.43.59L10.3 9.45l-7.72 7.72c-.78.78-.78 2.05 0 2.83L4 21.41c.39.39.9.59 1.41.59.51 0 1.02-.2 1.41-.59l7.78-7.78 2.81-2.81c.8-.78.8-2.07 0-2.86zM5.41 20L4 18.59l7.72-7.72 1.47 1.35L5.41 20z\"/>\n",
              "  </svg>\n",
              "      </button>\n",
              "      \n",
              "  <style>\n",
              "    .colab-df-container {\n",
              "      display:flex;\n",
              "      flex-wrap:wrap;\n",
              "      gap: 12px;\n",
              "    }\n",
              "\n",
              "    .colab-df-convert {\n",
              "      background-color: #E8F0FE;\n",
              "      border: none;\n",
              "      border-radius: 50%;\n",
              "      cursor: pointer;\n",
              "      display: none;\n",
              "      fill: #1967D2;\n",
              "      height: 32px;\n",
              "      padding: 0 0 0 0;\n",
              "      width: 32px;\n",
              "    }\n",
              "\n",
              "    .colab-df-convert:hover {\n",
              "      background-color: #E2EBFA;\n",
              "      box-shadow: 0px 1px 2px rgba(60, 64, 67, 0.3), 0px 1px 3px 1px rgba(60, 64, 67, 0.15);\n",
              "      fill: #174EA6;\n",
              "    }\n",
              "\n",
              "    [theme=dark] .colab-df-convert {\n",
              "      background-color: #3B4455;\n",
              "      fill: #D2E3FC;\n",
              "    }\n",
              "\n",
              "    [theme=dark] .colab-df-convert:hover {\n",
              "      background-color: #434B5C;\n",
              "      box-shadow: 0px 1px 3px 1px rgba(0, 0, 0, 0.15);\n",
              "      filter: drop-shadow(0px 1px 2px rgba(0, 0, 0, 0.3));\n",
              "      fill: #FFFFFF;\n",
              "    }\n",
              "  </style>\n",
              "\n",
              "      <script>\n",
              "        const buttonEl =\n",
              "          document.querySelector('#df-9b26a408-4a70-4080-9c45-449e811358b2 button.colab-df-convert');\n",
              "        buttonEl.style.display =\n",
              "          google.colab.kernel.accessAllowed ? 'block' : 'none';\n",
              "\n",
              "        async function convertToInteractive(key) {\n",
              "          const element = document.querySelector('#df-9b26a408-4a70-4080-9c45-449e811358b2');\n",
              "          const dataTable =\n",
              "            await google.colab.kernel.invokeFunction('convertToInteractive',\n",
              "                                                     [key], {});\n",
              "          if (!dataTable) return;\n",
              "\n",
              "          const docLinkHtml = 'Like what you see? Visit the ' +\n",
              "            '<a target=\"_blank\" href=https://colab.research.google.com/notebooks/data_table.ipynb>data table notebook</a>'\n",
              "            + ' to learn more about interactive tables.';\n",
              "          element.innerHTML = '';\n",
              "          dataTable['output_type'] = 'display_data';\n",
              "          await google.colab.output.renderOutput(dataTable, element);\n",
              "          const docLink = document.createElement('div');\n",
              "          docLink.innerHTML = docLinkHtml;\n",
              "          element.appendChild(docLink);\n",
              "        }\n",
              "      </script>\n",
              "    </div>\n",
              "  </div>\n",
              "  "
            ],
            "text/plain": [
              "           joker    target\n",
              "joker   1.000000  0.412651\n",
              "target  0.412651  1.000000"
            ]
          },
          "metadata": {},
          "execution_count": 9
        }
      ]
    },
    {
      "cell_type": "code",
      "source": [
        "corr['A2_abssum'].target"
      ],
      "metadata": {
        "colab": {
          "base_uri": "https://localhost:8080/"
        },
        "id": "i00ucnSkJoNM",
        "outputId": "f6cf683b-78a0-4230-81a0-4e5afd105739"
      },
      "execution_count": null,
      "outputs": [
        {
          "output_type": "execute_result",
          "data": {
            "text/plain": [
              "0.012018595174882336"
            ]
          },
          "metadata": {},
          "execution_count": 21
        }
      ]
    },
    {
      "cell_type": "code",
      "source": [
        "np.abs(corr.target).sort_values(ascending = False)[:20]"
      ],
      "metadata": {
        "colab": {
          "base_uri": "https://localhost:8080/"
        },
        "id": "f-rdf4UBJ4-d",
        "outputId": "9d45f643-5bda-473b-b337-1c9a8bd36589"
      },
      "execution_count": null,
      "outputs": [
        {
          "output_type": "execute_result",
          "data": {
            "text/plain": [
              "target       1.000000\n",
              "joker        0.497407\n",
              "A3G2_sum     0.185114\n",
              "T3C2_sum     0.181994\n",
              "G9_min       0.170939\n",
              "A8_abssum    0.166389\n",
              "A8_max       0.166389\n",
              "A8G1_sum     0.161652\n",
              "A1G0_sum     0.153566\n",
              "T8_abssum    0.152458\n",
              "T8_max       0.152458\n",
              "T8C1_sum     0.151116\n",
              "T1C0_sum     0.150121\n",
              "T0C1_sum     0.149845\n",
              "A1G1_sum     0.149183\n",
              "A8G0_sum     0.149010\n",
              "T8C0_sum     0.143628\n",
              "T7_max       0.137394\n",
              "T7_abssum    0.137394\n",
              "A0G1_sum     0.136305\n",
              "Name: target, dtype: float64"
            ]
          },
          "metadata": {},
          "execution_count": 83
        }
      ]
    },
    {
      "cell_type": "code",
      "source": [
        "np.abs(corr.target).sort_values(ascending = False)[:20]"
      ],
      "metadata": {
        "colab": {
          "base_uri": "https://localhost:8080/"
        },
        "id": "GpUYaZJg6HQY",
        "outputId": "ded03e52-a78d-4c74-fefa-784001c9b155"
      },
      "execution_count": null,
      "outputs": [
        {
          "output_type": "execute_result",
          "data": {
            "text/plain": [
              "target       1.000000\n",
              "joker        0.497407\n",
              "A3G2_sum     0.185114\n",
              "T3C2_sum     0.181994\n",
              "G9_min       0.170939\n",
              "A8_abssum    0.166389\n",
              "A8_max       0.166389\n",
              "A3T3G2C2     0.163037\n",
              "A8G1_sum     0.161652\n",
              "A1G0_sum     0.153566\n",
              "T8_abssum    0.152458\n",
              "T8_max       0.152458\n",
              "T8C1_sum     0.151116\n",
              "T1C0_sum     0.150121\n",
              "T0C1_sum     0.149845\n",
              "A1G1_sum     0.149183\n",
              "A8G0_sum     0.149010\n",
              "T8C0_sum     0.143628\n",
              "A8T1G1C0     0.140998\n",
              "T7_max       0.137394\n",
              "Name: target, dtype: float64"
            ]
          },
          "metadata": {},
          "execution_count": 37
        }
      ]
    },
    {
      "cell_type": "code",
      "source": [
        "np.abs(corr.target).sort_values(ascending = True)[:50]"
      ],
      "metadata": {
        "colab": {
          "base_uri": "https://localhost:8080/"
        },
        "id": "HzMUxM6XgDSB",
        "outputId": "caf92952-717e-4216-b741-f99dfb60591a"
      },
      "execution_count": null,
      "outputs": [
        {
          "output_type": "execute_result",
          "data": {
            "text/plain": [
              "A3G7_sum      0.000200\n",
              "A3T0G7C0      0.000200\n",
              "T0C8_sum      0.000317\n",
              "A0T2G3C5      0.000320\n",
              "T4C0_sum      0.000363\n",
              "T5_min        0.000383\n",
              "A1T1G2C6      0.000423\n",
              "A1T2G7C0      0.000509\n",
              "A5T0G2C3      0.000523\n",
              "A0T0G2C8      0.000587\n",
              "A1T1G6C2      0.000676\n",
              "A1T1G1C7      0.000818\n",
              "A1T1G5C3      0.000915\n",
              "A5_abssum     0.000945\n",
              "A5_max        0.000945\n",
              "C9_abssum     0.001120\n",
              "C9_max        0.001120\n",
              "A2_min_max    0.001273\n",
              "A5G2_sum      0.001320\n",
              "A4G0_sum      0.001379\n",
              "A0G8_sum      0.001424\n",
              "row_id        0.001500\n",
              "A2T0G1C7      0.001613\n",
              "G2_min        0.001856\n",
              "A6G4_sum      0.001911\n",
              "A6T0G4C0      0.001911\n",
              "A0T0G9C1      0.001956\n",
              "C1_min_max    0.001978\n",
              "A0T0G1C9      0.002008\n",
              "A5G5_sum      0.002017\n",
              "A5T0G5C0      0.002017\n",
              "A1G6_sum      0.002099\n",
              "A1T1G0C8      0.002102\n",
              "A5_min        0.002104\n",
              "A3T0G3C4      0.002202\n",
              "A4T1G3C2      0.002205\n",
              "A0T4G5C1      0.002234\n",
              "A1T0G2C7      0.002336\n",
              "T0C9_sum      0.002351\n",
              "A0G4_sum      0.002362\n",
              "T1C5_sum      0.002417\n",
              "A5T3G1C1      0.002449\n",
              "A1T1G8C0      0.002468\n",
              "A1G7_sum      0.002647\n",
              "A5T1G2C2      0.002845\n",
              "A0T2G7C1      0.002912\n",
              "C8_abssum     0.002948\n",
              "C8_max        0.002948\n",
              "A0T2G6C2      0.003124\n",
              "G8_max        0.003201\n",
              "Name: target, dtype: float64"
            ]
          },
          "metadata": {},
          "execution_count": 12
        }
      ]
    },
    {
      "cell_type": "markdown",
      "source": [
        "## EDA"
      ],
      "metadata": {
        "id": "HbraRPCVcYP-"
      }
    },
    {
      "cell_type": "code",
      "source": [
        "df_train.A0T0G5C5.hist()"
      ],
      "metadata": {
        "colab": {
          "base_uri": "https://localhost:8080/",
          "height": 284
        },
        "id": "JeXyBL1oZRud",
        "outputId": "4dfdc233-7249-4851-b46c-afb4920b5fb0"
      },
      "execution_count": null,
      "outputs": [
        {
          "output_type": "execute_result",
          "data": {
            "text/plain": [
              "<matplotlib.axes._subplots.AxesSubplot at 0x7fcab84f89d0>"
            ]
          },
          "metadata": {},
          "execution_count": 38
        },
        {
          "output_type": "display_data",
          "data": {
            "image/png": "[encoded data removed]",
            "text/plain": [
              "<Figure size 432x288 with 1 Axes>"
            ]
          },
          "metadata": {
            "needs_background": "light"
          }
        }
      ]
    },
    {
      "cell_type": "code",
      "source": [
        "df_train.A0T5G0C5.hist()"
      ],
      "metadata": {
        "colab": {
          "base_uri": "https://localhost:8080/",
          "height": 284
        },
        "id": "qPRZcgoG67SY",
        "outputId": "91396ba8-7c7d-4355-d69c-278c1c5f1590"
      },
      "execution_count": null,
      "outputs": [
        {
          "output_type": "execute_result",
          "data": {
            "text/plain": [
              "<matplotlib.axes._subplots.AxesSubplot at 0x7fcabac73910>"
            ]
          },
          "metadata": {},
          "execution_count": 7
        },
        {
          "output_type": "display_data",
          "data": {
            "image/png": "[encoded data removed]",
            "text/plain": [
              "<Figure size 432x288 with 1 Axes>"
            ]
          },
          "metadata": {
            "needs_background": "light"
          }
        }
      ]
    },
    {
      "cell_type": "code",
      "source": [
        "df_train['diff'] = np.abs(df_train.A0T5G0C5)+np.abs(df_train.A0T0G5C5)+np.abs(df_train.A5T5G0C0)+np.abs(df_train.A5T0G5C0)\n",
        "df_train[['A0T5G0C5','A0T0G5C5','diff','target']].corr()"
      ],
      "metadata": {
        "colab": {
          "base_uri": "https://localhost:8080/",
          "height": 175
        },
        "id": "S5bRZCGW7Ruj",
        "outputId": "9f3a7b91-6037-4449-e214-03d2eb2d2751"
      },
      "execution_count": null,
      "outputs": [
        {
          "output_type": "execute_result",
          "data": {
            "text/html": [
              "\n",
              "  <div id=\"df-240aaec8-66ed-40a8-830b-a9d274b52027\">\n",
              "    <div class=\"colab-df-container\">\n",
              "      <div>\n",
              "<style scoped>\n",
              "    .dataframe tbody tr th:only-of-type {\n",
              "        vertical-align: middle;\n",
              "    }\n",
              "\n",
              "    .dataframe tbody tr th {\n",
              "        vertical-align: top;\n",
              "    }\n",
              "\n",
              "    .dataframe thead th {\n",
              "        text-align: right;\n",
              "    }\n",
              "</style>\n",
              "<table border=\"1\" class=\"dataframe\">\n",
              "  <thead>\n",
              "    <tr style=\"text-align: right;\">\n",
              "      <th></th>\n",
              "      <th>A0T5G0C5</th>\n",
              "      <th>A0T0G5C5</th>\n",
              "      <th>diff</th>\n",
              "      <th>target</th>\n",
              "    </tr>\n",
              "  </thead>\n",
              "  <tbody>\n",
              "    <tr>\n",
              "      <th>A0T5G0C5</th>\n",
              "      <td>1.000000</td>\n",
              "      <td>-0.013324</td>\n",
              "      <td>0.044320</td>\n",
              "      <td>0.015160</td>\n",
              "    </tr>\n",
              "    <tr>\n",
              "      <th>A0T0G5C5</th>\n",
              "      <td>-0.013324</td>\n",
              "      <td>1.000000</td>\n",
              "      <td>0.065175</td>\n",
              "      <td>0.031956</td>\n",
              "    </tr>\n",
              "    <tr>\n",
              "      <th>diff</th>\n",
              "      <td>0.044320</td>\n",
              "      <td>0.065175</td>\n",
              "      <td>1.000000</td>\n",
              "      <td>-0.037834</td>\n",
              "    </tr>\n",
              "    <tr>\n",
              "      <th>target</th>\n",
              "      <td>0.015160</td>\n",
              "      <td>0.031956</td>\n",
              "      <td>-0.037834</td>\n",
              "      <td>1.000000</td>\n",
              "    </tr>\n",
              "  </tbody>\n",
              "</table>\n",
              "</div>\n",
              "      <button class=\"colab-df-convert\" onclick=\"convertToInteractive('df-240aaec8-66ed-40a8-830b-a9d274b52027')\"\n",
              "              title=\"Convert this dataframe to an interactive table.\"\n",
              "              style=\"display:none;\">\n",
              "        \n",
              "  <svg xmlns=\"http://www.w3.org/2000/svg\" height=\"24px\"viewBox=\"0 0 24 24\"\n",
              "       width=\"24px\">\n",
              "    <path d=\"M0 0h24v24H0V0z\" fill=\"none\"/>\n",
              "    <path d=\"M18.56 5.44l.94 2.06.94-2.06 2.06-.94-2.06-.94-.94-2.06-.94 2.06-2.06.94zm-11 1L8.5 8.5l.94-2.06 2.06-.94-2.06-.94L8.5 2.5l-.94 2.06-2.06.94zm10 10l.94 2.06.94-2.06 2.06-.94-2.06-.94-.94-2.06-.94 2.06-2.06.94z\"/><path d=\"M17.41 7.96l-1.37-1.37c-.4-.4-.92-.59-1.43-.59-.52 0-1.04.2-1.43.59L10.3 9.45l-7.72 7.72c-.78.78-.78 2.05 0 2.83L4 21.41c.39.39.9.59 1.41.59.51 0 1.02-.2 1.41-.59l7.78-7.78 2.81-2.81c.8-.78.8-2.07 0-2.86zM5.41 20L4 18.59l7.72-7.72 1.47 1.35L5.41 20z\"/>\n",
              "  </svg>\n",
              "      </button>\n",
              "      \n",
              "  <style>\n",
              "    .colab-df-container {\n",
              "      display:flex;\n",
              "      flex-wrap:wrap;\n",
              "      gap: 12px;\n",
              "    }\n",
              "\n",
              "    .colab-df-convert {\n",
              "      background-color: #E8F0FE;\n",
              "      border: none;\n",
              "      border-radius: 50%;\n",
              "      cursor: pointer;\n",
              "      display: none;\n",
              "      fill: #1967D2;\n",
              "      height: 32px;\n",
              "      padding: 0 0 0 0;\n",
              "      width: 32px;\n",
              "    }\n",
              "\n",
              "    .colab-df-convert:hover {\n",
              "      background-color: #E2EBFA;\n",
              "      box-shadow: 0px 1px 2px rgba(60, 64, 67, 0.3), 0px 1px 3px 1px rgba(60, 64, 67, 0.15);\n",
              "      fill: #174EA6;\n",
              "    }\n",
              "\n",
              "    [theme=dark] .colab-df-convert {\n",
              "      background-color: #3B4455;\n",
              "      fill: #D2E3FC;\n",
              "    }\n",
              "\n",
              "    [theme=dark] .colab-df-convert:hover {\n",
              "      background-color: #434B5C;\n",
              "      box-shadow: 0px 1px 3px 1px rgba(0, 0, 0, 0.15);\n",
              "      filter: drop-shadow(0px 1px 2px rgba(0, 0, 0, 0.3));\n",
              "      fill: #FFFFFF;\n",
              "    }\n",
              "  </style>\n",
              "\n",
              "      <script>\n",
              "        const buttonEl =\n",
              "          document.querySelector('#df-240aaec8-66ed-40a8-830b-a9d274b52027 button.colab-df-convert');\n",
              "        buttonEl.style.display =\n",
              "          google.colab.kernel.accessAllowed ? 'block' : 'none';\n",
              "\n",
              "        async function convertToInteractive(key) {\n",
              "          const element = document.querySelector('#df-240aaec8-66ed-40a8-830b-a9d274b52027');\n",
              "          const dataTable =\n",
              "            await google.colab.kernel.invokeFunction('convertToInteractive',\n",
              "                                                     [key], {});\n",
              "          if (!dataTable) return;\n",
              "\n",
              "          const docLinkHtml = 'Like what you see? Visit the ' +\n",
              "            '<a target=\"_blank\" href=https://colab.research.google.com/notebooks/data_table.ipynb>data table notebook</a>'\n",
              "            + ' to learn more about interactive tables.';\n",
              "          element.innerHTML = '';\n",
              "          dataTable['output_type'] = 'display_data';\n",
              "          await google.colab.output.renderOutput(dataTable, element);\n",
              "          const docLink = document.createElement('div');\n",
              "          docLink.innerHTML = docLinkHtml;\n",
              "          element.appendChild(docLink);\n",
              "        }\n",
              "      </script>\n",
              "    </div>\n",
              "  </div>\n",
              "  "
            ],
            "text/plain": [
              "          A0T5G0C5  A0T0G5C5      diff    target\n",
              "A0T5G0C5  1.000000 -0.013324  0.044320  0.015160\n",
              "A0T0G5C5 -0.013324  1.000000  0.065175  0.031956\n",
              "diff      0.044320  0.065175  1.000000 -0.037834\n",
              "target    0.015160  0.031956 -0.037834  1.000000"
            ]
          },
          "metadata": {},
          "execution_count": 17
        }
      ]
    },
    {
      "cell_type": "code",
      "source": [
        "df_train.target"
      ],
      "metadata": {
        "id": "hhVRI6Yt7ehM"
      },
      "execution_count": null,
      "outputs": []
    },
    {
      "cell_type": "code",
      "source": [
        "df_train.A2T2G3C3.hist()"
      ],
      "metadata": {
        "colab": {
          "base_uri": "https://localhost:8080/",
          "height": 284
        },
        "id": "NnmXD4RI29gV",
        "outputId": "b36b7915-6d9c-4cc6-aeea-867b3a69ff4d"
      },
      "execution_count": null,
      "outputs": [
        {
          "output_type": "execute_result",
          "data": {
            "text/plain": [
              "<matplotlib.axes._subplots.AxesSubplot at 0x7fcab861fad0>"
            ]
          },
          "metadata": {},
          "execution_count": 39
        },
        {
          "output_type": "display_data",
          "data": {
            "image/png": "[encoded data removed]",
            "text/plain": [
              "<Figure size 432x288 with 1 Axes>"
            ]
          },
          "metadata": {
            "needs_background": "light"
          }
        }
      ]
    },
    {
      "cell_type": "code",
      "source": [
        "df_train[(df_train.A2T2G3C3 > -0.0251) & (df_train.A2T2G3C3 <= -0.016)].target.hist()"
      ],
      "metadata": {
        "colab": {
          "base_uri": "https://localhost:8080/",
          "height": 284
        },
        "id": "e7_i_98LIHHH",
        "outputId": "12dd9a1f-41a7-4d0f-861d-7cefa7c09fe9"
      },
      "execution_count": null,
      "outputs": [
        {
          "output_type": "execute_result",
          "data": {
            "text/plain": [
              "<matplotlib.axes._subplots.AxesSubplot at 0x7fcab843d550>"
            ]
          },
          "metadata": {},
          "execution_count": 40
        },
        {
          "output_type": "display_data",
          "data": {
            "image/png": "[encoded data removed]",
            "text/plain": [
              "<Figure size 432x288 with 1 Axes>"
            ]
          },
          "metadata": {
            "needs_background": "light"
          }
        }
      ]
    },
    {
      "cell_type": "code",
      "source": [
        "df_train[(df_train.A2T2G3C3 > 0.04) & (df_train.A2T2G3C3 <= 0.048)].target.hist()"
      ],
      "metadata": {
        "colab": {
          "base_uri": "https://localhost:8080/",
          "height": 284
        },
        "id": "464kN7A4He5g",
        "outputId": "9c46b6bb-59ea-4c57-ac90-9041b4e6a377"
      },
      "execution_count": null,
      "outputs": [
        {
          "output_type": "execute_result",
          "data": {
            "text/plain": [
              "<matplotlib.axes._subplots.AxesSubplot at 0x7fcab8507790>"
            ]
          },
          "metadata": {},
          "execution_count": 41
        },
        {
          "output_type": "display_data",
          "data": {
            "image/png": "[encoded data removed]",
            "text/plain": [
              "<Figure size 432x288 with 1 Axes>"
            ]
          },
          "metadata": {
            "needs_background": "light"
          }
        }
      ]
    },
    {
      "cell_type": "code",
      "source": [
        "df_train.A2T0G4C4.hist()"
      ],
      "metadata": {
        "colab": {
          "base_uri": "https://localhost:8080/",
          "height": 284
        },
        "id": "Yjk0agnMZwKl",
        "outputId": "0d05ebd2-7460-40b4-f592-cc197b621220"
      },
      "execution_count": null,
      "outputs": [
        {
          "output_type": "execute_result",
          "data": {
            "text/plain": [
              "<matplotlib.axes._subplots.AxesSubplot at 0x7fcab83b3990>"
            ]
          },
          "metadata": {},
          "execution_count": 42
        },
        {
          "output_type": "display_data",
          "data": {
            "image/png": "[encoded data removed]",
            "text/plain": [
              "<Figure size 432x288 with 1 Axes>"
            ]
          },
          "metadata": {
            "needs_background": "light"
          }
        }
      ]
    },
    {
      "cell_type": "code",
      "source": [
        "sns.boxplot(df_train.A1T3G3C3)"
      ],
      "metadata": {
        "colab": {
          "base_uri": "https://localhost:8080/",
          "height": 354
        },
        "id": "4pj_cDtgws2M",
        "outputId": "456d6dd8-7258-4c71-e688-89613f8d1355"
      },
      "execution_count": null,
      "outputs": [
        {
          "output_type": "stream",
          "name": "stderr",
          "text": [
            "/usr/local/lib/python3.7/dist-packages/seaborn/_decorators.py:43: FutureWarning: Pass the following variable as a keyword arg: x. From version 0.12, the only valid positional argument will be `data`, and passing other arguments without an explicit keyword will result in an error or misinterpretation.\n",
            "  FutureWarning\n"
          ]
        },
        {
          "output_type": "execute_result",
          "data": {
            "text/plain": [
              "<matplotlib.axes._subplots.AxesSubplot at 0x7fcab8774f90>"
            ]
          },
          "metadata": {},
          "execution_count": 43
        },
        {
          "output_type": "display_data",
          "data": {
            "image/png": "[encoded data removed]",
            "text/plain": [
              "<Figure size 432x288 with 1 Axes>"
            ]
          },
          "metadata": {
            "needs_background": "light"
          }
        }
      ]
    },
    {
      "cell_type": "code",
      "source": [
        "df_train[['A0T0G1C9','target']][df_train.target==4].A0T0G1C9.value_counts(\n",
        "\n",
        ")"
      ],
      "metadata": {
        "colab": {
          "base_uri": "https://localhost:8080/"
        },
        "id": "VilSI9gUcaXv",
        "outputId": "3bbe55fe-8463-41ca-ace7-4afdec499acb"
      },
      "execution_count": null,
      "outputs": [
        {
          "output_type": "execute_result",
          "data": {
            "text/plain": [
              "-7.244732e-18    13210\n",
              " 7.973761e-18     1698\n",
              " 3.797029e-19     1172\n",
              "-6.454950e-18     1113\n",
              "-4.207108e-18      562\n",
              " 1.139109e-18      559\n",
              " 2.627544e-18      547\n",
              "-1.944079e-18      543\n",
              "-4.981702e-18      533\n",
              "Name: A0T0G1C9, dtype: int64"
            ]
          },
          "metadata": {},
          "execution_count": 51
        }
      ]
    },
    {
      "cell_type": "code",
      "source": [
        "plt.scatter(df_train['joker'],df_train['target'])"
      ],
      "metadata": {
        "colab": {
          "base_uri": "https://localhost:8080/",
          "height": 284
        },
        "id": "M93TPzfBIUUf",
        "outputId": "a83ace60-c7bb-42a3-a3ae-42ca4d2846d0"
      },
      "execution_count": null,
      "outputs": [
        {
          "output_type": "execute_result",
          "data": {
            "text/plain": [
              "<matplotlib.collections.PathCollection at 0x7fcab8586410>"
            ]
          },
          "metadata": {},
          "execution_count": 45
        },
        {
          "output_type": "display_data",
          "data": {
            "image/png": "[encoded data removed]",
            "text/plain": [
              "<Figure size 432x288 with 1 Axes>"
            ]
          },
          "metadata": {
            "needs_background": "light"
          }
        }
      ]
    },
    {
      "cell_type": "code",
      "source": [
        "df_train['A9T1G0C0'].value_counts(bins=10)"
      ],
      "metadata": {
        "colab": {
          "base_uri": "https://localhost:8080/"
        },
        "id": "8ZPeI8TNO-ka",
        "outputId": "23d6d9d3-a378-4796-ea1a-0dc7873f974d"
      },
      "execution_count": null,
      "outputs": [
        {
          "output_type": "execute_result",
          "data": {
            "text/plain": [
              "(-0.00100295, 0.000199]    198543\n",
              "(0.000799, 0.000999]          821\n",
              "(0.000199, 0.000399]          630\n",
              "(0.0018, 0.002]                 6\n",
              "(0.000399, 0.000599]            0\n",
              "(0.000599, 0.000799]            0\n",
              "(0.000999, 0.0012]              0\n",
              "(0.0012, 0.0014]                0\n",
              "(0.0014, 0.0016]                0\n",
              "(0.0016, 0.0018]                0\n",
              "Name: A9T1G0C0, dtype: int64"
            ]
          },
          "metadata": {},
          "execution_count": 57
        }
      ]
    },
    {
      "cell_type": "code",
      "source": [
        "plt.scatter(df_train['A0T0G1C9'],df_train['target'])"
      ],
      "metadata": {
        "colab": {
          "base_uri": "https://localhost:8080/",
          "height": 284
        },
        "id": "t89Jz9gpI_yS",
        "outputId": "3fce0ecf-71ad-4c35-94a6-b67e78f78d61"
      },
      "execution_count": null,
      "outputs": [
        {
          "output_type": "execute_result",
          "data": {
            "text/plain": [
              "<matplotlib.collections.PathCollection at 0x7fcab8820b50>"
            ]
          },
          "metadata": {},
          "execution_count": 46
        },
        {
          "output_type": "display_data",
          "data": {
            "image/png": "[encoded data removed]",
            "text/plain": [
              "<Figure size 432x288 with 1 Axes>"
            ]
          },
          "metadata": {
            "needs_background": "light"
          }
        }
      ]
    },
    {
      "cell_type": "code",
      "source": [
        "plt.scatter(df_train['A3T3G2C2'],df_train['target'])"
      ],
      "metadata": {
        "colab": {
          "base_uri": "https://localhost:8080/",
          "height": 296
        },
        "id": "W0sI9xEbJFvt",
        "outputId": "862d7ef5-00f5-4307-8662-69b30b691fda"
      },
      "execution_count": null,
      "outputs": [
        {
          "output_type": "execute_result",
          "data": {
            "text/plain": [
              "<matplotlib.collections.PathCollection at 0x7f075d7b1710>"
            ]
          },
          "metadata": {},
          "execution_count": 42
        },
        {
          "output_type": "display_data",
          "data": {
            "image/png": "[encoded data removed]",
            "text/plain": [
              "<Figure size 432x288 with 1 Axes>"
            ]
          },
          "metadata": {
            "needs_background": "light"
          }
        }
      ]
    },
    {
      "cell_type": "code",
      "source": [
        "df_train.A1T0G3C6.value_counts(ascending=False,bins=5)"
      ],
      "metadata": {
        "colab": {
          "base_uri": "https://localhost:8080/"
        },
        "id": "ONVoxQyFjMYI",
        "outputId": "36d08b87-51f1-407e-9788-c4584c22efd9"
      },
      "execution_count": null,
      "outputs": [
        {
          "output_type": "execute_result",
          "data": {
            "text/plain": [
              "(-0.0018310000000000002, 0.0052]    196553\n",
              "(0.0052, 0.0112]                      3203\n",
              "(0.0172, 0.0232]                       229\n",
              "(0.0232, 0.0292]                         8\n",
              "(0.0112, 0.0172]                         7\n",
              "Name: A1T0G3C6, dtype: int64"
            ]
          },
          "metadata": {},
          "execution_count": 49
        }
      ]
    },
    {
      "cell_type": "code",
      "source": [
        "df_train.A2T2G5C1.value_counts(ascending=False,bins=5)"
      ],
      "metadata": {
        "colab": {
          "base_uri": "https://localhost:8080/"
        },
        "id": "jdtZJQu-kVtp",
        "outputId": "d56b8103-faab-4970-8b98-d44dc2b07c45"
      },
      "execution_count": null,
      "outputs": [
        {
          "output_type": "execute_result",
          "data": {
            "text/plain": [
              "(-1.003, -0.6]    171177\n",
              "(0.6, 1.0]         28823\n",
              "(-0.6, -0.2]           0\n",
              "(-0.2, 0.2]            0\n",
              "(0.2, 0.6]             0\n",
              "Name: A2T2G5C1, dtype: int64"
            ]
          },
          "metadata": {},
          "execution_count": 50
        }
      ]
    },
    {
      "cell_type": "code",
      "source": [
        "groups = df_train.A2T2G5C1.value_counts(ascending=False,bins=2)"
      ],
      "metadata": {
        "id": "vkSX4aMDkb1t"
      },
      "execution_count": null,
      "outputs": []
    },
    {
      "cell_type": "code",
      "source": [
        "groups.index[1].left"
      ],
      "metadata": {
        "colab": {
          "base_uri": "https://localhost:8080/"
        },
        "id": "b5xSGT8qqmts",
        "outputId": "28c2717a-2b53-4311-d9fe-8cdc7b545e61"
      },
      "execution_count": null,
      "outputs": [
        {
          "output_type": "execute_result",
          "data": {
            "text/plain": [
              "0.0188"
            ]
          },
          "metadata": {},
          "execution_count": 125
        }
      ]
    },
    {
      "cell_type": "code",
      "source": [
        "split_num = 1\n",
        "for col in df_train.drop(columns=['row_id','target'],axis=1).columns:\n",
        "    groups = df_train[col].value_counts(ascending=False,bins=split_num+1)\n",
        "    if groups.array[split_num] < 200:\n",
        "        df_train = df_train.drop(df_train[(df_train[col] <= groups.index[split_num].right) & (df_train[col] > groups.index[split_num].left)].index)"
      ],
      "metadata": {
        "id": "Iups2TJwqsxp"
      },
      "execution_count": null,
      "outputs": []
    },
    {
      "cell_type": "code",
      "source": [
        "df_train.info()"
      ],
      "metadata": {
        "colab": {
          "base_uri": "https://localhost:8080/"
        },
        "id": "dzITStfgt70r",
        "outputId": "7cad0e54-e258-48e5-cbdd-e14cc7691b31"
      },
      "execution_count": null,
      "outputs": [
        {
          "output_type": "stream",
          "name": "stdout",
          "text": [
            "<class 'pandas.core.frame.DataFrame'>\n",
            "Int64Index: 192468 entries, 0 to 199999\n",
            "Columns: 328 entries, row_id to C9_sum\n",
            "dtypes: float64(326), int64(2)\n",
            "memory usage: 487.1 MB\n"
          ]
        }
      ]
    },
    {
      "cell_type": "code",
      "source": [
        "# plt.figure(figsize=(12,8))\n",
        "df_train.target.hist(bins=10)"
      ],
      "metadata": {
        "colab": {
          "base_uri": "https://localhost:8080/",
          "height": 283
        },
        "id": "5Y-4QO-0yOjh",
        "outputId": "0d8d6247-9570-4965-dda1-c473b0dc2b45"
      },
      "execution_count": null,
      "outputs": [
        {
          "output_type": "execute_result",
          "data": {
            "text/plain": [
              "<matplotlib.axes._subplots.AxesSubplot at 0x7f60d7b48e50>"
            ]
          },
          "metadata": {},
          "execution_count": 15
        },
        {
          "output_type": "display_data",
          "data": {
            "image/png": "[encoded data removed]",
            "text/plain": [
              "<Figure size 432x288 with 1 Axes>"
            ]
          },
          "metadata": {
            "needs_background": "light"
          }
        }
      ]
    },
    {
      "cell_type": "code",
      "source": [
        "df_train"
      ],
      "metadata": {
        "id": "PUusKHybuRhR"
      },
      "execution_count": null,
      "outputs": []
    },
    {
      "cell_type": "code",
      "source": [
        "tmp.duplicated().unique()"
      ],
      "metadata": {
        "colab": {
          "base_uri": "https://localhost:8080/"
        },
        "id": "03e6r09xinyV",
        "outputId": "acc366e2-1c6a-4b3a-a2f5-122262d922ae"
      },
      "execution_count": null,
      "outputs": [
        {
          "output_type": "execute_result",
          "data": {
            "text/plain": [
              "array([False])"
            ]
          },
          "metadata": {},
          "execution_count": 77
        }
      ]
    },
    {
      "cell_type": "markdown",
      "source": [
        "## Fitting"
      ],
      "metadata": {
        "id": "1CH96XxjzSIm"
      }
    },
    {
      "cell_type": "code",
      "source": [
        "!pip install catboost --quiet"
      ],
      "metadata": {
        "colab": {
          "base_uri": "https://localhost:8080/"
        },
        "id": "ICsnFSbKzUVt",
        "outputId": "cbd7ffb6-cf4b-4cd5-de53-0fd867136fac"
      },
      "execution_count": null,
      "outputs": [
        {
          "output_type": "stream",
          "name": "stdout",
          "text": [
            "\u001b[K     |████████████████████████████████| 76.1 MB 1.2 MB/s \n",
            "\u001b[?25h"
          ]
        }
      ]
    },
    {
      "cell_type": "code",
      "source": [
        "from catboost import CatBoostClassifier\n",
        "from sklearn.linear_model import LogisticRegression"
      ],
      "metadata": {
        "id": "qhgadOW9zX8m"
      },
      "execution_count": null,
      "outputs": []
    },
    {
      "cell_type": "code",
      "source": [
        "from sklearn.model_selection import train_test_split\n",
        "from sklearn.metrics import confusion_matrix, log_loss, plot_confusion_matrix, mean_squared_log_error, accuracy_score"
      ],
      "metadata": {
        "id": "ikh3dKme0XG0"
      },
      "execution_count": null,
      "outputs": []
    },
    {
      "cell_type": "code",
      "source": [
        "from lightgbm import LGBMClassifier\n",
        "from sklearn.ensemble import ExtraTreesClassifier"
      ],
      "metadata": {
        "id": "SmjwxD4j2kFF"
      },
      "execution_count": null,
      "outputs": []
    },
    {
      "cell_type": "code",
      "source": [
        "from sklearn.neighbors import KNeighborsClassifier\n",
        "from sklearn.linear_model import RidgeClassifier"
      ],
      "metadata": {
        "id": "NsLxvNEM4gru"
      },
      "execution_count": null,
      "outputs": []
    },
    {
      "cell_type": "code",
      "source": [
        "le.inverse_transform([4])"
      ],
      "metadata": {
        "colab": {
          "base_uri": "https://localhost:8080/"
        },
        "id": "lmZLincQDT1k",
        "outputId": "55f151c0-379b-48d6-c362-070ed7a009fe"
      },
      "execution_count": null,
      "outputs": [
        {
          "output_type": "execute_result",
          "data": {
            "text/plain": [
              "array(['Escherichia_fergusonii'], dtype=object)"
            ]
          },
          "metadata": {},
          "execution_count": 35
        }
      ]
    },
    {
      "cell_type": "code",
      "source": [
        "# model = CatBoostClassifier(\n",
        "#     random_state = 79637,\n",
        "#     verbose=10\n",
        "# )\n",
        "    \n",
        "model = LGBMClassifier(\n",
        "    random_state = 79637,\n",
        "    verbosity = 10\n",
        "    # path_smooth = 10,\n",
        "    # min_sample_leaf = 2,\n",
        "    # boosting_type = 'gbdt',\n",
        "    # objective = 'multiclass',\n",
        "    # num_class = 10,\n",
        "    # metric = 'multi_logloss',\n",
        "    # learning_rate = 0.002296,\n",
        "    # max_depth = 7,\n",
        "    # num_leaves = 17,\n",
        "    # feature_fraction = 0.4,\n",
        "    # bagging_fraction = 0.6,\n",
        "    # bagging_freq = 17\n",
        "    )"
      ],
      "metadata": {
        "id": "GDqcRDhH0Gyk"
      },
      "execution_count": null,
      "outputs": []
    },
    {
      "cell_type": "code",
      "source": [
        "# X = df_train.drop(columns=del2,axis=1)\n",
        "X = df_train.drop(columns=['target'],axis=1)\n",
        "# X = X.drop(columns=del2,axis=1)\n",
        "y = df_train.target"
      ],
      "metadata": {
        "id": "-mN88AZn0n7-"
      },
      "execution_count": null,
      "outputs": []
    },
    {
      "cell_type": "code",
      "source": [
        "X_train,X_test,y_train,y_test = train_test_split(X,y,test_size=1/3,random_state = 79637)"
      ],
      "metadata": {
        "id": "m2feKkpR0Ont"
      },
      "execution_count": null,
      "outputs": []
    },
    {
      "cell_type": "code",
      "source": [
        "model = ExtraTreesClassifier(\n",
        "    # bootstrap=True,\n",
        "    n_estimators=100,\n",
        "    # min_samples_split=5,\n",
        "    # min_samples_leaf=5,\n",
        "    # min_impurity_decrease=0.0001,\n",
        "    # max_features='sqrt',\n",
        "    # max_depth=30,\n",
        "    # verbose=1,\n",
        "    n_jobs=-1,\n",
        "    random_state=79637\n",
        ")"
      ],
      "metadata": {
        "id": "21MZdBLVPxMb"
      },
      "execution_count": null,
      "outputs": []
    },
    {
      "cell_type": "code",
      "source": [
        "model.fit(X_train,y_train)"
      ],
      "metadata": {
        "colab": {
          "base_uri": "https://localhost:8080/"
        },
        "id": "p9zFRJPj003F",
        "outputId": "28b92efc-4a92-4969-c764-6c8564020314"
      },
      "execution_count": null,
      "outputs": [
        {
          "output_type": "execute_result",
          "data": {
            "text/plain": [
              "ExtraTreesClassifier(n_jobs=-1, random_state=79637)"
            ]
          },
          "metadata": {},
          "execution_count": 118
        }
      ]
    },
    {
      "cell_type": "code",
      "source": [
        "model.get_params()"
      ],
      "metadata": {
        "colab": {
          "base_uri": "https://localhost:8080/"
        },
        "id": "0LWPNtPCPify",
        "outputId": "d4b15bd3-b045-4c58-ca61-7655b663f4fd"
      },
      "execution_count": null,
      "outputs": [
        {
          "output_type": "execute_result",
          "data": {
            "text/plain": [
              "{'bootstrap': False,\n",
              " 'ccp_alpha': 0.0,\n",
              " 'class_weight': None,\n",
              " 'criterion': 'gini',\n",
              " 'max_depth': None,\n",
              " 'max_features': 'auto',\n",
              " 'max_leaf_nodes': None,\n",
              " 'max_samples': None,\n",
              " 'min_impurity_decrease': 0.0,\n",
              " 'min_samples_leaf': 1,\n",
              " 'min_samples_split': 2,\n",
              " 'min_weight_fraction_leaf': 0.0,\n",
              " 'n_estimators': 1000,\n",
              " 'n_jobs': -1,\n",
              " 'oob_score': False,\n",
              " 'random_state': 79637,\n",
              " 'verbose': 0,\n",
              " 'warm_start': False}"
            ]
          },
          "metadata": {},
          "execution_count": 63
        }
      ]
    },
    {
      "cell_type": "code",
      "source": [
        "pred_train = model.predict(X_train)\n",
        "pred_test = model.predict(X_test)"
      ],
      "metadata": {
        "id": "L--peFQE6Jzs"
      },
      "execution_count": null,
      "outputs": []
    },
    {
      "cell_type": "code",
      "source": [
        "print(mean_squared_log_error(y_train,pred_train))\n",
        "print(mean_squared_log_error(y_test,pred_test))"
      ],
      "metadata": {
        "colab": {
          "base_uri": "https://localhost:8080/"
        },
        "id": "jHhFi9wA353J",
        "outputId": "d50e37e1-9fb6-4f7b-b3c4-8f257a09d0f0"
      },
      "execution_count": null,
      "outputs": [
        {
          "output_type": "stream",
          "name": "stdout",
          "text": [
            "0.0\n",
            "0.050247834963169535\n"
          ]
        }
      ]
    },
    {
      "cell_type": "code",
      "source": [
        "print(accuracy_score(y_train,pred_train))\n",
        "print(accuracy_score(y_test,pred_test))"
      ],
      "metadata": {
        "colab": {
          "base_uri": "https://localhost:8080/"
        },
        "id": "5LTfQ6BDANEh",
        "outputId": "fad50258-b383-41f0-8685-e9980c831064"
      },
      "execution_count": null,
      "outputs": [
        {
          "output_type": "stream",
          "name": "stdout",
          "text": [
            "1.0\n",
            "0.9550458493624641\n"
          ]
        }
      ]
    },
    {
      "cell_type": "code",
      "source": [
        "le.transform(pred_train)"
      ],
      "metadata": {
        "colab": {
          "base_uri": "https://localhost:8080/"
        },
        "id": "fX86NL3lbO6B",
        "outputId": "3f55e7cb-d75f-422f-e1d3-7f19b6fd5f05"
      },
      "execution_count": null,
      "outputs": [
        {
          "output_type": "execute_result",
          "data": {
            "text/plain": [
              "array([1, 4, 1, ..., 5, 5, 4])"
            ]
          },
          "metadata": {},
          "execution_count": 29
        }
      ]
    },
    {
      "cell_type": "code",
      "source": [
        "print(con)"
      ],
      "metadata": {
        "colab": {
          "base_uri": "https://localhost:8080/"
        },
        "id": "1-bR4M7k64G8",
        "outputId": "9bbdf3ab-666b-42f2-ec2c-b6856df74ec0"
      },
      "execution_count": null,
      "outputs": [
        {
          "output_type": "stream",
          "name": "stdout",
          "text": [
            "[[10788    61   354   318   334    62   354   270   602   375]\n",
            " [  451 11579   131     0    18     1     0   938    79   151]\n",
            " [  746   488  9821    56    88     6     0   664   515   865]\n",
            " [  156     2    10  9399  1184   544  1840    13    15    23]\n",
            " [  131     0    35  1609  9817   307  1360    10    27    44]\n",
            " [   45     0     1   151   167 12426   455     0    12     3]\n",
            " [   95     6     5   698   383   994 11096     7    13    19]\n",
            " [  424   856    70     4    61     0     0 11666    98   217]\n",
            " [ 1088   207   413    59   129    14    12   616 10042   764]\n",
            " [  795   221   785    46   192     6    19   812   906  9594]]\n"
          ]
        }
      ]
    },
    {
      "cell_type": "code",
      "source": [
        "print(confusion_matrix(y_test,pred_test))"
      ],
      "metadata": {
        "colab": {
          "base_uri": "https://localhost:8080/"
        },
        "id": "PGaM2Ncb3bvZ",
        "outputId": "013071ce-a28c-4970-ecb5-1bdab4543038"
      },
      "execution_count": null,
      "outputs": [
        {
          "output_type": "stream",
          "name": "stdout",
          "text": [
            "[[3961    6   21   23   16    3   10    5   33   30]\n",
            " [   1 4028    9    0    1    0    0   56    4    8]\n",
            " [  15   26 3914    2    4    0    0   56   33   68]\n",
            " [  14    1    4 3906   87   23   66    1    3    2]\n",
            " [  13    2    2  131 3935   22   39    1    1    3]\n",
            " [   5    0    1   24   10 4060   16    0    1    1]\n",
            " [   8    0    1   78   49   75 3912    2    1    3]\n",
            " [   5   70   11    1    1    0    0 4008   10   12]\n",
            " [  66   13   41    6    1    3    1   20 3995   60]\n",
            " [  28   19   69    1    3    0    1   37   94 3919]]\n"
          ]
        }
      ]
    },
    {
      "cell_type": "code",
      "source": [
        "print(confusion_matrix(y_test,pred_test))"
      ],
      "metadata": {
        "colab": {
          "base_uri": "https://localhost:8080/"
        },
        "id": "jFuVQ6z267h6",
        "outputId": "3e02089f-d67f-45ef-8bac-7cca54af48f3"
      },
      "execution_count": null,
      "outputs": [
        {
          "output_type": "stream",
          "name": "stdout",
          "text": [
            "[[6651    1    3   12   16    8    7   10   14   11]\n",
            " [   3 6568   17    0    5    2    0   21    8   12]\n",
            " [  15    9 6519    3    3    2    2   21   18   29]\n",
            " [   4    0    0 6373   85   58  103    5    1    0]\n",
            " [  14    1    1  122 6489   33   41    4    4    2]\n",
            " [   6    0    0    5   10 6436    9    0    0    3]\n",
            " [   9    0    0   78   56   23 6591    1    4    2]\n",
            " [   8   24   13    0    4    0    4 6628   12    5]\n",
            " [  19   10   13    2    9    4    5   14 6542   21]\n",
            " [  16    7   24    7    4    1    4    6   23 6675]]\n"
          ]
        }
      ]
    },
    {
      "cell_type": "code",
      "source": [
        "print(confusion_matrix(y_test,pred_test))"
      ],
      "metadata": {
        "colab": {
          "base_uri": "https://localhost:8080/"
        },
        "id": "vWbOEYYdk177",
        "outputId": "ab669770-7f4c-4a9f-efd8-7ca63806242b"
      },
      "execution_count": null,
      "outputs": [
        {
          "output_type": "stream",
          "name": "stdout",
          "text": [
            "[[4003    8   17   23   12    4    5    5   18   13]\n",
            " [   1 4038    7    1    0    0    0   49    3    8]\n",
            " [   7   17 3945    6    3    0    0   60   26   54]\n",
            " [   5    3    0 3945   73   22   52    2    5    0]\n",
            " [   7    2    3   95 3975   22   40    1    3    1]\n",
            " [   1    0    0   18    5 4080   12    0    1    1]\n",
            " [   3    1    1   57   36   72 3955    1    2    1]\n",
            " [   3   55    4    0    0    0    0 4037   10    9]\n",
            " [  54   13   27    5    6    1    3   21 4024   52]\n",
            " [  19   23   55    2    3    0    0   30   79 3960]]\n"
          ]
        }
      ]
    },
    {
      "cell_type": "code",
      "source": [
        "X.info()"
      ],
      "metadata": {
        "colab": {
          "base_uri": "https://localhost:8080/"
        },
        "id": "4xyzxJDOnYun",
        "outputId": "ea046caf-f550-4ed2-b2bc-f1583aabd32b"
      },
      "execution_count": null,
      "outputs": [
        {
          "output_type": "stream",
          "name": "stdout",
          "text": [
            "<class 'pandas.core.frame.DataFrame'>\n",
            "RangeIndex: 200000 entries, 0 to 199999\n",
            "Columns: 337 entries, row_id to T9_sqrsum\n",
            "dtypes: float64(335), int64(2)\n",
            "memory usage: 514.2 MB\n"
          ]
        }
      ]
    },
    {
      "cell_type": "code",
      "source": [
        "df_test.info()"
      ],
      "metadata": {
        "colab": {
          "base_uri": "https://localhost:8080/"
        },
        "id": "3IORUInEny3L",
        "outputId": "9931f136-48e0-4cd7-8220-1bcd07ea0439"
      },
      "execution_count": null,
      "outputs": [
        {
          "output_type": "stream",
          "name": "stdout",
          "text": [
            "<class 'pandas.core.frame.DataFrame'>\n",
            "RangeIndex: 100000 entries, 0 to 99999\n",
            "Columns: 317 entries, A0T0G0C10 to G9_sqrsum\n",
            "dtypes: float64(317)\n",
            "memory usage: 241.9 MB\n"
          ]
        }
      ]
    },
    {
      "cell_type": "code",
      "source": [
        "df_test.columns"
      ],
      "metadata": {
        "colab": {
          "base_uri": "https://localhost:8080/"
        },
        "id": "Zhy_q5cD6aik",
        "outputId": "ef51bdc3-f32f-4317-fc0e-c978d92e31da"
      },
      "execution_count": null,
      "outputs": [
        {
          "output_type": "execute_result",
          "data": {
            "text/plain": [
              "Index(['row_id', 'A0T0G0C10', 'A0T0G1C9', 'A0T0G2C8', 'A0T0G3C7', 'A0T0G4C6',\n",
              "       'A0T0G5C5', 'A0T0G6C4', 'A0T0G7C3', 'A0T0G8C2',\n",
              "       ...\n",
              "       'G7_sum', 'C7_sum', 'A8_sum', 'T8_sum', 'G8_sum', 'C8_sum', 'A9_sum',\n",
              "       'T9_sum', 'G9_sum', 'C9_sum'],\n",
              "      dtype='object', length=327)"
            ]
          },
          "metadata": {},
          "execution_count": 217
        }
      ]
    },
    {
      "cell_type": "code",
      "source": [
        "pred = model.predict(df_test[X_train.columns])"
      ],
      "metadata": {
        "id": "YjL7h8Wo269u"
      },
      "execution_count": null,
      "outputs": []
    },
    {
      "cell_type": "code",
      "source": [
        "del2.append('row_id')"
      ],
      "metadata": {
        "id": "VxSd0_o-njeI"
      },
      "execution_count": null,
      "outputs": []
    },
    {
      "cell_type": "code",
      "source": [
        "np.ravel(pred)"
      ],
      "metadata": {
        "colab": {
          "base_uri": "https://localhost:8080/"
        },
        "id": "Xr0Ky1pFYjeN",
        "outputId": "79130e7f-b1c2-466e-b897-5a0e058f1e64"
      },
      "execution_count": null,
      "outputs": [
        {
          "output_type": "execute_result",
          "data": {
            "text/plain": [
              "array([4, 6, 2, ..., 8, 0, 9])"
            ]
          },
          "metadata": {},
          "execution_count": 230
        }
      ]
    },
    {
      "cell_type": "code",
      "source": [
        "sub = pd.DataFrame({'row_id':df_test.row_id,\n",
        "                    'target':le.inverse_transform(np.ravel(pred))})"
      ],
      "metadata": {
        "id": "sUZK2IXe3EQM"
      },
      "execution_count": null,
      "outputs": []
    },
    {
      "cell_type": "code",
      "source": [
        "sub = pd.DataFrame({'row_id':df_test_id,\n",
        "                    'target':le.inverse_transform(pred)})"
      ],
      "metadata": {
        "id": "v7a2FgQjars7"
      },
      "execution_count": null,
      "outputs": []
    },
    {
      "cell_type": "code",
      "source": [
        "sub"
      ],
      "metadata": {
        "colab": {
          "base_uri": "https://localhost:8080/",
          "height": 423
        },
        "id": "HRy9tGI67kum",
        "outputId": "a5604207-80ad-46d0-e1a0-27865e04ec59"
      },
      "execution_count": null,
      "outputs": [
        {
          "output_type": "execute_result",
          "data": {
            "text/html": [
              "\n",
              "  <div id=\"df-64726dee-3193-4333-8511-973e09395870\">\n",
              "    <div class=\"colab-df-container\">\n",
              "      <div>\n",
              "<style scoped>\n",
              "    .dataframe tbody tr th:only-of-type {\n",
              "        vertical-align: middle;\n",
              "    }\n",
              "\n",
              "    .dataframe tbody tr th {\n",
              "        vertical-align: top;\n",
              "    }\n",
              "\n",
              "    .dataframe thead th {\n",
              "        text-align: right;\n",
              "    }\n",
              "</style>\n",
              "<table border=\"1\" class=\"dataframe\">\n",
              "  <thead>\n",
              "    <tr style=\"text-align: right;\">\n",
              "      <th></th>\n",
              "      <th>row_id</th>\n",
              "      <th>target</th>\n",
              "    </tr>\n",
              "  </thead>\n",
              "  <tbody>\n",
              "    <tr>\n",
              "      <th>0</th>\n",
              "      <td>200000</td>\n",
              "      <td>Escherichia_fergusonii</td>\n",
              "    </tr>\n",
              "    <tr>\n",
              "      <th>1</th>\n",
              "      <td>200001</td>\n",
              "      <td>Salmonella_enterica</td>\n",
              "    </tr>\n",
              "    <tr>\n",
              "      <th>2</th>\n",
              "      <td>200002</td>\n",
              "      <td>Enterococcus_hirae</td>\n",
              "    </tr>\n",
              "    <tr>\n",
              "      <th>3</th>\n",
              "      <td>200003</td>\n",
              "      <td>Salmonella_enterica</td>\n",
              "    </tr>\n",
              "    <tr>\n",
              "      <th>4</th>\n",
              "      <td>200004</td>\n",
              "      <td>Staphylococcus_aureus</td>\n",
              "    </tr>\n",
              "    <tr>\n",
              "      <th>...</th>\n",
              "      <td>...</td>\n",
              "      <td>...</td>\n",
              "    </tr>\n",
              "    <tr>\n",
              "      <th>99995</th>\n",
              "      <td>299995</td>\n",
              "      <td>Streptococcus_pneumoniae</td>\n",
              "    </tr>\n",
              "    <tr>\n",
              "      <th>99996</th>\n",
              "      <td>299996</td>\n",
              "      <td>Escherichia_fergusonii</td>\n",
              "    </tr>\n",
              "    <tr>\n",
              "      <th>99997</th>\n",
              "      <td>299997</td>\n",
              "      <td>Streptococcus_pyogenes</td>\n",
              "    </tr>\n",
              "    <tr>\n",
              "      <th>99998</th>\n",
              "      <td>299998</td>\n",
              "      <td>Streptococcus_pneumoniae</td>\n",
              "    </tr>\n",
              "    <tr>\n",
              "      <th>99999</th>\n",
              "      <td>299999</td>\n",
              "      <td>Streptococcus_pyogenes</td>\n",
              "    </tr>\n",
              "  </tbody>\n",
              "</table>\n",
              "<p>100000 rows × 2 columns</p>\n",
              "</div>\n",
              "      <button class=\"colab-df-convert\" onclick=\"convertToInteractive('df-64726dee-3193-4333-8511-973e09395870')\"\n",
              "              title=\"Convert this dataframe to an interactive table.\"\n",
              "              style=\"display:none;\">\n",
              "        \n",
              "  <svg xmlns=\"http://www.w3.org/2000/svg\" height=\"24px\"viewBox=\"0 0 24 24\"\n",
              "       width=\"24px\">\n",
              "    <path d=\"M0 0h24v24H0V0z\" fill=\"none\"/>\n",
              "    <path d=\"M18.56 5.44l.94 2.06.94-2.06 2.06-.94-2.06-.94-.94-2.06-.94 2.06-2.06.94zm-11 1L8.5 8.5l.94-2.06 2.06-.94-2.06-.94L8.5 2.5l-.94 2.06-2.06.94zm10 10l.94 2.06.94-2.06 2.06-.94-2.06-.94-.94-2.06-.94 2.06-2.06.94z\"/><path d=\"M17.41 7.96l-1.37-1.37c-.4-.4-.92-.59-1.43-.59-.52 0-1.04.2-1.43.59L10.3 9.45l-7.72 7.72c-.78.78-.78 2.05 0 2.83L4 21.41c.39.39.9.59 1.41.59.51 0 1.02-.2 1.41-.59l7.78-7.78 2.81-2.81c.8-.78.8-2.07 0-2.86zM5.41 20L4 18.59l7.72-7.72 1.47 1.35L5.41 20z\"/>\n",
              "  </svg>\n",
              "      </button>\n",
              "      \n",
              "  <style>\n",
              "    .colab-df-container {\n",
              "      display:flex;\n",
              "      flex-wrap:wrap;\n",
              "      gap: 12px;\n",
              "    }\n",
              "\n",
              "    .colab-df-convert {\n",
              "      background-color: #E8F0FE;\n",
              "      border: none;\n",
              "      border-radius: 50%;\n",
              "      cursor: pointer;\n",
              "      display: none;\n",
              "      fill: #1967D2;\n",
              "      height: 32px;\n",
              "      padding: 0 0 0 0;\n",
              "      width: 32px;\n",
              "    }\n",
              "\n",
              "    .colab-df-convert:hover {\n",
              "      background-color: #E2EBFA;\n",
              "      box-shadow: 0px 1px 2px rgba(60, 64, 67, 0.3), 0px 1px 3px 1px rgba(60, 64, 67, 0.15);\n",
              "      fill: #174EA6;\n",
              "    }\n",
              "\n",
              "    [theme=dark] .colab-df-convert {\n",
              "      background-color: #3B4455;\n",
              "      fill: #D2E3FC;\n",
              "    }\n",
              "\n",
              "    [theme=dark] .colab-df-convert:hover {\n",
              "      background-color: #434B5C;\n",
              "      box-shadow: 0px 1px 3px 1px rgba(0, 0, 0, 0.15);\n",
              "      filter: drop-shadow(0px 1px 2px rgba(0, 0, 0, 0.3));\n",
              "      fill: #FFFFFF;\n",
              "    }\n",
              "  </style>\n",
              "\n",
              "      <script>\n",
              "        const buttonEl =\n",
              "          document.querySelector('#df-64726dee-3193-4333-8511-973e09395870 button.colab-df-convert');\n",
              "        buttonEl.style.display =\n",
              "          google.colab.kernel.accessAllowed ? 'block' : 'none';\n",
              "\n",
              "        async function convertToInteractive(key) {\n",
              "          const element = document.querySelector('#df-64726dee-3193-4333-8511-973e09395870');\n",
              "          const dataTable =\n",
              "            await google.colab.kernel.invokeFunction('convertToInteractive',\n",
              "                                                     [key], {});\n",
              "          if (!dataTable) return;\n",
              "\n",
              "          const docLinkHtml = 'Like what you see? Visit the ' +\n",
              "            '<a target=\"_blank\" href=https://colab.research.google.com/notebooks/data_table.ipynb>data table notebook</a>'\n",
              "            + ' to learn more about interactive tables.';\n",
              "          element.innerHTML = '';\n",
              "          dataTable['output_type'] = 'display_data';\n",
              "          await google.colab.output.renderOutput(dataTable, element);\n",
              "          const docLink = document.createElement('div');\n",
              "          docLink.innerHTML = docLinkHtml;\n",
              "          element.appendChild(docLink);\n",
              "        }\n",
              "      </script>\n",
              "    </div>\n",
              "  </div>\n",
              "  "
            ],
            "text/plain": [
              "       row_id                    target\n",
              "0      200000    Escherichia_fergusonii\n",
              "1      200001       Salmonella_enterica\n",
              "2      200002        Enterococcus_hirae\n",
              "3      200003       Salmonella_enterica\n",
              "4      200004     Staphylococcus_aureus\n",
              "...       ...                       ...\n",
              "99995  299995  Streptococcus_pneumoniae\n",
              "99996  299996    Escherichia_fergusonii\n",
              "99997  299997    Streptococcus_pyogenes\n",
              "99998  299998  Streptococcus_pneumoniae\n",
              "99999  299999    Streptococcus_pyogenes\n",
              "\n",
              "[100000 rows x 2 columns]"
            ]
          },
          "metadata": {},
          "execution_count": 124
        }
      ]
    },
    {
      "cell_type": "code",
      "source": [
        "sub.to_csv(\"extr_09_02-2.csv\",index=False)"
      ],
      "metadata": {
        "id": "ElxaVW_l7muo"
      },
      "execution_count": null,
      "outputs": []
    },
    {
      "cell_type": "code",
      "source": [
        "sub.target.hist()"
      ],
      "metadata": {
        "colab": {
          "base_uri": "https://localhost:8080/",
          "height": 288
        },
        "id": "bEwq_e3VazvI",
        "outputId": "e70826b3-55b2-437e-80e9-d5ebb93d31eb"
      },
      "execution_count": null,
      "outputs": [
        {
          "output_type": "execute_result",
          "data": {
            "text/plain": [
              "<matplotlib.axes._subplots.AxesSubplot at 0x7fd6c5d24350>"
            ]
          },
          "metadata": {},
          "execution_count": 250
        },
        {
          "output_type": "display_data",
          "data": {
            "image/png": "[encoded data removed]",
            "text/plain": [
              "<Figure size 432x288 with 1 Axes>"
            ]
          },
          "metadata": {
            "needs_background": "light"
          }
        }
      ]
    },
    {
      "cell_type": "code",
      "source": [
        "sub.target.hist()"
      ],
      "metadata": {
        "colab": {
          "base_uri": "https://localhost:8080/",
          "height": 283
        },
        "id": "6aOU6U8Qktn9",
        "outputId": "0b2364e7-0def-4b5d-dbac-f9ac8c680614"
      },
      "execution_count": null,
      "outputs": [
        {
          "output_type": "execute_result",
          "data": {
            "text/plain": [
              "<matplotlib.axes._subplots.AxesSubplot at 0x7f98091153d0>"
            ]
          },
          "metadata": {},
          "execution_count": 125
        },
        {
          "output_type": "display_data",
          "data": {
            "image/png": "[encoded data removed]",
            "text/plain": [
              "<Figure size 432x288 with 1 Axes>"
            ]
          },
          "metadata": {
            "needs_background": "light"
          }
        }
      ]
    },
    {
      "cell_type": "code",
      "source": [
        "df_train.A3_min_max"
      ],
      "metadata": {
        "colab": {
          "base_uri": "https://localhost:8080/"
        },
        "id": "haa9iZJ05vrH",
        "outputId": "8c602414-4819-46ea-b913-e248fc8afa8e"
      },
      "execution_count": null,
      "outputs": [
        {
          "output_type": "execute_result",
          "data": {
            "text/plain": [
              "0        -0.127256\n",
              "1        -0.123288\n",
              "2        -0.157034\n",
              "3        -0.169149\n",
              "4        -0.081850\n",
              "            ...   \n",
              "199995   -0.170892\n",
              "199996   -0.136104\n",
              "199997   -0.131469\n",
              "199998   -0.098778\n",
              "199999   -0.176248\n",
              "Name: A3_min_max, Length: 200000, dtype: float64"
            ]
          },
          "metadata": {},
          "execution_count": 56
        }
      ]
    },
    {
      "cell_type": "code",
      "source": [
        "imp = pd.DataFrame({'imp':model.feature_importances_,\n",
        "              'col':X.columns}).sort_values(by=\"imp\",ascending=True)"
      ],
      "metadata": {
        "id": "XjeFsD6kbSaF"
      },
      "execution_count": null,
      "outputs": []
    },
    {
      "cell_type": "code",
      "source": [
        "imp.head(20)"
      ],
      "metadata": {
        "colab": {
          "base_uri": "https://localhost:8080/",
          "height": 676
        },
        "id": "lamsKy1D6Yh0",
        "outputId": "c5a57b61-ff1d-44e1-ff5e-65261d1dae1e"
      },
      "execution_count": null,
      "outputs": [
        {
          "output_type": "execute_result",
          "data": {
            "text/html": [
              "\n",
              "  <div id=\"df-bc378e6a-1586-4102-82d2-bee32d733017\">\n",
              "    <div class=\"colab-df-container\">\n",
              "      <div>\n",
              "<style scoped>\n",
              "    .dataframe tbody tr th:only-of-type {\n",
              "        vertical-align: middle;\n",
              "    }\n",
              "\n",
              "    .dataframe tbody tr th {\n",
              "        vertical-align: top;\n",
              "    }\n",
              "\n",
              "    .dataframe thead th {\n",
              "        text-align: right;\n",
              "    }\n",
              "</style>\n",
              "<table border=\"1\" class=\"dataframe\">\n",
              "  <thead>\n",
              "    <tr style=\"text-align: right;\">\n",
              "      <th></th>\n",
              "      <th>imp</th>\n",
              "      <th>col</th>\n",
              "    </tr>\n",
              "  </thead>\n",
              "  <tbody>\n",
              "    <tr>\n",
              "      <th>121</th>\n",
              "      <td>0.000121</td>\n",
              "      <td>A2T0G0C8</td>\n",
              "    </tr>\n",
              "    <tr>\n",
              "      <th>29</th>\n",
              "      <td>0.000124</td>\n",
              "      <td>A0T2G8C0</td>\n",
              "    </tr>\n",
              "    <tr>\n",
              "      <th>173</th>\n",
              "      <td>0.000150</td>\n",
              "      <td>A3T0G7C0</td>\n",
              "    </tr>\n",
              "    <tr>\n",
              "      <th>9</th>\n",
              "      <td>0.000156</td>\n",
              "      <td>A0T0G9C1</td>\n",
              "    </tr>\n",
              "    <tr>\n",
              "      <th>66</th>\n",
              "      <td>0.000160</td>\n",
              "      <td>A1T0G0C9</td>\n",
              "    </tr>\n",
              "    <tr>\n",
              "      <th>539</th>\n",
              "      <td>0.000169</td>\n",
              "      <td>T3C7_sum</td>\n",
              "    </tr>\n",
              "    <tr>\n",
              "      <th>402</th>\n",
              "      <td>0.000178</td>\n",
              "      <td>G9_abssum</td>\n",
              "    </tr>\n",
              "    <tr>\n",
              "      <th>21</th>\n",
              "      <td>0.000186</td>\n",
              "      <td>A0T2G0C8</td>\n",
              "    </tr>\n",
              "    <tr>\n",
              "      <th>28</th>\n",
              "      <td>0.000187</td>\n",
              "      <td>A0T2G7C1</td>\n",
              "    </tr>\n",
              "    <tr>\n",
              "      <th>482</th>\n",
              "      <td>0.000193</td>\n",
              "      <td>A3G7_sum</td>\n",
              "    </tr>\n",
              "    <tr>\n",
              "      <th>202</th>\n",
              "      <td>0.000194</td>\n",
              "      <td>A4T0G0C6</td>\n",
              "    </tr>\n",
              "    <tr>\n",
              "      <th>30</th>\n",
              "      <td>0.000195</td>\n",
              "      <td>A0T3G0C7</td>\n",
              "    </tr>\n",
              "    <tr>\n",
              "      <th>166</th>\n",
              "      <td>0.000200</td>\n",
              "      <td>A3T0G0C7</td>\n",
              "    </tr>\n",
              "    <tr>\n",
              "      <th>440</th>\n",
              "      <td>0.000206</td>\n",
              "      <td>G8_min_max</td>\n",
              "    </tr>\n",
              "    <tr>\n",
              "      <th>400</th>\n",
              "      <td>0.000213</td>\n",
              "      <td>G9_max</td>\n",
              "    </tr>\n",
              "    <tr>\n",
              "      <th>276</th>\n",
              "      <td>0.000215</td>\n",
              "      <td>A8T0G0C2</td>\n",
              "    </tr>\n",
              "    <tr>\n",
              "      <th>2</th>\n",
              "      <td>0.000218</td>\n",
              "      <td>A0T0G2C8</td>\n",
              "    </tr>\n",
              "    <tr>\n",
              "      <th>285</th>\n",
              "      <td>0.000220</td>\n",
              "      <td>A10T0G0C0</td>\n",
              "    </tr>\n",
              "    <tr>\n",
              "      <th>74</th>\n",
              "      <td>0.000231</td>\n",
              "      <td>A1T0G8C1</td>\n",
              "    </tr>\n",
              "    <tr>\n",
              "      <th>531</th>\n",
              "      <td>0.000241</td>\n",
              "      <td>T2C7_sum</td>\n",
              "    </tr>\n",
              "  </tbody>\n",
              "</table>\n",
              "</div>\n",
              "      <button class=\"colab-df-convert\" onclick=\"convertToInteractive('df-bc378e6a-1586-4102-82d2-bee32d733017')\"\n",
              "              title=\"Convert this dataframe to an interactive table.\"\n",
              "              style=\"display:none;\">\n",
              "        \n",
              "  <svg xmlns=\"http://www.w3.org/2000/svg\" height=\"24px\"viewBox=\"0 0 24 24\"\n",
              "       width=\"24px\">\n",
              "    <path d=\"M0 0h24v24H0V0z\" fill=\"none\"/>\n",
              "    <path d=\"M18.56 5.44l.94 2.06.94-2.06 2.06-.94-2.06-.94-.94-2.06-.94 2.06-2.06.94zm-11 1L8.5 8.5l.94-2.06 2.06-.94-2.06-.94L8.5 2.5l-.94 2.06-2.06.94zm10 10l.94 2.06.94-2.06 2.06-.94-2.06-.94-.94-2.06-.94 2.06-2.06.94z\"/><path d=\"M17.41 7.96l-1.37-1.37c-.4-.4-.92-.59-1.43-.59-.52 0-1.04.2-1.43.59L10.3 9.45l-7.72 7.72c-.78.78-.78 2.05 0 2.83L4 21.41c.39.39.9.59 1.41.59.51 0 1.02-.2 1.41-.59l7.78-7.78 2.81-2.81c.8-.78.8-2.07 0-2.86zM5.41 20L4 18.59l7.72-7.72 1.47 1.35L5.41 20z\"/>\n",
              "  </svg>\n",
              "      </button>\n",
              "      \n",
              "  <style>\n",
              "    .colab-df-container {\n",
              "      display:flex;\n",
              "      flex-wrap:wrap;\n",
              "      gap: 12px;\n",
              "    }\n",
              "\n",
              "    .colab-df-convert {\n",
              "      background-color: #E8F0FE;\n",
              "      border: none;\n",
              "      border-radius: 50%;\n",
              "      cursor: pointer;\n",
              "      display: none;\n",
              "      fill: #1967D2;\n",
              "      height: 32px;\n",
              "      padding: 0 0 0 0;\n",
              "      width: 32px;\n",
              "    }\n",
              "\n",
              "    .colab-df-convert:hover {\n",
              "      background-color: #E2EBFA;\n",
              "      box-shadow: 0px 1px 2px rgba(60, 64, 67, 0.3), 0px 1px 3px 1px rgba(60, 64, 67, 0.15);\n",
              "      fill: #174EA6;\n",
              "    }\n",
              "\n",
              "    [theme=dark] .colab-df-convert {\n",
              "      background-color: #3B4455;\n",
              "      fill: #D2E3FC;\n",
              "    }\n",
              "\n",
              "    [theme=dark] .colab-df-convert:hover {\n",
              "      background-color: #434B5C;\n",
              "      box-shadow: 0px 1px 3px 1px rgba(0, 0, 0, 0.15);\n",
              "      filter: drop-shadow(0px 1px 2px rgba(0, 0, 0, 0.3));\n",
              "      fill: #FFFFFF;\n",
              "    }\n",
              "  </style>\n",
              "\n",
              "      <script>\n",
              "        const buttonEl =\n",
              "          document.querySelector('#df-bc378e6a-1586-4102-82d2-bee32d733017 button.colab-df-convert');\n",
              "        buttonEl.style.display =\n",
              "          google.colab.kernel.accessAllowed ? 'block' : 'none';\n",
              "\n",
              "        async function convertToInteractive(key) {\n",
              "          const element = document.querySelector('#df-bc378e6a-1586-4102-82d2-bee32d733017');\n",
              "          const dataTable =\n",
              "            await google.colab.kernel.invokeFunction('convertToInteractive',\n",
              "                                                     [key], {});\n",
              "          if (!dataTable) return;\n",
              "\n",
              "          const docLinkHtml = 'Like what you see? Visit the ' +\n",
              "            '<a target=\"_blank\" href=https://colab.research.google.com/notebooks/data_table.ipynb>data table notebook</a>'\n",
              "            + ' to learn more about interactive tables.';\n",
              "          element.innerHTML = '';\n",
              "          dataTable['output_type'] = 'display_data';\n",
              "          await google.colab.output.renderOutput(dataTable, element);\n",
              "          const docLink = document.createElement('div');\n",
              "          docLink.innerHTML = docLinkHtml;\n",
              "          element.appendChild(docLink);\n",
              "        }\n",
              "      </script>\n",
              "    </div>\n",
              "  </div>\n",
              "  "
            ],
            "text/plain": [
              "          imp         col\n",
              "121  0.000121    A2T0G0C8\n",
              "29   0.000124    A0T2G8C0\n",
              "173  0.000150    A3T0G7C0\n",
              "9    0.000156    A0T0G9C1\n",
              "66   0.000160    A1T0G0C9\n",
              "539  0.000169    T3C7_sum\n",
              "402  0.000178   G9_abssum\n",
              "21   0.000186    A0T2G0C8\n",
              "28   0.000187    A0T2G7C1\n",
              "482  0.000193    A3G7_sum\n",
              "202  0.000194    A4T0G0C6\n",
              "30   0.000195    A0T3G0C7\n",
              "166  0.000200    A3T0G0C7\n",
              "440  0.000206  G8_min_max\n",
              "400  0.000213      G9_max\n",
              "276  0.000215    A8T0G0C2\n",
              "2    0.000218    A0T0G2C8\n",
              "285  0.000220   A10T0G0C0\n",
              "74   0.000231    A1T0G8C1\n",
              "531  0.000241    T2C7_sum"
            ]
          },
          "metadata": {},
          "execution_count": 40
        }
      ]
    },
    {
      "cell_type": "code",
      "source": [
        "X_train.A3T3G2C2sign"
      ],
      "metadata": {
        "colab": {
          "base_uri": "https://localhost:8080/"
        },
        "id": "S8uEbbiWRxTU",
        "outputId": "963cbeca-9f35-4630-d43f-748f74eca61b"
      },
      "execution_count": null,
      "outputs": [
        {
          "output_type": "execute_result",
          "data": {
            "text/plain": [
              "167888    1.0\n",
              "129655   -1.0\n",
              "49620    -1.0\n",
              "15436     1.0\n",
              "96282     1.0\n",
              "         ... \n",
              "101536   -1.0\n",
              "21098    -1.0\n",
              "107128   -1.0\n",
              "76196     1.0\n",
              "177609   -1.0\n",
              "Name: A3T3G2C2sign, Length: 133333, dtype: float64"
            ]
          },
          "metadata": {},
          "execution_count": 91
        }
      ]
    },
    {
      "cell_type": "code",
      "source": [
        "top_feat = list(imp[imp.imp > 0].col)"
      ],
      "metadata": {
        "id": "5AuxahkOES9i"
      },
      "execution_count": null,
      "outputs": []
    },
    {
      "cell_type": "code",
      "source": [
        "imp.A3"
      ],
      "metadata": {
        "id": "Ubb385mF5kfv"
      },
      "execution_count": null,
      "outputs": []
    },
    {
      "cell_type": "code",
      "source": [
        "top_feat = list(imp[imp.imp >= 20].col)"
      ],
      "metadata": {
        "id": "0fJv7sB-chYP"
      },
      "execution_count": null,
      "outputs": []
    },
    {
      "cell_type": "code",
      "source": [
        "np.abs(X_train.A0T0G2C8)"
      ],
      "metadata": {
        "colab": {
          "base_uri": "https://localhost:8080/"
        },
        "id": "rxx3JFyO_MqV",
        "outputId": "7dbef92c-2bed-4026-b508-26c9ba897824"
      },
      "execution_count": null,
      "outputs": [
        {
          "output_type": "execute_result",
          "data": {
            "text/plain": [
              "43163     0.000043\n",
              "147436    0.000043\n",
              "7630      0.000043\n",
              "81264     0.000043\n",
              "112320    0.000001\n",
              "            ...   \n",
              "133362    0.000043\n",
              "155387    0.000043\n",
              "104003    0.000043\n",
              "189668    0.000043\n",
              "5409      0.000043\n",
              "Name: A0T0G2C8, Length: 133333, dtype: float64"
            ]
          },
          "metadata": {},
          "execution_count": 86
        }
      ]
    },
    {
      "cell_type": "markdown",
      "source": [
        "## blending"
      ],
      "metadata": {
        "id": "SwK5KektAPF8"
      }
    },
    {
      "cell_type": "code",
      "source": [
        "sub6 = pd.read_csv(\"/content/baseline_06_02-6.csv\")\n",
        "sub7 = pd.read_csv(\"/content/baseline_06_02-7.csv\")\n",
        "sub8 = pd.read_csv(\"/content/baseline_06_02-8.csv\")"
      ],
      "metadata": {
        "id": "tr9qVgYoAQ0H"
      },
      "execution_count": null,
      "outputs": []
    },
    {
      "cell_type": "code",
      "source": [
        "sub_blend = pd.DataFrame({'row_id':sub6.row_id,\n",
        "                          'sub6':sub6.target,\n",
        "                          'sub7':sub7.target,\n",
        "                          'sub8':sub8.target})"
      ],
      "metadata": {
        "id": "zamRYjqaAZJD"
      },
      "execution_count": null,
      "outputs": []
    },
    {
      "cell_type": "code",
      "source": [
        "sub_blend.sub6 = le.fit_transform(sub_blend.sub6)\n",
        "sub_blend.sub7 = le.transform(sub_blend.sub7)\n",
        "sub_blend.sub8 = le.transform(sub_blend.sub8)"
      ],
      "metadata": {
        "id": "uL3ZZHLpA61r"
      },
      "execution_count": null,
      "outputs": []
    },
    {
      "cell_type": "code",
      "source": [
        "sub_blend['target'] = sub_blend[['sub6','sub7','sub8']].median(axis=1).astype(int)"
      ],
      "metadata": {
        "id": "2Tirj2J5AtTI"
      },
      "execution_count": null,
      "outputs": []
    },
    {
      "cell_type": "code",
      "source": [
        "sub_blend.target = le.inverse_transform(sub_blend.target)"
      ],
      "metadata": {
        "id": "vRulZ56tA3_P"
      },
      "execution_count": null,
      "outputs": []
    },
    {
      "cell_type": "markdown",
      "source": [
        "## optuna"
      ],
      "metadata": {
        "id": "WX85Ym1vCdbF"
      }
    },
    {
      "cell_type": "code",
      "source": [
        "!pip install optuna --quiet"
      ],
      "metadata": {
        "id": "ExJmFjUVCQWT",
        "colab": {
          "base_uri": "https://localhost:8080/"
        },
        "outputId": "59dd8727-ba2f-4def-eb41-8e2947b633a9"
      },
      "execution_count": null,
      "outputs": [
        {
          "output_type": "stream",
          "name": "stdout",
          "text": [
            "\u001b[K     |████████████████████████████████| 308 kB 4.1 MB/s \n",
            "\u001b[K     |████████████████████████████████| 80 kB 8.4 MB/s \n",
            "\u001b[K     |████████████████████████████████| 210 kB 51.7 MB/s \n",
            "\u001b[K     |████████████████████████████████| 75 kB 4.3 MB/s \n",
            "\u001b[K     |████████████████████████████████| 149 kB 48.5 MB/s \n",
            "\u001b[K     |████████████████████████████████| 49 kB 5.5 MB/s \n",
            "\u001b[K     |████████████████████████████████| 113 kB 47.6 MB/s \n",
            "\u001b[?25h  Building wheel for pyperclip (setup.py) ... \u001b[?25l\u001b[?25hdone\n"
          ]
        }
      ]
    },
    {
      "cell_type": "code",
      "source": [
        "import optuna\n",
        "from sklearn.model_selection import cross_validate\n",
        "import xgboost as xgb\n",
        "from xgboost import XGBClassifier"
      ],
      "metadata": {
        "id": "7lrj1-H3CfbM"
      },
      "execution_count": null,
      "outputs": []
    },
    {
      "cell_type": "code",
      "source": [
        "def objective(trial,X,y):\n",
        "    \n",
        "    X_train, X_test, y_train, y_test = train_test_split(X, y, test_size = 1/3, random_state = 79637)\n",
        "    # ниже определяются области определения гиперпараметров\n",
        "    # подробнее тут (https://optuna.readthedocs.io/en/stable/reference/generated/optuna.trial.Trial.html?highlight=suggest#optuna.trial.Trial.suggest_int)\n",
        "    param = {\n",
        "            \"n_estimators\" : trial.suggest_int('n_estimators', 400, 1000),\n",
        "            'max_depth':trial.suggest_int('max_depth', 4, 8),\n",
        "            'reg_alpha':trial.suggest_loguniform('reg_alpha', 0.01, 10),\n",
        "            'reg_lambda':trial.suggest_loguniform('reg_lambda', 0.01, 10),\n",
        "            'min_child_weight':trial.suggest_loguniform('min_child_weight', 0.01, 10),\n",
        "            'gamma':trial.suggest_loguniform('gamma', 0.01, 15),\n",
        "            'lambda':trial.suggest_loguniform('lambda', 0.01, 15),\n",
        "            'eta':trial.suggest_loguniform('eta', 0.005, 0.03),\n",
        "            'learning_rate':trial.suggest_loguniform('learning_rate', 0.01, 0.3),\n",
        "            'colsample_bytree':trial.suggest_discrete_uniform('colsample_bytree',0.5, 1, 0.01),\n",
        "            'nthread' : -1,\n",
        "            'eval_metric': 'mlogloss',\n",
        "            'objective': 'multi:softmax',\n",
        "            'tree_method': 'gpu_hist',\n",
        "            'num_class': 10\n",
        "            }\n",
        "    model = XGBClassifier()\n",
        "    model.set_params(**param, use_label_encoder=False)\n",
        "\n",
        "    model.fit(X_train, y_train, early_stopping_rounds=5, \n",
        "             eval_set=[(X_test, y_test)], verbose=2)\n",
        "    y_preds = model.predict(X_test)\n",
        "    return accuracy_score(y_test, y_preds)"
      ],
      "metadata": {
        "id": "m9HyO-oBCMDg"
      },
      "execution_count": null,
      "outputs": []
    },
    {
      "cell_type": "code",
      "source": [
        "# X = df_train.drop(columns=del2,axis=1)\n",
        "X = df_train.drop(columns=['target'],axis=1)\n",
        "# X = X.drop(columns=del2,axis=1)\n",
        "y = df_train.target\n",
        "X_train,X_test,y_train,y_test = train_test_split(X,y,test_size=1/3,random_state = 79637)"
      ],
      "metadata": {
        "id": "v52YF-ORsNgO"
      },
      "execution_count": null,
      "outputs": []
    },
    {
      "cell_type": "code",
      "source": [
        "# best_params = []\n",
        "\n",
        "# study = optuna.create_study(direction='maximize')\n",
        "# study.optimize(lambda trial : objective(trial, X, y), n_trials = 5)\n",
        "# best_params.append(study.best_params)"
      ],
      "metadata": {
        "id": "vAyW3onKCODs"
      },
      "execution_count": null,
      "outputs": []
    },
    {
      "cell_type": "code",
      "source": [
        "[{'colsample_bytree': 0.96,\n",
        "  'eta': 0.02036739423647548,\n",
        "  'gamma': 6.4299697918643774,\n",
        "  'lambda': 0.05306946601563731,\n",
        "  'learning_rate': 0.07300707703275978,\n",
        "  'max_depth': 7,\n",
        "  'min_child_weight': 0.03950816276739015,\n",
        "  'n_estimators': 524,\n",
        "  'reg_alpha': 2.019547189048248,\n",
        "  'reg_lambda': 1.5956101512183365}]"
      ],
      "metadata": {
        "id": "XkJV2A6-iW36"
      },
      "execution_count": null,
      "outputs": []
    },
    {
      "cell_type": "code",
      "source": [
        "model = XGBClassifier(\n",
        "    colsample_bytree = 0.96,\n",
        "    eta = 0.02036739423647548,\n",
        "    gamma = 6.4299697918643774,\n",
        "    # lambda = 0.05306946601563731,\n",
        "    learning_rate = 0.07300707703275978,\n",
        "    max_depth = 7,\n",
        "    min_child_weight = 0.03950816276739015,\n",
        "    n_estimators = 524,\n",
        "    reg_alpha = 2.019547189048248,\n",
        "    reg_lambda = 1.5956101512183365,\n",
        "    tree_method = 'gpu_hist'\n",
        ")"
      ],
      "metadata": {
        "id": "kpPldZ0WiYiA"
      },
      "execution_count": null,
      "outputs": []
    },
    {
      "cell_type": "code",
      "source": [
        "dtrain = xgb.DMatrix(X_train, label=y_train)\n",
        "dtest = xgb.DMatrix(X_test, label=y_test)"
      ],
      "metadata": {
        "id": "FrjTnpSorio6"
      },
      "execution_count": null,
      "outputs": []
    },
    {
      "cell_type": "code",
      "source": [
        "param = {'colsample_bytree': 0.67,\n",
        "  'eta': 0.02091410171529332,\n",
        "  'gamma': 0.6850100958702302,\n",
        "  'lambda': 0.05306946601563731,\n",
        "  'learning_rate': 0.11255201293093048,\n",
        "  'max_depth': 6,\n",
        "  'min_child_weight': 0.7837016377461853,\n",
        "  'n_estimators': 715,\n",
        "  \n",
        "  'reg_alpha': 0.0159942164295646,\n",
        "  'reg_lambda': 0.045197677902998314}"
      ],
      "metadata": {
        "id": "Enob1Iw5rpKO"
      },
      "execution_count": null,
      "outputs": []
    },
    {
      "cell_type": "code",
      "source": [
        "model.fit(X_train,y_train, verbose=1)"
      ],
      "metadata": {
        "id": "HUJk_AFkrs-b"
      },
      "execution_count": null,
      "outputs": []
    },
    {
      "cell_type": "code",
      "source": [
        "imp = pd.DataFrame({'imp':model.feature_importances_,\n",
        "              'col':X.columns}).sort_values(by=\"imp\",ascending=True)"
      ],
      "metadata": {
        "id": "w6F5cH7c1wKs"
      },
      "execution_count": null,
      "outputs": []
    },
    {
      "cell_type": "code",
      "source": [
        "imp"
      ],
      "metadata": {
        "colab": {
          "base_uri": "https://localhost:8080/",
          "height": 423
        },
        "id": "J0Z8wgzsCu2A",
        "outputId": "751db91f-d7a0-4f62-a257-fbb0180467fe"
      },
      "execution_count": null,
      "outputs": [
        {
          "output_type": "execute_result",
          "data": {
            "text/html": [
              "\n",
              "  <div id=\"df-6e97f5e7-7c09-45cd-92ae-3d130158ceef\">\n",
              "    <div class=\"colab-df-container\">\n",
              "      <div>\n",
              "<style scoped>\n",
              "    .dataframe tbody tr th:only-of-type {\n",
              "        vertical-align: middle;\n",
              "    }\n",
              "\n",
              "    .dataframe tbody tr th {\n",
              "        vertical-align: top;\n",
              "    }\n",
              "\n",
              "    .dataframe thead th {\n",
              "        text-align: right;\n",
              "    }\n",
              "</style>\n",
              "<table border=\"1\" class=\"dataframe\">\n",
              "  <thead>\n",
              "    <tr style=\"text-align: right;\">\n",
              "      <th></th>\n",
              "      <th>imp</th>\n",
              "      <th>col</th>\n",
              "    </tr>\n",
              "  </thead>\n",
              "  <tbody>\n",
              "    <tr>\n",
              "      <th>20</th>\n",
              "      <td>0.000000</td>\n",
              "      <td>A0T1G9C0</td>\n",
              "    </tr>\n",
              "    <tr>\n",
              "      <th>75</th>\n",
              "      <td>0.000000</td>\n",
              "      <td>A1T0G9C0</td>\n",
              "    </tr>\n",
              "    <tr>\n",
              "      <th>395</th>\n",
              "      <td>0.000000</td>\n",
              "      <td>A9_min</td>\n",
              "    </tr>\n",
              "    <tr>\n",
              "      <th>455</th>\n",
              "      <td>0.000056</td>\n",
              "      <td>A0G9_sum</td>\n",
              "    </tr>\n",
              "    <tr>\n",
              "      <th>250</th>\n",
              "      <td>0.000114</td>\n",
              "      <td>A5T5G0C0</td>\n",
              "    </tr>\n",
              "    <tr>\n",
              "      <th>...</th>\n",
              "      <td>...</td>\n",
              "      <td>...</td>\n",
              "    </tr>\n",
              "    <tr>\n",
              "      <th>548</th>\n",
              "      <td>0.022226</td>\n",
              "      <td>T4C5_sum</td>\n",
              "    </tr>\n",
              "    <tr>\n",
              "      <th>572</th>\n",
              "      <td>0.022291</td>\n",
              "      <td>T9C1_sum</td>\n",
              "    </tr>\n",
              "    <tr>\n",
              "      <th>350</th>\n",
              "      <td>0.026169</td>\n",
              "      <td>T5_min</td>\n",
              "    </tr>\n",
              "    <tr>\n",
              "      <th>65</th>\n",
              "      <td>0.040804</td>\n",
              "      <td>A0T10G0C0</td>\n",
              "    </tr>\n",
              "    <tr>\n",
              "      <th>359</th>\n",
              "      <td>0.051125</td>\n",
              "      <td>A6_min</td>\n",
              "    </tr>\n",
              "  </tbody>\n",
              "</table>\n",
              "<p>575 rows × 2 columns</p>\n",
              "</div>\n",
              "      <button class=\"colab-df-convert\" onclick=\"convertToInteractive('df-6e97f5e7-7c09-45cd-92ae-3d130158ceef')\"\n",
              "              title=\"Convert this dataframe to an interactive table.\"\n",
              "              style=\"display:none;\">\n",
              "        \n",
              "  <svg xmlns=\"http://www.w3.org/2000/svg\" height=\"24px\"viewBox=\"0 0 24 24\"\n",
              "       width=\"24px\">\n",
              "    <path d=\"M0 0h24v24H0V0z\" fill=\"none\"/>\n",
              "    <path d=\"M18.56 5.44l.94 2.06.94-2.06 2.06-.94-2.06-.94-.94-2.06-.94 2.06-2.06.94zm-11 1L8.5 8.5l.94-2.06 2.06-.94-2.06-.94L8.5 2.5l-.94 2.06-2.06.94zm10 10l.94 2.06.94-2.06 2.06-.94-2.06-.94-.94-2.06-.94 2.06-2.06.94z\"/><path d=\"M17.41 7.96l-1.37-1.37c-.4-.4-.92-.59-1.43-.59-.52 0-1.04.2-1.43.59L10.3 9.45l-7.72 7.72c-.78.78-.78 2.05 0 2.83L4 21.41c.39.39.9.59 1.41.59.51 0 1.02-.2 1.41-.59l7.78-7.78 2.81-2.81c.8-.78.8-2.07 0-2.86zM5.41 20L4 18.59l7.72-7.72 1.47 1.35L5.41 20z\"/>\n",
              "  </svg>\n",
              "      </button>\n",
              "      \n",
              "  <style>\n",
              "    .colab-df-container {\n",
              "      display:flex;\n",
              "      flex-wrap:wrap;\n",
              "      gap: 12px;\n",
              "    }\n",
              "\n",
              "    .colab-df-convert {\n",
              "      background-color: #E8F0FE;\n",
              "      border: none;\n",
              "      border-radius: 50%;\n",
              "      cursor: pointer;\n",
              "      display: none;\n",
              "      fill: #1967D2;\n",
              "      height: 32px;\n",
              "      padding: 0 0 0 0;\n",
              "      width: 32px;\n",
              "    }\n",
              "\n",
              "    .colab-df-convert:hover {\n",
              "      background-color: #E2EBFA;\n",
              "      box-shadow: 0px 1px 2px rgba(60, 64, 67, 0.3), 0px 1px 3px 1px rgba(60, 64, 67, 0.15);\n",
              "      fill: #174EA6;\n",
              "    }\n",
              "\n",
              "    [theme=dark] .colab-df-convert {\n",
              "      background-color: #3B4455;\n",
              "      fill: #D2E3FC;\n",
              "    }\n",
              "\n",
              "    [theme=dark] .colab-df-convert:hover {\n",
              "      background-color: #434B5C;\n",
              "      box-shadow: 0px 1px 3px 1px rgba(0, 0, 0, 0.15);\n",
              "      filter: drop-shadow(0px 1px 2px rgba(0, 0, 0, 0.3));\n",
              "      fill: #FFFFFF;\n",
              "    }\n",
              "  </style>\n",
              "\n",
              "      <script>\n",
              "        const buttonEl =\n",
              "          document.querySelector('#df-6e97f5e7-7c09-45cd-92ae-3d130158ceef button.colab-df-convert');\n",
              "        buttonEl.style.display =\n",
              "          google.colab.kernel.accessAllowed ? 'block' : 'none';\n",
              "\n",
              "        async function convertToInteractive(key) {\n",
              "          const element = document.querySelector('#df-6e97f5e7-7c09-45cd-92ae-3d130158ceef');\n",
              "          const dataTable =\n",
              "            await google.colab.kernel.invokeFunction('convertToInteractive',\n",
              "                                                     [key], {});\n",
              "          if (!dataTable) return;\n",
              "\n",
              "          const docLinkHtml = 'Like what you see? Visit the ' +\n",
              "            '<a target=\"_blank\" href=https://colab.research.google.com/notebooks/data_table.ipynb>data table notebook</a>'\n",
              "            + ' to learn more about interactive tables.';\n",
              "          element.innerHTML = '';\n",
              "          dataTable['output_type'] = 'display_data';\n",
              "          await google.colab.output.renderOutput(dataTable, element);\n",
              "          const docLink = document.createElement('div');\n",
              "          docLink.innerHTML = docLinkHtml;\n",
              "          element.appendChild(docLink);\n",
              "        }\n",
              "      </script>\n",
              "    </div>\n",
              "  </div>\n",
              "  "
            ],
            "text/plain": [
              "          imp        col\n",
              "20   0.000000   A0T1G9C0\n",
              "75   0.000000   A1T0G9C0\n",
              "395  0.000000     A9_min\n",
              "455  0.000056   A0G9_sum\n",
              "250  0.000114   A5T5G0C0\n",
              "..        ...        ...\n",
              "548  0.022226   T4C5_sum\n",
              "572  0.022291   T9C1_sum\n",
              "350  0.026169     T5_min\n",
              "65   0.040804  A0T10G0C0\n",
              "359  0.051125     A6_min\n",
              "\n",
              "[575 rows x 2 columns]"
            ]
          },
          "metadata": {},
          "execution_count": 37
        }
      ]
    },
    {
      "cell_type": "code",
      "source": [
        "top_feat = list(imp[imp.imp > 0.001].col)"
      ],
      "metadata": {
        "id": "f3fZMAKO169p"
      },
      "execution_count": null,
      "outputs": []
    },
    {
      "cell_type": "code",
      "source": [
        "cols4shap = imp.tail(20).col"
      ],
      "metadata": {
        "id": "gCYfjJ4n1h1c"
      },
      "execution_count": null,
      "outputs": []
    },
    {
      "cell_type": "code",
      "source": [
        "len(top_feat)"
      ],
      "metadata": {
        "colab": {
          "base_uri": "https://localhost:8080/"
        },
        "id": "pLL8vJVC2jYv",
        "outputId": "14fe31c5-e240-43ac-830e-33626280f888"
      },
      "execution_count": null,
      "outputs": [
        {
          "output_type": "execute_result",
          "data": {
            "text/plain": [
              "193"
            ]
          },
          "metadata": {},
          "execution_count": 72
        }
      ]
    },
    {
      "cell_type": "code",
      "source": [
        "len(top_feat)"
      ],
      "metadata": {
        "colab": {
          "base_uri": "https://localhost:8080/"
        },
        "id": "6GA6B09E2Xuo",
        "outputId": "d176f19d-2fc5-4b32-b8fb-f9a59e772771"
      },
      "execution_count": null,
      "outputs": [
        {
          "output_type": "execute_result",
          "data": {
            "text/plain": [
              "575"
            ]
          },
          "metadata": {},
          "execution_count": 65
        }
      ]
    },
    {
      "cell_type": "code",
      "source": [
        "preds = bst.predict(dtest).astype(int)"
      ],
      "metadata": {
        "id": "EZpF-jLnrwEb"
      },
      "execution_count": null,
      "outputs": []
    },
    {
      "cell_type": "code",
      "source": [
        "preds_tr = bst.predict(dtrain).astype(int)"
      ],
      "metadata": {
        "id": "qRJLTqpnuf4P"
      },
      "execution_count": null,
      "outputs": []
    },
    {
      "cell_type": "code",
      "source": [
        "pred_tr = le.inverse_transform(np.round(preds_tr).astype(int))"
      ],
      "metadata": {
        "id": "dxFtHuvyukDf"
      },
      "execution_count": null,
      "outputs": []
    },
    {
      "cell_type": "code",
      "source": [
        "preds"
      ],
      "metadata": {
        "colab": {
          "base_uri": "https://localhost:8080/"
        },
        "id": "nIFGvSN-sU7F",
        "outputId": "6964ba85-0c57-48c1-8acd-911bd782ada2"
      },
      "execution_count": null,
      "outputs": [
        {
          "output_type": "execute_result",
          "data": {
            "text/plain": [
              "array([7.409751 , 5.5938115, 7.443043 , ..., 5.7706475, 2.7168996,\n",
              "       7.409751 ], dtype=float32)"
            ]
          },
          "metadata": {},
          "execution_count": 25
        }
      ]
    },
    {
      "cell_type": "code",
      "source": [],
      "metadata": {
        "colab": {
          "base_uri": "https://localhost:8080/"
        },
        "id": "TdUr7iHJtBm9",
        "outputId": "5510ab30-a752-4e65-9d41-3535fefa50b9"
      },
      "execution_count": null,
      "outputs": [
        {
          "output_type": "execute_result",
          "data": {
            "text/plain": [
              "array([7, 6, 7, ..., 6, 3, 7])"
            ]
          },
          "metadata": {},
          "execution_count": 32
        }
      ]
    },
    {
      "cell_type": "code",
      "source": [
        "pred = le.inverse_transform(np.round(preds).astype(int))"
      ],
      "metadata": {
        "id": "i16c1W-JscS9"
      },
      "execution_count": null,
      "outputs": []
    },
    {
      "cell_type": "code",
      "source": [
        "model.fit(X_train[top_feat],y_train)"
      ],
      "metadata": {
        "colab": {
          "base_uri": "https://localhost:8080/"
        },
        "id": "rZf5WAm-i7QX",
        "outputId": "0c57c2bf-be5e-4b0f-d294-3b06412cfbc6"
      },
      "execution_count": null,
      "outputs": [
        {
          "output_type": "execute_result",
          "data": {
            "text/plain": [
              "XGBClassifier(colsample_bytree=0.67, eta=0.02091410171529332,\n",
              "              gamma=0.6850100958702302, learning_rate=0.11255201293093048,\n",
              "              max_depth=6, min_child_weight=0.7837016377461853,\n",
              "              n_estimators=715, objective='multi:softprob', random_state=79637,\n",
              "              reg_alpha=0.0159942164295646, reg_lambda=0.045197677902998314,\n",
              "              tree_method='gpu_hist')"
            ]
          },
          "metadata": {},
          "execution_count": 74
        }
      ]
    },
    {
      "cell_type": "code",
      "source": [
        "pred_train = model.predict(X_train)\n",
        "pred_test = model.predict(X_test)"
      ],
      "metadata": {
        "id": "QOKKZB0rki-5"
      },
      "execution_count": null,
      "outputs": []
    },
    {
      "cell_type": "code",
      "source": [
        "print(mean_squared_log_error(y_train,pred_train))\n",
        "print(mean_squared_log_error(y_test,pred_test))"
      ],
      "metadata": {
        "colab": {
          "base_uri": "https://localhost:8080/"
        },
        "id": "Ih99E20EkouD",
        "outputId": "e51b0ad5-8074-4e66-afc6-b6fcac08d4d8"
      },
      "execution_count": null,
      "outputs": [
        {
          "output_type": "stream",
          "name": "stdout",
          "text": [
            "0.0\n",
            "0.035707823489746986\n"
          ]
        }
      ]
    },
    {
      "cell_type": "code",
      "source": [
        "print(accuracy_score(y_train,pred_train))\n",
        "print(accuracy_score(y_test,pred_test))"
      ],
      "metadata": {
        "colab": {
          "base_uri": "https://localhost:8080/"
        },
        "id": "j2368StFk7W9",
        "outputId": "5a87d5ba-1f66-40b8-dd4f-dcc672a4cc21"
      },
      "execution_count": null,
      "outputs": [
        {
          "output_type": "stream",
          "name": "stdout",
          "text": [
            "1.0\n",
            "0.9652802980813433\n"
          ]
        }
      ]
    },
    {
      "cell_type": "code",
      "source": [
        "y_test"
      ],
      "metadata": {
        "colab": {
          "base_uri": "https://localhost:8080/"
        },
        "id": "RY00x_zEus7Y",
        "outputId": "2e6ee05e-6a5c-4189-e2d5-925af52c1eb8"
      },
      "execution_count": null,
      "outputs": [
        {
          "output_type": "execute_result",
          "data": {
            "text/plain": [
              "114450    8\n",
              "171129    7\n",
              "99833     8\n",
              "197610    6\n",
              "29371     9\n",
              "         ..\n",
              "27308     1\n",
              "61169     6\n",
              "110587    9\n",
              "183367    2\n",
              "121269    8\n",
              "Name: target, Length: 66667, dtype: int64"
            ]
          },
          "metadata": {},
          "execution_count": 42
        }
      ]
    },
    {
      "cell_type": "code",
      "source": [
        "preds"
      ],
      "metadata": {
        "colab": {
          "base_uri": "https://localhost:8080/"
        },
        "id": "ZnEswSRMurl_",
        "outputId": "59c154eb-8455-4a68-c045-d810a8f87528"
      },
      "execution_count": null,
      "outputs": [
        {
          "output_type": "execute_result",
          "data": {
            "text/plain": [
              "array([7, 5, 7, ..., 5, 2, 7])"
            ]
          },
          "metadata": {},
          "execution_count": 47
        }
      ]
    },
    {
      "cell_type": "code",
      "source": [
        "import joblib"
      ],
      "metadata": {
        "id": "84O6xwtBpdyZ"
      },
      "execution_count": null,
      "outputs": []
    },
    {
      "cell_type": "code",
      "source": [
        "joblib.dump(model,'xgb.pkl')"
      ],
      "metadata": {
        "colab": {
          "base_uri": "https://localhost:8080/"
        },
        "id": "sC9sPDRzpeS2",
        "outputId": "2805c600-87fc-45d2-9ca8-94945541a738"
      },
      "execution_count": null,
      "outputs": [
        {
          "output_type": "execute_result",
          "data": {
            "text/plain": [
              "['xgb.pkl']"
            ]
          },
          "metadata": {},
          "execution_count": 43
        }
      ]
    },
    {
      "cell_type": "code",
      "source": [
        "!pip install shap --quiet"
      ],
      "metadata": {
        "id": "xwr-qNc7mLeA",
        "colab": {
          "base_uri": "https://localhost:8080/"
        },
        "outputId": "8dd24c6a-e710-404d-8087-25285cfb8a1a"
      },
      "execution_count": null,
      "outputs": [
        {
          "output_type": "stream",
          "name": "stdout",
          "text": [
            "\u001b[?25l\r\u001b[K     |▋                               | 10 kB 34.8 MB/s eta 0:00:01\r\u001b[K     |█▏                              | 20 kB 36.0 MB/s eta 0:00:01\r\u001b[K     |█▊                              | 30 kB 21.0 MB/s eta 0:00:01\r\u001b[K     |██▎                             | 40 kB 16.4 MB/s eta 0:00:01\r\u001b[K     |███                             | 51 kB 10.3 MB/s eta 0:00:01\r\u001b[K     |███▌                            | 61 kB 11.9 MB/s eta 0:00:01\r\u001b[K     |████                            | 71 kB 10.4 MB/s eta 0:00:01\r\u001b[K     |████▋                           | 81 kB 11.6 MB/s eta 0:00:01\r\u001b[K     |█████▏                          | 92 kB 11.4 MB/s eta 0:00:01\r\u001b[K     |█████▉                          | 102 kB 10.2 MB/s eta 0:00:01\r\u001b[K     |██████▍                         | 112 kB 10.2 MB/s eta 0:00:01\r\u001b[K     |███████                         | 122 kB 10.2 MB/s eta 0:00:01\r\u001b[K     |███████▌                        | 133 kB 10.2 MB/s eta 0:00:01\r\u001b[K     |████████▏                       | 143 kB 10.2 MB/s eta 0:00:01\r\u001b[K     |████████▊                       | 153 kB 10.2 MB/s eta 0:00:01\r\u001b[K     |█████████▎                      | 163 kB 10.2 MB/s eta 0:00:01\r\u001b[K     |█████████▉                      | 174 kB 10.2 MB/s eta 0:00:01\r\u001b[K     |██████████▍                     | 184 kB 10.2 MB/s eta 0:00:01\r\u001b[K     |███████████                     | 194 kB 10.2 MB/s eta 0:00:01\r\u001b[K     |███████████▋                    | 204 kB 10.2 MB/s eta 0:00:01\r\u001b[K     |████████████▏                   | 215 kB 10.2 MB/s eta 0:00:01\r\u001b[K     |████████████▊                   | 225 kB 10.2 MB/s eta 0:00:01\r\u001b[K     |█████████████▍                  | 235 kB 10.2 MB/s eta 0:00:01\r\u001b[K     |██████████████                  | 245 kB 10.2 MB/s eta 0:00:01\r\u001b[K     |██████████████▌                 | 256 kB 10.2 MB/s eta 0:00:01\r\u001b[K     |███████████████                 | 266 kB 10.2 MB/s eta 0:00:01\r\u001b[K     |███████████████▋                | 276 kB 10.2 MB/s eta 0:00:01\r\u001b[K     |████████████████▎               | 286 kB 10.2 MB/s eta 0:00:01\r\u001b[K     |████████████████▉               | 296 kB 10.2 MB/s eta 0:00:01\r\u001b[K     |█████████████████▍              | 307 kB 10.2 MB/s eta 0:00:01\r\u001b[K     |██████████████████              | 317 kB 10.2 MB/s eta 0:00:01\r\u001b[K     |██████████████████▋             | 327 kB 10.2 MB/s eta 0:00:01\r\u001b[K     |███████████████████▏            | 337 kB 10.2 MB/s eta 0:00:01\r\u001b[K     |███████████████████▊            | 348 kB 10.2 MB/s eta 0:00:01\r\u001b[K     |████████████████████▎           | 358 kB 10.2 MB/s eta 0:00:01\r\u001b[K     |████████████████████▉           | 368 kB 10.2 MB/s eta 0:00:01\r\u001b[K     |█████████████████████▌          | 378 kB 10.2 MB/s eta 0:00:01\r\u001b[K     |██████████████████████          | 389 kB 10.2 MB/s eta 0:00:01\r\u001b[K     |██████████████████████▋         | 399 kB 10.2 MB/s eta 0:00:01\r\u001b[K     |███████████████████████▏        | 409 kB 10.2 MB/s eta 0:00:01\r\u001b[K     |███████████████████████▉        | 419 kB 10.2 MB/s eta 0:00:01\r\u001b[K     |████████████████████████▍       | 430 kB 10.2 MB/s eta 0:00:01\r\u001b[K     |█████████████████████████       | 440 kB 10.2 MB/s eta 0:00:01\r\u001b[K     |█████████████████████████▌      | 450 kB 10.2 MB/s eta 0:00:01\r\u001b[K     |██████████████████████████      | 460 kB 10.2 MB/s eta 0:00:01\r\u001b[K     |██████████████████████████▊     | 471 kB 10.2 MB/s eta 0:00:01\r\u001b[K     |███████████████████████████▎    | 481 kB 10.2 MB/s eta 0:00:01\r\u001b[K     |███████████████████████████▉    | 491 kB 10.2 MB/s eta 0:00:01\r\u001b[K     |████████████████████████████▍   | 501 kB 10.2 MB/s eta 0:00:01\r\u001b[K     |█████████████████████████████   | 512 kB 10.2 MB/s eta 0:00:01\r\u001b[K     |█████████████████████████████▋  | 522 kB 10.2 MB/s eta 0:00:01\r\u001b[K     |██████████████████████████████▏ | 532 kB 10.2 MB/s eta 0:00:01\r\u001b[K     |██████████████████████████████▊ | 542 kB 10.2 MB/s eta 0:00:01\r\u001b[K     |███████████████████████████████▎| 552 kB 10.2 MB/s eta 0:00:01\r\u001b[K     |████████████████████████████████| 563 kB 10.2 MB/s eta 0:00:01\r\u001b[K     |████████████████████████████████| 564 kB 10.2 MB/s \n",
            "\u001b[?25h"
          ]
        }
      ]
    },
    {
      "cell_type": "code",
      "source": [
        "import shap"
      ],
      "metadata": {
        "id": "c9WNrPjdmQEz"
      },
      "execution_count": null,
      "outputs": []
    },
    {
      "cell_type": "code",
      "source": [
        "explainer = shap.TreeExplainer(model)\n",
        "shap_values = explainer.shap_values(X_train[cols4shap].columns)"
      ],
      "metadata": {
        "id": "fZOmsjPKmXDp"
      },
      "execution_count": null,
      "outputs": []
    },
    {
      "cell_type": "code",
      "source": [
        "shap.summary_plot(shap_values, X_train.columns)"
      ],
      "metadata": {
        "id": "hNFT3AyBmu_i"
      },
      "execution_count": null,
      "outputs": []
    },
    {
      "cell_type": "markdown",
      "source": [
        "## stacking"
      ],
      "metadata": {
        "id": "lVSoDh7CEdUb"
      }
    },
    {
      "cell_type": "code",
      "source": [],
      "metadata": {
        "id": "LRDiHViGEe2F"
      },
      "execution_count": null,
      "outputs": []
    }
  ]
}