{
  "nbformat": 4,
  "nbformat_minor": 0,
  "metadata": {
    "colab": {
      "name": "price_house_kaggle.ipynb",
      "provenance": [],
      "collapsed_sections": [
        "tsC8CT37TABe",
        "OdtBK0dg3jcx",
        "abJxE3k5V5Ab"
      ]
    },
    "kernelspec": {
      "name": "python3",
      "display_name": "Python 3"
    },
    "language_info": {
      "name": "python"
    }
  },
  "cells": [
    {
      "cell_type": "code",
      "metadata": {
        "id": "g5rsDxYtidQj"
      },
      "source": [
        "import pandas as pd\n",
        "import seaborn as sns\n",
        "import matplotlib.pyplot as plt\n",
        "from scipy import stats\n",
        "import numpy as np\n",
        "from sklearn.preprocessing import OneHotEncoder\n",
        "from sklearn.preprocessing import LabelEncoder\n",
        "from sklearn.model_selection import train_test_split"
      ],
      "execution_count": 1,
      "outputs": []
    },
    {
      "cell_type": "markdown",
      "metadata": {
        "id": "diXewxvjltFs"
      },
      "source": [
        "Ask a home buyer to describe their dream house, and they probably won't begin with the height of the basement ceiling or the proximity to an east-west railroad. But this playground competition's dataset proves that much more influences price negotiations than the number of bedrooms or a white-picket fence.\n",
        "\n",
        "With 79 explanatory variables describing (almost) every aspect of residential homes in Ames, Iowa, this competition challenges you to predict the final price of each home."
      ]
    },
    {
      "cell_type": "markdown",
      "metadata": {
        "id": "7VnoTozGWbwY"
      },
      "source": [
        "# Подготовка датасета"
      ]
    },
    {
      "cell_type": "code",
      "metadata": {
        "id": "KbYa1NkOFzHO"
      },
      "source": [
        "def writeToFile(dataset_test, Id_col, model, model_name, flag_exp = False):\n",
        "  if flag_exp:\n",
        "      res = pd.DataFrame(np.expm1(model.predict(dataset_test)))\n",
        "  else:\n",
        "      res = pd.DataFrame(model.predict(dataset_test))  \n",
        "  res.columns=['SalePrice']\n",
        "  res = pd.concat([Id_col.Id,res], axis=1).set_index('Id')\n",
        "  res.to_csv('house_submission_'+model_name+'.csv')"
      ],
      "execution_count": 197,
      "outputs": []
    },
    {
      "cell_type": "code",
      "metadata": {
        "id": "Vc2nnHH_iwpi"
      },
      "source": [
        "dataset_train = pd.read_csv(\"/content/drive/MyDrive/datasets/train.csv\")\n",
        "dataset_test = pd.read_csv(\"/content/drive/MyDrive/datasets/test.csv\")"
      ],
      "execution_count": 3,
      "outputs": []
    },
    {
      "cell_type": "code",
      "metadata": {
        "id": "RMCBVoqhGdNe"
      },
      "source": [
        "dataset_test_Id = pd.read_csv(\"/content/drive/MyDrive/datasets/test.csv\")"
      ],
      "execution_count": 4,
      "outputs": []
    },
    {
      "cell_type": "code",
      "metadata": {
        "colab": {
          "base_uri": "https://localhost:8080/",
          "height": 255
        },
        "id": "bZwS_8XxlvFC",
        "outputId": "31de62cb-06f1-4e55-b0e8-efdfc3f46c3e"
      },
      "source": [
        "dataset_train.head()"
      ],
      "execution_count": 5,
      "outputs": [
        {
          "output_type": "execute_result",
          "data": {
            "text/html": [
              "<div>\n",
              "<style scoped>\n",
              "    .dataframe tbody tr th:only-of-type {\n",
              "        vertical-align: middle;\n",
              "    }\n",
              "\n",
              "    .dataframe tbody tr th {\n",
              "        vertical-align: top;\n",
              "    }\n",
              "\n",
              "    .dataframe thead th {\n",
              "        text-align: right;\n",
              "    }\n",
              "</style>\n",
              "<table border=\"1\" class=\"dataframe\">\n",
              "  <thead>\n",
              "    <tr style=\"text-align: right;\">\n",
              "      <th></th>\n",
              "      <th>Id</th>\n",
              "      <th>MSSubClass</th>\n",
              "      <th>MSZoning</th>\n",
              "      <th>LotFrontage</th>\n",
              "      <th>LotArea</th>\n",
              "      <th>Street</th>\n",
              "      <th>Alley</th>\n",
              "      <th>LotShape</th>\n",
              "      <th>LandContour</th>\n",
              "      <th>Utilities</th>\n",
              "      <th>LotConfig</th>\n",
              "      <th>LandSlope</th>\n",
              "      <th>Neighborhood</th>\n",
              "      <th>Condition1</th>\n",
              "      <th>Condition2</th>\n",
              "      <th>BldgType</th>\n",
              "      <th>HouseStyle</th>\n",
              "      <th>OverallQual</th>\n",
              "      <th>OverallCond</th>\n",
              "      <th>YearBuilt</th>\n",
              "      <th>YearRemodAdd</th>\n",
              "      <th>RoofStyle</th>\n",
              "      <th>RoofMatl</th>\n",
              "      <th>Exterior1st</th>\n",
              "      <th>Exterior2nd</th>\n",
              "      <th>MasVnrType</th>\n",
              "      <th>MasVnrArea</th>\n",
              "      <th>ExterQual</th>\n",
              "      <th>ExterCond</th>\n",
              "      <th>Foundation</th>\n",
              "      <th>BsmtQual</th>\n",
              "      <th>BsmtCond</th>\n",
              "      <th>BsmtExposure</th>\n",
              "      <th>BsmtFinType1</th>\n",
              "      <th>BsmtFinSF1</th>\n",
              "      <th>BsmtFinType2</th>\n",
              "      <th>BsmtFinSF2</th>\n",
              "      <th>BsmtUnfSF</th>\n",
              "      <th>TotalBsmtSF</th>\n",
              "      <th>Heating</th>\n",
              "      <th>...</th>\n",
              "      <th>CentralAir</th>\n",
              "      <th>Electrical</th>\n",
              "      <th>1stFlrSF</th>\n",
              "      <th>2ndFlrSF</th>\n",
              "      <th>LowQualFinSF</th>\n",
              "      <th>GrLivArea</th>\n",
              "      <th>BsmtFullBath</th>\n",
              "      <th>BsmtHalfBath</th>\n",
              "      <th>FullBath</th>\n",
              "      <th>HalfBath</th>\n",
              "      <th>BedroomAbvGr</th>\n",
              "      <th>KitchenAbvGr</th>\n",
              "      <th>KitchenQual</th>\n",
              "      <th>TotRmsAbvGrd</th>\n",
              "      <th>Functional</th>\n",
              "      <th>Fireplaces</th>\n",
              "      <th>FireplaceQu</th>\n",
              "      <th>GarageType</th>\n",
              "      <th>GarageYrBlt</th>\n",
              "      <th>GarageFinish</th>\n",
              "      <th>GarageCars</th>\n",
              "      <th>GarageArea</th>\n",
              "      <th>GarageQual</th>\n",
              "      <th>GarageCond</th>\n",
              "      <th>PavedDrive</th>\n",
              "      <th>WoodDeckSF</th>\n",
              "      <th>OpenPorchSF</th>\n",
              "      <th>EnclosedPorch</th>\n",
              "      <th>3SsnPorch</th>\n",
              "      <th>ScreenPorch</th>\n",
              "      <th>PoolArea</th>\n",
              "      <th>PoolQC</th>\n",
              "      <th>Fence</th>\n",
              "      <th>MiscFeature</th>\n",
              "      <th>MiscVal</th>\n",
              "      <th>MoSold</th>\n",
              "      <th>YrSold</th>\n",
              "      <th>SaleType</th>\n",
              "      <th>SaleCondition</th>\n",
              "      <th>SalePrice</th>\n",
              "    </tr>\n",
              "  </thead>\n",
              "  <tbody>\n",
              "    <tr>\n",
              "      <th>0</th>\n",
              "      <td>1</td>\n",
              "      <td>60</td>\n",
              "      <td>RL</td>\n",
              "      <td>65.0</td>\n",
              "      <td>8450</td>\n",
              "      <td>Pave</td>\n",
              "      <td>NaN</td>\n",
              "      <td>Reg</td>\n",
              "      <td>Lvl</td>\n",
              "      <td>AllPub</td>\n",
              "      <td>Inside</td>\n",
              "      <td>Gtl</td>\n",
              "      <td>CollgCr</td>\n",
              "      <td>Norm</td>\n",
              "      <td>Norm</td>\n",
              "      <td>1Fam</td>\n",
              "      <td>2Story</td>\n",
              "      <td>7</td>\n",
              "      <td>5</td>\n",
              "      <td>2003</td>\n",
              "      <td>2003</td>\n",
              "      <td>Gable</td>\n",
              "      <td>CompShg</td>\n",
              "      <td>VinylSd</td>\n",
              "      <td>VinylSd</td>\n",
              "      <td>BrkFace</td>\n",
              "      <td>196.0</td>\n",
              "      <td>Gd</td>\n",
              "      <td>TA</td>\n",
              "      <td>PConc</td>\n",
              "      <td>Gd</td>\n",
              "      <td>TA</td>\n",
              "      <td>No</td>\n",
              "      <td>GLQ</td>\n",
              "      <td>706</td>\n",
              "      <td>Unf</td>\n",
              "      <td>0</td>\n",
              "      <td>150</td>\n",
              "      <td>856</td>\n",
              "      <td>GasA</td>\n",
              "      <td>...</td>\n",
              "      <td>Y</td>\n",
              "      <td>SBrkr</td>\n",
              "      <td>856</td>\n",
              "      <td>854</td>\n",
              "      <td>0</td>\n",
              "      <td>1710</td>\n",
              "      <td>1</td>\n",
              "      <td>0</td>\n",
              "      <td>2</td>\n",
              "      <td>1</td>\n",
              "      <td>3</td>\n",
              "      <td>1</td>\n",
              "      <td>Gd</td>\n",
              "      <td>8</td>\n",
              "      <td>Typ</td>\n",
              "      <td>0</td>\n",
              "      <td>NaN</td>\n",
              "      <td>Attchd</td>\n",
              "      <td>2003.0</td>\n",
              "      <td>RFn</td>\n",
              "      <td>2</td>\n",
              "      <td>548</td>\n",
              "      <td>TA</td>\n",
              "      <td>TA</td>\n",
              "      <td>Y</td>\n",
              "      <td>0</td>\n",
              "      <td>61</td>\n",
              "      <td>0</td>\n",
              "      <td>0</td>\n",
              "      <td>0</td>\n",
              "      <td>0</td>\n",
              "      <td>NaN</td>\n",
              "      <td>NaN</td>\n",
              "      <td>NaN</td>\n",
              "      <td>0</td>\n",
              "      <td>2</td>\n",
              "      <td>2008</td>\n",
              "      <td>WD</td>\n",
              "      <td>Normal</td>\n",
              "      <td>208500</td>\n",
              "    </tr>\n",
              "    <tr>\n",
              "      <th>1</th>\n",
              "      <td>2</td>\n",
              "      <td>20</td>\n",
              "      <td>RL</td>\n",
              "      <td>80.0</td>\n",
              "      <td>9600</td>\n",
              "      <td>Pave</td>\n",
              "      <td>NaN</td>\n",
              "      <td>Reg</td>\n",
              "      <td>Lvl</td>\n",
              "      <td>AllPub</td>\n",
              "      <td>FR2</td>\n",
              "      <td>Gtl</td>\n",
              "      <td>Veenker</td>\n",
              "      <td>Feedr</td>\n",
              "      <td>Norm</td>\n",
              "      <td>1Fam</td>\n",
              "      <td>1Story</td>\n",
              "      <td>6</td>\n",
              "      <td>8</td>\n",
              "      <td>1976</td>\n",
              "      <td>1976</td>\n",
              "      <td>Gable</td>\n",
              "      <td>CompShg</td>\n",
              "      <td>MetalSd</td>\n",
              "      <td>MetalSd</td>\n",
              "      <td>None</td>\n",
              "      <td>0.0</td>\n",
              "      <td>TA</td>\n",
              "      <td>TA</td>\n",
              "      <td>CBlock</td>\n",
              "      <td>Gd</td>\n",
              "      <td>TA</td>\n",
              "      <td>Gd</td>\n",
              "      <td>ALQ</td>\n",
              "      <td>978</td>\n",
              "      <td>Unf</td>\n",
              "      <td>0</td>\n",
              "      <td>284</td>\n",
              "      <td>1262</td>\n",
              "      <td>GasA</td>\n",
              "      <td>...</td>\n",
              "      <td>Y</td>\n",
              "      <td>SBrkr</td>\n",
              "      <td>1262</td>\n",
              "      <td>0</td>\n",
              "      <td>0</td>\n",
              "      <td>1262</td>\n",
              "      <td>0</td>\n",
              "      <td>1</td>\n",
              "      <td>2</td>\n",
              "      <td>0</td>\n",
              "      <td>3</td>\n",
              "      <td>1</td>\n",
              "      <td>TA</td>\n",
              "      <td>6</td>\n",
              "      <td>Typ</td>\n",
              "      <td>1</td>\n",
              "      <td>TA</td>\n",
              "      <td>Attchd</td>\n",
              "      <td>1976.0</td>\n",
              "      <td>RFn</td>\n",
              "      <td>2</td>\n",
              "      <td>460</td>\n",
              "      <td>TA</td>\n",
              "      <td>TA</td>\n",
              "      <td>Y</td>\n",
              "      <td>298</td>\n",
              "      <td>0</td>\n",
              "      <td>0</td>\n",
              "      <td>0</td>\n",
              "      <td>0</td>\n",
              "      <td>0</td>\n",
              "      <td>NaN</td>\n",
              "      <td>NaN</td>\n",
              "      <td>NaN</td>\n",
              "      <td>0</td>\n",
              "      <td>5</td>\n",
              "      <td>2007</td>\n",
              "      <td>WD</td>\n",
              "      <td>Normal</td>\n",
              "      <td>181500</td>\n",
              "    </tr>\n",
              "    <tr>\n",
              "      <th>2</th>\n",
              "      <td>3</td>\n",
              "      <td>60</td>\n",
              "      <td>RL</td>\n",
              "      <td>68.0</td>\n",
              "      <td>11250</td>\n",
              "      <td>Pave</td>\n",
              "      <td>NaN</td>\n",
              "      <td>IR1</td>\n",
              "      <td>Lvl</td>\n",
              "      <td>AllPub</td>\n",
              "      <td>Inside</td>\n",
              "      <td>Gtl</td>\n",
              "      <td>CollgCr</td>\n",
              "      <td>Norm</td>\n",
              "      <td>Norm</td>\n",
              "      <td>1Fam</td>\n",
              "      <td>2Story</td>\n",
              "      <td>7</td>\n",
              "      <td>5</td>\n",
              "      <td>2001</td>\n",
              "      <td>2002</td>\n",
              "      <td>Gable</td>\n",
              "      <td>CompShg</td>\n",
              "      <td>VinylSd</td>\n",
              "      <td>VinylSd</td>\n",
              "      <td>BrkFace</td>\n",
              "      <td>162.0</td>\n",
              "      <td>Gd</td>\n",
              "      <td>TA</td>\n",
              "      <td>PConc</td>\n",
              "      <td>Gd</td>\n",
              "      <td>TA</td>\n",
              "      <td>Mn</td>\n",
              "      <td>GLQ</td>\n",
              "      <td>486</td>\n",
              "      <td>Unf</td>\n",
              "      <td>0</td>\n",
              "      <td>434</td>\n",
              "      <td>920</td>\n",
              "      <td>GasA</td>\n",
              "      <td>...</td>\n",
              "      <td>Y</td>\n",
              "      <td>SBrkr</td>\n",
              "      <td>920</td>\n",
              "      <td>866</td>\n",
              "      <td>0</td>\n",
              "      <td>1786</td>\n",
              "      <td>1</td>\n",
              "      <td>0</td>\n",
              "      <td>2</td>\n",
              "      <td>1</td>\n",
              "      <td>3</td>\n",
              "      <td>1</td>\n",
              "      <td>Gd</td>\n",
              "      <td>6</td>\n",
              "      <td>Typ</td>\n",
              "      <td>1</td>\n",
              "      <td>TA</td>\n",
              "      <td>Attchd</td>\n",
              "      <td>2001.0</td>\n",
              "      <td>RFn</td>\n",
              "      <td>2</td>\n",
              "      <td>608</td>\n",
              "      <td>TA</td>\n",
              "      <td>TA</td>\n",
              "      <td>Y</td>\n",
              "      <td>0</td>\n",
              "      <td>42</td>\n",
              "      <td>0</td>\n",
              "      <td>0</td>\n",
              "      <td>0</td>\n",
              "      <td>0</td>\n",
              "      <td>NaN</td>\n",
              "      <td>NaN</td>\n",
              "      <td>NaN</td>\n",
              "      <td>0</td>\n",
              "      <td>9</td>\n",
              "      <td>2008</td>\n",
              "      <td>WD</td>\n",
              "      <td>Normal</td>\n",
              "      <td>223500</td>\n",
              "    </tr>\n",
              "    <tr>\n",
              "      <th>3</th>\n",
              "      <td>4</td>\n",
              "      <td>70</td>\n",
              "      <td>RL</td>\n",
              "      <td>60.0</td>\n",
              "      <td>9550</td>\n",
              "      <td>Pave</td>\n",
              "      <td>NaN</td>\n",
              "      <td>IR1</td>\n",
              "      <td>Lvl</td>\n",
              "      <td>AllPub</td>\n",
              "      <td>Corner</td>\n",
              "      <td>Gtl</td>\n",
              "      <td>Crawfor</td>\n",
              "      <td>Norm</td>\n",
              "      <td>Norm</td>\n",
              "      <td>1Fam</td>\n",
              "      <td>2Story</td>\n",
              "      <td>7</td>\n",
              "      <td>5</td>\n",
              "      <td>1915</td>\n",
              "      <td>1970</td>\n",
              "      <td>Gable</td>\n",
              "      <td>CompShg</td>\n",
              "      <td>Wd Sdng</td>\n",
              "      <td>Wd Shng</td>\n",
              "      <td>None</td>\n",
              "      <td>0.0</td>\n",
              "      <td>TA</td>\n",
              "      <td>TA</td>\n",
              "      <td>BrkTil</td>\n",
              "      <td>TA</td>\n",
              "      <td>Gd</td>\n",
              "      <td>No</td>\n",
              "      <td>ALQ</td>\n",
              "      <td>216</td>\n",
              "      <td>Unf</td>\n",
              "      <td>0</td>\n",
              "      <td>540</td>\n",
              "      <td>756</td>\n",
              "      <td>GasA</td>\n",
              "      <td>...</td>\n",
              "      <td>Y</td>\n",
              "      <td>SBrkr</td>\n",
              "      <td>961</td>\n",
              "      <td>756</td>\n",
              "      <td>0</td>\n",
              "      <td>1717</td>\n",
              "      <td>1</td>\n",
              "      <td>0</td>\n",
              "      <td>1</td>\n",
              "      <td>0</td>\n",
              "      <td>3</td>\n",
              "      <td>1</td>\n",
              "      <td>Gd</td>\n",
              "      <td>7</td>\n",
              "      <td>Typ</td>\n",
              "      <td>1</td>\n",
              "      <td>Gd</td>\n",
              "      <td>Detchd</td>\n",
              "      <td>1998.0</td>\n",
              "      <td>Unf</td>\n",
              "      <td>3</td>\n",
              "      <td>642</td>\n",
              "      <td>TA</td>\n",
              "      <td>TA</td>\n",
              "      <td>Y</td>\n",
              "      <td>0</td>\n",
              "      <td>35</td>\n",
              "      <td>272</td>\n",
              "      <td>0</td>\n",
              "      <td>0</td>\n",
              "      <td>0</td>\n",
              "      <td>NaN</td>\n",
              "      <td>NaN</td>\n",
              "      <td>NaN</td>\n",
              "      <td>0</td>\n",
              "      <td>2</td>\n",
              "      <td>2006</td>\n",
              "      <td>WD</td>\n",
              "      <td>Abnorml</td>\n",
              "      <td>140000</td>\n",
              "    </tr>\n",
              "    <tr>\n",
              "      <th>4</th>\n",
              "      <td>5</td>\n",
              "      <td>60</td>\n",
              "      <td>RL</td>\n",
              "      <td>84.0</td>\n",
              "      <td>14260</td>\n",
              "      <td>Pave</td>\n",
              "      <td>NaN</td>\n",
              "      <td>IR1</td>\n",
              "      <td>Lvl</td>\n",
              "      <td>AllPub</td>\n",
              "      <td>FR2</td>\n",
              "      <td>Gtl</td>\n",
              "      <td>NoRidge</td>\n",
              "      <td>Norm</td>\n",
              "      <td>Norm</td>\n",
              "      <td>1Fam</td>\n",
              "      <td>2Story</td>\n",
              "      <td>8</td>\n",
              "      <td>5</td>\n",
              "      <td>2000</td>\n",
              "      <td>2000</td>\n",
              "      <td>Gable</td>\n",
              "      <td>CompShg</td>\n",
              "      <td>VinylSd</td>\n",
              "      <td>VinylSd</td>\n",
              "      <td>BrkFace</td>\n",
              "      <td>350.0</td>\n",
              "      <td>Gd</td>\n",
              "      <td>TA</td>\n",
              "      <td>PConc</td>\n",
              "      <td>Gd</td>\n",
              "      <td>TA</td>\n",
              "      <td>Av</td>\n",
              "      <td>GLQ</td>\n",
              "      <td>655</td>\n",
              "      <td>Unf</td>\n",
              "      <td>0</td>\n",
              "      <td>490</td>\n",
              "      <td>1145</td>\n",
              "      <td>GasA</td>\n",
              "      <td>...</td>\n",
              "      <td>Y</td>\n",
              "      <td>SBrkr</td>\n",
              "      <td>1145</td>\n",
              "      <td>1053</td>\n",
              "      <td>0</td>\n",
              "      <td>2198</td>\n",
              "      <td>1</td>\n",
              "      <td>0</td>\n",
              "      <td>2</td>\n",
              "      <td>1</td>\n",
              "      <td>4</td>\n",
              "      <td>1</td>\n",
              "      <td>Gd</td>\n",
              "      <td>9</td>\n",
              "      <td>Typ</td>\n",
              "      <td>1</td>\n",
              "      <td>TA</td>\n",
              "      <td>Attchd</td>\n",
              "      <td>2000.0</td>\n",
              "      <td>RFn</td>\n",
              "      <td>3</td>\n",
              "      <td>836</td>\n",
              "      <td>TA</td>\n",
              "      <td>TA</td>\n",
              "      <td>Y</td>\n",
              "      <td>192</td>\n",
              "      <td>84</td>\n",
              "      <td>0</td>\n",
              "      <td>0</td>\n",
              "      <td>0</td>\n",
              "      <td>0</td>\n",
              "      <td>NaN</td>\n",
              "      <td>NaN</td>\n",
              "      <td>NaN</td>\n",
              "      <td>0</td>\n",
              "      <td>12</td>\n",
              "      <td>2008</td>\n",
              "      <td>WD</td>\n",
              "      <td>Normal</td>\n",
              "      <td>250000</td>\n",
              "    </tr>\n",
              "  </tbody>\n",
              "</table>\n",
              "<p>5 rows × 81 columns</p>\n",
              "</div>"
            ],
            "text/plain": [
              "   Id  MSSubClass MSZoning  ...  SaleType  SaleCondition SalePrice\n",
              "0   1          60       RL  ...        WD         Normal    208500\n",
              "1   2          20       RL  ...        WD         Normal    181500\n",
              "2   3          60       RL  ...        WD         Normal    223500\n",
              "3   4          70       RL  ...        WD        Abnorml    140000\n",
              "4   5          60       RL  ...        WD         Normal    250000\n",
              "\n",
              "[5 rows x 81 columns]"
            ]
          },
          "metadata": {},
          "execution_count": 5
        }
      ]
    },
    {
      "cell_type": "code",
      "metadata": {
        "colab": {
          "base_uri": "https://localhost:8080/",
          "height": 607
        },
        "id": "fMJQLSs8myPm",
        "outputId": "83ae7dfe-0c41-4f62-ec7f-69388db2ceb4"
      },
      "source": [
        "# есть пустые значения, поэтому построим график \n",
        "fig, ax = plt.subplots(figsize=(18,12))\n",
        "sns.heatmap(dataset_train.isnull(), cbar=False, cmap=\"YlGnBu_r\")\n",
        "plt.show()"
      ],
      "execution_count": 6,
      "outputs": [
        {
          "output_type": "display_data",
          "data": {
            "image/png": "[encoded data removed]",
            "text/plain": [
              "<Figure size 1296x864 with 1 Axes>"
            ]
          },
          "metadata": {
            "needs_background": "light"
          }
        }
      ]
    },
    {
      "cell_type": "code",
      "metadata": {
        "id": "QLcJ11JErHt3"
      },
      "source": [
        "# удалим колонки с почти пустыми данными и колонку Id\n",
        "dataset_train.drop(columns=['Id','PoolQC','Fence','MiscFeature','FireplaceQu','Alley'],inplace=True)\n",
        "dataset_test.drop(columns=['Id','PoolQC','Fence','MiscFeature','FireplaceQu','Alley'],inplace=True)"
      ],
      "execution_count": 7,
      "outputs": []
    },
    {
      "cell_type": "code",
      "metadata": {
        "colab": {
          "base_uri": "https://localhost:8080/",
          "height": 661
        },
        "id": "3kZXcwaDqTfx",
        "outputId": "b2db20ca-04c1-4f51-f357-716e4685d10e"
      },
      "source": [
        "fig = plt.figure(figsize=(12,10))\n",
        "sns.heatmap(dataset_train.corr())\n",
        "plt.show()"
      ],
      "execution_count": 8,
      "outputs": [
        {
          "output_type": "display_data",
          "data": {
            "image/png": "[encoded data removed]",
            "text/plain": [
              "<Figure size 864x720 with 2 Axes>"
            ]
          },
          "metadata": {
            "needs_background": "light"
          }
        }
      ]
    },
    {
      "cell_type": "code",
      "metadata": {
        "id": "ipFdVQZFxvrO"
      },
      "source": [
        "# corr = dataset_train.corr()\n",
        "# corr_arr = np.asarray(corr)"
      ],
      "execution_count": 9,
      "outputs": []
    },
    {
      "cell_type": "code",
      "metadata": {
        "id": "PXCHgzxVzL2j"
      },
      "source": [
        "# feachures = corr.columns"
      ],
      "execution_count": 10,
      "outputs": []
    },
    {
      "cell_type": "code",
      "metadata": {
        "id": "BRVkrQFUNku-"
      },
      "source": [
        "# # Получим коррелирующие признаки\n",
        "# for corr_i in range(len(corr_arr)):\n",
        "#     for corr_j in range(corr_i,len(corr_arr[corr_i])):\n",
        "#         if abs(corr_arr[corr_i][corr_j]) > 0.75 and abs(corr_arr[corr_i][corr_j]) != 1 and corr_i!=corr_j:\n",
        "#             if feachures[corr_i] != 'SalePrice' and feachures[corr_j] != 'SalePrice':\n",
        "#                 print(feachures[corr_i],feachures[corr_j],corr_arr[corr_i][corr_j])\n",
        "#                 # посчитаем у кого больше корреляция с таргетом:\n",
        "#                 print(corr[feachures[corr_i]].SalePrice)\n",
        "#                 print(corr[feachures[corr_j]].SalePrice)\n",
        "#                 print('-----------------')"
      ],
      "execution_count": 11,
      "outputs": []
    },
    {
      "cell_type": "code",
      "metadata": {
        "id": "7DX280rWzTKw"
      },
      "source": [
        "# # видны корреляции:\n",
        "# # TotalBsmtSF 1stFlrSF\n",
        "# # YearBuilt GarageYrBlt\n",
        "# # GrLivArea TotRmsAbvGrd\n",
        "# # GarageCars GarageArea\n",
        "# # будем дропать фичу, у которой корреляция с таргетом меньше, исходя из полученных ранее данных\n",
        "# dataset_train.drop(columns=['GarageYrBlt','1stFlrSF','TotRmsAbvGrd','GarageArea'],inplace=True)\n",
        "# dataset_test.drop(columns=['GarageYrBlt','1stFlrSF','TotRmsAbvGrd','GarageArea'],inplace=True)"
      ],
      "execution_count": 12,
      "outputs": []
    },
    {
      "cell_type": "code",
      "metadata": {
        "colab": {
          "base_uri": "https://localhost:8080/"
        },
        "id": "TE7xk1DY42Wd",
        "outputId": "da55b524-d2c8-4df9-af9a-7190b57021b4"
      },
      "source": [
        "# посмотрим на список уникальных значений по каждому столбцу типа object\n",
        "# в которых есть nan\n",
        "for_plot = []\n",
        "for col in dataset_train.select_dtypes(include='object').columns:\n",
        "    unic_tmp = dataset_train[col]\n",
        "    if unic_tmp.isnull().any():\n",
        "        print(col,unic_tmp.unique())\n",
        "        for_plot.append(col)        "
      ],
      "execution_count": 13,
      "outputs": [
        {
          "output_type": "stream",
          "name": "stdout",
          "text": [
            "MasVnrType ['BrkFace' 'None' 'Stone' 'BrkCmn' nan]\n",
            "BsmtQual ['Gd' 'TA' 'Ex' nan 'Fa']\n",
            "BsmtCond ['TA' 'Gd' nan 'Fa' 'Po']\n",
            "BsmtExposure ['No' 'Gd' 'Mn' 'Av' nan]\n",
            "BsmtFinType1 ['GLQ' 'ALQ' 'Unf' 'Rec' 'BLQ' nan 'LwQ']\n",
            "BsmtFinType2 ['Unf' 'BLQ' nan 'ALQ' 'Rec' 'LwQ' 'GLQ']\n",
            "Electrical ['SBrkr' 'FuseF' 'FuseA' 'FuseP' 'Mix' nan]\n",
            "GarageType ['Attchd' 'Detchd' 'BuiltIn' 'CarPort' nan 'Basment' '2Types']\n",
            "GarageFinish ['RFn' 'Unf' 'Fin' nan]\n",
            "GarageQual ['TA' 'Fa' 'Gd' nan 'Ex' 'Po']\n",
            "GarageCond ['TA' 'Fa' nan 'Gd' 'Po' 'Ex']\n"
          ]
        }
      ]
    },
    {
      "cell_type": "code",
      "metadata": {
        "colab": {
          "base_uri": "https://localhost:8080/"
        },
        "id": "mvqri5Zg9Hjr",
        "outputId": "ebc1f2af-ca37-49df-c62e-833d1b2dab21"
      },
      "source": [
        "# удалим все значения с типом nan, но до этого посмотрим, сколько строк у датасета\n",
        "print(dataset_train.shape)\n",
        "print(dataset_train.dropna().shape)\n",
        "# теряется достаточно много данных, поэтому с этим надо что-то делать"
      ],
      "execution_count": 14,
      "outputs": [
        {
          "output_type": "stream",
          "name": "stdout",
          "text": [
            "(1460, 75)\n",
            "(1094, 75)\n"
          ]
        }
      ]
    },
    {
      "cell_type": "code",
      "metadata": {
        "colab": {
          "base_uri": "https://localhost:8080/",
          "height": 607
        },
        "id": "ab4Op6Ve9nI7",
        "outputId": "c5692978-1ee1-4039-8ae9-1030dfed76cb"
      },
      "source": [
        "# построим еще раз график нулевых значений \n",
        "fig, ax = plt.subplots(figsize=(18,12))\n",
        "sns.heatmap(dataset_train.isnull(), cbar=False, cmap=\"YlGnBu_r\")\n",
        "plt.show()"
      ],
      "execution_count": 15,
      "outputs": [
        {
          "output_type": "display_data",
          "data": {
            "image/png": "[encoded data removed]",
            "text/plain": [
              "<Figure size 1296x864 with 1 Axes>"
            ]
          },
          "metadata": {
            "needs_background": "light"
          }
        }
      ]
    },
    {
      "cell_type": "code",
      "metadata": {
        "id": "XZ1Iehmz-eff"
      },
      "source": [
        "def fillna_mean(dataset,column_name):\n",
        "    dataset[column_name] = dataset[column_name].fillna(dataset[~dataset[column_name].isnull()][column_name].mean())"
      ],
      "execution_count": 16,
      "outputs": []
    },
    {
      "cell_type": "code",
      "metadata": {
        "id": "FhoGtlib74_5"
      },
      "source": [
        "# заполним пустые значения по LotFrontage средним по всему столбцу\n",
        "fillna_mean(dataset_train,'LotFrontage')\n",
        "fillna_mean(dataset_test,'LotFrontage')"
      ],
      "execution_count": 17,
      "outputs": []
    },
    {
      "cell_type": "code",
      "metadata": {
        "colab": {
          "base_uri": "https://localhost:8080/"
        },
        "id": "1eaSikJbAKBP",
        "outputId": "96543e88-6b77-48b2-bfde-f0a0840056c1"
      },
      "source": [
        "dataset_train.LotFrontage.unique()"
      ],
      "execution_count": 18,
      "outputs": [
        {
          "output_type": "execute_result",
          "data": {
            "text/plain": [
              "array([ 65.        ,  80.        ,  68.        ,  60.        ,\n",
              "        84.        ,  85.        ,  75.        ,  70.04995837,\n",
              "        51.        ,  50.        ,  70.        ,  91.        ,\n",
              "        72.        ,  66.        , 101.        ,  57.        ,\n",
              "        44.        , 110.        ,  98.        ,  47.        ,\n",
              "       108.        , 112.        ,  74.        , 115.        ,\n",
              "        61.        ,  48.        ,  33.        ,  52.        ,\n",
              "       100.        ,  24.        ,  89.        ,  63.        ,\n",
              "        76.        ,  81.        ,  95.        ,  69.        ,\n",
              "        21.        ,  32.        ,  78.        , 121.        ,\n",
              "       122.        ,  40.        , 105.        ,  73.        ,\n",
              "        77.        ,  64.        ,  94.        ,  34.        ,\n",
              "        90.        ,  55.        ,  88.        ,  82.        ,\n",
              "        71.        , 120.        , 107.        ,  92.        ,\n",
              "       134.        ,  62.        ,  86.        , 141.        ,\n",
              "        97.        ,  54.        ,  41.        ,  79.        ,\n",
              "       174.        ,  99.        ,  67.        ,  83.        ,\n",
              "        43.        , 103.        ,  93.        ,  30.        ,\n",
              "       129.        , 140.        ,  35.        ,  37.        ,\n",
              "       118.        ,  87.        , 116.        , 150.        ,\n",
              "       111.        ,  49.        ,  96.        ,  59.        ,\n",
              "        36.        ,  56.        , 102.        ,  58.        ,\n",
              "        38.        , 109.        , 130.        ,  53.        ,\n",
              "       137.        ,  45.        , 106.        , 104.        ,\n",
              "        42.        ,  39.        , 144.        , 114.        ,\n",
              "       128.        , 149.        , 313.        , 168.        ,\n",
              "       182.        , 138.        , 160.        , 152.        ,\n",
              "       124.        , 153.        ,  46.        ])"
            ]
          },
          "metadata": {},
          "execution_count": 18
        }
      ]
    },
    {
      "cell_type": "code",
      "metadata": {
        "colab": {
          "base_uri": "https://localhost:8080/"
        },
        "id": "2DryTkf6-CvT",
        "outputId": "c4003fc1-adc9-44cb-a1bc-aabf60c55e15"
      },
      "source": [
        "dataset_train[~dataset_train.LotFrontage.isnull()].shape"
      ],
      "execution_count": 19,
      "outputs": [
        {
          "output_type": "execute_result",
          "data": {
            "text/plain": [
              "(1460, 75)"
            ]
          },
          "metadata": {},
          "execution_count": 19
        }
      ]
    },
    {
      "cell_type": "code",
      "metadata": {
        "colab": {
          "base_uri": "https://localhost:8080/"
        },
        "id": "J9i_bXN88zeZ",
        "outputId": "238904f4-daf5-4f7c-8630-1fd0cdfd4c98"
      },
      "source": [
        "# удалим все значения с типом nan, но до этого посмотрим, сколько строк у датасета\n",
        "print(dataset_train.shape)\n",
        "print(dataset_train.dropna().shape)\n",
        "# теперь, если удалить пустые - потеряется 122 записи, что уже не столь критично\n",
        "# поэтому удалим пустые значения"
      ],
      "execution_count": 20,
      "outputs": [
        {
          "output_type": "stream",
          "name": "stdout",
          "text": [
            "(1460, 75)\n",
            "(1338, 75)\n"
          ]
        }
      ]
    },
    {
      "cell_type": "code",
      "metadata": {
        "colab": {
          "base_uri": "https://localhost:8080/"
        },
        "id": "Yv3x9pnevdJh",
        "outputId": "9350739f-2a72-439d-bbe9-91b2313e4463"
      },
      "source": [
        "# еще раз посмотрим на список уникальных значений по каждому столбцу, где есть nan\n",
        "# и попробуем понять, чем можно заменить nan\n",
        "for_plot = []\n",
        "for col in dataset_train.select_dtypes(include='object').columns:\n",
        "    unic_tmp = dataset_train[col]\n",
        "    if unic_tmp.isnull().any():\n",
        "        print(col,unic_tmp.unique())\n",
        "        for_plot.append(col)"
      ],
      "execution_count": 21,
      "outputs": [
        {
          "output_type": "stream",
          "name": "stdout",
          "text": [
            "MasVnrType ['BrkFace' 'None' 'Stone' 'BrkCmn' nan]\n",
            "BsmtQual ['Gd' 'TA' 'Ex' nan 'Fa']\n",
            "BsmtCond ['TA' 'Gd' nan 'Fa' 'Po']\n",
            "BsmtExposure ['No' 'Gd' 'Mn' 'Av' nan]\n",
            "BsmtFinType1 ['GLQ' 'ALQ' 'Unf' 'Rec' 'BLQ' nan 'LwQ']\n",
            "BsmtFinType2 ['Unf' 'BLQ' nan 'ALQ' 'Rec' 'LwQ' 'GLQ']\n",
            "Electrical ['SBrkr' 'FuseF' 'FuseA' 'FuseP' 'Mix' nan]\n",
            "GarageType ['Attchd' 'Detchd' 'BuiltIn' 'CarPort' nan 'Basment' '2Types']\n",
            "GarageFinish ['RFn' 'Unf' 'Fin' nan]\n",
            "GarageQual ['TA' 'Fa' 'Gd' nan 'Ex' 'Po']\n",
            "GarageCond ['TA' 'Fa' nan 'Gd' 'Po' 'Ex']\n"
          ]
        }
      ]
    },
    {
      "cell_type": "code",
      "metadata": {
        "id": "ZasvsSZ6wsuG"
      },
      "source": [
        "dataset_train.MasVnrType.fillna('None',inplace=True)"
      ],
      "execution_count": 22,
      "outputs": []
    },
    {
      "cell_type": "code",
      "metadata": {
        "id": "CUiXghvexF-h"
      },
      "source": [
        "dataset_test.MasVnrType.fillna('None',inplace=True)"
      ],
      "execution_count": 23,
      "outputs": []
    },
    {
      "cell_type": "code",
      "metadata": {
        "id": "y-LvTR_Q1ION"
      },
      "source": [
        "for_plot.append('SalePrice')"
      ],
      "execution_count": 24,
      "outputs": []
    },
    {
      "cell_type": "code",
      "metadata": {
        "id": "U9bpv_FDziOO"
      },
      "source": [
        "dataset_for_corr = dataset_train[for_plot].dropna()"
      ],
      "execution_count": 25,
      "outputs": []
    },
    {
      "cell_type": "code",
      "metadata": {
        "colab": {
          "base_uri": "https://localhost:8080/",
          "height": 226
        },
        "id": "joxMcx95z32B",
        "outputId": "c0e5904b-6829-4710-bc36-d47a73ffef19"
      },
      "source": [
        "dataset_for_corr.head()"
      ],
      "execution_count": 26,
      "outputs": [
        {
          "output_type": "execute_result",
          "data": {
            "text/html": [
              "<div>\n",
              "<style scoped>\n",
              "    .dataframe tbody tr th:only-of-type {\n",
              "        vertical-align: middle;\n",
              "    }\n",
              "\n",
              "    .dataframe tbody tr th {\n",
              "        vertical-align: top;\n",
              "    }\n",
              "\n",
              "    .dataframe thead th {\n",
              "        text-align: right;\n",
              "    }\n",
              "</style>\n",
              "<table border=\"1\" class=\"dataframe\">\n",
              "  <thead>\n",
              "    <tr style=\"text-align: right;\">\n",
              "      <th></th>\n",
              "      <th>MasVnrType</th>\n",
              "      <th>BsmtQual</th>\n",
              "      <th>BsmtCond</th>\n",
              "      <th>BsmtExposure</th>\n",
              "      <th>BsmtFinType1</th>\n",
              "      <th>BsmtFinType2</th>\n",
              "      <th>Electrical</th>\n",
              "      <th>GarageType</th>\n",
              "      <th>GarageFinish</th>\n",
              "      <th>GarageQual</th>\n",
              "      <th>GarageCond</th>\n",
              "      <th>SalePrice</th>\n",
              "    </tr>\n",
              "  </thead>\n",
              "  <tbody>\n",
              "    <tr>\n",
              "      <th>0</th>\n",
              "      <td>BrkFace</td>\n",
              "      <td>Gd</td>\n",
              "      <td>TA</td>\n",
              "      <td>No</td>\n",
              "      <td>GLQ</td>\n",
              "      <td>Unf</td>\n",
              "      <td>SBrkr</td>\n",
              "      <td>Attchd</td>\n",
              "      <td>RFn</td>\n",
              "      <td>TA</td>\n",
              "      <td>TA</td>\n",
              "      <td>208500</td>\n",
              "    </tr>\n",
              "    <tr>\n",
              "      <th>1</th>\n",
              "      <td>None</td>\n",
              "      <td>Gd</td>\n",
              "      <td>TA</td>\n",
              "      <td>Gd</td>\n",
              "      <td>ALQ</td>\n",
              "      <td>Unf</td>\n",
              "      <td>SBrkr</td>\n",
              "      <td>Attchd</td>\n",
              "      <td>RFn</td>\n",
              "      <td>TA</td>\n",
              "      <td>TA</td>\n",
              "      <td>181500</td>\n",
              "    </tr>\n",
              "    <tr>\n",
              "      <th>2</th>\n",
              "      <td>BrkFace</td>\n",
              "      <td>Gd</td>\n",
              "      <td>TA</td>\n",
              "      <td>Mn</td>\n",
              "      <td>GLQ</td>\n",
              "      <td>Unf</td>\n",
              "      <td>SBrkr</td>\n",
              "      <td>Attchd</td>\n",
              "      <td>RFn</td>\n",
              "      <td>TA</td>\n",
              "      <td>TA</td>\n",
              "      <td>223500</td>\n",
              "    </tr>\n",
              "    <tr>\n",
              "      <th>3</th>\n",
              "      <td>None</td>\n",
              "      <td>TA</td>\n",
              "      <td>Gd</td>\n",
              "      <td>No</td>\n",
              "      <td>ALQ</td>\n",
              "      <td>Unf</td>\n",
              "      <td>SBrkr</td>\n",
              "      <td>Detchd</td>\n",
              "      <td>Unf</td>\n",
              "      <td>TA</td>\n",
              "      <td>TA</td>\n",
              "      <td>140000</td>\n",
              "    </tr>\n",
              "    <tr>\n",
              "      <th>4</th>\n",
              "      <td>BrkFace</td>\n",
              "      <td>Gd</td>\n",
              "      <td>TA</td>\n",
              "      <td>Av</td>\n",
              "      <td>GLQ</td>\n",
              "      <td>Unf</td>\n",
              "      <td>SBrkr</td>\n",
              "      <td>Attchd</td>\n",
              "      <td>RFn</td>\n",
              "      <td>TA</td>\n",
              "      <td>TA</td>\n",
              "      <td>250000</td>\n",
              "    </tr>\n",
              "  </tbody>\n",
              "</table>\n",
              "</div>"
            ],
            "text/plain": [
              "  MasVnrType BsmtQual BsmtCond  ... GarageQual GarageCond SalePrice\n",
              "0    BrkFace       Gd       TA  ...         TA         TA    208500\n",
              "1       None       Gd       TA  ...         TA         TA    181500\n",
              "2    BrkFace       Gd       TA  ...         TA         TA    223500\n",
              "3       None       TA       Gd  ...         TA         TA    140000\n",
              "4    BrkFace       Gd       TA  ...         TA         TA    250000\n",
              "\n",
              "[5 rows x 12 columns]"
            ]
          },
          "metadata": {},
          "execution_count": 26
        }
      ]
    },
    {
      "cell_type": "code",
      "metadata": {
        "colab": {
          "base_uri": "https://localhost:8080/"
        },
        "id": "Lp-nLJ1Dz51a",
        "outputId": "713cfe36-cf5a-4fe0-e4d2-775c3e279be2"
      },
      "source": [
        "dataset_for_corr.shape"
      ],
      "execution_count": 27,
      "outputs": [
        {
          "output_type": "execute_result",
          "data": {
            "text/plain": [
              "(1346, 12)"
            ]
          },
          "metadata": {},
          "execution_count": 27
        }
      ]
    },
    {
      "cell_type": "code",
      "metadata": {
        "id": "M6AweFEa0tWJ"
      },
      "source": [
        "# в новом датасете для поиска корреляции - с помощью labelEncoding перекодируем признаки\n",
        "le = LabelEncoder()\n",
        "for col in for_plot:\n",
        "    dataset_for_corr[col] = le.fit_transform(dataset_for_corr[col])"
      ],
      "execution_count": 28,
      "outputs": []
    },
    {
      "cell_type": "code",
      "metadata": {
        "colab": {
          "base_uri": "https://localhost:8080/"
        },
        "id": "c3mxp97036nx",
        "outputId": "49eb2e47-7818-4592-986f-964f78b1796d"
      },
      "source": [
        "# выведем вектор корреляции признаков с ценой и отметим, \n",
        "# что больше всего корреляции имеют столбцы BsmtQual, GarageType и GarageFinish\n",
        "# остальные признаки имеют корреляцию близку к нулю, поэтому их удалим\n",
        "# а с оставшимися двумя будем решать, что делать с пропущенными значениями\n",
        "# я бы заполнил их медианным значением\n",
        "corr_array = dataset_for_corr.corr().SalePrice\n",
        "corr_array"
      ],
      "execution_count": 29,
      "outputs": [
        {
          "output_type": "execute_result",
          "data": {
            "text/plain": [
              "MasVnrType      0.014634\n",
              "BsmtQual       -0.589485\n",
              "BsmtCond        0.058061\n",
              "BsmtExposure   -0.284474\n",
              "BsmtFinType1   -0.047834\n",
              "BsmtFinType2    0.060371\n",
              "Electrical      0.251636\n",
              "GarageType     -0.441106\n",
              "GarageFinish   -0.570252\n",
              "GarageQual      0.159077\n",
              "GarageCond      0.177233\n",
              "SalePrice       1.000000\n",
              "Name: SalePrice, dtype: float64"
            ]
          },
          "metadata": {},
          "execution_count": 29
        }
      ]
    },
    {
      "cell_type": "code",
      "metadata": {
        "id": "Z4w1egcZSOdQ"
      },
      "source": [
        "drop_ = [col for i,col in enumerate(for_plot) if abs(corr_array[i]) < 0.5]"
      ],
      "execution_count": 30,
      "outputs": []
    },
    {
      "cell_type": "code",
      "metadata": {
        "colab": {
          "base_uri": "https://localhost:8080/"
        },
        "id": "wgJ83b_PSyQH",
        "outputId": "13c1de3b-b7d8-455e-f02c-9ac062644ae1"
      },
      "source": [
        "drop_"
      ],
      "execution_count": 31,
      "outputs": [
        {
          "output_type": "execute_result",
          "data": {
            "text/plain": [
              "['MasVnrType',\n",
              " 'BsmtCond',\n",
              " 'BsmtExposure',\n",
              " 'BsmtFinType1',\n",
              " 'BsmtFinType2',\n",
              " 'Electrical',\n",
              " 'GarageType',\n",
              " 'GarageQual',\n",
              " 'GarageCond']"
            ]
          },
          "metadata": {},
          "execution_count": 31
        }
      ]
    },
    {
      "cell_type": "code",
      "metadata": {
        "id": "pls7R5xLTYct"
      },
      "source": [
        "dataset_train.drop(columns=drop_,axis=1,inplace=True)\n",
        "dataset_test.drop(columns=drop_,axis=1,inplace=True)"
      ],
      "execution_count": 32,
      "outputs": []
    },
    {
      "cell_type": "code",
      "metadata": {
        "colab": {
          "base_uri": "https://localhost:8080/"
        },
        "id": "BtHc3rSZTn3c",
        "outputId": "b9fec685-de08-44f6-f06b-5290652a091d"
      },
      "source": [
        "# еще раз посмотрим на список уникальных значений по каждому столбцу, где есть nan\n",
        "# и попробуем понять, чем можно заменить nan\n",
        "for_plot = []\n",
        "for col in dataset_train.select_dtypes(include='object').columns:\n",
        "    unic_tmp = dataset_train[col]\n",
        "    if unic_tmp.isnull().any():\n",
        "        print(col,unic_tmp.unique())\n",
        "        for_plot.append(col)"
      ],
      "execution_count": 33,
      "outputs": [
        {
          "output_type": "stream",
          "name": "stdout",
          "text": [
            "BsmtQual ['Gd' 'TA' 'Ex' nan 'Fa']\n",
            "GarageFinish ['RFn' 'Unf' 'Fin' nan]\n"
          ]
        }
      ]
    },
    {
      "cell_type": "code",
      "metadata": {
        "id": "KBaGR72QUBOL"
      },
      "source": [
        "# заполним медианным значением\n",
        "dataset_train.BsmtQual.fillna(dataset_train.BsmtQual.value_counts().idxmax(),inplace=True)\n",
        "dataset_test.BsmtQual.fillna(dataset_test.BsmtQual.value_counts().idxmax(),inplace=True)\n",
        "dataset_train.GarageFinish.fillna(dataset_train.GarageFinish.value_counts().idxmax(),inplace=True)\n",
        "dataset_test.GarageFinish.fillna(dataset_test.GarageFinish.value_counts().idxmax(),inplace=True)"
      ],
      "execution_count": 34,
      "outputs": []
    },
    {
      "cell_type": "code",
      "metadata": {
        "colab": {
          "base_uri": "https://localhost:8080/",
          "height": 550
        },
        "id": "hc43JZj2VZ9u",
        "outputId": "1e7e4b89-24ad-4481-cdb7-059f5252c979"
      },
      "source": [
        "# построим еще раз график нулевых значений \n",
        "fig, ax = plt.subplots(figsize=(14,8))\n",
        "sns.heatmap(dataset_train.isnull(), cbar=False, cmap=\"YlGnBu_r\")\n",
        "plt.show()"
      ],
      "execution_count": 35,
      "outputs": [
        {
          "output_type": "display_data",
          "data": {
            "image/png": "[encoded data removed]",
            "text/plain": [
              "<Figure size 1008x576 with 1 Axes>"
            ]
          },
          "metadata": {
            "needs_background": "light"
          }
        }
      ]
    },
    {
      "cell_type": "code",
      "metadata": {
        "colab": {
          "base_uri": "https://localhost:8080/"
        },
        "id": "PZLMEeloVjgq",
        "outputId": "e019c3c2-a022-4420-895a-2e27d271ed8c"
      },
      "source": [
        "# посмотрим на список уникальных значений по каждому столбцу типа float, где есть nan\n",
        "for col in dataset_train.select_dtypes(include='float').columns:\n",
        "    unic_tmp = dataset_train[col]\n",
        "    if unic_tmp.isnull().any():\n",
        "        print(col)"
      ],
      "execution_count": 36,
      "outputs": [
        {
          "output_type": "stream",
          "name": "stdout",
          "text": [
            "MasVnrArea\n",
            "GarageYrBlt\n"
          ]
        }
      ]
    },
    {
      "cell_type": "code",
      "metadata": {
        "id": "nnguO51xVriM"
      },
      "source": [
        "# заполним пустые значения по GarageYrBlt и MasVnrArea средним по всему столбцу\n",
        "fillna_mean(dataset_train,'GarageYrBlt')\n",
        "fillna_mean(dataset_test,'GarageYrBlt')\n",
        "fillna_mean(dataset_train,'MasVnrArea')\n",
        "fillna_mean(dataset_test,'MasVnrArea')"
      ],
      "execution_count": 37,
      "outputs": []
    },
    {
      "cell_type": "code",
      "metadata": {
        "id": "KwfD1OoPXy8E"
      },
      "source": [
        "# в тестовом датасете остались пропуски, заполним их средним\n",
        "for col in dataset_test.select_dtypes(include='float').columns:\n",
        "    unic_tmp = dataset_test[col]\n",
        "    if unic_tmp.isnull().any():\n",
        "        fillna_mean(dataset_test,col)"
      ],
      "execution_count": 38,
      "outputs": []
    },
    {
      "cell_type": "code",
      "metadata": {
        "id": "tkp5c-fBWmvd"
      },
      "source": [
        "for col in dataset_train.select_dtypes(include='object').columns:\n",
        "    dataset_train[col] = le.fit_transform(dataset_train[col])"
      ],
      "execution_count": 39,
      "outputs": []
    },
    {
      "cell_type": "code",
      "metadata": {
        "id": "pm6ndxnO2LXt"
      },
      "source": [
        "for col in dataset_test.select_dtypes(include='object').columns:\n",
        "    unic_tmp = dataset_test[col]\n",
        "    if unic_tmp.isnull().any():\n",
        "        dataset_test[col].fillna(dataset_test[col].value_counts().idxmax(),inplace=True)"
      ],
      "execution_count": 40,
      "outputs": []
    },
    {
      "cell_type": "code",
      "metadata": {
        "id": "cOTDS8C01-J_"
      },
      "source": [
        "for col in dataset_test.select_dtypes(include='object').columns:\n",
        "    dataset_test[col] = le.fit_transform(dataset_test[col])"
      ],
      "execution_count": 41,
      "outputs": []
    },
    {
      "cell_type": "code",
      "metadata": {
        "colab": {
          "base_uri": "https://localhost:8080/",
          "height": 829
        },
        "id": "nBXkzsQ5O7eX",
        "outputId": "cc9d71c6-003f-4abe-ea2f-23f859800e79"
      },
      "source": [
        "fig = plt.figure(figsize=(14,14))\n",
        "sns.heatmap(dataset_train.corr(),square=True)"
      ],
      "execution_count": null,
      "outputs": [
        {
          "output_type": "execute_result",
          "data": {
            "text/plain": [
              "<matplotlib.axes._subplots.AxesSubplot at 0x7f71f85b0510>"
            ]
          },
          "metadata": {},
          "execution_count": 85
        },
        {
          "output_type": "display_data",
          "data": {
            "image/png": "[encoded data removed]",
            "text/plain": [
              "<Figure size 1008x1008 with 2 Axes>"
            ]
          },
          "metadata": {
            "needs_background": "light"
          }
        }
      ]
    },
    {
      "cell_type": "code",
      "metadata": {
        "colab": {
          "base_uri": "https://localhost:8080/",
          "height": 226
        },
        "id": "Vel7Gkw-hlX5",
        "outputId": "73fcabc0-d96d-4da2-d92b-670e37fbaebc"
      },
      "source": [
        "dataset_train.head()"
      ],
      "execution_count": null,
      "outputs": [
        {
          "output_type": "execute_result",
          "data": {
            "text/html": [
              "<div>\n",
              "<style scoped>\n",
              "    .dataframe tbody tr th:only-of-type {\n",
              "        vertical-align: middle;\n",
              "    }\n",
              "\n",
              "    .dataframe tbody tr th {\n",
              "        vertical-align: top;\n",
              "    }\n",
              "\n",
              "    .dataframe thead th {\n",
              "        text-align: right;\n",
              "    }\n",
              "</style>\n",
              "<table border=\"1\" class=\"dataframe\">\n",
              "  <thead>\n",
              "    <tr style=\"text-align: right;\">\n",
              "      <th></th>\n",
              "      <th>MSSubClass</th>\n",
              "      <th>MSZoning</th>\n",
              "      <th>LotFrontage</th>\n",
              "      <th>LotArea</th>\n",
              "      <th>Street</th>\n",
              "      <th>LotShape</th>\n",
              "      <th>LandContour</th>\n",
              "      <th>Utilities</th>\n",
              "      <th>LotConfig</th>\n",
              "      <th>LandSlope</th>\n",
              "      <th>Neighborhood</th>\n",
              "      <th>Condition1</th>\n",
              "      <th>Condition2</th>\n",
              "      <th>BldgType</th>\n",
              "      <th>HouseStyle</th>\n",
              "      <th>OverallQual</th>\n",
              "      <th>OverallCond</th>\n",
              "      <th>YearBuilt</th>\n",
              "      <th>YearRemodAdd</th>\n",
              "      <th>RoofStyle</th>\n",
              "      <th>RoofMatl</th>\n",
              "      <th>Exterior1st</th>\n",
              "      <th>Exterior2nd</th>\n",
              "      <th>MasVnrArea</th>\n",
              "      <th>ExterQual</th>\n",
              "      <th>ExterCond</th>\n",
              "      <th>Foundation</th>\n",
              "      <th>BsmtQual</th>\n",
              "      <th>BsmtFinSF1</th>\n",
              "      <th>BsmtFinSF2</th>\n",
              "      <th>BsmtUnfSF</th>\n",
              "      <th>TotalBsmtSF</th>\n",
              "      <th>Heating</th>\n",
              "      <th>HeatingQC</th>\n",
              "      <th>CentralAir</th>\n",
              "      <th>1stFlrSF</th>\n",
              "      <th>2ndFlrSF</th>\n",
              "      <th>LowQualFinSF</th>\n",
              "      <th>GrLivArea</th>\n",
              "      <th>BsmtFullBath</th>\n",
              "      <th>BsmtHalfBath</th>\n",
              "      <th>FullBath</th>\n",
              "      <th>HalfBath</th>\n",
              "      <th>BedroomAbvGr</th>\n",
              "      <th>KitchenAbvGr</th>\n",
              "      <th>KitchenQual</th>\n",
              "      <th>TotRmsAbvGrd</th>\n",
              "      <th>Functional</th>\n",
              "      <th>Fireplaces</th>\n",
              "      <th>GarageYrBlt</th>\n",
              "      <th>GarageFinish</th>\n",
              "      <th>GarageCars</th>\n",
              "      <th>GarageArea</th>\n",
              "      <th>PavedDrive</th>\n",
              "      <th>WoodDeckSF</th>\n",
              "      <th>OpenPorchSF</th>\n",
              "      <th>EnclosedPorch</th>\n",
              "      <th>3SsnPorch</th>\n",
              "      <th>ScreenPorch</th>\n",
              "      <th>PoolArea</th>\n",
              "      <th>MiscVal</th>\n",
              "      <th>MoSold</th>\n",
              "      <th>YrSold</th>\n",
              "      <th>SaleType</th>\n",
              "      <th>SaleCondition</th>\n",
              "      <th>SalePrice</th>\n",
              "    </tr>\n",
              "  </thead>\n",
              "  <tbody>\n",
              "    <tr>\n",
              "      <th>0</th>\n",
              "      <td>60</td>\n",
              "      <td>RL</td>\n",
              "      <td>65.0</td>\n",
              "      <td>8450</td>\n",
              "      <td>Pave</td>\n",
              "      <td>Reg</td>\n",
              "      <td>Lvl</td>\n",
              "      <td>AllPub</td>\n",
              "      <td>Inside</td>\n",
              "      <td>Gtl</td>\n",
              "      <td>CollgCr</td>\n",
              "      <td>Norm</td>\n",
              "      <td>Norm</td>\n",
              "      <td>1Fam</td>\n",
              "      <td>2Story</td>\n",
              "      <td>7</td>\n",
              "      <td>5</td>\n",
              "      <td>2003</td>\n",
              "      <td>2003</td>\n",
              "      <td>Gable</td>\n",
              "      <td>CompShg</td>\n",
              "      <td>VinylSd</td>\n",
              "      <td>VinylSd</td>\n",
              "      <td>196.0</td>\n",
              "      <td>Gd</td>\n",
              "      <td>TA</td>\n",
              "      <td>PConc</td>\n",
              "      <td>Gd</td>\n",
              "      <td>706</td>\n",
              "      <td>0</td>\n",
              "      <td>150</td>\n",
              "      <td>856</td>\n",
              "      <td>GasA</td>\n",
              "      <td>Ex</td>\n",
              "      <td>Y</td>\n",
              "      <td>856</td>\n",
              "      <td>854</td>\n",
              "      <td>0</td>\n",
              "      <td>1710</td>\n",
              "      <td>1</td>\n",
              "      <td>0</td>\n",
              "      <td>2</td>\n",
              "      <td>1</td>\n",
              "      <td>3</td>\n",
              "      <td>1</td>\n",
              "      <td>Gd</td>\n",
              "      <td>8</td>\n",
              "      <td>Typ</td>\n",
              "      <td>0</td>\n",
              "      <td>2003.0</td>\n",
              "      <td>RFn</td>\n",
              "      <td>2</td>\n",
              "      <td>548</td>\n",
              "      <td>Y</td>\n",
              "      <td>0</td>\n",
              "      <td>61</td>\n",
              "      <td>0</td>\n",
              "      <td>0</td>\n",
              "      <td>0</td>\n",
              "      <td>0</td>\n",
              "      <td>0</td>\n",
              "      <td>2</td>\n",
              "      <td>2008</td>\n",
              "      <td>WD</td>\n",
              "      <td>Normal</td>\n",
              "      <td>208500</td>\n",
              "    </tr>\n",
              "    <tr>\n",
              "      <th>1</th>\n",
              "      <td>20</td>\n",
              "      <td>RL</td>\n",
              "      <td>80.0</td>\n",
              "      <td>9600</td>\n",
              "      <td>Pave</td>\n",
              "      <td>Reg</td>\n",
              "      <td>Lvl</td>\n",
              "      <td>AllPub</td>\n",
              "      <td>FR2</td>\n",
              "      <td>Gtl</td>\n",
              "      <td>Veenker</td>\n",
              "      <td>Feedr</td>\n",
              "      <td>Norm</td>\n",
              "      <td>1Fam</td>\n",
              "      <td>1Story</td>\n",
              "      <td>6</td>\n",
              "      <td>8</td>\n",
              "      <td>1976</td>\n",
              "      <td>1976</td>\n",
              "      <td>Gable</td>\n",
              "      <td>CompShg</td>\n",
              "      <td>MetalSd</td>\n",
              "      <td>MetalSd</td>\n",
              "      <td>0.0</td>\n",
              "      <td>TA</td>\n",
              "      <td>TA</td>\n",
              "      <td>CBlock</td>\n",
              "      <td>Gd</td>\n",
              "      <td>978</td>\n",
              "      <td>0</td>\n",
              "      <td>284</td>\n",
              "      <td>1262</td>\n",
              "      <td>GasA</td>\n",
              "      <td>Ex</td>\n",
              "      <td>Y</td>\n",
              "      <td>1262</td>\n",
              "      <td>0</td>\n",
              "      <td>0</td>\n",
              "      <td>1262</td>\n",
              "      <td>0</td>\n",
              "      <td>1</td>\n",
              "      <td>2</td>\n",
              "      <td>0</td>\n",
              "      <td>3</td>\n",
              "      <td>1</td>\n",
              "      <td>TA</td>\n",
              "      <td>6</td>\n",
              "      <td>Typ</td>\n",
              "      <td>1</td>\n",
              "      <td>1976.0</td>\n",
              "      <td>RFn</td>\n",
              "      <td>2</td>\n",
              "      <td>460</td>\n",
              "      <td>Y</td>\n",
              "      <td>298</td>\n",
              "      <td>0</td>\n",
              "      <td>0</td>\n",
              "      <td>0</td>\n",
              "      <td>0</td>\n",
              "      <td>0</td>\n",
              "      <td>0</td>\n",
              "      <td>5</td>\n",
              "      <td>2007</td>\n",
              "      <td>WD</td>\n",
              "      <td>Normal</td>\n",
              "      <td>181500</td>\n",
              "    </tr>\n",
              "    <tr>\n",
              "      <th>2</th>\n",
              "      <td>60</td>\n",
              "      <td>RL</td>\n",
              "      <td>68.0</td>\n",
              "      <td>11250</td>\n",
              "      <td>Pave</td>\n",
              "      <td>IR1</td>\n",
              "      <td>Lvl</td>\n",
              "      <td>AllPub</td>\n",
              "      <td>Inside</td>\n",
              "      <td>Gtl</td>\n",
              "      <td>CollgCr</td>\n",
              "      <td>Norm</td>\n",
              "      <td>Norm</td>\n",
              "      <td>1Fam</td>\n",
              "      <td>2Story</td>\n",
              "      <td>7</td>\n",
              "      <td>5</td>\n",
              "      <td>2001</td>\n",
              "      <td>2002</td>\n",
              "      <td>Gable</td>\n",
              "      <td>CompShg</td>\n",
              "      <td>VinylSd</td>\n",
              "      <td>VinylSd</td>\n",
              "      <td>162.0</td>\n",
              "      <td>Gd</td>\n",
              "      <td>TA</td>\n",
              "      <td>PConc</td>\n",
              "      <td>Gd</td>\n",
              "      <td>486</td>\n",
              "      <td>0</td>\n",
              "      <td>434</td>\n",
              "      <td>920</td>\n",
              "      <td>GasA</td>\n",
              "      <td>Ex</td>\n",
              "      <td>Y</td>\n",
              "      <td>920</td>\n",
              "      <td>866</td>\n",
              "      <td>0</td>\n",
              "      <td>1786</td>\n",
              "      <td>1</td>\n",
              "      <td>0</td>\n",
              "      <td>2</td>\n",
              "      <td>1</td>\n",
              "      <td>3</td>\n",
              "      <td>1</td>\n",
              "      <td>Gd</td>\n",
              "      <td>6</td>\n",
              "      <td>Typ</td>\n",
              "      <td>1</td>\n",
              "      <td>2001.0</td>\n",
              "      <td>RFn</td>\n",
              "      <td>2</td>\n",
              "      <td>608</td>\n",
              "      <td>Y</td>\n",
              "      <td>0</td>\n",
              "      <td>42</td>\n",
              "      <td>0</td>\n",
              "      <td>0</td>\n",
              "      <td>0</td>\n",
              "      <td>0</td>\n",
              "      <td>0</td>\n",
              "      <td>9</td>\n",
              "      <td>2008</td>\n",
              "      <td>WD</td>\n",
              "      <td>Normal</td>\n",
              "      <td>223500</td>\n",
              "    </tr>\n",
              "    <tr>\n",
              "      <th>3</th>\n",
              "      <td>70</td>\n",
              "      <td>RL</td>\n",
              "      <td>60.0</td>\n",
              "      <td>9550</td>\n",
              "      <td>Pave</td>\n",
              "      <td>IR1</td>\n",
              "      <td>Lvl</td>\n",
              "      <td>AllPub</td>\n",
              "      <td>Corner</td>\n",
              "      <td>Gtl</td>\n",
              "      <td>Crawfor</td>\n",
              "      <td>Norm</td>\n",
              "      <td>Norm</td>\n",
              "      <td>1Fam</td>\n",
              "      <td>2Story</td>\n",
              "      <td>7</td>\n",
              "      <td>5</td>\n",
              "      <td>1915</td>\n",
              "      <td>1970</td>\n",
              "      <td>Gable</td>\n",
              "      <td>CompShg</td>\n",
              "      <td>Wd Sdng</td>\n",
              "      <td>Wd Shng</td>\n",
              "      <td>0.0</td>\n",
              "      <td>TA</td>\n",
              "      <td>TA</td>\n",
              "      <td>BrkTil</td>\n",
              "      <td>TA</td>\n",
              "      <td>216</td>\n",
              "      <td>0</td>\n",
              "      <td>540</td>\n",
              "      <td>756</td>\n",
              "      <td>GasA</td>\n",
              "      <td>Gd</td>\n",
              "      <td>Y</td>\n",
              "      <td>961</td>\n",
              "      <td>756</td>\n",
              "      <td>0</td>\n",
              "      <td>1717</td>\n",
              "      <td>1</td>\n",
              "      <td>0</td>\n",
              "      <td>1</td>\n",
              "      <td>0</td>\n",
              "      <td>3</td>\n",
              "      <td>1</td>\n",
              "      <td>Gd</td>\n",
              "      <td>7</td>\n",
              "      <td>Typ</td>\n",
              "      <td>1</td>\n",
              "      <td>1998.0</td>\n",
              "      <td>Unf</td>\n",
              "      <td>3</td>\n",
              "      <td>642</td>\n",
              "      <td>Y</td>\n",
              "      <td>0</td>\n",
              "      <td>35</td>\n",
              "      <td>272</td>\n",
              "      <td>0</td>\n",
              "      <td>0</td>\n",
              "      <td>0</td>\n",
              "      <td>0</td>\n",
              "      <td>2</td>\n",
              "      <td>2006</td>\n",
              "      <td>WD</td>\n",
              "      <td>Abnorml</td>\n",
              "      <td>140000</td>\n",
              "    </tr>\n",
              "    <tr>\n",
              "      <th>4</th>\n",
              "      <td>60</td>\n",
              "      <td>RL</td>\n",
              "      <td>84.0</td>\n",
              "      <td>14260</td>\n",
              "      <td>Pave</td>\n",
              "      <td>IR1</td>\n",
              "      <td>Lvl</td>\n",
              "      <td>AllPub</td>\n",
              "      <td>FR2</td>\n",
              "      <td>Gtl</td>\n",
              "      <td>NoRidge</td>\n",
              "      <td>Norm</td>\n",
              "      <td>Norm</td>\n",
              "      <td>1Fam</td>\n",
              "      <td>2Story</td>\n",
              "      <td>8</td>\n",
              "      <td>5</td>\n",
              "      <td>2000</td>\n",
              "      <td>2000</td>\n",
              "      <td>Gable</td>\n",
              "      <td>CompShg</td>\n",
              "      <td>VinylSd</td>\n",
              "      <td>VinylSd</td>\n",
              "      <td>350.0</td>\n",
              "      <td>Gd</td>\n",
              "      <td>TA</td>\n",
              "      <td>PConc</td>\n",
              "      <td>Gd</td>\n",
              "      <td>655</td>\n",
              "      <td>0</td>\n",
              "      <td>490</td>\n",
              "      <td>1145</td>\n",
              "      <td>GasA</td>\n",
              "      <td>Ex</td>\n",
              "      <td>Y</td>\n",
              "      <td>1145</td>\n",
              "      <td>1053</td>\n",
              "      <td>0</td>\n",
              "      <td>2198</td>\n",
              "      <td>1</td>\n",
              "      <td>0</td>\n",
              "      <td>2</td>\n",
              "      <td>1</td>\n",
              "      <td>4</td>\n",
              "      <td>1</td>\n",
              "      <td>Gd</td>\n",
              "      <td>9</td>\n",
              "      <td>Typ</td>\n",
              "      <td>1</td>\n",
              "      <td>2000.0</td>\n",
              "      <td>RFn</td>\n",
              "      <td>3</td>\n",
              "      <td>836</td>\n",
              "      <td>Y</td>\n",
              "      <td>192</td>\n",
              "      <td>84</td>\n",
              "      <td>0</td>\n",
              "      <td>0</td>\n",
              "      <td>0</td>\n",
              "      <td>0</td>\n",
              "      <td>0</td>\n",
              "      <td>12</td>\n",
              "      <td>2008</td>\n",
              "      <td>WD</td>\n",
              "      <td>Normal</td>\n",
              "      <td>250000</td>\n",
              "    </tr>\n",
              "  </tbody>\n",
              "</table>\n",
              "</div>"
            ],
            "text/plain": [
              "   MSSubClass MSZoning  LotFrontage  ...  SaleType SaleCondition SalePrice\n",
              "0          60       RL         65.0  ...        WD        Normal    208500\n",
              "1          20       RL         80.0  ...        WD        Normal    181500\n",
              "2          60       RL         68.0  ...        WD        Normal    223500\n",
              "3          70       RL         60.0  ...        WD       Abnorml    140000\n",
              "4          60       RL         84.0  ...        WD        Normal    250000\n",
              "\n",
              "[5 rows x 66 columns]"
            ]
          },
          "metadata": {},
          "execution_count": 86
        }
      ]
    },
    {
      "cell_type": "markdown",
      "metadata": {
        "id": "MB0XFn4WWiVw"
      },
      "source": [
        "# XGBoost"
      ]
    },
    {
      "cell_type": "code",
      "metadata": {
        "id": "a-4TuYuTaHI1"
      },
      "source": [
        "import xgboost as xgb\n",
        "from sklearn.model_selection import GridSearchCV\n",
        "from sklearn.metrics import mean_squared_error"
      ],
      "execution_count": 183,
      "outputs": []
    },
    {
      "cell_type": "code",
      "metadata": {
        "id": "VtM-V5G9ajOr"
      },
      "source": [
        "# xg_reg = xgb.XGBRegressor(objective=\"reg:squarederror\",n_estimators=500, max_depth=10, eta=0.1, subsample=0.7, colsample_bytree=0.8)\n",
        "xg_reg = xgb.XGBRegressor()"
      ],
      "execution_count": 184,
      "outputs": []
    },
    {
      "cell_type": "code",
      "metadata": {
        "colab": {
          "base_uri": "https://localhost:8080/",
          "height": 387
        },
        "id": "hfhOX9B0fXqO",
        "outputId": "a8fe92bc-13a9-4d73-e582-309be4ecc163"
      },
      "source": [
        "# отлогорифмируем таргет, чтобы он имел нормальное распределение,\n",
        "# для предсказаний - возьмем в экспоненту\n",
        "dataset_train[\"SalePrice\"] = np.log1p(dataset_train[\"SalePrice\"])\n",
        "sns.displot(dataset_train['SalePrice'])"
      ],
      "execution_count": 185,
      "outputs": [
        {
          "output_type": "execute_result",
          "data": {
            "text/plain": [
              "<seaborn.axisgrid.FacetGrid at 0x7f181c356dd0>"
            ]
          },
          "metadata": {},
          "execution_count": 185
        },
        {
          "output_type": "display_data",
          "data": {
            "image/png": "[encoded data removed]",
            "text/plain": [
              "<Figure size 360x360 with 1 Axes>"
            ]
          },
          "metadata": {
            "needs_background": "light"
          }
        }
      ]
    },
    {
      "cell_type": "code",
      "metadata": {
        "id": "UbBHdFjNauOI"
      },
      "source": [
        "X = dataset_train.drop(columns=['SalePrice'],axis=1)\n",
        "y = dataset_train.SalePrice"
      ],
      "execution_count": 186,
      "outputs": []
    },
    {
      "cell_type": "code",
      "metadata": {
        "id": "VaMgMdnearyS"
      },
      "source": [
        "X_train, X_test, y_train, y_test = train_test_split(X, y, test_size=0.2, random_state=42)"
      ],
      "execution_count": 187,
      "outputs": []
    },
    {
      "cell_type": "code",
      "metadata": {
        "id": "GMHyqFvck8Qx"
      },
      "source": [
        "parameters = {'nthread':[4], #when use hyperthread, xgboost may become slower\n",
        "              'objective':['reg:squarederror'],\n",
        "              'learning_rate': [.03, 0.05, .07], #so called `eta` value\n",
        "              'max_depth': [5, 6, 7],\n",
        "              'min_child_weight': [4],\n",
        "              'silent': [1],\n",
        "              'subsample': [0.3, 0.5, 0.7],\n",
        "              # 'colsample_bytree': [0.3, 0.5, 0.6],\n",
        "              'colsample_bytree':[0.5], \n",
        "              'colsample_bylevel':[0.5], \n",
        "              'colsample_bynode':[0.5],\n",
        "              'n_estimators': [1000]}\n",
        "\n",
        "xgb_grid = GridSearchCV(xg_reg,\n",
        "                        parameters,\n",
        "                        cv = 2,\n",
        "                        n_jobs = 5,\n",
        "                        verbose=True)"
      ],
      "execution_count": 148,
      "outputs": []
    },
    {
      "cell_type": "code",
      "metadata": {
        "colab": {
          "base_uri": "https://localhost:8080/"
        },
        "id": "6RGUQYSmbBUh",
        "outputId": "491b560e-402e-4796-f23c-11f3a109706a"
      },
      "source": [
        "xgb_grid.fit(X_train,y_train)"
      ],
      "execution_count": 149,
      "outputs": [
        {
          "output_type": "stream",
          "name": "stdout",
          "text": [
            "Fitting 2 folds for each of 27 candidates, totalling 54 fits\n"
          ]
        },
        {
          "output_type": "execute_result",
          "data": {
            "text/plain": [
              "GridSearchCV(cv=2, estimator=XGBRegressor(), n_jobs=5,\n",
              "             param_grid={'colsample_bylevel': [0.5], 'colsample_bynode': [0.5],\n",
              "                         'colsample_bytree': [0.5],\n",
              "                         'learning_rate': [0.03, 0.05, 0.07],\n",
              "                         'max_depth': [5, 6, 7], 'min_child_weight': [4],\n",
              "                         'n_estimators': [1000], 'nthread': [4],\n",
              "                         'objective': ['reg:squarederror'], 'silent': [1],\n",
              "                         'subsample': [0.3, 0.5, 0.7]},\n",
              "             verbose=True)"
            ]
          },
          "metadata": {},
          "execution_count": 149
        }
      ]
    },
    {
      "cell_type": "code",
      "metadata": {
        "colab": {
          "base_uri": "https://localhost:8080/"
        },
        "id": "n_LZ42BollGN",
        "outputId": "4e197654-c12a-4b9c-ffba-6444aa3cc0a3"
      },
      "source": [
        "print(xgb_grid.best_score_)\n",
        "print(xgb_grid.best_params_)"
      ],
      "execution_count": 188,
      "outputs": [
        {
          "output_type": "stream",
          "name": "stdout",
          "text": [
            "0.8930261317598549\n",
            "{'colsample_bylevel': 0.5, 'colsample_bynode': 0.5, 'colsample_bytree': 0.5, 'learning_rate': 0.03, 'max_depth': 5, 'min_child_weight': 4, 'n_estimators': 1000, 'nthread': 4, 'objective': 'reg:squarederror', 'silent': 1, 'subsample': 0.5}\n"
          ]
        }
      ]
    },
    {
      "cell_type": "code",
      "metadata": {
        "colab": {
          "base_uri": "https://localhost:8080/"
        },
        "id": "XD7-EFqOeCwL",
        "outputId": "a986d286-3b2c-476b-e764-8b6657f473be"
      },
      "source": [
        "print(xgb_grid.best_score_)"
      ],
      "execution_count": 189,
      "outputs": [
        {
          "output_type": "stream",
          "name": "stdout",
          "text": [
            "0.8930261317598549\n"
          ]
        }
      ]
    },
    {
      "cell_type": "code",
      "metadata": {
        "colab": {
          "base_uri": "https://localhost:8080/"
        },
        "id": "ePjO_EYiTyes",
        "outputId": "3157cdf5-5f1a-46fa-db09-8af9217cd85e"
      },
      "source": [
        "xgb_grid.best_estimator_"
      ],
      "execution_count": 63,
      "outputs": [
        {
          "output_type": "execute_result",
          "data": {
            "text/plain": [
              "XGBRegressor(colsample_bytree=0.7, learning_rate=0.05, max_depth=5,\n",
              "             min_child_weight=3, n_estimators=1000, nthread=4,\n",
              "             objective='reg:squarederror', silent=1, subsample=0.7)"
            ]
          },
          "metadata": {},
          "execution_count": 63
        }
      ]
    },
    {
      "cell_type": "code",
      "metadata": {
        "colab": {
          "base_uri": "https://localhost:8080/"
        },
        "id": "GyQCWXnhl0yz",
        "outputId": "6d75474e-c7d6-403b-d60b-2f433e2d9cb0"
      },
      "source": [
        "xgb_grid.best_estimator_"
      ],
      "execution_count": 113,
      "outputs": [
        {
          "output_type": "execute_result",
          "data": {
            "text/plain": [
              "XGBRegressor(colsample_bytree=0.7, learning_rate=0.03, max_depth=5,\n",
              "             min_child_weight=4, n_estimators=1000, nthread=4,\n",
              "             objective='reg:squarederror', silent=1, subsample=0.7)"
            ]
          },
          "metadata": {},
          "execution_count": 113
        }
      ]
    },
    {
      "cell_type": "code",
      "metadata": {
        "id": "e8JS51hDblIi"
      },
      "source": [
        "preds = xgb_grid.predict(X_test)"
      ],
      "execution_count": 190,
      "outputs": []
    },
    {
      "cell_type": "code",
      "metadata": {
        "colab": {
          "base_uri": "https://localhost:8080/"
        },
        "id": "-bwyJIo8jBsu",
        "outputId": "a69995a2-649b-48cb-dc48-5d3d7142e3b0"
      },
      "source": [
        "preds.shape"
      ],
      "execution_count": 191,
      "outputs": [
        {
          "output_type": "execute_result",
          "data": {
            "text/plain": [
              "(292,)"
            ]
          },
          "metadata": {},
          "execution_count": 191
        }
      ]
    },
    {
      "cell_type": "code",
      "metadata": {
        "colab": {
          "base_uri": "https://localhost:8080/"
        },
        "id": "JeG1qUZ4jEq0",
        "outputId": "470097d4-166b-4ab6-928a-0df2f4861ef2"
      },
      "source": [
        "X_test.shape"
      ],
      "execution_count": 192,
      "outputs": [
        {
          "output_type": "execute_result",
          "data": {
            "text/plain": [
              "(292, 65)"
            ]
          },
          "metadata": {},
          "execution_count": 192
        }
      ]
    },
    {
      "cell_type": "code",
      "metadata": {
        "colab": {
          "base_uri": "https://localhost:8080/",
          "height": 287
        },
        "id": "9V0n-LZncOSx",
        "outputId": "6bb07865-3bc7-4888-b1f5-c875435301f4"
      },
      "source": [
        "plt.scatter([i for i in range(len(preds))],np.expm1(preds),s=2)"
      ],
      "execution_count": 154,
      "outputs": [
        {
          "output_type": "execute_result",
          "data": {
            "text/plain": [
              "<matplotlib.collections.PathCollection at 0x7f181c5ecd50>"
            ]
          },
          "metadata": {},
          "execution_count": 154
        },
        {
          "output_type": "display_data",
          "data": {
            "image/png": "[encoded data removed]",
            "text/plain": [
              "<Figure size 432x288 with 1 Axes>"
            ]
          },
          "metadata": {
            "needs_background": "light"
          }
        }
      ]
    },
    {
      "cell_type": "code",
      "metadata": {
        "colab": {
          "base_uri": "https://localhost:8080/",
          "height": 283
        },
        "id": "W-pUtK97cRe0",
        "outputId": "43f8052b-2e2b-4a40-b6ed-2148a422bf44"
      },
      "source": [
        "plt.scatter([i for i in range(len(y_test))],np.expm1(y_test),s=2)"
      ],
      "execution_count": 156,
      "outputs": [
        {
          "output_type": "execute_result",
          "data": {
            "text/plain": [
              "<matplotlib.collections.PathCollection at 0x7f181c4a70d0>"
            ]
          },
          "metadata": {},
          "execution_count": 156
        },
        {
          "output_type": "display_data",
          "data": {
            "image/png": "[encoded data removed]",
            "text/plain": [
              "<Figure size 432x288 with 1 Axes>"
            ]
          },
          "metadata": {
            "needs_background": "light"
          }
        }
      ]
    },
    {
      "cell_type": "code",
      "metadata": {
        "colab": {
          "base_uri": "https://localhost:8080/"
        },
        "id": "Hz0wwz51bekE",
        "outputId": "38cf6e20-677c-4be3-efc7-6c3519c29bdd"
      },
      "source": [
        "rmse = np.sqrt(mean_squared_error(y_test, preds))\n",
        "print(\"RMSE: %f\" % (rmse))"
      ],
      "execution_count": 157,
      "outputs": [
        {
          "output_type": "stream",
          "name": "stdout",
          "text": [
            "RMSE: 0.130637\n"
          ]
        }
      ]
    },
    {
      "cell_type": "code",
      "metadata": {
        "colab": {
          "base_uri": "https://localhost:8080/"
        },
        "id": "7KrqY_IBbVLa",
        "outputId": "12e39b34-becd-4a1c-f8c7-571420d90638"
      },
      "source": [
        "rmse = np.sqrt(mean_squared_error(np.expm1(y_test), np.expm1(preds)))\n",
        "print(\"RMSE: %f\" % (rmse))"
      ],
      "execution_count": 159,
      "outputs": [
        {
          "output_type": "stream",
          "name": "stdout",
          "text": [
            "RMSE: 25410.541235\n"
          ]
        }
      ]
    },
    {
      "cell_type": "code",
      "metadata": {
        "colab": {
          "base_uri": "https://localhost:8080/"
        },
        "id": "-sI0Bi1vTM4G",
        "outputId": "ba7d3c40-7eb4-4d6d-83be-3069918e06ad"
      },
      "source": [
        "xgb_grid.best_estimator_.score(X_test,y_test)"
      ],
      "execution_count": 160,
      "outputs": [
        {
          "output_type": "execute_result",
          "data": {
            "text/plain": [
              "0.9085478790837673"
            ]
          },
          "metadata": {},
          "execution_count": 160
        }
      ]
    },
    {
      "cell_type": "code",
      "metadata": {
        "colab": {
          "base_uri": "https://localhost:8080/"
        },
        "id": "mdt0EiPybYvk",
        "outputId": "7f7970ec-79ff-4a12-ddc0-992deb43e4b1"
      },
      "source": [
        "xgb_grid.best_estimator_.score(X_test,y_test)"
      ],
      "execution_count": 138,
      "outputs": [
        {
          "output_type": "execute_result",
          "data": {
            "text/plain": [
              "0.9162064708547336"
            ]
          },
          "metadata": {},
          "execution_count": 138
        }
      ]
    },
    {
      "cell_type": "code",
      "metadata": {
        "id": "R2TDUIywjQzM"
      },
      "source": [
        "preds = xgb_grid.predict(dataset_test)"
      ],
      "execution_count": 193,
      "outputs": []
    },
    {
      "cell_type": "code",
      "metadata": {
        "id": "tgmj4NBiSf5h"
      },
      "source": [
        "writeToFile(dataset_test, dataset_test_Id, xgb_grid.best_estimator_, 'xgboost_log_target', True)"
      ],
      "execution_count": 198,
      "outputs": []
    },
    {
      "cell_type": "markdown",
      "metadata": {
        "id": "tsC8CT37TABe"
      },
      "source": [
        "# Feature selecting"
      ]
    },
    {
      "cell_type": "code",
      "metadata": {
        "id": "KUmWI0exwB50"
      },
      "source": [
        "features = xgb_grid.best_estimator_.feature_importances_"
      ],
      "execution_count": null,
      "outputs": []
    },
    {
      "cell_type": "code",
      "metadata": {
        "colab": {
          "base_uri": "https://localhost:8080/"
        },
        "id": "26he38ZIw_Z1",
        "outputId": "ea2742c9-8ea9-4f47-d81d-6a18f9d9f2b6"
      },
      "source": [
        "len(dataset_test.columns)"
      ],
      "execution_count": null,
      "outputs": [
        {
          "output_type": "execute_result",
          "data": {
            "text/plain": [
              "65"
            ]
          },
          "metadata": {},
          "execution_count": 59
        }
      ]
    },
    {
      "cell_type": "code",
      "metadata": {
        "colab": {
          "base_uri": "https://localhost:8080/"
        },
        "id": "CYTAfZ0txCYb",
        "outputId": "9d96b14e-1deb-4714-f0bb-3c462e24812c"
      },
      "source": [
        "len(features)"
      ],
      "execution_count": null,
      "outputs": [
        {
          "output_type": "execute_result",
          "data": {
            "text/plain": [
              "65"
            ]
          },
          "metadata": {},
          "execution_count": 58
        }
      ]
    },
    {
      "cell_type": "code",
      "metadata": {
        "id": "ud2yzCFqwSGF"
      },
      "source": [
        "ll = []\n",
        "counter = 0\n",
        "for feat, name in zip(features,dataset_test.columns):\n",
        "    ll.append([feat, name])"
      ],
      "execution_count": null,
      "outputs": []
    },
    {
      "cell_type": "code",
      "metadata": {
        "id": "MT-jhY87z_fF"
      },
      "source": [
        "arr = np.asarray(ll)"
      ],
      "execution_count": null,
      "outputs": []
    },
    {
      "cell_type": "code",
      "metadata": {
        "id": "iCSzfhJm0U2k"
      },
      "source": [
        "top_30 = arr[arr[:,0].astype(float).argsort()][-30:]"
      ],
      "execution_count": null,
      "outputs": []
    },
    {
      "cell_type": "code",
      "metadata": {
        "id": "bj8lfI1m0vh5"
      },
      "source": [
        "top_30_feat = []\n",
        "for elem in top_30:\n",
        "    top_30_feat.append(elem[1])"
      ],
      "execution_count": null,
      "outputs": []
    },
    {
      "cell_type": "code",
      "metadata": {
        "id": "dewzu30L1Qc6"
      },
      "source": [
        "top_30_feat_tr = top_30_feat\n",
        "top_30_feat_tr.append('SalePrice')"
      ],
      "execution_count": null,
      "outputs": []
    },
    {
      "cell_type": "code",
      "metadata": {
        "colab": {
          "base_uri": "https://localhost:8080/"
        },
        "id": "oI3n1_xy2yTL",
        "outputId": "34e1bfd9-4653-481a-9cd1-56b86504c65a"
      },
      "source": [
        "top_30_feat"
      ],
      "execution_count": null,
      "outputs": [
        {
          "output_type": "execute_result",
          "data": {
            "text/plain": [
              "['OverallCond',\n",
              " 'GarageArea',\n",
              " 'LotArea',\n",
              " 'Condition2',\n",
              " 'LandSlope',\n",
              " 'RoofMatl',\n",
              " 'YearBuilt',\n",
              " 'Neighborhood',\n",
              " 'TotRmsAbvGrd',\n",
              " 'YearRemodAdd',\n",
              " 'MSZoning',\n",
              " 'GarageFinish',\n",
              " 'LandContour',\n",
              " 'HalfBath',\n",
              " 'PoolArea',\n",
              " '1stFlrSF',\n",
              " 'Heating',\n",
              " 'BsmtFinSF1',\n",
              " '2ndFlrSF',\n",
              " 'CentralAir',\n",
              " 'TotalBsmtSF',\n",
              " 'Fireplaces',\n",
              " 'KitchenQual',\n",
              " 'GrLivArea',\n",
              " 'KitchenAbvGr',\n",
              " 'FullBath',\n",
              " 'BsmtQual',\n",
              " 'ExterQual',\n",
              " 'GarageCars',\n",
              " 'OverallQual']"
            ]
          },
          "metadata": {},
          "execution_count": 136
        }
      ]
    },
    {
      "cell_type": "code",
      "metadata": {
        "id": "81H0m9qx1Xxv"
      },
      "source": [
        "top_30_feat_test = top_30_feat"
      ],
      "execution_count": null,
      "outputs": []
    },
    {
      "cell_type": "code",
      "metadata": {
        "id": "im3H9tFh07XY"
      },
      "source": [
        "dataset_train_new = dataset_train[top_30_feat_tr]"
      ],
      "execution_count": null,
      "outputs": []
    },
    {
      "cell_type": "code",
      "metadata": {
        "id": "3ub8HXVc1dyQ"
      },
      "source": [
        "dataset_test_new = dataset_test[top_30_feat]"
      ],
      "execution_count": null,
      "outputs": []
    },
    {
      "cell_type": "code",
      "metadata": {
        "colab": {
          "base_uri": "https://localhost:8080/",
          "height": 223
        },
        "id": "XF6DeEvt2fbV",
        "outputId": "62a945ec-9728-4e02-a7c6-f8457e7829dc"
      },
      "source": [
        "dataset_test_new.head()"
      ],
      "execution_count": null,
      "outputs": [
        {
          "output_type": "execute_result",
          "data": {
            "text/html": [
              "<div>\n",
              "<style scoped>\n",
              "    .dataframe tbody tr th:only-of-type {\n",
              "        vertical-align: middle;\n",
              "    }\n",
              "\n",
              "    .dataframe tbody tr th {\n",
              "        vertical-align: top;\n",
              "    }\n",
              "\n",
              "    .dataframe thead th {\n",
              "        text-align: right;\n",
              "    }\n",
              "</style>\n",
              "<table border=\"1\" class=\"dataframe\">\n",
              "  <thead>\n",
              "    <tr style=\"text-align: right;\">\n",
              "      <th></th>\n",
              "      <th>OverallCond</th>\n",
              "      <th>GarageArea</th>\n",
              "      <th>LotArea</th>\n",
              "      <th>Condition2</th>\n",
              "      <th>LandSlope</th>\n",
              "      <th>RoofMatl</th>\n",
              "      <th>YearBuilt</th>\n",
              "      <th>Neighborhood</th>\n",
              "      <th>TotRmsAbvGrd</th>\n",
              "      <th>YearRemodAdd</th>\n",
              "      <th>MSZoning</th>\n",
              "      <th>GarageFinish</th>\n",
              "      <th>LandContour</th>\n",
              "      <th>HalfBath</th>\n",
              "      <th>PoolArea</th>\n",
              "      <th>1stFlrSF</th>\n",
              "      <th>Heating</th>\n",
              "      <th>BsmtFinSF1</th>\n",
              "      <th>2ndFlrSF</th>\n",
              "      <th>CentralAir</th>\n",
              "      <th>TotalBsmtSF</th>\n",
              "      <th>Fireplaces</th>\n",
              "      <th>KitchenQual</th>\n",
              "      <th>GrLivArea</th>\n",
              "      <th>KitchenAbvGr</th>\n",
              "      <th>FullBath</th>\n",
              "      <th>BsmtQual</th>\n",
              "      <th>ExterQual</th>\n",
              "      <th>GarageCars</th>\n",
              "      <th>OverallQual</th>\n",
              "    </tr>\n",
              "  </thead>\n",
              "  <tbody>\n",
              "    <tr>\n",
              "      <th>0</th>\n",
              "      <td>6</td>\n",
              "      <td>730.0</td>\n",
              "      <td>11622</td>\n",
              "      <td>2</td>\n",
              "      <td>0</td>\n",
              "      <td>0</td>\n",
              "      <td>1961</td>\n",
              "      <td>12</td>\n",
              "      <td>5</td>\n",
              "      <td>1961</td>\n",
              "      <td>2</td>\n",
              "      <td>2</td>\n",
              "      <td>3</td>\n",
              "      <td>0</td>\n",
              "      <td>0</td>\n",
              "      <td>896</td>\n",
              "      <td>0</td>\n",
              "      <td>468.0</td>\n",
              "      <td>0</td>\n",
              "      <td>1</td>\n",
              "      <td>882.0</td>\n",
              "      <td>0</td>\n",
              "      <td>3</td>\n",
              "      <td>896</td>\n",
              "      <td>1</td>\n",
              "      <td>1</td>\n",
              "      <td>3</td>\n",
              "      <td>3</td>\n",
              "      <td>1.0</td>\n",
              "      <td>5</td>\n",
              "    </tr>\n",
              "    <tr>\n",
              "      <th>1</th>\n",
              "      <td>6</td>\n",
              "      <td>312.0</td>\n",
              "      <td>14267</td>\n",
              "      <td>2</td>\n",
              "      <td>0</td>\n",
              "      <td>0</td>\n",
              "      <td>1958</td>\n",
              "      <td>12</td>\n",
              "      <td>6</td>\n",
              "      <td>1958</td>\n",
              "      <td>3</td>\n",
              "      <td>2</td>\n",
              "      <td>3</td>\n",
              "      <td>1</td>\n",
              "      <td>0</td>\n",
              "      <td>1329</td>\n",
              "      <td>0</td>\n",
              "      <td>923.0</td>\n",
              "      <td>0</td>\n",
              "      <td>1</td>\n",
              "      <td>1329.0</td>\n",
              "      <td>0</td>\n",
              "      <td>2</td>\n",
              "      <td>1329</td>\n",
              "      <td>1</td>\n",
              "      <td>1</td>\n",
              "      <td>3</td>\n",
              "      <td>3</td>\n",
              "      <td>1.0</td>\n",
              "      <td>6</td>\n",
              "    </tr>\n",
              "    <tr>\n",
              "      <th>2</th>\n",
              "      <td>5</td>\n",
              "      <td>482.0</td>\n",
              "      <td>13830</td>\n",
              "      <td>2</td>\n",
              "      <td>0</td>\n",
              "      <td>0</td>\n",
              "      <td>1997</td>\n",
              "      <td>8</td>\n",
              "      <td>6</td>\n",
              "      <td>1998</td>\n",
              "      <td>3</td>\n",
              "      <td>0</td>\n",
              "      <td>3</td>\n",
              "      <td>1</td>\n",
              "      <td>0</td>\n",
              "      <td>928</td>\n",
              "      <td>0</td>\n",
              "      <td>791.0</td>\n",
              "      <td>701</td>\n",
              "      <td>1</td>\n",
              "      <td>928.0</td>\n",
              "      <td>1</td>\n",
              "      <td>3</td>\n",
              "      <td>1629</td>\n",
              "      <td>1</td>\n",
              "      <td>2</td>\n",
              "      <td>2</td>\n",
              "      <td>3</td>\n",
              "      <td>2.0</td>\n",
              "      <td>5</td>\n",
              "    </tr>\n",
              "    <tr>\n",
              "      <th>3</th>\n",
              "      <td>6</td>\n",
              "      <td>470.0</td>\n",
              "      <td>9978</td>\n",
              "      <td>2</td>\n",
              "      <td>0</td>\n",
              "      <td>0</td>\n",
              "      <td>1998</td>\n",
              "      <td>8</td>\n",
              "      <td>7</td>\n",
              "      <td>1998</td>\n",
              "      <td>3</td>\n",
              "      <td>0</td>\n",
              "      <td>3</td>\n",
              "      <td>1</td>\n",
              "      <td>0</td>\n",
              "      <td>926</td>\n",
              "      <td>0</td>\n",
              "      <td>602.0</td>\n",
              "      <td>678</td>\n",
              "      <td>1</td>\n",
              "      <td>926.0</td>\n",
              "      <td>1</td>\n",
              "      <td>2</td>\n",
              "      <td>1604</td>\n",
              "      <td>1</td>\n",
              "      <td>2</td>\n",
              "      <td>3</td>\n",
              "      <td>3</td>\n",
              "      <td>2.0</td>\n",
              "      <td>6</td>\n",
              "    </tr>\n",
              "    <tr>\n",
              "      <th>4</th>\n",
              "      <td>5</td>\n",
              "      <td>506.0</td>\n",
              "      <td>5005</td>\n",
              "      <td>2</td>\n",
              "      <td>0</td>\n",
              "      <td>0</td>\n",
              "      <td>1992</td>\n",
              "      <td>22</td>\n",
              "      <td>5</td>\n",
              "      <td>1992</td>\n",
              "      <td>3</td>\n",
              "      <td>1</td>\n",
              "      <td>1</td>\n",
              "      <td>0</td>\n",
              "      <td>0</td>\n",
              "      <td>1280</td>\n",
              "      <td>0</td>\n",
              "      <td>263.0</td>\n",
              "      <td>0</td>\n",
              "      <td>1</td>\n",
              "      <td>1280.0</td>\n",
              "      <td>0</td>\n",
              "      <td>2</td>\n",
              "      <td>1280</td>\n",
              "      <td>1</td>\n",
              "      <td>2</td>\n",
              "      <td>2</td>\n",
              "      <td>2</td>\n",
              "      <td>2.0</td>\n",
              "      <td>8</td>\n",
              "    </tr>\n",
              "  </tbody>\n",
              "</table>\n",
              "</div>"
            ],
            "text/plain": [
              "   OverallCond  GarageArea  LotArea  ...  ExterQual  GarageCars  OverallQual\n",
              "0            6       730.0    11622  ...          3         1.0            5\n",
              "1            6       312.0    14267  ...          3         1.0            6\n",
              "2            5       482.0    13830  ...          3         2.0            5\n",
              "3            6       470.0     9978  ...          3         2.0            6\n",
              "4            5       506.0     5005  ...          2         2.0            8\n",
              "\n",
              "[5 rows x 30 columns]"
            ]
          },
          "metadata": {},
          "execution_count": 139
        }
      ]
    },
    {
      "cell_type": "code",
      "metadata": {
        "id": "uwyaXxxCx2gX"
      },
      "source": [
        "from sklearn.feature_selection import SelectKBest\n",
        "from sklearn.feature_selection import chi2"
      ],
      "execution_count": null,
      "outputs": []
    },
    {
      "cell_type": "code",
      "metadata": {
        "id": "bzpuvjjQx6sQ"
      },
      "source": [
        "X_new = SelectKBest(chi2, k=30).fit_transform(X,y)"
      ],
      "execution_count": null,
      "outputs": []
    },
    {
      "cell_type": "code",
      "metadata": {
        "colab": {
          "base_uri": "https://localhost:8080/"
        },
        "id": "c7PoUAAsx9Pj",
        "outputId": "60005259-350b-45ca-e36c-a8a4b74513b7"
      },
      "source": [
        "X_new"
      ],
      "execution_count": null,
      "outputs": [
        {
          "output_type": "execute_result",
          "data": {
            "text/plain": [
              "array([[6.000e+01, 6.500e+01, 8.450e+03, ..., 0.000e+00, 0.000e+00,\n",
              "        2.000e+00],\n",
              "       [2.000e+01, 8.000e+01, 9.600e+03, ..., 0.000e+00, 0.000e+00,\n",
              "        5.000e+00],\n",
              "       [6.000e+01, 6.800e+01, 1.125e+04, ..., 0.000e+00, 0.000e+00,\n",
              "        9.000e+00],\n",
              "       ...,\n",
              "       [7.000e+01, 6.600e+01, 9.042e+03, ..., 0.000e+00, 2.500e+03,\n",
              "        5.000e+00],\n",
              "       [2.000e+01, 6.800e+01, 9.717e+03, ..., 0.000e+00, 0.000e+00,\n",
              "        4.000e+00],\n",
              "       [2.000e+01, 7.500e+01, 9.937e+03, ..., 0.000e+00, 0.000e+00,\n",
              "        6.000e+00]])"
            ]
          },
          "metadata": {},
          "execution_count": 71
        }
      ]
    },
    {
      "cell_type": "code",
      "metadata": {
        "colab": {
          "base_uri": "https://localhost:8080/"
        },
        "id": "IXUZZbMD19Ql",
        "outputId": "cb43b7eb-3867-49e1-fb53-d809a9f80691"
      },
      "source": [
        "xgb_grid.best_estimator_.score(X_train,y_train)"
      ],
      "execution_count": null,
      "outputs": [
        {
          "output_type": "execute_result",
          "data": {
            "text/plain": [
              "0.999250900500717"
            ]
          },
          "metadata": {},
          "execution_count": 116
        }
      ]
    },
    {
      "cell_type": "code",
      "metadata": {
        "colab": {
          "base_uri": "https://localhost:8080/"
        },
        "id": "22Pbq4RKmKkH",
        "outputId": "120fda5b-c91a-47b2-a3b6-b00b7475d462"
      },
      "source": [
        "xgb_grid.best_estimator_.score(X_test,y_test)"
      ],
      "execution_count": null,
      "outputs": [
        {
          "output_type": "execute_result",
          "data": {
            "text/plain": [
              "0.9035584093299229"
            ]
          },
          "metadata": {},
          "execution_count": 118
        }
      ]
    },
    {
      "cell_type": "code",
      "metadata": {
        "colab": {
          "base_uri": "https://localhost:8080/"
        },
        "id": "kMtr70jxlqci",
        "outputId": "ac8bc660-1e67-4ac1-db4e-a68eceaf688d"
      },
      "source": [
        "xgb_grid.best_estimator_.score(X_test,y_test)"
      ],
      "execution_count": null,
      "outputs": [
        {
          "output_type": "execute_result",
          "data": {
            "text/plain": [
              "0.8891510310975772"
            ]
          },
          "metadata": {},
          "execution_count": 117
        }
      ]
    },
    {
      "cell_type": "code",
      "metadata": {
        "colab": {
          "base_uri": "https://localhost:8080/"
        },
        "id": "9d-y21AVbFRR",
        "outputId": "429b6137-eb0a-4f4b-c44c-4e98128da6e6"
      },
      "source": [
        "xg_reg.score(X_test,y_test)"
      ],
      "execution_count": null,
      "outputs": [
        {
          "output_type": "execute_result",
          "data": {
            "text/plain": [
              "0.8941627276687081"
            ]
          },
          "metadata": {},
          "execution_count": 100
        }
      ]
    },
    {
      "cell_type": "code",
      "metadata": {
        "id": "6-qU4A5occsW",
        "colab": {
          "base_uri": "https://localhost:8080/"
        },
        "outputId": "6189e023-14ea-4703-f9e4-dd04b5f06d6e"
      },
      "source": [
        "xg_reg.predict(dataset_test)"
      ],
      "execution_count": null,
      "outputs": [
        {
          "output_type": "execute_result",
          "data": {
            "text/plain": [
              "array([123889.78, 160169.28, 179767.06, ..., 174953.55, 113329.59,\n",
              "       225499.25], dtype=float32)"
            ]
          },
          "metadata": {},
          "execution_count": 101
        }
      ]
    },
    {
      "cell_type": "code",
      "metadata": {
        "colab": {
          "base_uri": "https://localhost:8080/",
          "height": 223
        },
        "id": "d3FIMXf_2SvA",
        "outputId": "55ec8878-0745-4498-d204-91cb676d09a1"
      },
      "source": [
        "dataset_test.head()"
      ],
      "execution_count": null,
      "outputs": [
        {
          "output_type": "execute_result",
          "data": {
            "text/html": [
              "<div>\n",
              "<style scoped>\n",
              "    .dataframe tbody tr th:only-of-type {\n",
              "        vertical-align: middle;\n",
              "    }\n",
              "\n",
              "    .dataframe tbody tr th {\n",
              "        vertical-align: top;\n",
              "    }\n",
              "\n",
              "    .dataframe thead th {\n",
              "        text-align: right;\n",
              "    }\n",
              "</style>\n",
              "<table border=\"1\" class=\"dataframe\">\n",
              "  <thead>\n",
              "    <tr style=\"text-align: right;\">\n",
              "      <th></th>\n",
              "      <th>MSSubClass</th>\n",
              "      <th>MSZoning</th>\n",
              "      <th>LotFrontage</th>\n",
              "      <th>LotArea</th>\n",
              "      <th>Street</th>\n",
              "      <th>LotShape</th>\n",
              "      <th>LandContour</th>\n",
              "      <th>Utilities</th>\n",
              "      <th>LotConfig</th>\n",
              "      <th>LandSlope</th>\n",
              "      <th>Neighborhood</th>\n",
              "      <th>Condition1</th>\n",
              "      <th>Condition2</th>\n",
              "      <th>BldgType</th>\n",
              "      <th>HouseStyle</th>\n",
              "      <th>OverallQual</th>\n",
              "      <th>OverallCond</th>\n",
              "      <th>YearBuilt</th>\n",
              "      <th>YearRemodAdd</th>\n",
              "      <th>RoofStyle</th>\n",
              "      <th>RoofMatl</th>\n",
              "      <th>Exterior1st</th>\n",
              "      <th>Exterior2nd</th>\n",
              "      <th>MasVnrArea</th>\n",
              "      <th>ExterQual</th>\n",
              "      <th>ExterCond</th>\n",
              "      <th>Foundation</th>\n",
              "      <th>BsmtQual</th>\n",
              "      <th>BsmtFinSF1</th>\n",
              "      <th>BsmtFinSF2</th>\n",
              "      <th>BsmtUnfSF</th>\n",
              "      <th>TotalBsmtSF</th>\n",
              "      <th>Heating</th>\n",
              "      <th>HeatingQC</th>\n",
              "      <th>CentralAir</th>\n",
              "      <th>1stFlrSF</th>\n",
              "      <th>2ndFlrSF</th>\n",
              "      <th>LowQualFinSF</th>\n",
              "      <th>GrLivArea</th>\n",
              "      <th>BsmtFullBath</th>\n",
              "      <th>BsmtHalfBath</th>\n",
              "      <th>FullBath</th>\n",
              "      <th>HalfBath</th>\n",
              "      <th>BedroomAbvGr</th>\n",
              "      <th>KitchenAbvGr</th>\n",
              "      <th>KitchenQual</th>\n",
              "      <th>TotRmsAbvGrd</th>\n",
              "      <th>Functional</th>\n",
              "      <th>Fireplaces</th>\n",
              "      <th>GarageYrBlt</th>\n",
              "      <th>GarageFinish</th>\n",
              "      <th>GarageCars</th>\n",
              "      <th>GarageArea</th>\n",
              "      <th>PavedDrive</th>\n",
              "      <th>WoodDeckSF</th>\n",
              "      <th>OpenPorchSF</th>\n",
              "      <th>EnclosedPorch</th>\n",
              "      <th>3SsnPorch</th>\n",
              "      <th>ScreenPorch</th>\n",
              "      <th>PoolArea</th>\n",
              "      <th>MiscVal</th>\n",
              "      <th>MoSold</th>\n",
              "      <th>YrSold</th>\n",
              "      <th>SaleType</th>\n",
              "      <th>SaleCondition</th>\n",
              "    </tr>\n",
              "  </thead>\n",
              "  <tbody>\n",
              "    <tr>\n",
              "      <th>0</th>\n",
              "      <td>20</td>\n",
              "      <td>2</td>\n",
              "      <td>80.0</td>\n",
              "      <td>11622</td>\n",
              "      <td>1</td>\n",
              "      <td>3</td>\n",
              "      <td>3</td>\n",
              "      <td>0</td>\n",
              "      <td>4</td>\n",
              "      <td>0</td>\n",
              "      <td>12</td>\n",
              "      <td>1</td>\n",
              "      <td>2</td>\n",
              "      <td>0</td>\n",
              "      <td>2</td>\n",
              "      <td>5</td>\n",
              "      <td>6</td>\n",
              "      <td>1961</td>\n",
              "      <td>1961</td>\n",
              "      <td>1</td>\n",
              "      <td>0</td>\n",
              "      <td>10</td>\n",
              "      <td>12</td>\n",
              "      <td>0.0</td>\n",
              "      <td>3</td>\n",
              "      <td>4</td>\n",
              "      <td>1</td>\n",
              "      <td>3</td>\n",
              "      <td>468.0</td>\n",
              "      <td>144.0</td>\n",
              "      <td>270.0</td>\n",
              "      <td>882.0</td>\n",
              "      <td>0</td>\n",
              "      <td>4</td>\n",
              "      <td>1</td>\n",
              "      <td>896</td>\n",
              "      <td>0</td>\n",
              "      <td>0</td>\n",
              "      <td>896</td>\n",
              "      <td>0.0</td>\n",
              "      <td>0.0</td>\n",
              "      <td>1</td>\n",
              "      <td>0</td>\n",
              "      <td>2</td>\n",
              "      <td>1</td>\n",
              "      <td>3</td>\n",
              "      <td>5</td>\n",
              "      <td>6</td>\n",
              "      <td>0</td>\n",
              "      <td>1961.0</td>\n",
              "      <td>2</td>\n",
              "      <td>1.0</td>\n",
              "      <td>730.0</td>\n",
              "      <td>2</td>\n",
              "      <td>140</td>\n",
              "      <td>0</td>\n",
              "      <td>0</td>\n",
              "      <td>0</td>\n",
              "      <td>120</td>\n",
              "      <td>0</td>\n",
              "      <td>0</td>\n",
              "      <td>6</td>\n",
              "      <td>2010</td>\n",
              "      <td>8</td>\n",
              "      <td>4</td>\n",
              "    </tr>\n",
              "    <tr>\n",
              "      <th>1</th>\n",
              "      <td>20</td>\n",
              "      <td>3</td>\n",
              "      <td>81.0</td>\n",
              "      <td>14267</td>\n",
              "      <td>1</td>\n",
              "      <td>0</td>\n",
              "      <td>3</td>\n",
              "      <td>0</td>\n",
              "      <td>0</td>\n",
              "      <td>0</td>\n",
              "      <td>12</td>\n",
              "      <td>2</td>\n",
              "      <td>2</td>\n",
              "      <td>0</td>\n",
              "      <td>2</td>\n",
              "      <td>6</td>\n",
              "      <td>6</td>\n",
              "      <td>1958</td>\n",
              "      <td>1958</td>\n",
              "      <td>3</td>\n",
              "      <td>0</td>\n",
              "      <td>11</td>\n",
              "      <td>13</td>\n",
              "      <td>108.0</td>\n",
              "      <td>3</td>\n",
              "      <td>4</td>\n",
              "      <td>1</td>\n",
              "      <td>3</td>\n",
              "      <td>923.0</td>\n",
              "      <td>0.0</td>\n",
              "      <td>406.0</td>\n",
              "      <td>1329.0</td>\n",
              "      <td>0</td>\n",
              "      <td>4</td>\n",
              "      <td>1</td>\n",
              "      <td>1329</td>\n",
              "      <td>0</td>\n",
              "      <td>0</td>\n",
              "      <td>1329</td>\n",
              "      <td>0.0</td>\n",
              "      <td>0.0</td>\n",
              "      <td>1</td>\n",
              "      <td>1</td>\n",
              "      <td>3</td>\n",
              "      <td>1</td>\n",
              "      <td>2</td>\n",
              "      <td>6</td>\n",
              "      <td>6</td>\n",
              "      <td>0</td>\n",
              "      <td>1958.0</td>\n",
              "      <td>2</td>\n",
              "      <td>1.0</td>\n",
              "      <td>312.0</td>\n",
              "      <td>2</td>\n",
              "      <td>393</td>\n",
              "      <td>36</td>\n",
              "      <td>0</td>\n",
              "      <td>0</td>\n",
              "      <td>0</td>\n",
              "      <td>0</td>\n",
              "      <td>12500</td>\n",
              "      <td>6</td>\n",
              "      <td>2010</td>\n",
              "      <td>8</td>\n",
              "      <td>4</td>\n",
              "    </tr>\n",
              "    <tr>\n",
              "      <th>2</th>\n",
              "      <td>60</td>\n",
              "      <td>3</td>\n",
              "      <td>74.0</td>\n",
              "      <td>13830</td>\n",
              "      <td>1</td>\n",
              "      <td>0</td>\n",
              "      <td>3</td>\n",
              "      <td>0</td>\n",
              "      <td>4</td>\n",
              "      <td>0</td>\n",
              "      <td>8</td>\n",
              "      <td>2</td>\n",
              "      <td>2</td>\n",
              "      <td>0</td>\n",
              "      <td>4</td>\n",
              "      <td>5</td>\n",
              "      <td>5</td>\n",
              "      <td>1997</td>\n",
              "      <td>1998</td>\n",
              "      <td>1</td>\n",
              "      <td>0</td>\n",
              "      <td>10</td>\n",
              "      <td>12</td>\n",
              "      <td>0.0</td>\n",
              "      <td>3</td>\n",
              "      <td>4</td>\n",
              "      <td>2</td>\n",
              "      <td>2</td>\n",
              "      <td>791.0</td>\n",
              "      <td>0.0</td>\n",
              "      <td>137.0</td>\n",
              "      <td>928.0</td>\n",
              "      <td>0</td>\n",
              "      <td>2</td>\n",
              "      <td>1</td>\n",
              "      <td>928</td>\n",
              "      <td>701</td>\n",
              "      <td>0</td>\n",
              "      <td>1629</td>\n",
              "      <td>0.0</td>\n",
              "      <td>0.0</td>\n",
              "      <td>2</td>\n",
              "      <td>1</td>\n",
              "      <td>3</td>\n",
              "      <td>1</td>\n",
              "      <td>3</td>\n",
              "      <td>6</td>\n",
              "      <td>6</td>\n",
              "      <td>1</td>\n",
              "      <td>1997.0</td>\n",
              "      <td>0</td>\n",
              "      <td>2.0</td>\n",
              "      <td>482.0</td>\n",
              "      <td>2</td>\n",
              "      <td>212</td>\n",
              "      <td>34</td>\n",
              "      <td>0</td>\n",
              "      <td>0</td>\n",
              "      <td>0</td>\n",
              "      <td>0</td>\n",
              "      <td>0</td>\n",
              "      <td>3</td>\n",
              "      <td>2010</td>\n",
              "      <td>8</td>\n",
              "      <td>4</td>\n",
              "    </tr>\n",
              "    <tr>\n",
              "      <th>3</th>\n",
              "      <td>60</td>\n",
              "      <td>3</td>\n",
              "      <td>78.0</td>\n",
              "      <td>9978</td>\n",
              "      <td>1</td>\n",
              "      <td>0</td>\n",
              "      <td>3</td>\n",
              "      <td>0</td>\n",
              "      <td>4</td>\n",
              "      <td>0</td>\n",
              "      <td>8</td>\n",
              "      <td>2</td>\n",
              "      <td>2</td>\n",
              "      <td>0</td>\n",
              "      <td>4</td>\n",
              "      <td>6</td>\n",
              "      <td>6</td>\n",
              "      <td>1998</td>\n",
              "      <td>1998</td>\n",
              "      <td>1</td>\n",
              "      <td>0</td>\n",
              "      <td>10</td>\n",
              "      <td>12</td>\n",
              "      <td>20.0</td>\n",
              "      <td>3</td>\n",
              "      <td>4</td>\n",
              "      <td>2</td>\n",
              "      <td>3</td>\n",
              "      <td>602.0</td>\n",
              "      <td>0.0</td>\n",
              "      <td>324.0</td>\n",
              "      <td>926.0</td>\n",
              "      <td>0</td>\n",
              "      <td>0</td>\n",
              "      <td>1</td>\n",
              "      <td>926</td>\n",
              "      <td>678</td>\n",
              "      <td>0</td>\n",
              "      <td>1604</td>\n",
              "      <td>0.0</td>\n",
              "      <td>0.0</td>\n",
              "      <td>2</td>\n",
              "      <td>1</td>\n",
              "      <td>3</td>\n",
              "      <td>1</td>\n",
              "      <td>2</td>\n",
              "      <td>7</td>\n",
              "      <td>6</td>\n",
              "      <td>1</td>\n",
              "      <td>1998.0</td>\n",
              "      <td>0</td>\n",
              "      <td>2.0</td>\n",
              "      <td>470.0</td>\n",
              "      <td>2</td>\n",
              "      <td>360</td>\n",
              "      <td>36</td>\n",
              "      <td>0</td>\n",
              "      <td>0</td>\n",
              "      <td>0</td>\n",
              "      <td>0</td>\n",
              "      <td>0</td>\n",
              "      <td>6</td>\n",
              "      <td>2010</td>\n",
              "      <td>8</td>\n",
              "      <td>4</td>\n",
              "    </tr>\n",
              "    <tr>\n",
              "      <th>4</th>\n",
              "      <td>120</td>\n",
              "      <td>3</td>\n",
              "      <td>43.0</td>\n",
              "      <td>5005</td>\n",
              "      <td>1</td>\n",
              "      <td>0</td>\n",
              "      <td>1</td>\n",
              "      <td>0</td>\n",
              "      <td>4</td>\n",
              "      <td>0</td>\n",
              "      <td>22</td>\n",
              "      <td>2</td>\n",
              "      <td>2</td>\n",
              "      <td>4</td>\n",
              "      <td>2</td>\n",
              "      <td>8</td>\n",
              "      <td>5</td>\n",
              "      <td>1992</td>\n",
              "      <td>1992</td>\n",
              "      <td>1</td>\n",
              "      <td>0</td>\n",
              "      <td>6</td>\n",
              "      <td>6</td>\n",
              "      <td>0.0</td>\n",
              "      <td>2</td>\n",
              "      <td>4</td>\n",
              "      <td>2</td>\n",
              "      <td>2</td>\n",
              "      <td>263.0</td>\n",
              "      <td>0.0</td>\n",
              "      <td>1017.0</td>\n",
              "      <td>1280.0</td>\n",
              "      <td>0</td>\n",
              "      <td>0</td>\n",
              "      <td>1</td>\n",
              "      <td>1280</td>\n",
              "      <td>0</td>\n",
              "      <td>0</td>\n",
              "      <td>1280</td>\n",
              "      <td>0.0</td>\n",
              "      <td>0.0</td>\n",
              "      <td>2</td>\n",
              "      <td>0</td>\n",
              "      <td>2</td>\n",
              "      <td>1</td>\n",
              "      <td>2</td>\n",
              "      <td>5</td>\n",
              "      <td>6</td>\n",
              "      <td>0</td>\n",
              "      <td>1992.0</td>\n",
              "      <td>1</td>\n",
              "      <td>2.0</td>\n",
              "      <td>506.0</td>\n",
              "      <td>2</td>\n",
              "      <td>0</td>\n",
              "      <td>82</td>\n",
              "      <td>0</td>\n",
              "      <td>0</td>\n",
              "      <td>144</td>\n",
              "      <td>0</td>\n",
              "      <td>0</td>\n",
              "      <td>1</td>\n",
              "      <td>2010</td>\n",
              "      <td>8</td>\n",
              "      <td>4</td>\n",
              "    </tr>\n",
              "  </tbody>\n",
              "</table>\n",
              "</div>"
            ],
            "text/plain": [
              "   MSSubClass  MSZoning  LotFrontage  ...  YrSold  SaleType  SaleCondition\n",
              "0          20         2         80.0  ...    2010         8              4\n",
              "1          20         3         81.0  ...    2010         8              4\n",
              "2          60         3         74.0  ...    2010         8              4\n",
              "3          60         3         78.0  ...    2010         8              4\n",
              "4         120         3         43.0  ...    2010         8              4\n",
              "\n",
              "[5 rows x 65 columns]"
            ]
          },
          "metadata": {},
          "execution_count": 122
        }
      ]
    },
    {
      "cell_type": "markdown",
      "metadata": {
        "id": "OdtBK0dg3jcx"
      },
      "source": [
        "# Линейная регрессия"
      ]
    },
    {
      "cell_type": "code",
      "metadata": {
        "id": "LmEfaQHS3i8S"
      },
      "source": [
        "from sklearn import preprocessing\n",
        "from sklearn.linear_model import LinearRegression"
      ],
      "execution_count": 65,
      "outputs": []
    },
    {
      "cell_type": "code",
      "metadata": {
        "colab": {
          "base_uri": "https://localhost:8080/"
        },
        "id": "hu5dv7wP43KG",
        "outputId": "33590253-9c2e-44b1-de79-f3de9e8977b7"
      },
      "source": [
        "dataset_train.columns"
      ],
      "execution_count": 66,
      "outputs": [
        {
          "output_type": "execute_result",
          "data": {
            "text/plain": [
              "Index(['MSSubClass', 'MSZoning', 'LotFrontage', 'LotArea', 'Street',\n",
              "       'LotShape', 'LandContour', 'Utilities', 'LotConfig', 'LandSlope',\n",
              "       'Neighborhood', 'Condition1', 'Condition2', 'BldgType', 'HouseStyle',\n",
              "       'OverallQual', 'OverallCond', 'YearBuilt', 'YearRemodAdd', 'RoofStyle',\n",
              "       'RoofMatl', 'Exterior1st', 'Exterior2nd', 'MasVnrArea', 'ExterQual',\n",
              "       'ExterCond', 'Foundation', 'BsmtQual', 'BsmtFinSF1', 'BsmtFinSF2',\n",
              "       'BsmtUnfSF', 'TotalBsmtSF', 'Heating', 'HeatingQC', 'CentralAir',\n",
              "       '1stFlrSF', '2ndFlrSF', 'LowQualFinSF', 'GrLivArea', 'BsmtFullBath',\n",
              "       'BsmtHalfBath', 'FullBath', 'HalfBath', 'BedroomAbvGr', 'KitchenAbvGr',\n",
              "       'KitchenQual', 'TotRmsAbvGrd', 'Functional', 'Fireplaces',\n",
              "       'GarageYrBlt', 'GarageFinish', 'GarageCars', 'GarageArea', 'PavedDrive',\n",
              "       'WoodDeckSF', 'OpenPorchSF', 'EnclosedPorch', '3SsnPorch',\n",
              "       'ScreenPorch', 'PoolArea', 'MiscVal', 'MoSold', 'YrSold', 'SaleType',\n",
              "       'SaleCondition', 'SalePrice'],\n",
              "      dtype='object')"
            ]
          },
          "metadata": {},
          "execution_count": 66
        }
      ]
    },
    {
      "cell_type": "code",
      "metadata": {
        "id": "kX9WSbLS3_r0"
      },
      "source": [
        "lin_reg = LinearRegression(normalize=True)"
      ],
      "execution_count": 67,
      "outputs": []
    },
    {
      "cell_type": "code",
      "metadata": {
        "id": "N77nVCEX4O-m"
      },
      "source": [
        "X = dataset_train.drop(columns=['SalePrice'],axis=1)\n",
        "y = dataset_train['SalePrice']"
      ],
      "execution_count": 68,
      "outputs": []
    },
    {
      "cell_type": "code",
      "metadata": {
        "id": "HurQnoe84UEG"
      },
      "source": [
        "X_train, X_test, y_train, y_test = train_test_split(X, y, test_size=0.2, random_state=123)"
      ],
      "execution_count": 69,
      "outputs": []
    },
    {
      "cell_type": "code",
      "metadata": {
        "id": "ikVTYHkgDZrZ"
      },
      "source": [
        "from sklearn.pipeline import make_pipeline\n",
        "from sklearn.preprocessing import StandardScaler\n",
        "model = make_pipeline(StandardScaler(with_mean=False), LinearRegression())"
      ],
      "execution_count": 70,
      "outputs": []
    },
    {
      "cell_type": "code",
      "metadata": {
        "id": "HuVp11TS6O9m"
      },
      "source": [
        "fitted_lin_reg = model.fit(X,y)"
      ],
      "execution_count": 71,
      "outputs": []
    },
    {
      "cell_type": "code",
      "metadata": {
        "colab": {
          "base_uri": "https://localhost:8080/"
        },
        "id": "tXiJWeBm6TGE",
        "outputId": "7ff575e8-1cb2-4036-c21e-ba222c2db2fe"
      },
      "source": [
        "fitted_lin_reg.score(X_test,y_test)"
      ],
      "execution_count": 72,
      "outputs": [
        {
          "output_type": "execute_result",
          "data": {
            "text/plain": [
              "0.8773716579382966"
            ]
          },
          "metadata": {},
          "execution_count": 72
        }
      ]
    },
    {
      "cell_type": "code",
      "metadata": {
        "colab": {
          "base_uri": "https://localhost:8080/"
        },
        "id": "avWbSPfBD2Ew",
        "outputId": "16d2a9b0-34cb-4ee8-efbe-5d73ae450344"
      },
      "source": [
        "fitted_lin_reg.score(X_train,y_train)"
      ],
      "execution_count": 73,
      "outputs": [
        {
          "output_type": "execute_result",
          "data": {
            "text/plain": [
              "0.8377771140301489"
            ]
          },
          "metadata": {},
          "execution_count": 73
        }
      ]
    },
    {
      "cell_type": "code",
      "metadata": {
        "id": "5YfcDSA0FMC7"
      },
      "source": [
        "preds = fitted_lin_reg.predict(dataset_test)"
      ],
      "execution_count": 175,
      "outputs": []
    },
    {
      "cell_type": "code",
      "metadata": {
        "id": "quUcLwhYGSDy"
      },
      "source": [
        "writeToFile(dataset_test, dataset_test_Id, lin_reg, 'lin_reg')"
      ],
      "execution_count": null,
      "outputs": []
    },
    {
      "cell_type": "markdown",
      "metadata": {
        "id": "SetzgkCnIjBT"
      },
      "source": [
        "# Случайный лес"
      ]
    },
    {
      "cell_type": "code",
      "metadata": {
        "id": "U4aZovu5IwkC"
      },
      "source": [
        "from sklearn.ensemble import RandomForestRegressor\n",
        "from sklearn.model_selection import KFold\n",
        "from sklearn.model_selection import GridSearchCV"
      ],
      "execution_count": 74,
      "outputs": []
    },
    {
      "cell_type": "code",
      "metadata": {
        "id": "TVlFIDZvt9YA"
      },
      "source": [
        "X = dataset_train.drop(columns=['SalePrice'],axis=1)\n",
        "y = dataset_train['SalePrice']"
      ],
      "execution_count": 199,
      "outputs": []
    },
    {
      "cell_type": "code",
      "metadata": {
        "id": "pQiCtmujkceg"
      },
      "source": [
        "X_train, X_test, y_train, y_test = train_test_split(X, y, test_size=0.2, random_state=42)"
      ],
      "execution_count": 203,
      "outputs": []
    },
    {
      "cell_type": "code",
      "metadata": {
        "id": "Z-lHe5YcI690"
      },
      "source": [
        "forest_reg = RandomForestRegressor()\n",
        "parameters = {'n_estimators':[25,30],'max_depth':[3,5,6,8,10],'min_samples_leaf':[1,5,10],'min_samples_split':[2,5,10]}"
      ],
      "execution_count": 204,
      "outputs": []
    },
    {
      "cell_type": "code",
      "metadata": {
        "id": "BZ6n1keHJBQ3"
      },
      "source": [
        "CV = KFold(n_splits=5, random_state=42, shuffle=True)\n",
        "srch = GridSearchCV(forest_reg,parameters,cv=CV)"
      ],
      "execution_count": 205,
      "outputs": []
    },
    {
      "cell_type": "code",
      "metadata": {
        "colab": {
          "base_uri": "https://localhost:8080/"
        },
        "id": "yzLZce2nJRgq",
        "outputId": "497de6c3-a0b0-4f13-8cc2-d0eeb96607e3"
      },
      "source": [
        "srch.fit(X_train,y_train)"
      ],
      "execution_count": 206,
      "outputs": [
        {
          "output_type": "execute_result",
          "data": {
            "text/plain": [
              "GridSearchCV(cv=KFold(n_splits=5, random_state=42, shuffle=True),\n",
              "             estimator=RandomForestRegressor(),\n",
              "             param_grid={'max_depth': [3, 5, 6, 8, 10],\n",
              "                         'min_samples_leaf': [1, 5, 10],\n",
              "                         'min_samples_split': [2, 5, 10],\n",
              "                         'n_estimators': [25, 30]})"
            ]
          },
          "metadata": {},
          "execution_count": 206
        }
      ]
    },
    {
      "cell_type": "code",
      "metadata": {
        "colab": {
          "base_uri": "https://localhost:8080/"
        },
        "id": "jBboKcREJ8hP",
        "outputId": "acab2dd6-229b-4034-b11b-794dc83e3f06"
      },
      "source": [
        "srch.best_estimator_"
      ],
      "execution_count": 79,
      "outputs": [
        {
          "output_type": "execute_result",
          "data": {
            "text/plain": [
              "RandomForestRegressor(max_depth=10, n_estimators=25)"
            ]
          },
          "metadata": {},
          "execution_count": 79
        }
      ]
    },
    {
      "cell_type": "code",
      "metadata": {
        "colab": {
          "base_uri": "https://localhost:8080/"
        },
        "id": "mrqT7BL7VkJj",
        "outputId": "3248bae6-02bd-4793-e161-cd9645bb67ee"
      },
      "source": [
        "srch.best_estimator_.score(X_train,y_train)"
      ],
      "execution_count": 207,
      "outputs": [
        {
          "output_type": "execute_result",
          "data": {
            "text/plain": [
              "0.97172558981351"
            ]
          },
          "metadata": {},
          "execution_count": 207
        }
      ]
    },
    {
      "cell_type": "code",
      "metadata": {
        "colab": {
          "base_uri": "https://localhost:8080/"
        },
        "id": "D20mEYd5VlbA",
        "outputId": "eae313ab-f1f0-4e88-f12d-5a40c6211151"
      },
      "source": [
        "srch.best_estimator_.score(X_test,y_test)"
      ],
      "execution_count": 81,
      "outputs": [
        {
          "output_type": "execute_result",
          "data": {
            "text/plain": [
              "0.8819389592773639"
            ]
          },
          "metadata": {},
          "execution_count": 81
        }
      ]
    },
    {
      "cell_type": "code",
      "metadata": {
        "id": "AqN8VsWOKgos"
      },
      "source": [
        "writeToFile(dataset_test, dataset_test_Id, srch.best_estimator_, \"forest_new_n_est=30\")"
      ],
      "execution_count": null,
      "outputs": []
    },
    {
      "cell_type": "markdown",
      "metadata": {
        "id": "abJxE3k5V5Ab"
      },
      "source": [
        "# CatBoost regression"
      ]
    },
    {
      "cell_type": "code",
      "metadata": {
        "id": "wH1EQZ1OV9QT"
      },
      "source": [
        "!pip install catboost\n",
        "!pip install scikit-learn\n",
        "!pip install ipywidgets\n",
        "!jupyter nbextension enable --py widgetsnbextension"
      ],
      "execution_count": null,
      "outputs": []
    },
    {
      "cell_type": "code",
      "metadata": {
        "id": "37kceW5TWUAe"
      },
      "source": [
        "from catboost import CatBoostRegressor"
      ],
      "execution_count": 84,
      "outputs": []
    },
    {
      "cell_type": "code",
      "metadata": {
        "id": "zHBSQBCnXwT8"
      },
      "source": [
        "model = CatBoostRegressor()"
      ],
      "execution_count": 93,
      "outputs": []
    },
    {
      "cell_type": "code",
      "metadata": {
        "id": "s96HZgJbW4lj"
      },
      "source": [
        "parameters = {'iterations': [100, 150, 200],\n",
        "        'learning_rate': [0.03, 0.1],\n",
        "        'depth': [2, 4, 6, 8],\n",
        "        'l2_leaf_reg': [0.2, 0.5, 1, 3]}\n",
        "catgb_grid = GridSearchCV(model,\n",
        "                        parameters,\n",
        "                        cv = 2,\n",
        "                        n_jobs = 5,\n",
        "                        verbose=True)"
      ],
      "execution_count": 103,
      "outputs": []
    },
    {
      "cell_type": "code",
      "metadata": {
        "colab": {
          "base_uri": "https://localhost:8080/"
        },
        "id": "VWoCmvfHW-k7",
        "outputId": "4a45c02a-ab1f-4673-c619-187033af68ad"
      },
      "source": [
        "fitted = catgb_grid.fit(X_train, y_train)"
      ],
      "execution_count": 104,
      "outputs": [
        {
          "output_type": "stream",
          "name": "stdout",
          "text": [
            "Fitting 2 folds for each of 96 candidates, totalling 192 fits\n",
            "0:\tlearn: 74704.0621497\ttotal: 2.48ms\tremaining: 493ms\n",
            "1:\tlearn: 70428.9370162\ttotal: 5.22ms\tremaining: 516ms\n",
            "2:\tlearn: 66311.0812786\ttotal: 7.44ms\tremaining: 488ms\n",
            "3:\tlearn: 62655.5414571\ttotal: 9.59ms\tremaining: 470ms\n",
            "4:\tlearn: 59385.2385324\ttotal: 11.7ms\tremaining: 457ms\n",
            "5:\tlearn: 56197.7874229\ttotal: 13.8ms\tremaining: 447ms\n",
            "6:\tlearn: 53243.6557557\ttotal: 15.9ms\tremaining: 439ms\n",
            "7:\tlearn: 50691.8239949\ttotal: 18.4ms\tremaining: 441ms\n",
            "8:\tlearn: 48490.3438088\ttotal: 20.5ms\tremaining: 435ms\n",
            "9:\tlearn: 46437.5209614\ttotal: 22.7ms\tremaining: 430ms\n",
            "10:\tlearn: 44479.7348609\ttotal: 24.8ms\tremaining: 427ms\n",
            "11:\tlearn: 42844.3221412\ttotal: 26.9ms\tremaining: 422ms\n",
            "12:\tlearn: 41348.7103806\ttotal: 29.2ms\tremaining: 420ms\n",
            "13:\tlearn: 39824.2920822\ttotal: 31.3ms\tremaining: 416ms\n",
            "14:\tlearn: 38572.7940880\ttotal: 33.5ms\tremaining: 413ms\n",
            "15:\tlearn: 37607.3520988\ttotal: 35.6ms\tremaining: 410ms\n",
            "16:\tlearn: 36288.6166920\ttotal: 37.7ms\tremaining: 406ms\n",
            "17:\tlearn: 35529.6169638\ttotal: 39.9ms\tremaining: 404ms\n",
            "18:\tlearn: 34671.3028148\ttotal: 41.9ms\tremaining: 400ms\n",
            "19:\tlearn: 33803.0520412\ttotal: 44.3ms\tremaining: 398ms\n",
            "20:\tlearn: 32993.3305746\ttotal: 46.4ms\tremaining: 396ms\n",
            "21:\tlearn: 32406.5645069\ttotal: 48.6ms\tremaining: 393ms\n",
            "22:\tlearn: 31622.4620164\ttotal: 50.7ms\tremaining: 390ms\n",
            "23:\tlearn: 31030.2831112\ttotal: 52.8ms\tremaining: 387ms\n",
            "24:\tlearn: 30456.4289382\ttotal: 55.1ms\tremaining: 386ms\n",
            "25:\tlearn: 29943.9192736\ttotal: 57.4ms\tremaining: 384ms\n",
            "26:\tlearn: 29583.8355850\ttotal: 59.6ms\tremaining: 382ms\n",
            "27:\tlearn: 29162.8105384\ttotal: 61.7ms\tremaining: 379ms\n",
            "28:\tlearn: 28683.8835090\ttotal: 63.9ms\tremaining: 377ms\n",
            "29:\tlearn: 28137.2225391\ttotal: 67.9ms\tremaining: 385ms\n",
            "30:\tlearn: 27520.2335571\ttotal: 71.7ms\tremaining: 391ms\n",
            "31:\tlearn: 27033.1933464\ttotal: 79.7ms\tremaining: 418ms\n",
            "32:\tlearn: 26712.1507491\ttotal: 82.9ms\tremaining: 420ms\n",
            "33:\tlearn: 26280.5329718\ttotal: 85.2ms\tremaining: 416ms\n",
            "34:\tlearn: 26035.4669255\ttotal: 87.6ms\tremaining: 413ms\n",
            "35:\tlearn: 25726.8001882\ttotal: 89.7ms\tremaining: 409ms\n",
            "36:\tlearn: 25356.4367282\ttotal: 91.8ms\tremaining: 405ms\n",
            "37:\tlearn: 25067.1124607\ttotal: 94.1ms\tremaining: 401ms\n",
            "38:\tlearn: 24791.1707873\ttotal: 96.2ms\tremaining: 397ms\n",
            "39:\tlearn: 24625.6863268\ttotal: 98.2ms\tremaining: 393ms\n",
            "40:\tlearn: 24466.4019199\ttotal: 100ms\tremaining: 389ms\n",
            "41:\tlearn: 24242.3983526\ttotal: 102ms\tremaining: 385ms\n",
            "42:\tlearn: 23956.5308500\ttotal: 105ms\tremaining: 382ms\n",
            "43:\tlearn: 23774.9628189\ttotal: 107ms\tremaining: 378ms\n",
            "44:\tlearn: 23566.8657612\ttotal: 109ms\tremaining: 375ms\n",
            "45:\tlearn: 23356.1791196\ttotal: 111ms\tremaining: 372ms\n",
            "46:\tlearn: 23207.2728252\ttotal: 113ms\tremaining: 368ms\n",
            "47:\tlearn: 23080.4447297\ttotal: 115ms\tremaining: 365ms\n",
            "48:\tlearn: 22905.3402124\ttotal: 118ms\tremaining: 362ms\n",
            "49:\tlearn: 22717.8515303\ttotal: 120ms\tremaining: 359ms\n",
            "50:\tlearn: 22551.2018195\ttotal: 122ms\tremaining: 356ms\n",
            "51:\tlearn: 22404.2412932\ttotal: 124ms\tremaining: 353ms\n",
            "52:\tlearn: 22145.1918990\ttotal: 126ms\tremaining: 350ms\n",
            "53:\tlearn: 21997.0354268\ttotal: 128ms\tremaining: 347ms\n",
            "54:\tlearn: 21804.7103895\ttotal: 130ms\tremaining: 344ms\n",
            "55:\tlearn: 21653.2271136\ttotal: 133ms\tremaining: 341ms\n",
            "56:\tlearn: 21537.3244737\ttotal: 135ms\tremaining: 338ms\n",
            "57:\tlearn: 21383.3380474\ttotal: 137ms\tremaining: 335ms\n",
            "58:\tlearn: 21241.9636966\ttotal: 139ms\tremaining: 332ms\n",
            "59:\tlearn: 21116.5089417\ttotal: 141ms\tremaining: 329ms\n",
            "60:\tlearn: 21014.2497653\ttotal: 143ms\tremaining: 326ms\n",
            "61:\tlearn: 20927.6650177\ttotal: 145ms\tremaining: 323ms\n",
            "62:\tlearn: 20844.3892259\ttotal: 147ms\tremaining: 321ms\n",
            "63:\tlearn: 20715.7682011\ttotal: 149ms\tremaining: 317ms\n",
            "64:\tlearn: 20621.3752465\ttotal: 152ms\tremaining: 315ms\n",
            "65:\tlearn: 20559.9366718\ttotal: 154ms\tremaining: 312ms\n",
            "66:\tlearn: 20462.6664284\ttotal: 156ms\tremaining: 309ms\n",
            "67:\tlearn: 20364.2611566\ttotal: 158ms\tremaining: 307ms\n",
            "68:\tlearn: 20273.4332292\ttotal: 160ms\tremaining: 304ms\n",
            "69:\tlearn: 20129.4272982\ttotal: 162ms\tremaining: 302ms\n",
            "70:\tlearn: 20048.2659157\ttotal: 164ms\tremaining: 299ms\n",
            "71:\tlearn: 19954.3715537\ttotal: 166ms\tremaining: 296ms\n",
            "72:\tlearn: 19888.2984073\ttotal: 169ms\tremaining: 293ms\n",
            "73:\tlearn: 19825.3745305\ttotal: 171ms\tremaining: 291ms\n",
            "74:\tlearn: 19745.2073823\ttotal: 173ms\tremaining: 288ms\n",
            "75:\tlearn: 19658.3197174\ttotal: 175ms\tremaining: 286ms\n",
            "76:\tlearn: 19551.7465847\ttotal: 177ms\tremaining: 283ms\n",
            "77:\tlearn: 19485.1227155\ttotal: 179ms\tremaining: 280ms\n",
            "78:\tlearn: 19413.7587227\ttotal: 181ms\tremaining: 278ms\n",
            "79:\tlearn: 19360.6419401\ttotal: 183ms\tremaining: 275ms\n",
            "80:\tlearn: 19301.6483618\ttotal: 186ms\tremaining: 273ms\n",
            "81:\tlearn: 19227.3667146\ttotal: 188ms\tremaining: 270ms\n",
            "82:\tlearn: 19126.8201690\ttotal: 190ms\tremaining: 268ms\n",
            "83:\tlearn: 19042.5343987\ttotal: 192ms\tremaining: 265ms\n",
            "84:\tlearn: 18964.1025463\ttotal: 198ms\tremaining: 268ms\n",
            "85:\tlearn: 18914.9013818\ttotal: 202ms\tremaining: 268ms\n",
            "86:\tlearn: 18825.4664308\ttotal: 204ms\tremaining: 265ms\n",
            "87:\tlearn: 18767.5726750\ttotal: 206ms\tremaining: 262ms\n",
            "88:\tlearn: 18654.5886166\ttotal: 208ms\tremaining: 259ms\n",
            "89:\tlearn: 18595.5047369\ttotal: 210ms\tremaining: 257ms\n",
            "90:\tlearn: 18550.3902957\ttotal: 212ms\tremaining: 254ms\n",
            "91:\tlearn: 18484.8535271\ttotal: 214ms\tremaining: 251ms\n",
            "92:\tlearn: 18400.2680824\ttotal: 216ms\tremaining: 249ms\n",
            "93:\tlearn: 18334.8424688\ttotal: 218ms\tremaining: 246ms\n",
            "94:\tlearn: 18262.2747464\ttotal: 220ms\tremaining: 243ms\n",
            "95:\tlearn: 18166.9780437\ttotal: 222ms\tremaining: 241ms\n",
            "96:\tlearn: 18101.5067467\ttotal: 224ms\tremaining: 238ms\n",
            "97:\tlearn: 18019.9818032\ttotal: 226ms\tremaining: 236ms\n",
            "98:\tlearn: 17885.7983370\ttotal: 229ms\tremaining: 233ms\n",
            "99:\tlearn: 17836.3497255\ttotal: 231ms\tremaining: 231ms\n",
            "100:\tlearn: 17791.4110381\ttotal: 233ms\tremaining: 228ms\n",
            "101:\tlearn: 17753.8235438\ttotal: 235ms\tremaining: 226ms\n",
            "102:\tlearn: 17684.8568722\ttotal: 237ms\tremaining: 223ms\n",
            "103:\tlearn: 17628.5751114\ttotal: 239ms\tremaining: 221ms\n",
            "104:\tlearn: 17550.2977642\ttotal: 241ms\tremaining: 218ms\n",
            "105:\tlearn: 17485.0819975\ttotal: 243ms\tremaining: 216ms\n",
            "106:\tlearn: 17414.3102644\ttotal: 245ms\tremaining: 213ms\n",
            "107:\tlearn: 17310.4586184\ttotal: 247ms\tremaining: 211ms\n",
            "108:\tlearn: 17213.3385435\ttotal: 250ms\tremaining: 208ms\n",
            "109:\tlearn: 17157.2967483\ttotal: 252ms\tremaining: 206ms\n",
            "110:\tlearn: 17048.3191812\ttotal: 254ms\tremaining: 204ms\n",
            "111:\tlearn: 16979.2043353\ttotal: 256ms\tremaining: 201ms\n",
            "112:\tlearn: 16923.3708240\ttotal: 259ms\tremaining: 199ms\n",
            "113:\tlearn: 16849.0568810\ttotal: 261ms\tremaining: 197ms\n",
            "114:\tlearn: 16791.4617902\ttotal: 263ms\tremaining: 194ms\n",
            "115:\tlearn: 16718.0228015\ttotal: 265ms\tremaining: 192ms\n",
            "116:\tlearn: 16676.3876262\ttotal: 267ms\tremaining: 189ms\n",
            "117:\tlearn: 16621.3598684\ttotal: 269ms\tremaining: 187ms\n",
            "118:\tlearn: 16559.0749470\ttotal: 271ms\tremaining: 185ms\n",
            "119:\tlearn: 16475.6770111\ttotal: 273ms\tremaining: 182ms\n",
            "120:\tlearn: 16427.2102615\ttotal: 276ms\tremaining: 180ms\n",
            "121:\tlearn: 16355.7871553\ttotal: 278ms\tremaining: 178ms\n",
            "122:\tlearn: 16322.6023239\ttotal: 280ms\tremaining: 175ms\n",
            "123:\tlearn: 16258.2092126\ttotal: 282ms\tremaining: 173ms\n",
            "124:\tlearn: 16211.3116313\ttotal: 285ms\tremaining: 171ms\n",
            "125:\tlearn: 16161.9011940\ttotal: 287ms\tremaining: 169ms\n",
            "126:\tlearn: 16102.7801432\ttotal: 290ms\tremaining: 166ms\n",
            "127:\tlearn: 16055.5339596\ttotal: 292ms\tremaining: 164ms\n",
            "128:\tlearn: 15979.5163496\ttotal: 294ms\tremaining: 162ms\n",
            "129:\tlearn: 15912.6146412\ttotal: 296ms\tremaining: 159ms\n",
            "130:\tlearn: 15846.6904508\ttotal: 298ms\tremaining: 157ms\n",
            "131:\tlearn: 15785.2363337\ttotal: 300ms\tremaining: 155ms\n",
            "132:\tlearn: 15725.7946942\ttotal: 302ms\tremaining: 152ms\n",
            "133:\tlearn: 15681.0000412\ttotal: 305ms\tremaining: 150ms\n",
            "134:\tlearn: 15645.5114878\ttotal: 307ms\tremaining: 148ms\n",
            "135:\tlearn: 15593.6169580\ttotal: 309ms\tremaining: 145ms\n",
            "136:\tlearn: 15549.5073908\ttotal: 311ms\tremaining: 143ms\n",
            "137:\tlearn: 15524.4376080\ttotal: 313ms\tremaining: 141ms\n",
            "138:\tlearn: 15466.9737159\ttotal: 315ms\tremaining: 138ms\n",
            "139:\tlearn: 15389.9578133\ttotal: 317ms\tremaining: 136ms\n",
            "140:\tlearn: 15336.3729288\ttotal: 319ms\tremaining: 134ms\n",
            "141:\tlearn: 15279.1714151\ttotal: 321ms\tremaining: 131ms\n",
            "142:\tlearn: 15216.5314198\ttotal: 323ms\tremaining: 129ms\n",
            "143:\tlearn: 15168.0717309\ttotal: 326ms\tremaining: 127ms\n",
            "144:\tlearn: 15116.0506489\ttotal: 328ms\tremaining: 124ms\n",
            "145:\tlearn: 15067.4606616\ttotal: 330ms\tremaining: 122ms\n",
            "146:\tlearn: 15045.0562350\ttotal: 332ms\tremaining: 120ms\n",
            "147:\tlearn: 15006.9744113\ttotal: 334ms\tremaining: 117ms\n",
            "148:\tlearn: 14974.4843062\ttotal: 336ms\tremaining: 115ms\n",
            "149:\tlearn: 14938.0049522\ttotal: 338ms\tremaining: 113ms\n",
            "150:\tlearn: 14898.7696762\ttotal: 341ms\tremaining: 111ms\n",
            "151:\tlearn: 14868.9694229\ttotal: 343ms\tremaining: 108ms\n",
            "152:\tlearn: 14845.7894457\ttotal: 345ms\tremaining: 106ms\n",
            "153:\tlearn: 14794.1941981\ttotal: 347ms\tremaining: 104ms\n",
            "154:\tlearn: 14751.3403435\ttotal: 349ms\tremaining: 101ms\n",
            "155:\tlearn: 14720.6723890\ttotal: 351ms\tremaining: 98.9ms\n",
            "156:\tlearn: 14677.3793821\ttotal: 353ms\tremaining: 96.7ms\n",
            "157:\tlearn: 14621.7283510\ttotal: 355ms\tremaining: 94.4ms\n",
            "158:\tlearn: 14606.0487041\ttotal: 357ms\tremaining: 92.1ms\n",
            "159:\tlearn: 14580.2120205\ttotal: 359ms\tremaining: 89.8ms\n",
            "160:\tlearn: 14546.1330479\ttotal: 361ms\tremaining: 87.5ms\n",
            "161:\tlearn: 14505.2820159\ttotal: 363ms\tremaining: 85.2ms\n",
            "162:\tlearn: 14459.2419416\ttotal: 366ms\tremaining: 83ms\n",
            "163:\tlearn: 14423.2582722\ttotal: 368ms\tremaining: 80.7ms\n",
            "164:\tlearn: 14363.0598247\ttotal: 370ms\tremaining: 78.4ms\n",
            "165:\tlearn: 14292.3568235\ttotal: 372ms\tremaining: 76.3ms\n",
            "166:\tlearn: 14261.4917551\ttotal: 374ms\tremaining: 74ms\n",
            "167:\tlearn: 14233.4949974\ttotal: 377ms\tremaining: 71.7ms\n",
            "168:\tlearn: 14192.1105400\ttotal: 379ms\tremaining: 69.5ms\n",
            "169:\tlearn: 14135.6535041\ttotal: 381ms\tremaining: 67.2ms\n",
            "170:\tlearn: 14064.0446671\ttotal: 383ms\tremaining: 64.9ms\n",
            "171:\tlearn: 14033.4308904\ttotal: 385ms\tremaining: 62.6ms\n",
            "172:\tlearn: 13954.8925303\ttotal: 391ms\tremaining: 61.1ms\n",
            "173:\tlearn: 13914.2054378\ttotal: 394ms\tremaining: 58.9ms\n",
            "174:\tlearn: 13872.1196768\ttotal: 396ms\tremaining: 56.6ms\n",
            "175:\tlearn: 13840.2684514\ttotal: 398ms\tremaining: 54.3ms\n",
            "176:\tlearn: 13803.8917709\ttotal: 401ms\tremaining: 52ms\n",
            "177:\tlearn: 13782.9224681\ttotal: 403ms\tremaining: 49.8ms\n",
            "178:\tlearn: 13732.6678307\ttotal: 405ms\tremaining: 47.6ms\n",
            "179:\tlearn: 13695.0660266\ttotal: 408ms\tremaining: 45.3ms\n",
            "180:\tlearn: 13621.4132606\ttotal: 410ms\tremaining: 43ms\n",
            "181:\tlearn: 13594.9623288\ttotal: 412ms\tremaining: 40.7ms\n",
            "182:\tlearn: 13552.5333394\ttotal: 414ms\tremaining: 38.5ms\n",
            "183:\tlearn: 13494.1929836\ttotal: 416ms\tremaining: 36.2ms\n",
            "184:\tlearn: 13464.5130135\ttotal: 418ms\tremaining: 33.9ms\n",
            "185:\tlearn: 13421.7651512\ttotal: 420ms\tremaining: 31.6ms\n",
            "186:\tlearn: 13387.2169292\ttotal: 423ms\tremaining: 29.4ms\n",
            "187:\tlearn: 13367.1103209\ttotal: 425ms\tremaining: 27.1ms\n",
            "188:\tlearn: 13320.9585781\ttotal: 427ms\tremaining: 24.9ms\n",
            "189:\tlearn: 13291.2065838\ttotal: 429ms\tremaining: 22.6ms\n",
            "190:\tlearn: 13257.9905020\ttotal: 431ms\tremaining: 20.3ms\n",
            "191:\tlearn: 13236.3271611\ttotal: 433ms\tremaining: 18ms\n",
            "192:\tlearn: 13199.1151243\ttotal: 435ms\tremaining: 15.8ms\n",
            "193:\tlearn: 13181.6561724\ttotal: 438ms\tremaining: 13.5ms\n",
            "194:\tlearn: 13163.7983783\ttotal: 439ms\tremaining: 11.3ms\n",
            "195:\tlearn: 13132.1639054\ttotal: 442ms\tremaining: 9.01ms\n",
            "196:\tlearn: 13096.1595575\ttotal: 444ms\tremaining: 6.76ms\n",
            "197:\tlearn: 13069.6338588\ttotal: 446ms\tremaining: 4.5ms\n",
            "198:\tlearn: 13049.9040983\ttotal: 448ms\tremaining: 2.25ms\n",
            "199:\tlearn: 13018.1070697\ttotal: 450ms\tremaining: 0us\n"
          ]
        }
      ]
    },
    {
      "cell_type": "code",
      "metadata": {
        "colab": {
          "base_uri": "https://localhost:8080/"
        },
        "id": "pMn7PprHXCGj",
        "outputId": "f926156f-6d65-4fc0-b907-148dc5357db7"
      },
      "source": [
        "catgb_grid.best_estimator_.score(X_train,y_train)"
      ],
      "execution_count": 107,
      "outputs": [
        {
          "output_type": "execute_result",
          "data": {
            "text/plain": [
              "0.9732626820203294"
            ]
          },
          "metadata": {},
          "execution_count": 107
        }
      ]
    },
    {
      "cell_type": "code",
      "metadata": {
        "colab": {
          "base_uri": "https://localhost:8080/"
        },
        "id": "1gP5BQ8MXFDC",
        "outputId": "6632c9f7-0eca-4720-a215-0fd19634dc75"
      },
      "source": [
        "catgb_grid.best_estimator_.score(X_test,y_test)"
      ],
      "execution_count": 108,
      "outputs": [
        {
          "output_type": "execute_result",
          "data": {
            "text/plain": [
              "0.9020786165928129"
            ]
          },
          "metadata": {},
          "execution_count": 108
        }
      ]
    },
    {
      "cell_type": "code",
      "metadata": {
        "id": "rPs5ZGSKZE68"
      },
      "source": [
        "writeToFile(dataset_test, dataset_test_Id, catgb_grid.best_estimator_, \"catboost_cv\")"
      ],
      "execution_count": 109,
      "outputs": []
    }
  ]
}